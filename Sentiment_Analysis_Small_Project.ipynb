{
  "nbformat": 4,
  "nbformat_minor": 0,
  "metadata": {
    "colab": {
      "provenance": [],
      "authorship_tag": "ABX9TyP18+69mS7LynIO5byig6Io",
      "include_colab_link": true
    },
    "kernelspec": {
      "name": "python3",
      "display_name": "Python 3"
    },
    "language_info": {
      "name": "python"
    }
  },
  "cells": [
    {
      "cell_type": "markdown",
      "metadata": {
        "id": "view-in-github",
        "colab_type": "text"
      },
      "source": [
        "<a href=\"https://colab.research.google.com/github/yeesem/Natural-Laguage-Processing/blob/main/Sentiment_Analysis_Small_Project.ipynb\" target=\"_parent\"><img src=\"https://colab.research.google.com/assets/colab-badge.svg\" alt=\"Open In Colab\"/></a>"
      ]
    },
    {
      "cell_type": "code",
      "execution_count": 2,
      "metadata": {
        "colab": {
          "base_uri": "https://localhost:8080/"
        },
        "id": "yIuij_7jR3qq",
        "outputId": "0bfe85e6-79f6-465e-e753-2c695a407fed"
      },
      "outputs": [
        {
          "output_type": "stream",
          "name": "stdout",
          "text": [
            "\u001b[38;5;2m✔ Download and installation successful\u001b[0m\n",
            "You can now load the package via spacy.load('en_core_web_lg')\n"
          ]
        }
      ],
      "source": [
        "import spacy\n",
        "import spacy.cli\n",
        "spacy.cli.download('en_core_web_lg')"
      ]
    },
    {
      "cell_type": "code",
      "source": [
        "nlp = spacy.load('en_core_web_lg')"
      ],
      "metadata": {
        "id": "Xwqa-4uHSf6m"
      },
      "execution_count": 40,
      "outputs": []
    },
    {
      "cell_type": "code",
      "source": [
        "#Choose the word that you want to compare, and obtain their vector\n",
        "word1 = nlp.vocab['wolf'].vector\n",
        "word2 = nlp.vocab['dog'].vector\n",
        "word3 = nlp.vocab['cat'].vector"
      ],
      "metadata": {
        "id": "iG2JJtwISiY9"
      },
      "execution_count": 48,
      "outputs": []
    },
    {
      "cell_type": "code",
      "source": [
        "#Import spatial and degine a cosine_similarity function\n",
        "from scipy import spatial\n",
        "cosine_sim = lambda x,y : 1 - spatial.distance.cosine(x,y)"
      ],
      "metadata": {
        "id": "BudSnZoeTBZP"
      },
      "execution_count": 49,
      "outputs": []
    },
    {
      "cell_type": "code",
      "source": [
        "new_vector = word1 + word3 + word2"
      ],
      "metadata": {
        "id": "Ush7IpXrTej6"
      },
      "execution_count": 50,
      "outputs": []
    },
    {
      "cell_type": "code",
      "source": [
        "print(new_vector)"
      ],
      "metadata": {
        "colab": {
          "base_uri": "https://localhost:8080/"
        },
        "id": "CExVDikbTkJI",
        "outputId": "31434ea3-9d85-4880-cf5f-6e3f7a16acfe"
      },
      "execution_count": 51,
      "outputs": [
        {
          "output_type": "stream",
          "name": "stdout",
          "text": [
            "[ 3.98945022e+00  1.15183001e+01 -1.46212006e+01 -2.71919003e+01\n",
            "  2.08589196e+00  2.24520016e+00 -1.01128998e+01 -8.10230064e+00\n",
            "  3.57008004e+00  4.51514149e+00  1.58385000e+01  4.62290001e+00\n",
            " -7.10892677e-01  1.33745003e+01  1.27209101e+01 -1.48010998e+01\n",
            "  2.25275493e+00 -6.69377995e+00  4.67499971e+00 -3.92910004e+00\n",
            " -1.17964993e+01  1.04674997e+01 -8.88660049e+00 -1.05894995e+01\n",
            "  1.05137992e+00 -3.31210136e-01 -1.09862003e+01  1.14820995e+01\n",
            " -1.02806702e+01 -2.09010005e+00 -3.75299954e+00 -4.71724033e+00\n",
            " -8.79580021e+00 -1.33550000e+00  9.25055027e-01 -2.03408012e+01\n",
            "  2.73543596e+00  1.26096001e+01  1.21494007e+01 -6.66651964e+00\n",
            "  2.01049995e+00 -7.57339954e+00  2.07495003e+01  1.14970999e+01\n",
            "  1.27677000e+00 -1.61301804e+00  6.96700001e+00 -1.18397999e+01\n",
            "  1.66753304e+00 -7.33750010e+00  8.18546009e+00  3.31106033e+01\n",
            "  1.09296999e+01  6.54519987e+00 -9.29930019e+00 -6.99877739e-04\n",
            "  9.27665997e+00 -1.82319999e+00  8.34609985e+00  1.31590009e+00\n",
            " -3.69370103e-01 -1.84580994e+01 -1.25685000e+00  6.70219994e+00\n",
            " -8.47262001e+00 -1.19417038e+01 -6.18610001e+00 -2.60148001e+00\n",
            " -1.30825996e+00  1.78840005e+00  1.64638004e+01  4.72940016e+00\n",
            "  6.81457949e+00 -9.65891957e-01  4.70385981e+00 -9.18449974e+00\n",
            " -5.98310947e+00 -8.02290022e-01 -5.14078021e-01 -5.73704004e+00\n",
            " -1.01981001e+01  6.31657982e+00 -3.78849006e+00  7.31410027e+00\n",
            "  5.70580006e-01 -1.44960995e+01  2.00551987e+01  1.35813599e+01\n",
            " -2.09724007e+01 -7.14490032e+00  2.59534001e+00 -1.01934299e+01\n",
            "  1.87157993e+01 -1.28962994e+01  9.10300064e+00 -5.07925034e+00\n",
            " -5.80980015e+00  5.87879992e+00  2.53787994e+00 -2.15999985e+01\n",
            "  7.00232887e+00  4.37363005e+00  1.18645000e+01 -2.67283487e+00\n",
            "  5.64884996e+00 -5.59796095e-01 -2.10299397e+01  1.48360996e+01\n",
            " -7.38360023e+00  3.54410172e+00 -7.89342022e+00 -1.41304398e+00\n",
            "  1.78629990e+01 -1.84830010e+00  9.34679985e+00  2.69490004e+00\n",
            "  7.67238998e+00 -4.73390007e+00  1.26687002e+01 -3.53709984e+00\n",
            " -5.29034996e+00  8.59910011e+00 -2.67411003e+01 -4.42374992e+00\n",
            " -9.92590046e+00 -3.34002995e+00  1.14656000e+01  1.19441700e+01\n",
            "  5.43119001e+00  3.31597996e+00  9.78269994e-01 -1.86008987e+01\n",
            "  1.11102009e+00 -2.74029994e+00  6.06900096e-01  5.92556000e+00\n",
            " -5.51970005e+00 -1.14166002e+01 -7.35479975e+00 -2.29299784e-01\n",
            " -1.35965004e+01 -1.15824003e+01 -2.55292010e+00 -3.97546005e+00\n",
            " -5.48064041e+00 -2.01270008e+00 -3.36730063e-01  7.53544998e+00\n",
            " -5.37854958e+00 -2.38049924e-01  1.20123005e+01  5.69035006e+00\n",
            "  3.71099114e-02 -9.71730042e+00  4.50070000e+00  4.27890015e+00\n",
            "  1.31275997e+01  5.39815998e+00  1.24326000e+01  6.67422962e+00\n",
            "  2.77150989e+00 -7.89603996e+00 -5.98819017e+00  4.81679010e+00\n",
            " -1.74519997e+01 -8.44610023e+00 -1.10834002e+00  6.00740016e-01\n",
            "  6.55398989e+00 -2.68100023e+00 -2.45585012e+00  3.24271202e+00\n",
            " -7.18069971e-01  6.84880018e+00  6.92792034e+00 -1.93985996e+01\n",
            "  8.41230011e+00  2.44850016e+00 -4.23386002e+00  5.99820042e+00\n",
            "  5.03812027e+00 -1.24204998e+01  9.66760039e-01  4.59513998e+00\n",
            "  9.27510142e-01  6.77130032e+00 -2.40497017e+00 -2.20716000e+01\n",
            "  9.73530054e-01 -8.85566998e+00 -8.60090256e-02  1.39046001e+01\n",
            " -9.43828964e+00 -9.74332047e+00  3.33522987e+00 -9.36339951e+00\n",
            " -8.66320038e+00  1.57712002e+01 -1.57940006e+00 -4.66249990e+00\n",
            " -2.68491817e+00  6.06129885e-01 -1.33259988e+00  3.79989028e+00\n",
            " -3.02168989e+00  2.57049990e+00  1.34879982e+00 -2.94239020e+00\n",
            " -7.54099989e+00 -1.10576000e+01  9.61670017e+00  1.55523002e+00\n",
            " -5.33550024e+00 -1.60171700e+00 -1.55656004e+01  3.85230017e+00\n",
            "  1.96596992e+00  8.75330031e-01 -1.11437302e+01 -8.07429981e+00\n",
            "  9.17490005e-01 -8.57013988e+00 -1.09971976e+00  1.10899000e+01\n",
            " -8.03040028e+00  1.91449013e+01  4.32319021e+00 -1.14945507e+01\n",
            "  9.38360023e+00 -8.06249976e-01 -1.06145620e+01 -1.36926003e+01\n",
            " -1.09310150e-01  8.95680046e+00 -2.15753984e+00  4.54277992e+00\n",
            " -2.15499997e+00  6.29476023e+00  3.07525992e+00  6.10540152e+00\n",
            "  3.36050987e+00  8.04600120e-01  1.55282993e+01 -1.29852104e+01\n",
            " -7.97709990e+00 -1.97299981e+00  8.61830044e+00  9.55970001e+00\n",
            " -4.82579994e+00  2.84434009e+00 -5.91899967e+00  1.19867897e+01\n",
            " -1.00466995e+01 -7.12969017e+00 -2.10443001e+01  1.54097009e+00\n",
            " -1.15445004e+01  2.44114017e+01 -5.55189991e+00 -1.55236995e+00\n",
            "  7.24358988e+00 -1.15762997e+01 -1.09175997e+01 -3.77519989e+00\n",
            " -5.72581959e+00 -1.14104805e+01 -1.13339996e+01 -9.34770048e-01\n",
            " -4.00497007e+00  1.36127396e+01  9.56224060e+00 -1.10456014e+00\n",
            "  2.27355003e+00  8.65279961e+00  1.19402008e+01 -1.03668003e+01\n",
            " -8.30130005e+00  3.56299996e+00 -9.58720016e+00  2.83610487e+00\n",
            " -3.09589982e+00 -1.02286711e+01  6.47744036e+00 -8.06797981e+00\n",
            "  8.91799927e+00 -4.76299953e+00 -8.15679932e+00  9.32166004e+00\n",
            " -9.06072998e+00 -9.97180104e-01  7.68124008e+00 -8.12190056e+00\n",
            "  2.21100006e+01  1.47087002e+00 -1.34099007e+01  7.57100105e-01\n",
            " -1.18519001e+01  2.15191994e+01 -2.25230999e+01  8.13656044e+00]\n"
          ]
        }
      ]
    },
    {
      "cell_type": "code",
      "source": [
        "new_vector.shape"
      ],
      "metadata": {
        "colab": {
          "base_uri": "https://localhost:8080/"
        },
        "id": "ykJ-ViArTlrD",
        "outputId": "eed71fc5-d4a2-4a50-8f5c-7a2f9c33dbe9"
      },
      "execution_count": 26,
      "outputs": [
        {
          "output_type": "execute_result",
          "data": {
            "text/plain": [
              "(300,)"
            ]
          },
          "metadata": {},
          "execution_count": 26
        }
      ]
    },
    {
      "cell_type": "code",
      "source": [
        "compute_sims = []\n",
        "\n",
        "for word in nlp.vocab:\n",
        "  if word.has_vector:\n",
        "    if word.is_lower:\n",
        "      if word.is_alpha:\n",
        "        sim = cosine_sim(new_vector,word.vector)\n",
        "        compute_sims.append((word,sim))"
      ],
      "metadata": {
        "id": "cmGA5H5aTpm8"
      },
      "execution_count": 52,
      "outputs": []
    },
    {
      "cell_type": "code",
      "source": [
        "computed_sim = sorted(compute_sims,key = lambda item : -item[1])"
      ],
      "metadata": {
        "id": "cLQVLixHUQEj"
      },
      "execution_count": 46,
      "outputs": []
    },
    {
      "cell_type": "code",
      "source": [
        "[w[0].text for w in computed_sim[:10]]"
      ],
      "metadata": {
        "colab": {
          "base_uri": "https://localhost:8080/"
        },
        "id": "FkpP1gBBU3AK",
        "outputId": "421585c9-ab10-4d78-f02d-34fffafc7a49"
      },
      "execution_count": 47,
      "outputs": [
        {
          "output_type": "execute_result",
          "data": {
            "text/plain": [
              "['wolf',\n",
              " 'cat',\n",
              " 'wolves',\n",
              " 'it',\n",
              " 'you',\n",
              " 'she',\n",
              " 'somethin',\n",
              " 'they',\n",
              " 'he',\n",
              " 'lovin']"
            ]
          },
          "metadata": {},
          "execution_count": 47
        }
      ]
    },
    {
      "cell_type": "code",
      "source": [
        "def vector_math(a,b,c):\n",
        "  word1 = nlp.vocab[a].vector\n",
        "  word2 = nlp.vocab[b].vector\n",
        "  word3 = nlp.vocab[c].vector\n",
        "\n",
        "  cosine_sim = lambda x,y : 1 - spatial.distance.cosine(x,y)\n",
        "\n",
        "  new_vector = word1 + word2 - word3\n",
        "\n",
        "  compute_sim = []\n",
        "\n",
        "  for word in nlp.vocab:\n",
        "    if word.has_vector:\n",
        "      if word.is_lower:\n",
        "        if word.is_alpha:\n",
        "          sim = cosine_sim(word.vector,new_vector)\n",
        "          compute_sim.append((word.text,sim))\n",
        "\n",
        "  compute_sim = sorted(compute_sim,key = lambda item : -item[1])\n",
        "\n",
        "  print([w[0] for w in compute_sim[:10]])"
      ],
      "metadata": {
        "id": "y6wl-TE4VECW"
      },
      "execution_count": 63,
      "outputs": []
    },
    {
      "cell_type": "code",
      "source": [
        "vector_math('wolf','cat','dog')"
      ],
      "metadata": {
        "colab": {
          "base_uri": "https://localhost:8080/"
        },
        "id": "jsXArCbnZprw",
        "outputId": "6769970e-fa05-4bc1-f921-054f0621a13f"
      },
      "execution_count": 64,
      "outputs": [
        {
          "output_type": "stream",
          "name": "stdout",
          "text": [
            "['wolf', 'wolves', 'cat', 'i', 'nt', 'cos', 'dare', 'it', 'he', 'she']\n"
          ]
        }
      ]
    },
    {
      "cell_type": "code",
      "source": [
        "import nltk\n",
        "nltk.download('vader_lexicon')\n",
        "from nltk.sentiment.vader import SentimentIntensityAnalyzer"
      ],
      "metadata": {
        "colab": {
          "base_uri": "https://localhost:8080/"
        },
        "id": "sC45J4l4Zx-E",
        "outputId": "ecca1d1c-6c4b-4ddb-a331-e4de49adc4e3"
      },
      "execution_count": 66,
      "outputs": [
        {
          "output_type": "stream",
          "name": "stderr",
          "text": [
            "[nltk_data] Downloading package vader_lexicon to /root/nltk_data...\n"
          ]
        }
      ]
    },
    {
      "cell_type": "code",
      "source": [
        "sid = SentimentIntensityAnalyzer()"
      ],
      "metadata": {
        "id": "gCihMVbia5Xe"
      },
      "execution_count": 67,
      "outputs": []
    },
    {
      "cell_type": "code",
      "source": [
        "review = 'This movie was absolutely awful, The WORST that I have ever SEEN!!! BAD!!!'"
      ],
      "metadata": {
        "id": "b46c-mi3bbbG"
      },
      "execution_count": 68,
      "outputs": []
    },
    {
      "cell_type": "code",
      "source": [
        "sid.polarity_scores(review)"
      ],
      "metadata": {
        "colab": {
          "base_uri": "https://localhost:8080/"
        },
        "id": "IsJoM8S8bonW",
        "outputId": "b55e7e9b-2df5-4c0c-834a-b3a8523787b1"
      },
      "execution_count": 69,
      "outputs": [
        {
          "output_type": "execute_result",
          "data": {
            "text/plain": [
              "{'neg': 0.605, 'neu': 0.395, 'pos': 0.0, 'compound': -0.9412}"
            ]
          },
          "metadata": {},
          "execution_count": 69
        }
      ]
    },
    {
      "cell_type": "code",
      "source": [
        "def review_rating(string):\n",
        "  score = sid.polarity_scores(string)\n",
        "  if score['compound'] > 0:\n",
        "    print('pos')\n",
        "  ###-0.2 || 0.2 can be considered as neutral\n",
        "  elif score['compound'] == 0:\n",
        "    print('neu')\n",
        "  else:\n",
        "    print('neg')"
      ],
      "metadata": {
        "id": "bP8mW3KsbsTw"
      },
      "execution_count": 78,
      "outputs": []
    },
    {
      "cell_type": "code",
      "source": [
        "review_rating(review)"
      ],
      "metadata": {
        "colab": {
          "base_uri": "https://localhost:8080/"
        },
        "id": "xvFaeD4XeySE",
        "outputId": "9ad58a8d-36fa-4f88-8ff3-7e91fb8c154c"
      },
      "execution_count": 77,
      "outputs": [
        {
          "output_type": "stream",
          "name": "stdout",
          "text": [
            "neg\n"
          ]
        }
      ]
    }
  ]
}