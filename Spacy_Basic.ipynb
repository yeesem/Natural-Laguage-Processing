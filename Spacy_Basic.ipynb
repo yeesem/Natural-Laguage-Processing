{
  "nbformat": 4,
  "nbformat_minor": 0,
  "metadata": {
    "colab": {
      "provenance": [],
      "authorship_tag": "ABX9TyMVuKcL+M6LJkpoagMRmdTJ",
      "include_colab_link": true
    },
    "kernelspec": {
      "name": "python3",
      "display_name": "Python 3"
    },
    "language_info": {
      "name": "python"
    }
  },
  "cells": [
    {
      "cell_type": "markdown",
      "metadata": {
        "id": "view-in-github",
        "colab_type": "text"
      },
      "source": [
        "<a href=\"https://colab.research.google.com/github/yeesem/Natural-Laguage-Processing/blob/main/Spacy_Basic.ipynb\" target=\"_parent\"><img src=\"https://colab.research.google.com/assets/colab-badge.svg\" alt=\"Open In Colab\"/></a>"
      ]
    },
    {
      "cell_type": "code",
      "execution_count": 1,
      "metadata": {
        "id": "bZbGGofD0L-6"
      },
      "outputs": [],
      "source": [
        "!pip install spacy"
      ]
    },
    {
      "cell_type": "code",
      "source": [
        "import spacy"
      ],
      "metadata": {
        "id": "ctguM6Sc0Xhe"
      },
      "execution_count": 2,
      "outputs": []
    },
    {
      "cell_type": "code",
      "source": [
        "nlp = spacy.load('en_core_web_sm')"
      ],
      "metadata": {
        "id": "vQH0FKFL1Rpo"
      },
      "execution_count": 5,
      "outputs": []
    },
    {
      "cell_type": "code",
      "source": [
        " #Tokenization\n",
        " #Convert the entire String to tozens\n",
        " #Exp Tesla - an Token\n",
        " doc =  nlp(u'Tesla is looking at buying U.S. startup for $6 million')"
      ],
      "metadata": {
        "id": "E34HLjpZ1XP7"
      },
      "execution_count": 6,
      "outputs": []
    },
    {
      "cell_type": "code",
      "source": [
        "for token in doc:\n",
        "  print(token.text)"
      ],
      "metadata": {
        "colab": {
          "base_uri": "https://localhost:8080/"
        },
        "id": "qeCEqjLc2OTl",
        "outputId": "3c72167a-042d-4adb-9dd2-e4b440cfc996"
      },
      "execution_count": 7,
      "outputs": [
        {
          "output_type": "stream",
          "name": "stdout",
          "text": [
            "Tesla\n",
            "is\n",
            "looking\n",
            "at\n",
            "buying\n",
            "U.S.\n",
            "startup\n",
            "for\n",
            "$\n",
            "6\n",
            "million\n"
          ]
        }
      ]
    },
    {
      "cell_type": "code",
      "source": [
        "#Specialize the type of words\n",
        "for token in doc:\n",
        "  print(token.text,token.pos,token.pos_,token.dep_)"
      ],
      "metadata": {
        "colab": {
          "base_uri": "https://localhost:8080/"
        },
        "id": "cVY3ms1O2XQX",
        "outputId": "7531701d-9274-475e-fc73-d519d1fb8b75"
      },
      "execution_count": 10,
      "outputs": [
        {
          "output_type": "stream",
          "name": "stdout",
          "text": [
            "Tesla 96 PROPN nsubj\n",
            "is 87 AUX aux\n",
            "looking 100 VERB ROOT\n",
            "at 85 ADP prep\n",
            "buying 100 VERB pcomp\n",
            "U.S. 96 PROPN compound\n",
            "startup 92 NOUN dobj\n",
            "for 85 ADP prep\n",
            "$ 99 SYM quantmod\n",
            "6 93 NUM compound\n",
            "million 93 NUM pobj\n"
          ]
        }
      ]
    },
    {
      "cell_type": "code",
      "source": [
        "#Basic NLP Pipeline - [tagger,parser,ner]\n",
        "nlp.pipeline"
      ],
      "metadata": {
        "colab": {
          "base_uri": "https://localhost:8080/"
        },
        "id": "MtEqi6Pq4Kmd",
        "outputId": "5c8f15f6-b177-4ec3-d249-f043590015c5"
      },
      "execution_count": 11,
      "outputs": [
        {
          "output_type": "execute_result",
          "data": {
            "text/plain": [
              "[('tok2vec', <spacy.pipeline.tok2vec.Tok2Vec at 0x7a96945faa40>),\n",
              " ('tagger', <spacy.pipeline.tagger.Tagger at 0x7a968fe837c0>),\n",
              " ('parser', <spacy.pipeline.dep_parser.DependencyParser at 0x7a968ff7a730>),\n",
              " ('attribute_ruler',\n",
              "  <spacy.pipeline.attributeruler.AttributeRuler at 0x7a968fc97c40>),\n",
              " ('lemmatizer',\n",
              "  <spacy.lang.en.lemmatizer.EnglishLemmatizer at 0x7a968fca67c0>),\n",
              " ('ner', <spacy.pipeline.ner.EntityRecognizer at 0x7a968ff7a9d0>)]"
            ]
          },
          "metadata": {},
          "execution_count": 11
        }
      ]
    },
    {
      "cell_type": "code",
      "source": [
        "nlp.pipe_names"
      ],
      "metadata": {
        "colab": {
          "base_uri": "https://localhost:8080/"
        },
        "id": "UMU14jgI5c0Q",
        "outputId": "27efca76-6fe3-4375-c7c2-f6907e65278c"
      },
      "execution_count": 12,
      "outputs": [
        {
          "output_type": "execute_result",
          "data": {
            "text/plain": [
              "['tok2vec', 'tagger', 'parser', 'attribute_ruler', 'lemmatizer', 'ner']"
            ]
          },
          "metadata": {},
          "execution_count": 12
        }
      ]
    },
    {
      "cell_type": "code",
      "source": [
        "doc2 = nlp(u\"Tesla isn't    looking into startups anymore.\")"
      ],
      "metadata": {
        "id": "PD-v-55R5qtJ"
      },
      "execution_count": 18,
      "outputs": []
    },
    {
      "cell_type": "code",
      "source": [
        "for token in doc2:\n",
        "  print(token.text,token.pos,token.pos_,token.dep_)"
      ],
      "metadata": {
        "colab": {
          "base_uri": "https://localhost:8080/"
        },
        "id": "GnyjiFV96B3R",
        "outputId": "4e0f1208-18d0-49fc-8900-edc9eff23ea6"
      },
      "execution_count": 19,
      "outputs": [
        {
          "output_type": "stream",
          "name": "stdout",
          "text": [
            "Tesla 96 PROPN nsubj\n",
            "is 87 AUX aux\n",
            "n't 94 PART neg\n",
            "    103 SPACE dep\n",
            "looking 100 VERB ROOT\n",
            "into 85 ADP prep\n",
            "startups 92 NOUN pobj\n",
            "anymore 86 ADV advmod\n",
            ". 97 PUNCT punct\n"
          ]
        }
      ]
    },
    {
      "cell_type": "code",
      "source": [
        "spacy.explain('nsubj')"
      ],
      "metadata": {
        "colab": {
          "base_uri": "https://localhost:8080/",
          "height": 35
        },
        "id": "grAoUf47AOw7",
        "outputId": "e6b346b4-a19b-497b-f6f6-f6cf4ed17869"
      },
      "execution_count": 32,
      "outputs": [
        {
          "output_type": "execute_result",
          "data": {
            "text/plain": [
              "'nominal subject'"
            ],
            "application/vnd.google.colaboratory.intrinsic+json": {
              "type": "string"
            }
          },
          "metadata": {},
          "execution_count": 32
        }
      ]
    },
    {
      "cell_type": "code",
      "source": [
        "nlp.pipeline"
      ],
      "metadata": {
        "colab": {
          "base_uri": "https://localhost:8080/"
        },
        "id": "sz82_EVx6S8g",
        "outputId": "5e3ac0b7-6f97-4418-eaa0-acf64b52d4fb"
      },
      "execution_count": 20,
      "outputs": [
        {
          "output_type": "execute_result",
          "data": {
            "text/plain": [
              "[('tok2vec', <spacy.pipeline.tok2vec.Tok2Vec at 0x7a96945faa40>),\n",
              " ('tagger', <spacy.pipeline.tagger.Tagger at 0x7a968fe837c0>),\n",
              " ('parser', <spacy.pipeline.dep_parser.DependencyParser at 0x7a968ff7a730>),\n",
              " ('attribute_ruler',\n",
              "  <spacy.pipeline.attributeruler.AttributeRuler at 0x7a968fc97c40>),\n",
              " ('lemmatizer',\n",
              "  <spacy.lang.en.lemmatizer.EnglishLemmatizer at 0x7a968fca67c0>),\n",
              " ('ner', <spacy.pipeline.ner.EntityRecognizer at 0x7a968ff7a9d0>)]"
            ]
          },
          "metadata": {},
          "execution_count": 20
        }
      ]
    },
    {
      "cell_type": "code",
      "source": [
        "nlp.pipe_names"
      ],
      "metadata": {
        "colab": {
          "base_uri": "https://localhost:8080/"
        },
        "id": "zYhKuJC86ULD",
        "outputId": "94c9897f-9703-4c27-bc36-404aea08e59a"
      },
      "execution_count": 21,
      "outputs": [
        {
          "output_type": "execute_result",
          "data": {
            "text/plain": [
              "['tok2vec', 'tagger', 'parser', 'attribute_ruler', 'lemmatizer', 'ner']"
            ]
          },
          "metadata": {},
          "execution_count": 21
        }
      ]
    },
    {
      "cell_type": "code",
      "source": [
        "doc2[0]"
      ],
      "metadata": {
        "colab": {
          "base_uri": "https://localhost:8080/"
        },
        "id": "8WPYh0LM6cpD",
        "outputId": "348ae7a0-a71d-4f08-fdfd-637cbf3f0666"
      },
      "execution_count": 22,
      "outputs": [
        {
          "output_type": "execute_result",
          "data": {
            "text/plain": [
              "Tesla"
            ]
          },
          "metadata": {},
          "execution_count": 22
        }
      ]
    },
    {
      "cell_type": "code",
      "source": [
        "doc[0],doc2[0].pos,doc2[0].pos_,doc2[0].dep_"
      ],
      "metadata": {
        "colab": {
          "base_uri": "https://localhost:8080/"
        },
        "id": "jaBHEqb47Hb-",
        "outputId": "aa576542-a054-4013-d044-ca351ccabf63"
      },
      "execution_count": 26,
      "outputs": [
        {
          "output_type": "execute_result",
          "data": {
            "text/plain": [
              "(Tesla, 96, 'PROPN', 'nsubj')"
            ]
          },
          "metadata": {},
          "execution_count": 26
        }
      ]
    },
    {
      "cell_type": "code",
      "source": [
        "doc[0].text,doc[0].lemma_,doc[0].shape,doc[0].is_alpha"
      ],
      "metadata": {
        "colab": {
          "base_uri": "https://localhost:8080/"
        },
        "id": "KLac1pxn7UQ2",
        "outputId": "02df042f-aba4-4cbf-8ba8-e6ae4371d47c"
      },
      "execution_count": 30,
      "outputs": [
        {
          "output_type": "execute_result",
          "data": {
            "text/plain": [
              "('Tesla', 'Tesla', 16072095006890171862, True)"
            ]
          },
          "metadata": {},
          "execution_count": 30
        }
      ]
    },
    {
      "cell_type": "code",
      "source": [
        "#Lemmas (the base form of the word)\n",
        "print(doc[4].text)\n",
        "print(doc[4].lemma_)"
      ],
      "metadata": {
        "colab": {
          "base_uri": "https://localhost:8080/"
        },
        "id": "9YYnX6pT-zR1",
        "outputId": "29aa0257-0830-4522-8422-ad95112c5474"
      },
      "execution_count": 31,
      "outputs": [
        {
          "output_type": "stream",
          "name": "stdout",
          "text": [
            "buying\n",
            "buy\n"
          ]
        }
      ]
    },
    {
      "cell_type": "code",
      "source": [
        "print(doc2[4].tag_ + ' / ' + spacy.explain(doc2[4].tag_))"
      ],
      "metadata": {
        "colab": {
          "base_uri": "https://localhost:8080/"
        },
        "id": "ks8BiNGIAYaQ",
        "outputId": "43ddc112-75ba-4ed8-9116-5b756f86f050"
      },
      "execution_count": 39,
      "outputs": [
        {
          "output_type": "stream",
          "name": "stdout",
          "text": [
            "VBG / verb, gerund or present participle\n"
          ]
        }
      ]
    },
    {
      "cell_type": "code",
      "source": [
        "print(doc2[0].text + \" : \" + doc2[0].shape_)\n",
        "print(doc2[5].text + \" : \" + doc2[0].shape_)"
      ],
      "metadata": {
        "colab": {
          "base_uri": "https://localhost:8080/"
        },
        "id": "K6LGeuhGBc48",
        "outputId": "f4b545d2-9f9f-48f5-a01d-6b899bb1a345"
      },
      "execution_count": 41,
      "outputs": [
        {
          "output_type": "stream",
          "name": "stdout",
          "text": [
            "Tesla : Xxxxx\n",
            "into : Xxxxx\n"
          ]
        }
      ]
    },
    {
      "cell_type": "code",
      "source": [
        "doc3 = nlp(u'Although commmonly attributed to John Lennon from his song \"Beautiful Boy\", \\\n",
        "the phrase \"Life is what happens to us while we are making other plans\" was written by \\\n",
        "cartoonist Allen Saunders and published in Reader\\'s Digest in 1957, when Lennon was 17.')"
      ],
      "metadata": {
        "id": "YzlGcc64_NZ2"
      },
      "execution_count": 42,
      "outputs": []
    },
    {
      "cell_type": "code",
      "source": [
        "life_quote = doc3[16:30]"
      ],
      "metadata": {
        "id": "MyhFpuA6B1Gv"
      },
      "execution_count": 43,
      "outputs": []
    },
    {
      "cell_type": "code",
      "source": [
        "print(life_quote)"
      ],
      "metadata": {
        "colab": {
          "base_uri": "https://localhost:8080/"
        },
        "id": "-8ccUvYNB6_9",
        "outputId": "be052d81-7943-40d7-db16-d2cc2d4a5480"
      },
      "execution_count": 44,
      "outputs": [
        {
          "output_type": "stream",
          "name": "stdout",
          "text": [
            "\"Life is what happens to us while we are making other plans\"\n"
          ]
        }
      ]
    },
    {
      "cell_type": "code",
      "source": [
        "type(life_quote)"
      ],
      "metadata": {
        "colab": {
          "base_uri": "https://localhost:8080/"
        },
        "id": "mHuA8Ik4B9FX",
        "outputId": "ca9fcc37-21d4-4092-ffb9-45a4a3d1fae4"
      },
      "execution_count": 45,
      "outputs": [
        {
          "output_type": "execute_result",
          "data": {
            "text/plain": [
              "spacy.tokens.span.Span"
            ]
          },
          "metadata": {},
          "execution_count": 45
        }
      ]
    },
    {
      "cell_type": "code",
      "source": [
        "type(doc3)"
      ],
      "metadata": {
        "colab": {
          "base_uri": "https://localhost:8080/"
        },
        "id": "c3gNvsaOCBXQ",
        "outputId": "20a82e94-ada9-4ace-85a1-ec44685debb5"
      },
      "execution_count": 46,
      "outputs": [
        {
          "output_type": "execute_result",
          "data": {
            "text/plain": [
              "spacy.tokens.doc.Doc"
            ]
          },
          "metadata": {},
          "execution_count": 46
        }
      ]
    },
    {
      "cell_type": "code",
      "source": [
        "doc4 = nlp(u\"This is the first sentence. This is another sentence. This is the last sentence\")"
      ],
      "metadata": {
        "id": "0YSzhhmsCEUo"
      },
      "execution_count": 47,
      "outputs": []
    },
    {
      "cell_type": "code",
      "source": [
        "for sentence in doc4.sents:\n",
        "  print(sentence)"
      ],
      "metadata": {
        "colab": {
          "base_uri": "https://localhost:8080/"
        },
        "id": "sPV2ARJrCYKR",
        "outputId": "62fdc7c6-a885-4466-bc60-93f730d9cdd2"
      },
      "execution_count": 48,
      "outputs": [
        {
          "output_type": "stream",
          "name": "stdout",
          "text": [
            "This is the first sentence.\n",
            "This is another sentence.\n",
            "This is the last sentence\n"
          ]
        }
      ]
    },
    {
      "cell_type": "code",
      "source": [
        "doc4[6]"
      ],
      "metadata": {
        "colab": {
          "base_uri": "https://localhost:8080/"
        },
        "id": "YPr8rCN-CeEL",
        "outputId": "3f8b6885-3f74-44c6-bdad-e0c0d4fc64cd"
      },
      "execution_count": 49,
      "outputs": [
        {
          "output_type": "execute_result",
          "data": {
            "text/plain": [
              "This"
            ]
          },
          "metadata": {},
          "execution_count": 49
        }
      ]
    },
    {
      "cell_type": "code",
      "source": [
        "#Check whether it is the first word of the sentence\n",
        "doc4[6].is_sent_start"
      ],
      "metadata": {
        "colab": {
          "base_uri": "https://localhost:8080/"
        },
        "id": "YOOcVb1iCgUb",
        "outputId": "11a9822d-a410-4b53-ac71-50aeeb7ffe6e"
      },
      "execution_count": 50,
      "outputs": [
        {
          "output_type": "execute_result",
          "data": {
            "text/plain": [
              "True"
            ]
          },
          "metadata": {},
          "execution_count": 50
        }
      ]
    },
    {
      "cell_type": "code",
      "source": [
        "doc4[8]"
      ],
      "metadata": {
        "colab": {
          "base_uri": "https://localhost:8080/"
        },
        "id": "bvs6pNEnCrmw",
        "outputId": "3dfded44-fbf5-4bdf-f2c3-95e25d904c91"
      },
      "execution_count": 52,
      "outputs": [
        {
          "output_type": "execute_result",
          "data": {
            "text/plain": [
              "another"
            ]
          },
          "metadata": {},
          "execution_count": 52
        }
      ]
    },
    {
      "cell_type": "code",
      "source": [
        "doc4[8].is_sent_start"
      ],
      "metadata": {
        "colab": {
          "base_uri": "https://localhost:8080/"
        },
        "id": "KhyiKomuCmfM",
        "outputId": "aef95a77-936e-4a8f-8f40-6dc1221daa4d"
      },
      "execution_count": 51,
      "outputs": [
        {
          "output_type": "execute_result",
          "data": {
            "text/plain": [
              "False"
            ]
          },
          "metadata": {},
          "execution_count": 51
        }
      ]
    }
  ]
}