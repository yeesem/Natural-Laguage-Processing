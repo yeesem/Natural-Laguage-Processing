{
  "nbformat": 4,
  "nbformat_minor": 0,
  "metadata": {
    "colab": {
      "provenance": [],
      "authorship_tag": "ABX9TyMcRcsVbz/hx/ilFv6Wlzi8",
      "include_colab_link": true
    },
    "kernelspec": {
      "name": "python3",
      "display_name": "Python 3"
    },
    "language_info": {
      "name": "python"
    }
  },
  "cells": [
    {
      "cell_type": "markdown",
      "metadata": {
        "id": "view-in-github",
        "colab_type": "text"
      },
      "source": [
        "<a href=\"https://colab.research.google.com/github/yeesem/Natural-Laguage-Processing/blob/main/Semantics_%26_Word_Vector.ipynb\" target=\"_parent\"><img src=\"https://colab.research.google.com/assets/colab-badge.svg\" alt=\"Open In Colab\"/></a>"
      ]
    },
    {
      "cell_type": "code",
      "execution_count": 4,
      "metadata": {
        "colab": {
          "base_uri": "https://localhost:8080/"
        },
        "id": "36eraD1mcLnt",
        "outputId": "cd8d274a-3f2a-4eff-fd0d-767f83bb928d"
      },
      "outputs": [
        {
          "output_type": "stream",
          "name": "stdout",
          "text": [
            "\u001b[38;5;2m✔ Download and installation successful\u001b[0m\n",
            "You can now load the package via spacy.load('en_core_web_lg')\n"
          ]
        }
      ],
      "source": [
        "import spacy\n",
        "import spacy.cli\n",
        "spacy.cli.download(\"en_core_web_lg\")"
      ]
    },
    {
      "cell_type": "code",
      "source": [
        "nlp = spacy.load('en_core_web_lg')"
      ],
      "metadata": {
        "id": "8vbhWHBBcQFo"
      },
      "execution_count": 5,
      "outputs": []
    },
    {
      "cell_type": "code",
      "source": [
        "nlp(u\"lion\").vector.shape"
      ],
      "metadata": {
        "colab": {
          "base_uri": "https://localhost:8080/"
        },
        "id": "7U7QB6LlcWOq",
        "outputId": "ea179b6d-4da9-4c77-c13b-9e909cae1bde"
      },
      "execution_count": 7,
      "outputs": [
        {
          "output_type": "execute_result",
          "data": {
            "text/plain": [
              "(300,)"
            ]
          },
          "metadata": {},
          "execution_count": 7
        }
      ]
    },
    {
      "cell_type": "code",
      "source": [
        "nlp(u\"lion\").vector"
      ],
      "metadata": {
        "colab": {
          "base_uri": "https://localhost:8080/"
        },
        "id": "EDPCqeLic5wS",
        "outputId": "6a59b50c-0f6c-45d5-bf54-e958f1fccd76"
      },
      "execution_count": 8,
      "outputs": [
        {
          "output_type": "execute_result",
          "data": {
            "text/plain": [
              "array([  1.2746  ,   0.46242 ,  -1.1829  ,  -5.2661  ,  -2.7128  ,\n",
              "         1.8521  ,  -0.94273 ,   2.1865  ,   6.503   ,   0.6704  ,\n",
              "         1.5361  ,   2.5992  ,  -0.36233 ,   4.3965  ,  -6.5644  ,\n",
              "         1.6141  ,  -1.2897  ,   2.1184  ,  -0.63654 ,  -3.4572  ,\n",
              "        -4.3771  ,   4.2074  ,  -3.6411  ,  -0.97214 ,   1.3253  ,\n",
              "        -2.3125  ,  -3.6531  ,  -2.8398  ,   2.7913  ,  -1.53    ,\n",
              "        -2.9984  ,  -2.6357  ,   0.50615 ,  -2.6925  ,   4.3401  ,\n",
              "        -5.6017  ,   0.045691,   4.3832  ,  -0.19535 ,  -1.0751  ,\n",
              "         0.32172 ,   2.4395  ,   4.6638  ,   3.4471  ,  -3.3847  ,\n",
              "        -1.8238  ,   0.70212 ,   0.58557 ,   5.0032  ,  -3.1072  ,\n",
              "         1.2364  ,   7.4595  ,   0.057368,   1.0111  ,  -1.0827  ,\n",
              "         0.69113 ,   2.8009  ,  -3.4383  ,  -1.0599  ,  -2.2627  ,\n",
              "        -5.149   ,  -5.0636  ,   3.1405  ,   1.0793  ,  -0.72892 ,\n",
              "        -3.9939  ,  -0.69551 ,  -0.55767 ,   3.2555  ,  -2.9449  ,\n",
              "         4.7114  ,   1.6388  ,   1.3828  ,   1.4255  ,  -3.2334  ,\n",
              "        -2.274   ,  -1.8136  ,   2.2966  ,   2.5462  ,   1.0722  ,\n",
              "        -0.73447 ,   1.2148  ,  -0.9196  ,  -0.065012,   2.088   ,\n",
              "         0.57002 ,   3.5746  ,   1.7192  ,  -8.335   ,   0.71079 ,\n",
              "         0.91314 ,  -5.0107  ,   1.899   ,  -4.4658  ,   4.7993  ,\n",
              "        -0.39899 ,  -2.673   ,  -2.9354  ,   4.304   ,   1.4336  ,\n",
              "         3.7121  ,   0.34882 ,   4.6512  ,  -4.5731  ,  -4.5665  ,\n",
              "         1.5988  ,  -0.50383 ,   0.95857 ,   0.68728 ,  -0.39976 ,\n",
              "        -3.1922  ,   4.4363  ,  -0.69479 ,  -1.9528  ,   4.9376  ,\n",
              "         2.7259  ,   2.2485  ,   5.5734  ,   2.5842  ,   4.7836  ,\n",
              "        -1.0274  ,   2.2703  ,  -2.0696  ,  -1.0642  ,  -4.932   ,\n",
              "        -2.274   ,   4.1409  ,   0.73313 ,   2.1889  ,  -0.098888,\n",
              "         1.6472  ,  -2.3985  ,   2.5911  ,   3.6026  ,   1.885   ,\n",
              "         5.7822  ,  -1.4481  ,   1.8914  , -10.044   ,  -5.7452  ,\n",
              "        -4.3224  ,  -3.854   ,   2.3084  ,  -0.84018 ,  -0.40526 ,\n",
              "         4.7741  ,  -2.3271  ,   7.064   ,   0.95753 ,  -2.356   ,\n",
              "         0.83953 ,   0.40004 ,   0.33743 ,   0.8376  ,   3.9285  ,\n",
              "         0.05955 ,   2.4422  ,   4.3492  ,   3.9861  ,   2.1043  ,\n",
              "        -1.0197  ,  -0.61752 ,  -0.42999 ,  -0.1014  ,  -5.9571  ,\n",
              "        -0.53818 ,  -1.7797  ,   1.7446  ,   2.3934  ,  -0.50263 ,\n",
              "        -1.6222  ,  -0.37372 ,  -6.8938  ,   0.55018 ,  -2.267   ,\n",
              "         0.64912 ,   3.1525  ,  -2.2541  ,  -4.0384  ,   3.206   ,\n",
              "         0.14962 ,  -2.6662  ,   0.18167 ,   5.0028  ,   2.1521  ,\n",
              "         0.92419 ,   5.4163  ,  -2.2408  ,   1.6585  ,  -5.1625  ,\n",
              "         5.029   ,   0.1026  ,  -0.44542 ,   2.0557  ,   3.7778  ,\n",
              "         3.8679  ,  -2.7135  ,   5.3242  ,  -3.2916  ,   5.6421  ,\n",
              "         5.0466  ,   1.6072  ,  -1.3206  ,   4.2044  ,  -0.33793 ,\n",
              "        -3.1139  ,   2.8841  ,  -3.1565  ,  -2.9832  ,  -0.23235 ,\n",
              "         2.3259  ,   3.5477  ,  -2.1299  ,  -1.8344  ,   2.7271  ,\n",
              "         1.5568  ,   5.6865  ,   0.9412  ,  -2.6412  ,  -5.3254  ,\n",
              "         1.3494  ,  -0.47159 ,   2.4979  ,  -1.5568  ,  -1.6911  ,\n",
              "        -2.1842  ,   6.0319  ,   0.022573,   2.3824  ,  -1.1002  ,\n",
              "         0.90216 ,  -1.9113  ,   1.5527  ,   5.7413  ,  -3.1956  ,\n",
              "         0.68655 ,  -1.6068  ,   1.7404  ,  -3.2142  ,   6.4783  ,\n",
              "         1.7548  ,  -2.9795  ,   0.97631 ,  -0.018354,  -0.6379  ,\n",
              "         0.80559 ,   3.1923  ,   3.3335  ,   4.3068  ,  -1.0819  ,\n",
              "        -1.3839  ,  -4.7626  ,  -4.6637  ,  -1.2201  ,  -3.2741  ,\n",
              "         1.5204  ,   0.78119 ,   8.7339  ,   1.6009  ,  -0.79332 ,\n",
              "         5.8416  ,  -1.485   ,   1.5978  ,   2.9746  ,  -0.30759 ,\n",
              "        -1.8023  ,  -4.8344  ,   1.2817  ,  -2.5469  ,   2.6517  ,\n",
              "         1.4881  ,   2.1952  ,  -0.12652 ,   1.2223  ,   0.44763 ,\n",
              "        -3.1445  ,  -2.2051  ,  -4.1785  ,  -3.6539  ,   5.1929  ,\n",
              "         0.78457 ,  -1.2312  ,   5.5624  ,  -1.8462  ,   6.1262  ,\n",
              "        -1.6653  ,  -2.7557  ,  -0.066465,  -3.6362  ,   5.2005  ,\n",
              "        -1.2865  ,   2.8855  ,   6.1219  ,   1.7824  ,   1.4264  ,\n",
              "        10.628   ,  -0.36028 ,   1.9268  ,  -7.835   ,   0.57865 ],\n",
              "      dtype=float32)"
            ]
          },
          "metadata": {},
          "execution_count": 8
        }
      ]
    },
    {
      "cell_type": "code",
      "source": [
        "nlp(u\"The quick brown fox jumped\").vector"
      ],
      "metadata": {
        "colab": {
          "base_uri": "https://localhost:8080/"
        },
        "id": "VStyEBrPc-Lb",
        "outputId": "0cb637c3-e431-4728-93f4-fea4d626d9ea"
      },
      "execution_count": 9,
      "outputs": [
        {
          "output_type": "execute_result",
          "data": {
            "text/plain": [
              "array([-1.615     ,  0.73115796, -0.43866196,  0.017288  ,  1.7033421 ,\n",
              "       -2.4918282 ,  0.13813403,  3.185108  ,  1.431782  ,  0.16901802,\n",
              "        2.7527    ,  0.64076406, -2.342192  ,  0.41953403,  0.797184  ,\n",
              "       -1.1299    ,  1.4179399 ,  1.630098  ,  2.56572   , -1.1786883 ,\n",
              "       -1.8828003 ,  0.10497598,  1.5746659 , -2.4389    ,  1.6264408 ,\n",
              "       -0.195288  , -3.663484  , -2.367334  ,  1.120072  ,  1.517998  ,\n",
              "       -1.5409119 , -0.74236   , -1.70981   ,  0.21122456, -2.4972022 ,\n",
              "       -2.9451559 ,  0.741366  ,  0.69130594,  2.56254   , -2.1797023 ,\n",
              "        1.455228  ,  0.19872916,  0.96076   , -0.1895    , -0.50636196,\n",
              "       -0.3994352 ,  1.72168   , -0.43335405, -2.79734   ,  0.04104001,\n",
              "        0.870872  ,  3.07908   , -0.85011005,  0.15068403, -0.992664  ,\n",
              "       -0.5621961 , -0.08378398,  1.3055401 ,  2.0414014 ,  0.24415842,\n",
              "        0.33115202, -2.2055602 ,  0.27012798,  1.9971001 , -0.91020405,\n",
              "       -1.43928   , -3.3562179 , -2.326374  ,  1.410608  ,  0.12847403,\n",
              "        0.52536   ,  0.494448  ,  0.47294015, -0.5851339 , -0.22306204,\n",
              "       -0.48378196,  0.15025802,  0.48946   ,  0.12913978, -0.73069644,\n",
              "       -2.379094  , -2.0692801 , -1.0096788 ,  1.25272   ,  1.7908599 ,\n",
              "       -0.9036261 ,  2.79906   , -0.04914599, -2.5143478 ,  0.61309   ,\n",
              "       -0.6750078 , -0.32888407,  2.54184   , -0.17071861,  0.26411504,\n",
              "       -0.08619805,  2.3224058 ,  0.89006007,  2.165062  ,  0.25915796,\n",
              "        0.8285859 , -1.261076  ,  2.086974  ,  2.1299443 , -0.21456781,\n",
              "        0.5569401 , -1.60378   ,  1.9442778 , -0.913892  , -0.95242196,\n",
              "       -0.7128006 ,  0.98087406, -0.5353999 ,  1.931312  ,  0.894812  ,\n",
              "       -1.6521759 ,  0.886004  , -0.6169411 ,  1.6394199 , -0.11687199,\n",
              "       -0.30550203, -0.190044  , -0.70105994,  2.47268   , -1.375986  ,\n",
              "       -0.648144  ,  0.97559243, -0.231462  ,  4.2825003 ,  0.31813997,\n",
              "       -2.8985977 , -1.7611881 ,  1.7779    , -0.580056  ,  0.39031202,\n",
              "        0.85677797, -0.60733604, -3.11234   ,  0.97764003, -0.15887599,\n",
              "       -3.6071002 ,  0.13601403, -1.73926   , -0.18580799, -0.70062   ,\n",
              "        0.685252  , -0.43827993,  0.99436396,  1.3498939 ,  0.65000397,\n",
              "        0.7475419 ,  2.8786798 ,  0.20917603, -0.77544403, -0.52630484,\n",
              "        1.10618   ,  2.88104   , -1.4148799 ,  1.196578  ,  1.7139801 ,\n",
              "        1.236796  , -1.0417379 ,  1.1953919 , -2.6903958 , -3.408744  ,\n",
              "       -0.42112   , -1.429724  ,  0.6638    , -0.313608  ,  0.878424  ,\n",
              "       -0.41962606,  3.11922   ,  1.7436501 ,  0.22487998, -1.51121   ,\n",
              "       -0.20153204,  0.22349992, -2.05798   , -1.58918   , -0.7827472 ,\n",
              "       -1.330986  ,  0.09964222,  0.06207442,  0.9869    , -0.30682   ,\n",
              "       -1.50693   , -1.2281196 , -2.191202  ,  0.47935557, -2.3384001 ,\n",
              "        1.20602   ,  1.31761   , -0.8693681 , -0.65864   ,  1.2964699 ,\n",
              "       -0.38857   , -1.44396   , -0.16076404, -1.309934  , -0.21346001,\n",
              "        0.34005594, -0.535046  , -1.1445577 , -0.7100479 ,  0.93315995,\n",
              "        1.0069644 , -3.7653117 ,  0.14853014,  0.191566  ,  0.23523481,\n",
              "        0.435994  ,  1.7084318 , -1.03388   , -0.2700088 ,  1.4422156 ,\n",
              "        0.40605992,  2.61922   ,  0.139244  , -2.405738  ,  0.10005765,\n",
              "       -1.648928  ,  0.67755586, -1.522344  ,  1.3883001 , -1.922932  ,\n",
              "        0.67168695,  0.47529   ,  1.632602  ,  3.0956483 ,  0.7767579 ,\n",
              "        0.802909  , -3.05359   ,  1.635946  ,  0.578938  , -2.0028203 ,\n",
              "        1.5184625 , -1.128546  ,  1.2410339 , -0.45437998,  3.326482  ,\n",
              "        1.8903358 , -2.4961722 ,  1.77654   , -0.15610322, -0.94260806,\n",
              "        1.4371201 , -0.50928175, -0.59553605, -1.221542  , -0.415412  ,\n",
              "       -0.624964  , -1.675564  , -2.5494435 , -1.323242  , -0.666676  ,\n",
              "       -1.729809  ,  1.1727359 ,  4.390082  , -0.28563803, -1.214412  ,\n",
              "        1.775902  , -0.414936  ,  1.1300812 ,  0.77161705, -1.810062  ,\n",
              "       -1.393386  , -2.9972858 , -0.30180797, -2.399366  ,  0.261624  ,\n",
              "        0.6725    , -0.27217802,  0.69558007, -1.088974  , -0.264166  ,\n",
              "       -2.4113898 ,  0.23572204, -0.84566003, -0.16156402,  1.9245478 ,\n",
              "       -0.08114004, -1.1815579 ,  0.18797809, -0.64504004,  1.6769199 ,\n",
              "       -1.097682  ,  0.07828407, -2.18926   ,  1.10807   ,  0.80761206,\n",
              "       -1.1212146 ,  0.84139407,  3.769678  ,  1.2326021 , -0.30580598,\n",
              "        3.210394  ,  0.63234997,  0.676008  , -2.833096  , -1.0153    ],\n",
              "      dtype=float32)"
            ]
          },
          "metadata": {},
          "execution_count": 9
        }
      ]
    },
    {
      "cell_type": "code",
      "source": [
        "tokens = nlp(u\"lion cat pet\")"
      ],
      "metadata": {
        "id": "l_mjFQNidXkr"
      },
      "execution_count": 10,
      "outputs": []
    },
    {
      "cell_type": "code",
      "source": [
        "#Figure out the similarity of the words\n",
        "#Pet and Cat has high similarity\n",
        "for token1 in tokens:\n",
        "  print(token1)\n",
        "  for token2 in tokens:\n",
        "    print(token1.text,token2.text,token1.similarity(token2))\n",
        "\n",
        "  print()"
      ],
      "metadata": {
        "id": "8B-Bfdfadr3W",
        "outputId": "512d7a0a-7eba-4a6d-a1a2-cf7d72796915",
        "colab": {
          "base_uri": "https://localhost:8080/"
        }
      },
      "execution_count": 15,
      "outputs": [
        {
          "output_type": "stream",
          "name": "stdout",
          "text": [
            "lion\n",
            "lion lion 1.0\n",
            "lion cat 0.3854507803916931\n",
            "lion pet 0.20031584799289703\n",
            "\n",
            "cat\n",
            "cat lion 0.3854507803916931\n",
            "cat cat 1.0\n",
            "cat pet 0.732966423034668\n",
            "\n",
            "pet\n",
            "pet lion 0.20031584799289703\n",
            "pet cat 0.732966423034668\n",
            "pet pet 1.0\n",
            "\n"
          ]
        }
      ]
    },
    {
      "cell_type": "code",
      "source": [
        "tokens = nlp(u\"like love hate\")"
      ],
      "metadata": {
        "id": "rsGGeypUd9_E"
      },
      "execution_count": 16,
      "outputs": []
    },
    {
      "cell_type": "code",
      "source": [
        "#Like movie,hate movie\n",
        "for token1 in tokens:\n",
        "  print(token1)\n",
        "  for token2 in tokens:\n",
        "    print(token1.text,token2.text,token1.similarity(token2))\n",
        "\n",
        "  print()"
      ],
      "metadata": {
        "id": "Z61uUksWfLnG",
        "outputId": "55c5a1f9-9ac9-4d6e-a792-4cbb6b025cb0",
        "colab": {
          "base_uri": "https://localhost:8080/"
        }
      },
      "execution_count": 21,
      "outputs": [
        {
          "output_type": "stream",
          "name": "stdout",
          "text": [
            "like\n",
            "like like 1.0\n",
            "like love 0.5212638974189758\n",
            "like hate 0.5065140724182129\n",
            "\n",
            "love\n",
            "love like 0.5212638974189758\n",
            "love love 1.0\n",
            "love hate 0.5708349943161011\n",
            "\n",
            "hate\n",
            "hate like 0.5065140724182129\n",
            "hate love 0.5708349943161011\n",
            "hate hate 1.0\n",
            "\n"
          ]
        }
      ]
    },
    {
      "cell_type": "code",
      "source": [
        "#514157 number of unique word in vocabulary\n",
        "len(nlp.vocab.vectors)"
      ],
      "metadata": {
        "id": "QsfbywggfV-H",
        "outputId": "916f9eda-ac56-410c-ef1c-24da37fb9047",
        "colab": {
          "base_uri": "https://localhost:8080/"
        }
      },
      "execution_count": 22,
      "outputs": [
        {
          "output_type": "execute_result",
          "data": {
            "text/plain": [
              "514157"
            ]
          },
          "metadata": {},
          "execution_count": 22
        }
      ]
    },
    {
      "cell_type": "code",
      "source": [
        "nlp.vocab.vectors.shape"
      ],
      "metadata": {
        "id": "qlRLYP5PgIuQ",
        "outputId": "325da8b0-6c69-4735-b0ad-d91511c7fd76",
        "colab": {
          "base_uri": "https://localhost:8080/"
        }
      },
      "execution_count": 23,
      "outputs": [
        {
          "output_type": "execute_result",
          "data": {
            "text/plain": [
              "(514157, 300)"
            ]
          },
          "metadata": {},
          "execution_count": 23
        }
      ]
    },
    {
      "cell_type": "code",
      "source": [
        "tokens = nlp(u\"dog cat nargle Adam\")"
      ],
      "metadata": {
        "id": "8ZsZdA9LgX5i"
      },
      "execution_count": 27,
      "outputs": []
    },
    {
      "cell_type": "code",
      "source": [
        "#oov - out of vocabulary\n",
        "#vector - square root of the sum of vector of that particular word\n",
        "for token in tokens:\n",
        "  print(token.text,token.has_vector,token.vector_norm,token.is_oov)"
      ],
      "metadata": {
        "id": "_AvEVKLpgdJN",
        "outputId": "afe76e43-a29e-46a0-e558-a2512821e86d",
        "colab": {
          "base_uri": "https://localhost:8080/"
        }
      },
      "execution_count": 29,
      "outputs": [
        {
          "output_type": "stream",
          "name": "stdout",
          "text": [
            "dog True 75.254234 False\n",
            "cat True 63.188496 False\n",
            "nargle False 0.0 True\n",
            "Adam True 46.032986 False\n"
          ]
        }
      ]
    },
    {
      "cell_type": "code",
      "source": [
        "from scipy import spatial\n",
        "\n",
        "cosine_similarity = lambda vec1,vec2 : 1 - spatial.distance.cosine(vec1,vec2)"
      ],
      "metadata": {
        "id": "msw7OXRggkc2"
      },
      "execution_count": 41,
      "outputs": []
    },
    {
      "cell_type": "code",
      "source": [
        "king = nlp.vocab['king'].vector\n",
        "girl = nlp.vocab['girl'].vector\n",
        "woman = nlp.vocab['woman'].vector"
      ],
      "metadata": {
        "id": "eSEt1VHBkGG6"
      },
      "execution_count": 68,
      "outputs": []
    },
    {
      "cell_type": "code",
      "source": [
        "#king - man + woman ---> NEW VECTOR similar Queen,Princess,Highness\n",
        "new_vector = king + woman"
      ],
      "metadata": {
        "id": "_4jMGwirkZP8"
      },
      "execution_count": 73,
      "outputs": []
    },
    {
      "cell_type": "code",
      "source": [
        "computed_similarity = []\n",
        "\n",
        "#FOR ALL WORD IN VOCAB\n",
        "for word in nlp.vocab:\n",
        "  if word.has_vector:\n",
        "    if word.is_lower:\n",
        "      if word.is_alpha:\n",
        "        similarity = cosine_similarity(new_vector,word.vector)\n",
        "        computed_similarity.append((word,similarity))"
      ],
      "metadata": {
        "id": "UIpCIMjtkt6X"
      },
      "execution_count": 74,
      "outputs": []
    },
    {
      "cell_type": "code",
      "source": [
        "#-item[-] - descending order\n",
        "computed_similarity = sorted(computed_similarity,key = lambda item : -item[1])"
      ],
      "metadata": {
        "id": "EXyxtEGglVon"
      },
      "execution_count": 75,
      "outputs": []
    },
    {
      "cell_type": "code",
      "source": [
        "print([t[0].text for t in computed_similarity])"
      ],
      "metadata": {
        "id": "X8_APtzrl3DQ",
        "outputId": "3675bfd3-4789-4a76-cbdd-4a8c7182a2f4",
        "colab": {
          "base_uri": "https://localhost:8080/"
        }
      },
      "execution_count": 76,
      "outputs": [
        {
          "output_type": "stream",
          "name": "stdout",
          "text": [
            "['king', 'woman', 'man', 'queen', 'girl', 'she', 'he', 'who', 'that', 'they', 'those', 'somethin', 'when', 'where', 'love', 'there', 'not', 'lion', 'ought', 'cause', 'you', 'it', 'what', 'would', 'might', 'this', 'should', 'could', 'was', 'and', 'like', 'had', 'have', 'nothin', 'a', 'all', 'dog', 'must', 'these', 'cat', 'brown', 'were', 'fox', 'why', 'space', 'how', 'havin', 'has', 'is', 'lovin', 'hate', 'dare', 'may', 'did', 'or', 'we', 'does', 'bout', 'need', 'are', 'am', 'l', 'can', 'b', 'quick', 'got', 'pet', 'let', 'i', 're', 'ol', 'f', 'p', 'h', 'on', 'gon', 'goin', 'c', 'do', 'jumped', 'd', 'sha', 'j', 'na', 'k', 'doin', 's', 'r', 'g', 'z', 'q', 't', 'n', 'y', 'ca', 'u', 'cos', 'o', 'e', 've', 'nt', 'ä', 'ü', 'ö', 'w', 'ai', 'm', 'co', 'coz', 'nuff', 'wo', 'll', 'pm', 'x', 'em', 'cuz', 'v', 'ta', 'vs']\n"
          ]
        }
      ]
    }
  ]
}