{
  "nbformat": 4,
  "nbformat_minor": 0,
  "metadata": {
    "colab": {
      "provenance": [],
      "authorship_tag": "ABX9TyNJOR/CuqIRswmRqbsXsu8k",
      "include_colab_link": true
    },
    "kernelspec": {
      "name": "python3",
      "display_name": "Python 3"
    },
    "language_info": {
      "name": "python"
    }
  },
  "cells": [
    {
      "cell_type": "markdown",
      "metadata": {
        "id": "view-in-github",
        "colab_type": "text"
      },
      "source": [
        "<a href=\"https://colab.research.google.com/github/yeesem/Natural-Laguage-Processing/blob/main/Regular_Expressions.ipynb\" target=\"_parent\"><img src=\"https://colab.research.google.com/assets/colab-badge.svg\" alt=\"Open In Colab\"/></a>"
      ]
    },
    {
      "cell_type": "code",
      "execution_count": 1,
      "metadata": {
        "id": "sFOm58T1RrUS"
      },
      "outputs": [],
      "source": [
        "text = 'The phone number of the agent is 408-555-1234. Call soon!'"
      ]
    },
    {
      "cell_type": "code",
      "source": [
        "'phone' in text"
      ],
      "metadata": {
        "colab": {
          "base_uri": "https://localhost:8080/"
        },
        "id": "jLyU0KU_V-e4",
        "outputId": "ed5df1af-c8ab-499f-becc-604f56a52246"
      },
      "execution_count": 2,
      "outputs": [
        {
          "output_type": "execute_result",
          "data": {
            "text/plain": [
              "True"
            ]
          },
          "metadata": {},
          "execution_count": 2
        }
      ]
    },
    {
      "cell_type": "code",
      "source": [
        "'408-555-1234' in text"
      ],
      "metadata": {
        "colab": {
          "base_uri": "https://localhost:8080/"
        },
        "id": "IoKFlMCaWBkS",
        "outputId": "7e0c48a8-ff83-4c9f-a895-41914769b8b7"
      },
      "execution_count": 5,
      "outputs": [
        {
          "output_type": "execute_result",
          "data": {
            "text/plain": [
              "True"
            ]
          },
          "metadata": {},
          "execution_count": 5
        }
      ]
    },
    {
      "cell_type": "code",
      "source": [
        "'408-555-1' in text"
      ],
      "metadata": {
        "colab": {
          "base_uri": "https://localhost:8080/"
        },
        "id": "WFlQDxAwWIWM",
        "outputId": "42687bcc-80ff-44c1-a2e1-b373fb93d0e8"
      },
      "execution_count": 8,
      "outputs": [
        {
          "output_type": "execute_result",
          "data": {
            "text/plain": [
              "True"
            ]
          },
          "metadata": {},
          "execution_count": 8
        }
      ]
    },
    {
      "cell_type": "code",
      "source": [
        "#Regular expressions library\n",
        "import re"
      ],
      "metadata": {
        "id": "vahdNLlPWOTR"
      },
      "execution_count": 9,
      "outputs": []
    },
    {
      "cell_type": "code",
      "source": [
        "pattern = 'phone'"
      ],
      "metadata": {
        "id": "HE7Po7OsWRWF"
      },
      "execution_count": 10,
      "outputs": []
    },
    {
      "cell_type": "code",
      "source": [
        "re.search(pattern,text)"
      ],
      "metadata": {
        "colab": {
          "base_uri": "https://localhost:8080/"
        },
        "id": "eiow-FsgWd7v",
        "outputId": "6c03d197-bce4-429c-ed0f-7f468c3dfe2b"
      },
      "execution_count": 11,
      "outputs": [
        {
          "output_type": "execute_result",
          "data": {
            "text/plain": [
              "<re.Match object; span=(4, 9), match='phone'>"
            ]
          },
          "metadata": {},
          "execution_count": 11
        }
      ]
    },
    {
      "cell_type": "code",
      "source": [
        "my_match = re.search(pattern,text)"
      ],
      "metadata": {
        "id": "bYl0c_TmWi97"
      },
      "execution_count": 13,
      "outputs": []
    },
    {
      "cell_type": "code",
      "source": [
        "my_match.span()"
      ],
      "metadata": {
        "colab": {
          "base_uri": "https://localhost:8080/"
        },
        "id": "VYLBdAyeWqRE",
        "outputId": "c0df47ca-a27f-4e4c-bebd-d3b266fb2258"
      },
      "execution_count": 14,
      "outputs": [
        {
          "output_type": "execute_result",
          "data": {
            "text/plain": [
              "(4, 9)"
            ]
          },
          "metadata": {},
          "execution_count": 14
        }
      ]
    },
    {
      "cell_type": "code",
      "source": [
        "my_match.start()"
      ],
      "metadata": {
        "colab": {
          "base_uri": "https://localhost:8080/"
        },
        "id": "jjitc4zDWt67",
        "outputId": "2b02f1e0-1bea-416d-85f8-d0ad36a75a53"
      },
      "execution_count": 15,
      "outputs": [
        {
          "output_type": "execute_result",
          "data": {
            "text/plain": [
              "4"
            ]
          },
          "metadata": {},
          "execution_count": 15
        }
      ]
    },
    {
      "cell_type": "code",
      "source": [
        "my_match.end()"
      ],
      "metadata": {
        "colab": {
          "base_uri": "https://localhost:8080/"
        },
        "id": "ifG_0MAhWzU0",
        "outputId": "731a923e-9ec9-4dbf-8599-b7f059501c68"
      },
      "execution_count": 16,
      "outputs": [
        {
          "output_type": "execute_result",
          "data": {
            "text/plain": [
              "9"
            ]
          },
          "metadata": {},
          "execution_count": 16
        }
      ]
    },
    {
      "cell_type": "code",
      "source": [
        "text = 'my phone is a new phone'"
      ],
      "metadata": {
        "id": "C-4HumR5W0h7"
      },
      "execution_count": 17,
      "outputs": []
    },
    {
      "cell_type": "code",
      "source": [
        "my_match = re.search('phone',text)"
      ],
      "metadata": {
        "id": "eINtDgHmW30s"
      },
      "execution_count": 19,
      "outputs": []
    },
    {
      "cell_type": "code",
      "source": [
        "my_match"
      ],
      "metadata": {
        "colab": {
          "base_uri": "https://localhost:8080/"
        },
        "id": "G7zsB1TpW6gr",
        "outputId": "23d7bd20-39b1-48b6-9948-66a662633627"
      },
      "execution_count": 20,
      "outputs": [
        {
          "output_type": "execute_result",
          "data": {
            "text/plain": [
              "<re.Match object; span=(3, 8), match='phone'>"
            ]
          },
          "metadata": {},
          "execution_count": 20
        }
      ]
    },
    {
      "cell_type": "code",
      "source": [
        "#Only display one match\n",
        "my_match.span()"
      ],
      "metadata": {
        "colab": {
          "base_uri": "https://localhost:8080/"
        },
        "id": "3nZNFSUlW9up",
        "outputId": "5bd0aa8a-a167-42a0-cd33-f0953d87a64f"
      },
      "execution_count": 22,
      "outputs": [
        {
          "output_type": "execute_result",
          "data": {
            "text/plain": [
              "(3, 8)"
            ]
          },
          "metadata": {},
          "execution_count": 22
        }
      ]
    },
    {
      "cell_type": "code",
      "source": [
        "all_matches = re.findall(\"phone\",text)"
      ],
      "metadata": {
        "id": "XU6-jo3SXFWt"
      },
      "execution_count": 25,
      "outputs": []
    },
    {
      "cell_type": "code",
      "source": [
        "all_matches"
      ],
      "metadata": {
        "colab": {
          "base_uri": "https://localhost:8080/"
        },
        "id": "7pXvrunEYKfD",
        "outputId": "d89bc733-7d21-4cc9-a391-083051ede508"
      },
      "execution_count": 26,
      "outputs": [
        {
          "output_type": "execute_result",
          "data": {
            "text/plain": [
              "['phone', 'phone']"
            ]
          },
          "metadata": {},
          "execution_count": 26
        }
      ]
    },
    {
      "cell_type": "code",
      "source": [
        "len(all_matches)"
      ],
      "metadata": {
        "colab": {
          "base_uri": "https://localhost:8080/"
        },
        "id": "pYbgODhSYTn7",
        "outputId": "ce283d22-1f93-47dd-d192-22598e7362b4"
      },
      "execution_count": 27,
      "outputs": [
        {
          "output_type": "execute_result",
          "data": {
            "text/plain": [
              "2"
            ]
          },
          "metadata": {},
          "execution_count": 27
        }
      ]
    },
    {
      "cell_type": "code",
      "source": [
        "for match in re.finditer('phone',text):\n",
        "  print(match.span())"
      ],
      "metadata": {
        "colab": {
          "base_uri": "https://localhost:8080/"
        },
        "id": "ryKybnNTYVJt",
        "outputId": "10cba7f6-87a8-4137-cf16-b6fe575e717e"
      },
      "execution_count": 29,
      "outputs": [
        {
          "output_type": "stream",
          "name": "stdout",
          "text": [
            "(3, 8)\n",
            "(18, 23)\n"
          ]
        }
      ]
    },
    {
      "cell_type": "code",
      "source": [
        "text = 'The phone number of the agent is 408-555-1234.'"
      ],
      "metadata": {
        "id": "s-ig30WcYkZh"
      },
      "execution_count": 31,
      "outputs": []
    },
    {
      "cell_type": "code",
      "source": [
        "pattern = r'\\d\\d\\d-\\d\\d\\d-\\d\\d\\d'"
      ],
      "metadata": {
        "id": "GUf5A5cKeuw2"
      },
      "execution_count": 32,
      "outputs": []
    },
    {
      "cell_type": "code",
      "source": [
        "pattern2 = r'\\W\\W\\W-\\W\\W\\W-\\W\\W\\W'"
      ],
      "metadata": {
        "id": "WDwp9bTLfAvT"
      },
      "execution_count": 33,
      "outputs": []
    },
    {
      "cell_type": "code",
      "source": [
        "phone_number = re.search(pattern,text)"
      ],
      "metadata": {
        "id": "47I843IsfL28"
      },
      "execution_count": 34,
      "outputs": []
    },
    {
      "cell_type": "code",
      "source": [
        "phone_number"
      ],
      "metadata": {
        "colab": {
          "base_uri": "https://localhost:8080/"
        },
        "id": "yZuXF2IVfb_K",
        "outputId": "f856e5ed-727d-496f-fb34-adda034ba16c"
      },
      "execution_count": 35,
      "outputs": [
        {
          "output_type": "execute_result",
          "data": {
            "text/plain": [
              "<re.Match object; span=(33, 44), match='408-555-123'>"
            ]
          },
          "metadata": {},
          "execution_count": 35
        }
      ]
    },
    {
      "cell_type": "code",
      "source": [
        "phone_number.group()"
      ],
      "metadata": {
        "colab": {
          "base_uri": "https://localhost:8080/",
          "height": 35
        },
        "id": "lQT5SDV-fj52",
        "outputId": "d71e21cc-cc9a-46dc-ffb6-2f1dfcfe06fe"
      },
      "execution_count": 36,
      "outputs": [
        {
          "output_type": "execute_result",
          "data": {
            "text/plain": [
              "'408-555-123'"
            ],
            "application/vnd.google.colaboratory.intrinsic+json": {
              "type": "string"
            }
          },
          "metadata": {},
          "execution_count": 36
        }
      ]
    },
    {
      "cell_type": "code",
      "source": [
        "pattern2 = r'\\d{3}-\\d{3}-\\d{4}'"
      ],
      "metadata": {
        "id": "mWFMRx0fg0V4"
      },
      "execution_count": 46,
      "outputs": []
    },
    {
      "cell_type": "code",
      "source": [
        "re.search(pattern2,text).group()"
      ],
      "metadata": {
        "colab": {
          "base_uri": "https://localhost:8080/",
          "height": 35
        },
        "id": "FGXEKx4tib8I",
        "outputId": "f2dfa38f-3c14-4cf2-a454-6c8d59725c85"
      },
      "execution_count": 47,
      "outputs": [
        {
          "output_type": "execute_result",
          "data": {
            "text/plain": [
              "'408-555-1234'"
            ],
            "application/vnd.google.colaboratory.intrinsic+json": {
              "type": "string"
            }
          },
          "metadata": {},
          "execution_count": 47
        }
      ]
    },
    {
      "cell_type": "code",
      "source": [
        "re.search(pattern2,text).span()"
      ],
      "metadata": {
        "colab": {
          "base_uri": "https://localhost:8080/"
        },
        "id": "DiR_DC_-ihrr",
        "outputId": "5be4e319-3121-4f2d-fae5-1cd877163cc6"
      },
      "execution_count": 48,
      "outputs": [
        {
          "output_type": "execute_result",
          "data": {
            "text/plain": [
              "(33, 45)"
            ]
          },
          "metadata": {},
          "execution_count": 48
        }
      ]
    }
  ]
}