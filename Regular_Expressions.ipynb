{
  "nbformat": 4,
  "nbformat_minor": 0,
  "metadata": {
    "colab": {
      "provenance": [],
      "authorship_tag": "ABX9TyP4ldPScP98wdV+tAkkjSlM",
      "include_colab_link": true
    },
    "kernelspec": {
      "name": "python3",
      "display_name": "Python 3"
    },
    "language_info": {
      "name": "python"
    }
  },
  "cells": [
    {
      "cell_type": "markdown",
      "metadata": {
        "id": "view-in-github",
        "colab_type": "text"
      },
      "source": [
        "<a href=\"https://colab.research.google.com/github/yeesem/Natural-Laguage-Processing/blob/main/Regular_Expressions.ipynb\" target=\"_parent\"><img src=\"https://colab.research.google.com/assets/colab-badge.svg\" alt=\"Open In Colab\"/></a>"
      ]
    },
    {
      "cell_type": "code",
      "execution_count": 1,
      "metadata": {
        "id": "sFOm58T1RrUS"
      },
      "outputs": [],
      "source": [
        "text = 'The phone number of the agent is 408-555-1234. Call soon!'"
      ]
    },
    {
      "cell_type": "code",
      "source": [
        "'phone' in text"
      ],
      "metadata": {
        "colab": {
          "base_uri": "https://localhost:8080/"
        },
        "id": "jLyU0KU_V-e4",
        "outputId": "ed5df1af-c8ab-499f-becc-604f56a52246"
      },
      "execution_count": 2,
      "outputs": [
        {
          "output_type": "execute_result",
          "data": {
            "text/plain": [
              "True"
            ]
          },
          "metadata": {},
          "execution_count": 2
        }
      ]
    },
    {
      "cell_type": "code",
      "source": [
        "'408-555-1234' in text"
      ],
      "metadata": {
        "colab": {
          "base_uri": "https://localhost:8080/"
        },
        "id": "IoKFlMCaWBkS",
        "outputId": "7e0c48a8-ff83-4c9f-a895-41914769b8b7"
      },
      "execution_count": 5,
      "outputs": [
        {
          "output_type": "execute_result",
          "data": {
            "text/plain": [
              "True"
            ]
          },
          "metadata": {},
          "execution_count": 5
        }
      ]
    },
    {
      "cell_type": "code",
      "source": [
        "'408-555-1' in text"
      ],
      "metadata": {
        "colab": {
          "base_uri": "https://localhost:8080/"
        },
        "id": "WFlQDxAwWIWM",
        "outputId": "42687bcc-80ff-44c1-a2e1-b373fb93d0e8"
      },
      "execution_count": 8,
      "outputs": [
        {
          "output_type": "execute_result",
          "data": {
            "text/plain": [
              "True"
            ]
          },
          "metadata": {},
          "execution_count": 8
        }
      ]
    },
    {
      "cell_type": "code",
      "source": [
        "#Regular expressions library\n",
        "import re"
      ],
      "metadata": {
        "id": "vahdNLlPWOTR"
      },
      "execution_count": 9,
      "outputs": []
    },
    {
      "cell_type": "code",
      "source": [
        "pattern = 'phone'"
      ],
      "metadata": {
        "id": "HE7Po7OsWRWF"
      },
      "execution_count": 10,
      "outputs": []
    },
    {
      "cell_type": "code",
      "source": [
        "re.search(pattern,text)"
      ],
      "metadata": {
        "colab": {
          "base_uri": "https://localhost:8080/"
        },
        "id": "eiow-FsgWd7v",
        "outputId": "6c03d197-bce4-429c-ed0f-7f468c3dfe2b"
      },
      "execution_count": 11,
      "outputs": [
        {
          "output_type": "execute_result",
          "data": {
            "text/plain": [
              "<re.Match object; span=(4, 9), match='phone'>"
            ]
          },
          "metadata": {},
          "execution_count": 11
        }
      ]
    },
    {
      "cell_type": "code",
      "source": [
        "my_match = re.search(pattern,text)"
      ],
      "metadata": {
        "id": "bYl0c_TmWi97"
      },
      "execution_count": 13,
      "outputs": []
    },
    {
      "cell_type": "code",
      "source": [
        "my_match.span()"
      ],
      "metadata": {
        "colab": {
          "base_uri": "https://localhost:8080/"
        },
        "id": "VYLBdAyeWqRE",
        "outputId": "c0df47ca-a27f-4e4c-bebd-d3b266fb2258"
      },
      "execution_count": 14,
      "outputs": [
        {
          "output_type": "execute_result",
          "data": {
            "text/plain": [
              "(4, 9)"
            ]
          },
          "metadata": {},
          "execution_count": 14
        }
      ]
    },
    {
      "cell_type": "code",
      "source": [
        "my_match.start()"
      ],
      "metadata": {
        "colab": {
          "base_uri": "https://localhost:8080/"
        },
        "id": "jjitc4zDWt67",
        "outputId": "2b02f1e0-1bea-416d-85f8-d0ad36a75a53"
      },
      "execution_count": 15,
      "outputs": [
        {
          "output_type": "execute_result",
          "data": {
            "text/plain": [
              "4"
            ]
          },
          "metadata": {},
          "execution_count": 15
        }
      ]
    },
    {
      "cell_type": "code",
      "source": [
        "my_match.end()"
      ],
      "metadata": {
        "colab": {
          "base_uri": "https://localhost:8080/"
        },
        "id": "ifG_0MAhWzU0",
        "outputId": "731a923e-9ec9-4dbf-8599-b7f059501c68"
      },
      "execution_count": 16,
      "outputs": [
        {
          "output_type": "execute_result",
          "data": {
            "text/plain": [
              "9"
            ]
          },
          "metadata": {},
          "execution_count": 16
        }
      ]
    },
    {
      "cell_type": "code",
      "source": [
        "text = 'my phone is a new phone'"
      ],
      "metadata": {
        "id": "C-4HumR5W0h7"
      },
      "execution_count": 17,
      "outputs": []
    },
    {
      "cell_type": "code",
      "source": [
        "my_match = re.search('phone',text)"
      ],
      "metadata": {
        "id": "eINtDgHmW30s"
      },
      "execution_count": 19,
      "outputs": []
    },
    {
      "cell_type": "code",
      "source": [
        "my_match"
      ],
      "metadata": {
        "colab": {
          "base_uri": "https://localhost:8080/"
        },
        "id": "G7zsB1TpW6gr",
        "outputId": "23d7bd20-39b1-48b6-9948-66a662633627"
      },
      "execution_count": 20,
      "outputs": [
        {
          "output_type": "execute_result",
          "data": {
            "text/plain": [
              "<re.Match object; span=(3, 8), match='phone'>"
            ]
          },
          "metadata": {},
          "execution_count": 20
        }
      ]
    },
    {
      "cell_type": "code",
      "source": [
        "#Only display one match\n",
        "my_match.span()"
      ],
      "metadata": {
        "colab": {
          "base_uri": "https://localhost:8080/"
        },
        "id": "3nZNFSUlW9up",
        "outputId": "5bd0aa8a-a167-42a0-cd33-f0953d87a64f"
      },
      "execution_count": 22,
      "outputs": [
        {
          "output_type": "execute_result",
          "data": {
            "text/plain": [
              "(3, 8)"
            ]
          },
          "metadata": {},
          "execution_count": 22
        }
      ]
    },
    {
      "cell_type": "code",
      "source": [
        "all_matches = re.findall(\"phone\",text)"
      ],
      "metadata": {
        "id": "XU6-jo3SXFWt"
      },
      "execution_count": 25,
      "outputs": []
    },
    {
      "cell_type": "code",
      "source": [
        "all_matches"
      ],
      "metadata": {
        "colab": {
          "base_uri": "https://localhost:8080/"
        },
        "id": "7pXvrunEYKfD",
        "outputId": "d89bc733-7d21-4cc9-a391-083051ede508"
      },
      "execution_count": 26,
      "outputs": [
        {
          "output_type": "execute_result",
          "data": {
            "text/plain": [
              "['phone', 'phone']"
            ]
          },
          "metadata": {},
          "execution_count": 26
        }
      ]
    },
    {
      "cell_type": "code",
      "source": [
        "len(all_matches)"
      ],
      "metadata": {
        "colab": {
          "base_uri": "https://localhost:8080/"
        },
        "id": "pYbgODhSYTn7",
        "outputId": "ce283d22-1f93-47dd-d192-22598e7362b4"
      },
      "execution_count": 27,
      "outputs": [
        {
          "output_type": "execute_result",
          "data": {
            "text/plain": [
              "2"
            ]
          },
          "metadata": {},
          "execution_count": 27
        }
      ]
    },
    {
      "cell_type": "code",
      "source": [
        "for match in re.finditer('phone',text):\n",
        "  print(match.span())"
      ],
      "metadata": {
        "colab": {
          "base_uri": "https://localhost:8080/"
        },
        "id": "ryKybnNTYVJt",
        "outputId": "10cba7f6-87a8-4137-cf16-b6fe575e717e"
      },
      "execution_count": 29,
      "outputs": [
        {
          "output_type": "stream",
          "name": "stdout",
          "text": [
            "(3, 8)\n",
            "(18, 23)\n"
          ]
        }
      ]
    },
    {
      "cell_type": "code",
      "source": [
        "text = 'The phone number of the agent is 408-555-1234.'"
      ],
      "metadata": {
        "id": "s-ig30WcYkZh"
      },
      "execution_count": 31,
      "outputs": []
    },
    {
      "cell_type": "code",
      "source": [
        "pattern = r'\\d\\d\\d-\\d\\d\\d-\\d\\d\\d'"
      ],
      "metadata": {
        "id": "GUf5A5cKeuw2"
      },
      "execution_count": 32,
      "outputs": []
    },
    {
      "cell_type": "code",
      "source": [
        "pattern2 = r'\\W\\W\\W-\\W\\W\\W-\\W\\W\\W'"
      ],
      "metadata": {
        "id": "WDwp9bTLfAvT"
      },
      "execution_count": 33,
      "outputs": []
    },
    {
      "cell_type": "code",
      "source": [
        "phone_number = re.search(pattern,text)"
      ],
      "metadata": {
        "id": "47I843IsfL28"
      },
      "execution_count": 34,
      "outputs": []
    },
    {
      "cell_type": "code",
      "source": [
        "phone_number"
      ],
      "metadata": {
        "colab": {
          "base_uri": "https://localhost:8080/"
        },
        "id": "yZuXF2IVfb_K",
        "outputId": "f856e5ed-727d-496f-fb34-adda034ba16c"
      },
      "execution_count": 35,
      "outputs": [
        {
          "output_type": "execute_result",
          "data": {
            "text/plain": [
              "<re.Match object; span=(33, 44), match='408-555-123'>"
            ]
          },
          "metadata": {},
          "execution_count": 35
        }
      ]
    },
    {
      "cell_type": "code",
      "source": [
        "phone_number.group()"
      ],
      "metadata": {
        "colab": {
          "base_uri": "https://localhost:8080/",
          "height": 35
        },
        "id": "lQT5SDV-fj52",
        "outputId": "d71e21cc-cc9a-46dc-ffb6-2f1dfcfe06fe"
      },
      "execution_count": 36,
      "outputs": [
        {
          "output_type": "execute_result",
          "data": {
            "text/plain": [
              "'408-555-123'"
            ],
            "application/vnd.google.colaboratory.intrinsic+json": {
              "type": "string"
            }
          },
          "metadata": {},
          "execution_count": 36
        }
      ]
    },
    {
      "cell_type": "code",
      "source": [
        "pattern2 = r'\\d{3}-\\d{3}-\\d{4}'"
      ],
      "metadata": {
        "id": "mWFMRx0fg0V4"
      },
      "execution_count": 46,
      "outputs": []
    },
    {
      "cell_type": "code",
      "source": [
        "re.search(pattern2,text).group()"
      ],
      "metadata": {
        "colab": {
          "base_uri": "https://localhost:8080/",
          "height": 35
        },
        "id": "FGXEKx4tib8I",
        "outputId": "f2dfa38f-3c14-4cf2-a454-6c8d59725c85"
      },
      "execution_count": 47,
      "outputs": [
        {
          "output_type": "execute_result",
          "data": {
            "text/plain": [
              "'408-555-1234'"
            ],
            "application/vnd.google.colaboratory.intrinsic+json": {
              "type": "string"
            }
          },
          "metadata": {},
          "execution_count": 47
        }
      ]
    },
    {
      "cell_type": "code",
      "source": [
        "re.search(pattern2,text).span()"
      ],
      "metadata": {
        "colab": {
          "base_uri": "https://localhost:8080/"
        },
        "id": "DiR_DC_-ihrr",
        "outputId": "5be4e319-3121-4f2d-fae5-1cd877163cc6"
      },
      "execution_count": 48,
      "outputs": [
        {
          "output_type": "execute_result",
          "data": {
            "text/plain": [
              "(33, 45)"
            ]
          },
          "metadata": {},
          "execution_count": 48
        }
      ]
    },
    {
      "cell_type": "code",
      "source": [
        "#Add '()' to access the sub element\n",
        "pattern3 = r\"(\\d{3})-(\\d{3})-(\\d{4})\""
      ],
      "metadata": {
        "id": "kTD2GSNXjnOm"
      },
      "execution_count": 63,
      "outputs": []
    },
    {
      "cell_type": "code",
      "source": [
        "match = re.search(pattern3,text)"
      ],
      "metadata": {
        "id": "ADoiZrpVkP1J"
      },
      "execution_count": 60,
      "outputs": []
    },
    {
      "cell_type": "code",
      "source": [
        "text"
      ],
      "metadata": {
        "colab": {
          "base_uri": "https://localhost:8080/",
          "height": 35
        },
        "id": "mo1RV3sIlADv",
        "outputId": "fbcf99e1-1a33-4e46-ead6-6cabdd0aa2d4"
      },
      "execution_count": 65,
      "outputs": [
        {
          "output_type": "execute_result",
          "data": {
            "text/plain": [
              "'The phone number of the agent is 408-555-1234.'"
            ],
            "application/vnd.google.colaboratory.intrinsic+json": {
              "type": "string"
            }
          },
          "metadata": {},
          "execution_count": 65
        }
      ]
    },
    {
      "cell_type": "code",
      "source": [
        "match.group(1)"
      ],
      "metadata": {
        "colab": {
          "base_uri": "https://localhost:8080/",
          "height": 35
        },
        "id": "tUpG_vJzkU9w",
        "outputId": "33dfb9d9-f706-48ab-c11c-014b0198aadd"
      },
      "execution_count": 66,
      "outputs": [
        {
          "output_type": "execute_result",
          "data": {
            "text/plain": [
              "'408'"
            ],
            "application/vnd.google.colaboratory.intrinsic+json": {
              "type": "string"
            }
          },
          "metadata": {},
          "execution_count": 66
        }
      ]
    },
    {
      "cell_type": "code",
      "source": [
        "match.group(2)"
      ],
      "metadata": {
        "colab": {
          "base_uri": "https://localhost:8080/",
          "height": 35
        },
        "id": "9OyURByvkYzW",
        "outputId": "5939e4d8-e660-40bb-f1cd-80cb4d34ad57"
      },
      "execution_count": 67,
      "outputs": [
        {
          "output_type": "execute_result",
          "data": {
            "text/plain": [
              "'555'"
            ],
            "application/vnd.google.colaboratory.intrinsic+json": {
              "type": "string"
            }
          },
          "metadata": {},
          "execution_count": 67
        }
      ]
    },
    {
      "cell_type": "code",
      "source": [
        "#'|' indicates or operator\n",
        "re.search(r'man|woman','This man was here')"
      ],
      "metadata": {
        "colab": {
          "base_uri": "https://localhost:8080/"
        },
        "id": "H1PW2heflE0X",
        "outputId": "203fac40-3a2e-43ec-d410-0f857ae6e2a0"
      },
      "execution_count": 68,
      "outputs": [
        {
          "output_type": "execute_result",
          "data": {
            "text/plain": [
              "<re.Match object; span=(5, 8), match='man'>"
            ]
          },
          "metadata": {},
          "execution_count": 68
        }
      ]
    },
    {
      "cell_type": "code",
      "source": [
        "re.search(r'man|woman','This woman was here')"
      ],
      "metadata": {
        "colab": {
          "base_uri": "https://localhost:8080/"
        },
        "id": "HWdi7N69l4_h",
        "outputId": "3987d121-c30d-4795-cdb4-fb25dbe6c6fe"
      },
      "execution_count": 69,
      "outputs": [
        {
          "output_type": "execute_result",
          "data": {
            "text/plain": [
              "<re.Match object; span=(5, 10), match='woman'>"
            ]
          },
          "metadata": {},
          "execution_count": 69
        }
      ]
    },
    {
      "cell_type": "code",
      "source": [
        "re.findall(r'.at','The cat in hat sat')"
      ],
      "metadata": {
        "colab": {
          "base_uri": "https://localhost:8080/"
        },
        "id": "TOxr7ZUtl8yx",
        "outputId": "33f66a35-690b-4b06-ffb2-3457f3ebad70"
      },
      "execution_count": 72,
      "outputs": [
        {
          "output_type": "execute_result",
          "data": {
            "text/plain": [
              "['cat', 'hat', 'sat']"
            ]
          },
          "metadata": {},
          "execution_count": 72
        }
      ]
    },
    {
      "cell_type": "code",
      "source": [
        "#'.' only extract one character\n",
        "re.findall(r'.at','The cat in hat sat splat')"
      ],
      "metadata": {
        "colab": {
          "base_uri": "https://localhost:8080/"
        },
        "id": "2cvJ8iVfmOTP",
        "outputId": "561f1e2f-cb33-4b8b-f72a-a0d3a6c87fbd"
      },
      "execution_count": 73,
      "outputs": [
        {
          "output_type": "execute_result",
          "data": {
            "text/plain": [
              "['cat', 'hat', 'sat', 'lat']"
            ]
          },
          "metadata": {},
          "execution_count": 73
        }
      ]
    },
    {
      "cell_type": "code",
      "source": [
        "#Two '.' extract two characters\n",
        "re.findall(r'..at','The cat in hat sat splat')"
      ],
      "metadata": {
        "colab": {
          "base_uri": "https://localhost:8080/"
        },
        "id": "8hV1FblcmdHD",
        "outputId": "4f65ac8b-a7f6-4911-f21b-7563cd3417cc"
      },
      "execution_count": 74,
      "outputs": [
        {
          "output_type": "execute_result",
          "data": {
            "text/plain": [
              "[' cat', ' hat', ' sat', 'plat']"
            ]
          },
          "metadata": {},
          "execution_count": 74
        }
      ]
    },
    {
      "cell_type": "code",
      "source": [
        "#End with number\n",
        "re.findall(r'\\d$','This ends with a number 2')"
      ],
      "metadata": {
        "colab": {
          "base_uri": "https://localhost:8080/"
        },
        "id": "OTiUhi-WmpnK",
        "outputId": "699e38d6-be98-45f6-897b-eb270d7a487f"
      },
      "execution_count": 82,
      "outputs": [
        {
          "output_type": "execute_result",
          "data": {
            "text/plain": [
              "['2']"
            ]
          },
          "metadata": {},
          "execution_count": 82
        }
      ]
    },
    {
      "cell_type": "code",
      "source": [
        "#Start with number\n",
        "re.findall(r'^\\d','1 is the loneliest number')"
      ],
      "metadata": {
        "colab": {
          "base_uri": "https://localhost:8080/"
        },
        "id": "wF50SBu8nD0X",
        "outputId": "e9a94f57-9703-41ad-dde4-832658dbab49"
      },
      "execution_count": 78,
      "outputs": [
        {
          "output_type": "execute_result",
          "data": {
            "text/plain": [
              "['1']"
            ]
          },
          "metadata": {},
          "execution_count": 78
        }
      ]
    },
    {
      "cell_type": "code",
      "source": [
        "phrase = \"1 There are 3 numbers 24 inside 5 this sentence\""
      ],
      "metadata": {
        "id": "15pnUFwgn5kG"
      },
      "execution_count": 85,
      "outputs": []
    },
    {
      "cell_type": "code",
      "source": [
        "re.findall(r\"[\\d]\",phrase)"
      ],
      "metadata": {
        "colab": {
          "base_uri": "https://localhost:8080/"
        },
        "id": "emUGfZJtoUS6",
        "outputId": "13c38704-58a5-4166-dea8-c06dbdf7c582"
      },
      "execution_count": 86,
      "outputs": [
        {
          "output_type": "execute_result",
          "data": {
            "text/plain": [
              "['1', '3', '2', '4', '5']"
            ]
          },
          "metadata": {},
          "execution_count": 86
        }
      ]
    },
    {
      "cell_type": "code",
      "source": [
        "#[^ ] - exclude\n",
        "re.findall(r\"[^\\d]\",phrase)"
      ],
      "metadata": {
        "colab": {
          "base_uri": "https://localhost:8080/"
        },
        "id": "lPfjD3sYodPF",
        "outputId": "0501b63a-2ecf-49a8-e66a-b526d8323f6b"
      },
      "execution_count": 87,
      "outputs": [
        {
          "output_type": "execute_result",
          "data": {
            "text/plain": [
              "[' ',\n",
              " 'T',\n",
              " 'h',\n",
              " 'e',\n",
              " 'r',\n",
              " 'e',\n",
              " ' ',\n",
              " 'a',\n",
              " 'r',\n",
              " 'e',\n",
              " ' ',\n",
              " ' ',\n",
              " 'n',\n",
              " 'u',\n",
              " 'm',\n",
              " 'b',\n",
              " 'e',\n",
              " 'r',\n",
              " 's',\n",
              " ' ',\n",
              " ' ',\n",
              " 'i',\n",
              " 'n',\n",
              " 's',\n",
              " 'i',\n",
              " 'd',\n",
              " 'e',\n",
              " ' ',\n",
              " ' ',\n",
              " 't',\n",
              " 'h',\n",
              " 'i',\n",
              " 's',\n",
              " ' ',\n",
              " 's',\n",
              " 'e',\n",
              " 'n',\n",
              " 't',\n",
              " 'e',\n",
              " 'n',\n",
              " 'c',\n",
              " 'e']"
            ]
          },
          "metadata": {},
          "execution_count": 87
        }
      ]
    },
    {
      "cell_type": "code",
      "source": [
        "#Add '+' return in phrase form\n",
        "re.findall(r'[^\\d]+',phrase)"
      ],
      "metadata": {
        "colab": {
          "base_uri": "https://localhost:8080/"
        },
        "id": "Ebx1dObOtT1e",
        "outputId": "b69b4fff-d901-4fdc-b84a-8d3fa68eeb26"
      },
      "execution_count": 88,
      "outputs": [
        {
          "output_type": "execute_result",
          "data": {
            "text/plain": [
              "[' There are ', ' numbers ', ' inside ', ' this sentence']"
            ]
          },
          "metadata": {},
          "execution_count": 88
        }
      ]
    },
    {
      "cell_type": "code",
      "source": [
        "test_phrase = 'This is a string! but it has punctuation. How to remove it?'"
      ],
      "metadata": {
        "id": "QjNCpIHuuQU_"
      },
      "execution_count": 90,
      "outputs": []
    },
    {
      "cell_type": "code",
      "source": [
        "re.findall(r'[^\\W]+',test_phrase)"
      ],
      "metadata": {
        "colab": {
          "base_uri": "https://localhost:8080/"
        },
        "id": "WItmYBL_um7t",
        "outputId": "dace653d-992d-489d-8406-015efb21f327"
      },
      "execution_count": 92,
      "outputs": [
        {
          "output_type": "execute_result",
          "data": {
            "text/plain": [
              "['This',\n",
              " 'is',\n",
              " 'a',\n",
              " 'string',\n",
              " 'but',\n",
              " 'it',\n",
              " 'has',\n",
              " 'punctuation',\n",
              " 'How',\n",
              " 'to',\n",
              " 'remove',\n",
              " 'it']"
            ]
          },
          "metadata": {},
          "execution_count": 92
        }
      ]
    },
    {
      "cell_type": "code",
      "source": [
        "#There is a space after '?'\n",
        "#Space also will be excluded\n",
        "mylist = re.findall(r\"[^!.? ]+\",test_phrase)"
      ],
      "metadata": {
        "id": "HeOHuR7Nu7EK"
      },
      "execution_count": 102,
      "outputs": []
    },
    {
      "cell_type": "code",
      "source": [
        "mylist"
      ],
      "metadata": {
        "colab": {
          "base_uri": "https://localhost:8080/"
        },
        "id": "DOxgfYCMvdV3",
        "outputId": "25dc8978-6d7f-41f8-9717-36d31eb1231f"
      },
      "execution_count": 101,
      "outputs": [
        {
          "output_type": "execute_result",
          "data": {
            "text/plain": [
              "['This',\n",
              " 'is',\n",
              " 'a',\n",
              " 'string',\n",
              " 'but',\n",
              " 'it',\n",
              " 'has',\n",
              " 'punctuation',\n",
              " 'How',\n",
              " 'to',\n",
              " 'remove',\n",
              " 'it']"
            ]
          },
          "metadata": {},
          "execution_count": 101
        }
      ]
    },
    {
      "cell_type": "code",
      "source": [
        "mylist = re.findall(r\"[^!.?]+\",test_phrase)"
      ],
      "metadata": {
        "id": "64x9TQFGwVrY"
      },
      "execution_count": 105,
      "outputs": []
    },
    {
      "cell_type": "code",
      "source": [
        "mylist"
      ],
      "metadata": {
        "colab": {
          "base_uri": "https://localhost:8080/"
        },
        "id": "VadVnU1_wgHg",
        "outputId": "1623310f-0741-4901-ba3b-3d069d9d67ce"
      },
      "execution_count": 106,
      "outputs": [
        {
          "output_type": "execute_result",
          "data": {
            "text/plain": [
              "['This is a string', ' but it has punctuation', ' How to remove it']"
            ]
          },
          "metadata": {},
          "execution_count": 106
        }
      ]
    },
    {
      "cell_type": "code",
      "source": [
        "\"\".join(mylist)"
      ],
      "metadata": {
        "colab": {
          "base_uri": "https://localhost:8080/",
          "height": 35
        },
        "id": "e4kn2Qtnvd9m",
        "outputId": "5e444191-f8d6-4911-ed34-9022b59ff6b6"
      },
      "execution_count": 99,
      "outputs": [
        {
          "output_type": "execute_result",
          "data": {
            "text/plain": [
              "'This is a string but it has punctuation How to remove it'"
            ],
            "application/vnd.google.colaboratory.intrinsic+json": {
              "type": "string"
            }
          },
          "metadata": {},
          "execution_count": 99
        }
      ]
    },
    {
      "cell_type": "code",
      "source": [
        "text = 'Only find the hypen-words. Were are the long-ish dash words?'"
      ],
      "metadata": {
        "id": "YzoFkqo3v-SH"
      },
      "execution_count": 107,
      "outputs": []
    },
    {
      "cell_type": "code",
      "source": [
        "#'+' indicates one or more characters\n",
        "re.findall(r'[\\w]+-[\\w]+',text)"
      ],
      "metadata": {
        "colab": {
          "base_uri": "https://localhost:8080/"
        },
        "id": "7vk0npxtwyfA",
        "outputId": "03da01da-c6ac-46d7-a98d-c23657ed0d9f"
      },
      "execution_count": 110,
      "outputs": [
        {
          "output_type": "execute_result",
          "data": {
            "text/plain": [
              "['hypen-words', 'long-ish']"
            ]
          },
          "metadata": {},
          "execution_count": 110
        }
      ]
    }
  ]
}