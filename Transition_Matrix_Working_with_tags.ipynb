{
  "nbformat": 4,
  "nbformat_minor": 0,
  "metadata": {
    "colab": {
      "provenance": [],
      "authorship_tag": "ABX9TyNdIvlXIVwvgemFncM0KBAb"
    },
    "kernelspec": {
      "name": "python3",
      "display_name": "Python 3"
    },
    "language_info": {
      "name": "python"
    }
  },
  "cells": [
    {
      "cell_type": "code",
      "execution_count": 23,
      "metadata": {
        "id": "ydhr_H5fO-OZ"
      },
      "outputs": [],
      "source": [
        "import numpy as np\n",
        "import pandas as pd"
      ]
    },
    {
      "cell_type": "code",
      "source": [
        "# Define tags for Adverb, Noun and To (the preposition) , respectively\n",
        "tags = ['RB','NN','TO']"
      ],
      "metadata": {
        "id": "prcsGTzoQ3xX"
      },
      "execution_count": 24,
      "outputs": []
    },
    {
      "cell_type": "code",
      "source": [
        "# Define 'transition_counts' dict\n",
        "transition_counts = {\n",
        "    ('NN', 'NN'): 16241,\n",
        "    ('RB', 'RB'): 2263,\n",
        "    ('TO', 'TO'): 2,\n",
        "    ('NN', 'TO'): 5256,\n",
        "    ('RB', 'TO'): 855,\n",
        "    ('TO', 'NN'): 734,\n",
        "    ('NN', 'RB'): 2431,\n",
        "    ('RB', 'NN'): 358,\n",
        "    ('TO', 'RB'): 200\n",
        "}"
      ],
      "metadata": {
        "id": "2IQGpdkiRASm"
      },
      "execution_count": 25,
      "outputs": []
    },
    {
      "cell_type": "markdown",
      "source": [
        "### Numpy for matrix creation"
      ],
      "metadata": {
        "id": "LEo3Si_ARXA3"
      }
    },
    {
      "cell_type": "code",
      "source": [
        "# Store the number of tags in the 'nums_tags' variable\n",
        "num_tags = len(tags)\n",
        "\n",
        "# Initialize a 3x3 numpy array with zeros\n",
        "transition_matrix = np.zeros((num_tags,num_tags))\n",
        "\n",
        "# Print matrix\n",
        "transition_matrix"
      ],
      "metadata": {
        "colab": {
          "base_uri": "https://localhost:8080/"
        },
        "id": "hrPd5SPbReoB",
        "outputId": "6db00843-14f0-496b-f7c0-604e5ec841df"
      },
      "execution_count": 26,
      "outputs": [
        {
          "output_type": "execute_result",
          "data": {
            "text/plain": [
              "array([[0., 0., 0.],\n",
              "       [0., 0., 0.],\n",
              "       [0., 0., 0.]])"
            ]
          },
          "metadata": {},
          "execution_count": 26
        }
      ]
    },
    {
      "cell_type": "code",
      "source": [
        "# print shape of the matrix\n",
        "transition_matrix.shape"
      ],
      "metadata": {
        "colab": {
          "base_uri": "https://localhost:8080/"
        },
        "id": "y0cp4h9SRSCh",
        "outputId": "8038a33d-284a-40d4-c2eb-a927e29796ba"
      },
      "execution_count": 27,
      "outputs": [
        {
          "output_type": "execute_result",
          "data": {
            "text/plain": [
              "(3, 3)"
            ]
          },
          "metadata": {},
          "execution_count": 27
        }
      ]
    },
    {
      "cell_type": "code",
      "source": [
        "# Create sorted version of the tag's list\n",
        "sorted_tags = sorted(tags)\n",
        "\n",
        "# Print sorted list\n",
        "sorted_tags"
      ],
      "metadata": {
        "colab": {
          "base_uri": "https://localhost:8080/"
        },
        "id": "yBLrvHSAS2M8",
        "outputId": "e7c451aa-a289-43b9-b072-9da4b559ab39"
      },
      "execution_count": 28,
      "outputs": [
        {
          "output_type": "execute_result",
          "data": {
            "text/plain": [
              "['NN', 'RB', 'TO']"
            ]
          },
          "metadata": {},
          "execution_count": 28
        }
      ]
    },
    {
      "cell_type": "code",
      "source": [
        "# Loop rows\n",
        "for i in range(num_tags):\n",
        "  # Loop columns\n",
        "  for j in range(num_tags):\n",
        "    # Define tag pair\n",
        "    tag_tuple = (sorted_tags[i],sorted_tags[j])\n",
        "    # Get frequency from transition_counts dict and assign to (i,j)\n",
        "    # position in the matrix\n",
        "    transition_matrix[i,j] = transition_counts.get(tag_tuple)\n",
        "\n",
        "# print matrix\n",
        "transition_matrix"
      ],
      "metadata": {
        "colab": {
          "base_uri": "https://localhost:8080/"
        },
        "id": "RtKSRpThTRMz",
        "outputId": "b92c64a7-991c-4b8e-b193-f261da63c040"
      },
      "execution_count": 29,
      "outputs": [
        {
          "output_type": "execute_result",
          "data": {
            "text/plain": [
              "array([[1.6241e+04, 2.4310e+03, 5.2560e+03],\n",
              "       [3.5800e+02, 2.2630e+03, 8.5500e+02],\n",
              "       [7.3400e+02, 2.0000e+02, 2.0000e+00]])"
            ]
          },
          "metadata": {},
          "execution_count": 29
        }
      ]
    },
    {
      "cell_type": "code",
      "source": [
        "# Define 'print_matrix' function\n",
        "def print_matrix(matrix,sorted_tags):\n",
        "  print(pd.DataFrame(matrix,index=sorted_tags,columns = sorted_tags))"
      ],
      "metadata": {
        "id": "nnMW6laHVs6h"
      },
      "execution_count": 30,
      "outputs": []
    },
    {
      "cell_type": "code",
      "source": [
        "# Print 'transition_matrix'\n",
        "print_matrix(transition_matrix,sorted_tags)"
      ],
      "metadata": {
        "colab": {
          "base_uri": "https://localhost:8080/"
        },
        "id": "eCp4BNm3XqHT",
        "outputId": "6b7add7f-3d47-4acf-f71b-8740a66d8d51"
      },
      "execution_count": 31,
      "outputs": [
        {
          "output_type": "stream",
          "name": "stdout",
          "text": [
            "         NN      RB      TO\n",
            "NN  16241.0  2431.0  5256.0\n",
            "RB    358.0  2263.0   855.0\n",
            "TO    734.0   200.0     2.0\n"
          ]
        }
      ]
    },
    {
      "cell_type": "code",
      "source": [
        "# Scale transition matrix\n",
        "transition_matrix = transition_matrix / 10\n",
        "\n",
        "# Print scaled matrix]\n",
        "print_matrix(transition_matrix,sorted_tags)"
      ],
      "metadata": {
        "colab": {
          "base_uri": "https://localhost:8080/"
        },
        "id": "csx0Q35MX0tA",
        "outputId": "e81f875c-0c9d-49da-93e4-425bcef167e9"
      },
      "execution_count": 32,
      "outputs": [
        {
          "output_type": "stream",
          "name": "stdout",
          "text": [
            "        NN     RB     TO\n",
            "NN  1624.1  243.1  525.6\n",
            "RB    35.8  226.3   85.5\n",
            "TO    73.4   20.0    0.2\n"
          ]
        }
      ]
    },
    {
      "cell_type": "code",
      "source": [
        "# Compute sum of row for each row\n",
        "rows_sum = transition_matrix.sum(axis = 1,keepdims = True)\n",
        "\n",
        "# Print sum of rows\n",
        "rows_sum"
      ],
      "metadata": {
        "colab": {
          "base_uri": "https://localhost:8080/"
        },
        "id": "7n9GZnU5ZgSM",
        "outputId": "b2c4ea29-ce6b-48e6-bc8c-4fb62c9bc077"
      },
      "execution_count": 33,
      "outputs": [
        {
          "output_type": "execute_result",
          "data": {
            "text/plain": [
              "array([[2392.8],\n",
              "       [ 347.6],\n",
              "       [  93.6]])"
            ]
          },
          "metadata": {},
          "execution_count": 33
        }
      ]
    },
    {
      "cell_type": "code",
      "source": [
        "# Normalize transition matrix\n",
        "transition_matrix = transition_matrix / rows_sum\n",
        "\n",
        "# Print normalized matrix\n",
        "print_matrix(transition_matrix,sorted_tags)"
      ],
      "metadata": {
        "colab": {
          "base_uri": "https://localhost:8080/"
        },
        "id": "5X_aEPjkj6CZ",
        "outputId": "ee1cc701-3c7f-4f76-f55b-8a8ed7767904"
      },
      "execution_count": 34,
      "outputs": [
        {
          "output_type": "stream",
          "name": "stdout",
          "text": [
            "          NN        RB        TO\n",
            "NN  0.678745  0.101596  0.219659\n",
            "RB  0.102992  0.651036  0.245972\n",
            "TO  0.784188  0.213675  0.002137\n"
          ]
        }
      ]
    },
    {
      "cell_type": "code",
      "source": [
        "transition_matrix.sum(axis = 1,keepdims = True)"
      ],
      "metadata": {
        "colab": {
          "base_uri": "https://localhost:8080/"
        },
        "id": "0Y4qTugGkHVO",
        "outputId": "00163596-ef4d-4aeb-c340-1daab5618220"
      },
      "execution_count": 35,
      "outputs": [
        {
          "output_type": "execute_result",
          "data": {
            "text/plain": [
              "array([[1.],\n",
              "       [1.],\n",
              "       [1.]])"
            ]
          },
          "metadata": {},
          "execution_count": 35
        }
      ]
    },
    {
      "cell_type": "code",
      "source": [
        "import math\n",
        "\n",
        "# Copy transition matrix for for-loop example\n",
        "t_matrix_for = np.copy(transition_matrix)\n",
        "\n",
        "# Copy transition matrix for numpy functions example\n",
        "t_matrix_np = np.copy(transition_matrix)"
      ],
      "metadata": {
        "id": "jACiEI-qkSDj"
      },
      "execution_count": 36,
      "outputs": []
    },
    {
      "cell_type": "code",
      "source": [
        "# Loop values in a diagonal\n",
        "for i in range(num_tags):\n",
        "  t_matrix_for[i,i] = t_matrix_for[i,i] + math.log(rows_sum[i])\n",
        "\n",
        "# Print matrix\n",
        "print_matrix(t_matrix_for,sorted_tags)"
      ],
      "metadata": {
        "colab": {
          "base_uri": "https://localhost:8080/"
        },
        "id": "IupeW5Oekyuo",
        "outputId": "7bdc8857-b3c4-4a34-f122-77a8aea0775e"
      },
      "execution_count": 37,
      "outputs": [
        {
          "output_type": "stream",
          "name": "stdout",
          "text": [
            "          NN        RB        TO\n",
            "NN  8.458964  0.101596  0.219659\n",
            "RB  0.102992  6.502088  0.245972\n",
            "TO  0.784188  0.213675  4.541167\n"
          ]
        },
        {
          "output_type": "stream",
          "name": "stderr",
          "text": [
            "<ipython-input-37-3d1ef4e565da>:3: DeprecationWarning: Conversion of an array with ndim > 0 to a scalar is deprecated, and will error in future. Ensure you extract a single element from your array before performing this operation. (Deprecated NumPy 1.25.)\n",
            "  t_matrix_for[i,i] = t_matrix_for[i,i] + math.log(rows_sum[i])\n"
          ]
        }
      ]
    },
    {
      "cell_type": "code",
      "source": [
        "# Using vectorization\n",
        "# Save diagonal in a numpy array\n",
        "d = np.diag(t_matrix_np)\n",
        "\n",
        "# print shape of diagonal\n",
        "d.shape"
      ],
      "metadata": {
        "colab": {
          "base_uri": "https://localhost:8080/"
        },
        "id": "dqfxzXq5lT8z",
        "outputId": "74162e76-f50e-4c39-b403-6fc83c28c8be"
      },
      "execution_count": 38,
      "outputs": [
        {
          "output_type": "execute_result",
          "data": {
            "text/plain": [
              "(3,)"
            ]
          },
          "metadata": {},
          "execution_count": 38
        }
      ]
    },
    {
      "cell_type": "code",
      "source": [
        "# Reshape diagonal numpy array\n",
        "d = np.reshape(d,(3,1))\n",
        "\n",
        "# Print shape of diagonal\n",
        "d.shape"
      ],
      "metadata": {
        "colab": {
          "base_uri": "https://localhost:8080/"
        },
        "id": "p51Q4_34lzgN",
        "outputId": "41adb508-457c-4e6a-ef63-3163542bf9eb"
      },
      "execution_count": 39,
      "outputs": [
        {
          "output_type": "execute_result",
          "data": {
            "text/plain": [
              "(3, 1)"
            ]
          },
          "metadata": {},
          "execution_count": 39
        }
      ]
    },
    {
      "cell_type": "code",
      "source": [
        "# Perform the vectorized operation\n",
        "d = d + np.vectorize(math.log)(rows_sum)\n",
        "\n",
        "# Use numpy's 'fill_diagonal' function to update the diagonal\n",
        "np.fill_diagonal(t_matrix_np,d)\n",
        "\n",
        "# Print the matrix\n",
        "print_matrix(t_matrix_np,sorted_tags)"
      ],
      "metadata": {
        "colab": {
          "base_uri": "https://localhost:8080/"
        },
        "id": "D9L_o6vnmBto",
        "outputId": "97249574-f715-41a8-8822-386e6f76f4ef"
      },
      "execution_count": 41,
      "outputs": [
        {
          "output_type": "stream",
          "name": "stdout",
          "text": [
            "          NN        RB        TO\n",
            "NN  8.458964  0.101596  0.219659\n",
            "RB  0.102992  6.502088  0.245972\n",
            "TO  0.784188  0.213675  4.541167\n"
          ]
        }
      ]
    },
    {
      "cell_type": "code",
      "source": [
        "# Check for equality\n",
        "t_matrix_for == t_matrix_np"
      ],
      "metadata": {
        "colab": {
          "base_uri": "https://localhost:8080/"
        },
        "id": "QaNdyeScmerj",
        "outputId": "ec413c29-1542-4ec7-878e-953a1c5fbe11"
      },
      "execution_count": 42,
      "outputs": [
        {
          "output_type": "execute_result",
          "data": {
            "text/plain": [
              "array([[ True,  True,  True],\n",
              "       [ True,  True,  True],\n",
              "       [ True,  True,  True]])"
            ]
          },
          "metadata": {},
          "execution_count": 42
        }
      ]
    }
  ]
}