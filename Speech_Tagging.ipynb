{
  "nbformat": 4,
  "nbformat_minor": 0,
  "metadata": {
    "colab": {
      "provenance": [],
      "authorship_tag": "ABX9TyMMpxYhH//Yl00Db7PGjyrb",
      "include_colab_link": true
    },
    "kernelspec": {
      "name": "python3",
      "display_name": "Python 3"
    },
    "language_info": {
      "name": "python"
    }
  },
  "cells": [
    {
      "cell_type": "markdown",
      "metadata": {
        "id": "view-in-github",
        "colab_type": "text"
      },
      "source": [
        "<a href=\"https://colab.research.google.com/github/yeesem/Natural-Laguage-Processing/blob/main/Speech_Tagging.ipynb\" target=\"_parent\"><img src=\"https://colab.research.google.com/assets/colab-badge.svg\" alt=\"Open In Colab\"/></a>"
      ]
    },
    {
      "cell_type": "code",
      "execution_count": 1,
      "metadata": {
        "id": "3SjXBl1iFv9Y"
      },
      "outputs": [],
      "source": [
        "import spacy"
      ]
    },
    {
      "cell_type": "code",
      "source": [
        "nlp = spacy.load('en_core_web_sm')"
      ],
      "metadata": {
        "id": "6Nc2UjTJIFDU"
      },
      "execution_count": 2,
      "outputs": []
    },
    {
      "cell_type": "code",
      "source": [
        "doc = nlp(u\"The quick brown fox jumped over the lazy dog's back.\")"
      ],
      "metadata": {
        "id": "VvkoAA8hIIKf"
      },
      "execution_count": 3,
      "outputs": []
    },
    {
      "cell_type": "code",
      "source": [
        "print(doc.text)"
      ],
      "metadata": {
        "colab": {
          "base_uri": "https://localhost:8080/"
        },
        "id": "CCXVsBr2ISDf",
        "outputId": "d0eb7066-3993-430d-8621-e9f60a7910a9"
      },
      "execution_count": 4,
      "outputs": [
        {
          "output_type": "stream",
          "name": "stdout",
          "text": [
            "The quick brown fox jumped over the lazy dog's back.\n"
          ]
        }
      ]
    },
    {
      "cell_type": "code",
      "source": [
        "print(doc[4])"
      ],
      "metadata": {
        "colab": {
          "base_uri": "https://localhost:8080/"
        },
        "id": "KLKCo_6AITvU",
        "outputId": "c5367d6d-5949-4edb-ece9-a0696b7179f2"
      },
      "execution_count": 5,
      "outputs": [
        {
          "output_type": "stream",
          "name": "stdout",
          "text": [
            "jumped\n"
          ]
        }
      ]
    },
    {
      "cell_type": "code",
      "source": [
        "#Without the '_' will print out numerical id\n",
        "print(doc[4].text,doc[4].pos_,doc[4].tag_)"
      ],
      "metadata": {
        "colab": {
          "base_uri": "https://localhost:8080/"
        },
        "id": "pa_wUwOKIWmY",
        "outputId": "e4e1f3c6-b617-41db-8b65-49e5dcbd16cd"
      },
      "execution_count": 10,
      "outputs": [
        {
          "output_type": "stream",
          "name": "stdout",
          "text": [
            "jumped VERB VBD\n"
          ]
        }
      ]
    },
    {
      "cell_type": "code",
      "source": [
        "spacy.explain('VBD')"
      ],
      "metadata": {
        "colab": {
          "base_uri": "https://localhost:8080/",
          "height": 35
        },
        "id": "484-TBqhIa3S",
        "outputId": "7fb594b6-7988-47ad-bc61-4962597da864"
      },
      "execution_count": 9,
      "outputs": [
        {
          "output_type": "execute_result",
          "data": {
            "text/plain": [
              "'verb, past tense'"
            ],
            "application/vnd.google.colaboratory.intrinsic+json": {
              "type": "string"
            }
          },
          "metadata": {},
          "execution_count": 9
        }
      ]
    },
    {
      "cell_type": "code",
      "source": [
        "for token in doc:\n",
        "  print(f\"{token.text:{10}} {token.pos_:{10}} {token.tag_:{10}} {spacy.explain(token.tag_)}\")"
      ],
      "metadata": {
        "colab": {
          "base_uri": "https://localhost:8080/"
        },
        "id": "MCH58k_LIuX_",
        "outputId": "79093009-d20c-43c7-daca-73f3222336ea"
      },
      "execution_count": 13,
      "outputs": [
        {
          "output_type": "stream",
          "name": "stdout",
          "text": [
            "The        DET        DT         determiner\n",
            "quick      ADJ        JJ         adjective (English), other noun-modifier (Chinese)\n",
            "brown      ADJ        JJ         adjective (English), other noun-modifier (Chinese)\n",
            "fox        NOUN       NN         noun, singular or mass\n",
            "jumped     VERB       VBD        verb, past tense\n",
            "over       ADP        IN         conjunction, subordinating or preposition\n",
            "the        DET        DT         determiner\n",
            "lazy       ADJ        JJ         adjective (English), other noun-modifier (Chinese)\n",
            "dog        NOUN       NN         noun, singular or mass\n",
            "'s         PART       POS        possessive ending\n",
            "back       NOUN       NN         noun, singular or mass\n",
            ".          PUNCT      .          punctuation mark, sentence closer\n"
          ]
        }
      ]
    },
    {
      "cell_type": "code",
      "source": [
        "doc = nlp(u\"I read book on NLP\")"
      ],
      "metadata": {
        "id": "04cx7ko8JJXw"
      },
      "execution_count": 14,
      "outputs": []
    },
    {
      "cell_type": "code",
      "source": [
        "word = doc[1]"
      ],
      "metadata": {
        "id": "kxwPS0kwKFVP"
      },
      "execution_count": 15,
      "outputs": []
    },
    {
      "cell_type": "code",
      "source": [
        " token = word\n",
        " print(f\"{token.text:{10}} {token.pos_:{10}} {token.tag_:{10}} {spacy.explain(token.tag_)}\")"
      ],
      "metadata": {
        "colab": {
          "base_uri": "https://localhost:8080/"
        },
        "id": "5JOTvNR5KG6C",
        "outputId": "a0f2c5d7-8543-4bc8-c3e2-3e289b214b8d"
      },
      "execution_count": 16,
      "outputs": [
        {
          "output_type": "stream",
          "name": "stdout",
          "text": [
            "read       VERB       VBP        verb, non-3rd person singular present\n"
          ]
        }
      ]
    },
    {
      "cell_type": "code",
      "source": [
        "doc = nlp(u\"I read a book on NLP\")"
      ],
      "metadata": {
        "id": "faTjNfWjKZxg"
      },
      "execution_count": 17,
      "outputs": []
    },
    {
      "cell_type": "code",
      "source": [
        "token = doc[1]\n",
        "print(f\"{token.text:{10}} {token.pos_:{10}} {token.tag_:{10}} {spacy.explain(token.tag_)}\")"
      ],
      "metadata": {
        "colab": {
          "base_uri": "https://localhost:8080/"
        },
        "id": "4GUgvlTTKgxg",
        "outputId": "c1afbe42-bd55-4173-be24-91ac8086a95f"
      },
      "execution_count": 18,
      "outputs": [
        {
          "output_type": "stream",
          "name": "stdout",
          "text": [
            "read       VERB       VBD        verb, past tense\n"
          ]
        }
      ]
    },
    {
      "cell_type": "code",
      "source": [
        "doc = nlp(u\"U quick brown fox jumped over the lazy dog's back.\")"
      ],
      "metadata": {
        "id": "od7xVOc2Kky4"
      },
      "execution_count": 19,
      "outputs": []
    },
    {
      "cell_type": "code",
      "source": [
        "POS_counts = doc.count_by(spacy.attrs.POS)"
      ],
      "metadata": {
        "id": "JWJOLLX4K7OR"
      },
      "execution_count": 20,
      "outputs": []
    },
    {
      "cell_type": "code",
      "source": [
        "POS_counts"
      ],
      "metadata": {
        "colab": {
          "base_uri": "https://localhost:8080/"
        },
        "id": "yTROZJHdLBk5",
        "outputId": "5707f923-6c12-467d-e57c-666fe4f6291c"
      },
      "execution_count": 21,
      "outputs": [
        {
          "output_type": "execute_result",
          "data": {
            "text/plain": [
              "{92: 4, 84: 3, 100: 1, 85: 1, 90: 1, 94: 1, 97: 1}"
            ]
          },
          "metadata": {},
          "execution_count": 21
        }
      ]
    },
    {
      "cell_type": "code",
      "source": [
        "doc.vocab[92].text"
      ],
      "metadata": {
        "colab": {
          "base_uri": "https://localhost:8080/",
          "height": 35
        },
        "id": "9SQKe-FOLDF0",
        "outputId": "b8c21b55-7d8a-45bc-c068-203cc93f7c87"
      },
      "execution_count": 22,
      "outputs": [
        {
          "output_type": "execute_result",
          "data": {
            "text/plain": [
              "'NOUN'"
            ],
            "application/vnd.google.colaboratory.intrinsic+json": {
              "type": "string"
            }
          },
          "metadata": {},
          "execution_count": 22
        }
      ]
    },
    {
      "cell_type": "code",
      "source": [
        "doc[0].pos_"
      ],
      "metadata": {
        "colab": {
          "base_uri": "https://localhost:8080/",
          "height": 35
        },
        "id": "0Wqy2yTELKwv",
        "outputId": "c2ed358f-a0a8-40c6-95c8-2d42ed57f5fc"
      },
      "execution_count": 23,
      "outputs": [
        {
          "output_type": "execute_result",
          "data": {
            "text/plain": [
              "'NOUN'"
            ],
            "application/vnd.google.colaboratory.intrinsic+json": {
              "type": "string"
            }
          },
          "metadata": {},
          "execution_count": 23
        }
      ]
    },
    {
      "cell_type": "code",
      "source": [
        "POS_counts.items()"
      ],
      "metadata": {
        "colab": {
          "base_uri": "https://localhost:8080/"
        },
        "id": "60c_BZTJL749",
        "outputId": "7b0fe8f4-b40b-47e8-986c-c1b7249e1dc4"
      },
      "execution_count": 34,
      "outputs": [
        {
          "output_type": "execute_result",
          "data": {
            "text/plain": [
              "dict_items([(92, 4), (84, 3), (100, 1), (85, 1), (90, 1), (94, 1), (97, 1)])"
            ]
          },
          "metadata": {},
          "execution_count": 34
        }
      ]
    },
    {
      "cell_type": "code",
      "source": [
        "for k,v in sorted(POS_counts.items()):\n",
        "  print(f\"{k}. {doc.vocab[k].text:{5}} {v}\")"
      ],
      "metadata": {
        "colab": {
          "base_uri": "https://localhost:8080/"
        },
        "id": "YK6Xv2ZmLTa0",
        "outputId": "e558e78f-ea08-4985-962c-4baa44341232"
      },
      "execution_count": 37,
      "outputs": [
        {
          "output_type": "stream",
          "name": "stdout",
          "text": [
            "84. ADJ   3\n",
            "85. ADP   1\n",
            "90. DET   1\n",
            "92. NOUN  4\n",
            "94. PART  1\n",
            "97. PUNCT 1\n",
            "100. VERB  1\n"
          ]
        }
      ]
    },
    {
      "cell_type": "code",
      "source": [
        "TAG_counts = doc.count_by(spacy.attrs.TAG)\n",
        "print(TAG_counts)\n",
        "print('\\n')\n",
        "\n",
        "for k,v in sorted(TAG_counts.items()):\n",
        "  print(f\"{k:{20}}. {doc.vocab[k].text:>{5}} {v:>{5}} {spacy.explain(doc.vocab[k].text)}\")"
      ],
      "metadata": {
        "colab": {
          "base_uri": "https://localhost:8080/"
        },
        "id": "hnVyp4x-MqiN",
        "outputId": "ea72135c-66af-462c-8265-4182a9ffbd02"
      },
      "execution_count": 52,
      "outputs": [
        {
          "output_type": "stream",
          "name": "stdout",
          "text": [
            "{15308085513773655218: 4, 10554686591937588953: 3, 17109001835818727656: 1, 1292078113972184607: 1, 15267657372422890137: 1, 74: 1, 12646065887601541794: 1}\n",
            "\n",
            "\n",
            "                  74.   POS     1 possessive ending\n",
            " 1292078113972184607.    IN     1 conjunction, subordinating or preposition\n",
            "10554686591937588953.    JJ     3 adjective (English), other noun-modifier (Chinese)\n",
            "12646065887601541794.     .     1 punctuation mark, sentence closer\n",
            "15267657372422890137.    DT     1 determiner\n",
            "15308085513773655218.    NN     4 noun, singular or mass\n",
            "17109001835818727656.   VBD     1 verb, past tense\n"
          ]
        }
      ]
    },
    {
      "cell_type": "code",
      "source": [
        "DEP_counts = doc.count_by(spacy.attrs.DEP)\n",
        "print(DEP_counts)\n",
        "print('\\n')\n",
        "\n",
        "for k,v in sorted(DEP_counts.items()):\n",
        "  print(f\"{k:{20}}. {doc.vocab[k].text:>{10}} {v:>{5}} {spacy.explain(doc.vocab[k].text)}\")"
      ],
      "metadata": {
        "colab": {
          "base_uri": "https://localhost:8080/"
        },
        "id": "8aMcgUFFOHjD",
        "outputId": "bda2ae77-5fa9-411d-ca7e-9a0dd7a078f7"
      },
      "execution_count": 55,
      "outputs": [
        {
          "output_type": "stream",
          "name": "stdout",
          "text": [
            "{426: 1, 402: 3, 429: 1, 8206900633647566924: 1, 443: 1, 415: 1, 439: 1, 8110129090154140942: 1, 400: 1, 445: 1}\n",
            "\n",
            "\n",
            "                 400.     advmod     1 adverbial modifier\n",
            "                 402.       amod     3 adjectival modifier\n",
            "                 415.        det     1 determiner\n",
            "                 426.       nmod     1 modifier of nominal\n",
            "                 429.      nsubj     1 nominal subject\n",
            "                 439.       pobj     1 object of preposition\n",
            "                 443.       prep     1 prepositional modifier\n",
            "                 445.      punct     1 punctuation\n",
            " 8110129090154140942.       case     1 case marking\n",
            " 8206900633647566924.       ROOT     1 root\n"
          ]
        }
      ]
    }
  ]
}