{
  "nbformat": 4,
  "nbformat_minor": 0,
  "metadata": {
    "colab": {
      "provenance": [],
      "authorship_tag": "ABX9TyPYDJcWDx/vklQ9qLbMpLkf",
      "include_colab_link": true
    },
    "kernelspec": {
      "name": "python3",
      "display_name": "Python 3"
    },
    "language_info": {
      "name": "python"
    }
  },
  "cells": [
    {
      "cell_type": "markdown",
      "metadata": {
        "id": "view-in-github",
        "colab_type": "text"
      },
      "source": [
        "<a href=\"https://colab.research.google.com/github/yeesem/Natural-Laguage-Processing/blob/main/Chat_Bot.ipynb\" target=\"_parent\"><img src=\"https://colab.research.google.com/assets/colab-badge.svg\" alt=\"Open In Colab\"/></a>"
      ]
    },
    {
      "cell_type": "code",
      "execution_count": 348,
      "metadata": {
        "id": "ofO5lYbmg-DM"
      },
      "outputs": [],
      "source": [
        "import pickle\n",
        "import numpy as np"
      ]
    },
    {
      "cell_type": "code",
      "source": [
        "with open(\"train_qa.txt\",'rb') as f:\n",
        "  train_data = pickle.load(f)"
      ],
      "metadata": {
        "id": "Fg5fmhjQhECe"
      },
      "execution_count": 349,
      "outputs": []
    },
    {
      "cell_type": "code",
      "source": [
        "with open(\"test_qa.txt\",\"rb\") as f:\n",
        "  test_data = pickle.load(f)"
      ],
      "metadata": {
        "id": "AtqoBDPuh0Iz"
      },
      "execution_count": 350,
      "outputs": []
    },
    {
      "cell_type": "code",
      "source": [
        "type(test_data)"
      ],
      "metadata": {
        "colab": {
          "base_uri": "https://localhost:8080/"
        },
        "id": "fxN-CP7QhOCa",
        "outputId": "853389bf-f44c-466d-b47a-6752484908f4"
      },
      "execution_count": 351,
      "outputs": [
        {
          "output_type": "execute_result",
          "data": {
            "text/plain": [
              "list"
            ]
          },
          "metadata": {},
          "execution_count": 351
        }
      ]
    },
    {
      "cell_type": "code",
      "source": [
        "type(train_data)"
      ],
      "metadata": {
        "colab": {
          "base_uri": "https://localhost:8080/"
        },
        "id": "hVJ9LUksh-9P",
        "outputId": "f2b40356-8d84-4802-c891-653e62ec5390"
      },
      "execution_count": 352,
      "outputs": [
        {
          "output_type": "execute_result",
          "data": {
            "text/plain": [
              "list"
            ]
          },
          "metadata": {},
          "execution_count": 352
        }
      ]
    },
    {
      "cell_type": "code",
      "source": [
        "len(train_data)"
      ],
      "metadata": {
        "colab": {
          "base_uri": "https://localhost:8080/"
        },
        "id": "LUVg1hVlh__A",
        "outputId": "10240179-bccf-4956-8bf9-2a76575ef602"
      },
      "execution_count": 353,
      "outputs": [
        {
          "output_type": "execute_result",
          "data": {
            "text/plain": [
              "10000"
            ]
          },
          "metadata": {},
          "execution_count": 353
        }
      ]
    },
    {
      "cell_type": "code",
      "source": [
        "len(test_data)"
      ],
      "metadata": {
        "colab": {
          "base_uri": "https://localhost:8080/"
        },
        "id": "R3zd7apGiB_B",
        "outputId": "bf6be1b2-6eef-4c48-93e3-dad52eb3220b"
      },
      "execution_count": 354,
      "outputs": [
        {
          "output_type": "execute_result",
          "data": {
            "text/plain": [
              "1000"
            ]
          },
          "metadata": {},
          "execution_count": 354
        }
      ]
    },
    {
      "cell_type": "code",
      "source": [
        "#Story,Question,Ans\n",
        "print(train_data[0])\n",
        "\n",
        "print(\"\\n\")\n",
        "\n",
        "#Story\n",
        "print(train_data[0][0])"
      ],
      "metadata": {
        "colab": {
          "base_uri": "https://localhost:8080/"
        },
        "id": "tSKeSyOPiDWi",
        "outputId": "17b09d36-104f-4c3c-c4d3-ba0966c3982e"
      },
      "execution_count": 355,
      "outputs": [
        {
          "output_type": "stream",
          "name": "stdout",
          "text": [
            "(['Mary', 'moved', 'to', 'the', 'bathroom', '.', 'Sandra', 'journeyed', 'to', 'the', 'bedroom', '.'], ['Is', 'Sandra', 'in', 'the', 'hallway', '?'], 'no')\n",
            "\n",
            "\n",
            "['Mary', 'moved', 'to', 'the', 'bathroom', '.', 'Sandra', 'journeyed', 'to', 'the', 'bedroom', '.']\n"
          ]
        }
      ]
    },
    {
      "cell_type": "code",
      "source": [
        "\" \".join(train_data[0][1])"
      ],
      "metadata": {
        "colab": {
          "base_uri": "https://localhost:8080/",
          "height": 35
        },
        "id": "YnK6HqYViSxN",
        "outputId": "d4b37a9f-41e5-4e1c-9f73-4c607059998d"
      },
      "execution_count": 356,
      "outputs": [
        {
          "output_type": "execute_result",
          "data": {
            "text/plain": [
              "'Is Sandra in the hallway ?'"
            ],
            "application/vnd.google.colaboratory.intrinsic+json": {
              "type": "string"
            }
          },
          "metadata": {},
          "execution_count": 356
        }
      ]
    },
    {
      "cell_type": "code",
      "source": [
        "all_data = test_data + train_data"
      ],
      "metadata": {
        "id": "w-lwWP8CjYc3"
      },
      "execution_count": 357,
      "outputs": []
    },
    {
      "cell_type": "code",
      "source": [
        "len(all_data)"
      ],
      "metadata": {
        "colab": {
          "base_uri": "https://localhost:8080/"
        },
        "id": "E16g4AaXkSol",
        "outputId": "f6086a8a-f5eb-4145-94ea-4d0ac03ef590"
      },
      "execution_count": 358,
      "outputs": [
        {
          "output_type": "execute_result",
          "data": {
            "text/plain": [
              "11000"
            ]
          },
          "metadata": {},
          "execution_count": 358
        }
      ]
    },
    {
      "cell_type": "code",
      "source": [
        "test = [\"I\",\"am\",\"John\",\"I\"]\n",
        "set1 = set(test)\n",
        "test2 = [\"I\",\"am\",\"Peter\",\"I\"]\n",
        "set1.union(test2)"
      ],
      "metadata": {
        "colab": {
          "base_uri": "https://localhost:8080/"
        },
        "id": "eU8QOVjamN_l",
        "outputId": "ca62259f-324e-443d-9ca5-8a4ae0886408"
      },
      "execution_count": 359,
      "outputs": [
        {
          "output_type": "execute_result",
          "data": {
            "text/plain": [
              "{'I', 'John', 'Peter', 'am'}"
            ]
          },
          "metadata": {},
          "execution_count": 359
        }
      ]
    },
    {
      "cell_type": "code",
      "source": [
        "#Set vocab as empty set\n",
        "vocab = set()\n",
        "\n",
        "#Set - Only Return unique word\n",
        "for story,question,answer in all_data:\n",
        "  vocab = vocab.union(set(story))\n",
        "  vocab = vocab.union(set(question))"
      ],
      "metadata": {
        "id": "I4YygVzSkT-W"
      },
      "execution_count": 360,
      "outputs": []
    },
    {
      "cell_type": "code",
      "source": [
        "vocab.add('no')"
      ],
      "metadata": {
        "id": "4K1IyLtekl5S"
      },
      "execution_count": 361,
      "outputs": []
    },
    {
      "cell_type": "code",
      "source": [
        "vocab.add('yes')"
      ],
      "metadata": {
        "id": "YQ3i3UFzm0tl"
      },
      "execution_count": 362,
      "outputs": []
    },
    {
      "cell_type": "code",
      "source": [
        "vocab"
      ],
      "metadata": {
        "colab": {
          "base_uri": "https://localhost:8080/"
        },
        "id": "mvIXtpMAm2Kl",
        "outputId": "1fc6409a-614d-4cde-a100-3679ab5e514f"
      },
      "execution_count": 363,
      "outputs": [
        {
          "output_type": "execute_result",
          "data": {
            "text/plain": [
              "{'.',\n",
              " '?',\n",
              " 'Daniel',\n",
              " 'Is',\n",
              " 'John',\n",
              " 'Mary',\n",
              " 'Sandra',\n",
              " 'apple',\n",
              " 'back',\n",
              " 'bathroom',\n",
              " 'bedroom',\n",
              " 'discarded',\n",
              " 'down',\n",
              " 'dropped',\n",
              " 'football',\n",
              " 'garden',\n",
              " 'got',\n",
              " 'grabbed',\n",
              " 'hallway',\n",
              " 'in',\n",
              " 'journeyed',\n",
              " 'kitchen',\n",
              " 'left',\n",
              " 'milk',\n",
              " 'moved',\n",
              " 'no',\n",
              " 'office',\n",
              " 'picked',\n",
              " 'put',\n",
              " 'the',\n",
              " 'there',\n",
              " 'to',\n",
              " 'took',\n",
              " 'travelled',\n",
              " 'up',\n",
              " 'went',\n",
              " 'yes'}"
            ]
          },
          "metadata": {},
          "execution_count": 363
        }
      ]
    },
    {
      "cell_type": "code",
      "source": [
        "vocab_len = len(vocab) + 1"
      ],
      "metadata": {
        "id": "eu0m9j_Lm59h"
      },
      "execution_count": 364,
      "outputs": []
    },
    {
      "cell_type": "code",
      "source": [
        "vocab_len"
      ],
      "metadata": {
        "colab": {
          "base_uri": "https://localhost:8080/"
        },
        "id": "AbMb-GVApmGN",
        "outputId": "2e1ef0de-6a41-4a5c-8f68-a021a137fb45"
      },
      "execution_count": 365,
      "outputs": [
        {
          "output_type": "execute_result",
          "data": {
            "text/plain": [
              "38"
            ]
          },
          "metadata": {},
          "execution_count": 365
        }
      ]
    },
    {
      "cell_type": "code",
      "source": [
        "#Longest story\n",
        "all_story_lens = [len(data[0]) for data in all_data]"
      ],
      "metadata": {
        "id": "BqZJyHH3prSo"
      },
      "execution_count": 366,
      "outputs": []
    },
    {
      "cell_type": "code",
      "source": [
        "all_story_lens"
      ],
      "metadata": {
        "colab": {
          "base_uri": "https://localhost:8080/"
        },
        "id": "c4asH9xgp_CR",
        "outputId": "dd690e69-9480-46e5-b613-a50c54d580e8"
      },
      "execution_count": 367,
      "outputs": [
        {
          "output_type": "execute_result",
          "data": {
            "text/plain": [
              "[12,\n",
              " 23,\n",
              " 35,\n",
              " 47,\n",
              " 59,\n",
              " 13,\n",
              " 26,\n",
              " 37,\n",
              " 50,\n",
              " 62,\n",
              " 12,\n",
              " 24,\n",
              " 37,\n",
              " 49,\n",
              " 60,\n",
              " 12,\n",
              " 25,\n",
              " 38,\n",
              " 50,\n",
              " 62,\n",
              " 12,\n",
              " 24,\n",
              " 36,\n",
              " 47,\n",
              " 59,\n",
              " 12,\n",
              " 25,\n",
              " 36,\n",
              " 48,\n",
              " 59,\n",
              " 12,\n",
              " 26,\n",
              " 39,\n",
              " 51,\n",
              " 63,\n",
              " 13,\n",
              " 24,\n",
              " 37,\n",
              " 50,\n",
              " 62,\n",
              " 13,\n",
              " 26,\n",
              " 38,\n",
              " 50,\n",
              " 63,\n",
              " 13,\n",
              " 25,\n",
              " 36,\n",
              " 49,\n",
              " 61,\n",
              " 13,\n",
              " 26,\n",
              " 39,\n",
              " 51,\n",
              " 64,\n",
              " 13,\n",
              " 25,\n",
              " 37,\n",
              " 50,\n",
              " 62,\n",
              " 13,\n",
              " 25,\n",
              " 37,\n",
              " 50,\n",
              " 61,\n",
              " 12,\n",
              " 25,\n",
              " 38,\n",
              " 50,\n",
              " 62,\n",
              " 12,\n",
              " 25,\n",
              " 37,\n",
              " 50,\n",
              " 61,\n",
              " 12,\n",
              " 25,\n",
              " 36,\n",
              " 48,\n",
              " 60,\n",
              " 12,\n",
              " 24,\n",
              " 36,\n",
              " 48,\n",
              " 60,\n",
              " 13,\n",
              " 25,\n",
              " 37,\n",
              " 49,\n",
              " 60,\n",
              " 13,\n",
              " 25,\n",
              " 39,\n",
              " 51,\n",
              " 64,\n",
              " 12,\n",
              " 25,\n",
              " 37,\n",
              " 49,\n",
              " 61,\n",
              " 12,\n",
              " 25,\n",
              " 38,\n",
              " 50,\n",
              " 61,\n",
              " 12,\n",
              " 24,\n",
              " 36,\n",
              " 49,\n",
              " 62,\n",
              " 13,\n",
              " 25,\n",
              " 37,\n",
              " 50,\n",
              " 62,\n",
              " 12,\n",
              " 23,\n",
              " 35,\n",
              " 47,\n",
              " 59,\n",
              " 12,\n",
              " 25,\n",
              " 37,\n",
              " 48,\n",
              " 73,\n",
              " 12,\n",
              " 24,\n",
              " 37,\n",
              " 49,\n",
              " 61,\n",
              " 12,\n",
              " 24,\n",
              " 37,\n",
              " 49,\n",
              " 62,\n",
              " 14,\n",
              " 26,\n",
              " 37,\n",
              " 49,\n",
              " 62,\n",
              " 12,\n",
              " 23,\n",
              " 35,\n",
              " 48,\n",
              " 59,\n",
              " 12,\n",
              " 24,\n",
              " 36,\n",
              " 49,\n",
              " 61,\n",
              " 13,\n",
              " 25,\n",
              " 37,\n",
              " 49,\n",
              " 61,\n",
              " 12,\n",
              " 25,\n",
              " 37,\n",
              " 50,\n",
              " 62,\n",
              " 12,\n",
              " 24,\n",
              " 36,\n",
              " 47,\n",
              " 58,\n",
              " 12,\n",
              " 24,\n",
              " 36,\n",
              " 48,\n",
              " 61,\n",
              " 25,\n",
              " 38,\n",
              " 50,\n",
              " 62,\n",
              " 74,\n",
              " 13,\n",
              " 25,\n",
              " 37,\n",
              " 49,\n",
              " 62,\n",
              " 12,\n",
              " 24,\n",
              " 37,\n",
              " 49,\n",
              " 62,\n",
              " 12,\n",
              " 24,\n",
              " 36,\n",
              " 48,\n",
              " 60,\n",
              " 12,\n",
              " 24,\n",
              " 36,\n",
              " 48,\n",
              " 61,\n",
              " 12,\n",
              " 25,\n",
              " 36,\n",
              " 50,\n",
              " 62,\n",
              " 24,\n",
              " 36,\n",
              " 49,\n",
              " 61,\n",
              " 74,\n",
              " 12,\n",
              " 24,\n",
              " 36,\n",
              " 47,\n",
              " 59,\n",
              " 13,\n",
              " 25,\n",
              " 38,\n",
              " 50,\n",
              " 62,\n",
              " 12,\n",
              " 25,\n",
              " 37,\n",
              " 49,\n",
              " 61,\n",
              " 12,\n",
              " 24,\n",
              " 36,\n",
              " 48,\n",
              " 61,\n",
              " 13,\n",
              " 25,\n",
              " 37,\n",
              " 48,\n",
              " 61,\n",
              " 13,\n",
              " 26,\n",
              " 39,\n",
              " 52,\n",
              " 63,\n",
              " 13,\n",
              " 27,\n",
              " 40,\n",
              " 51,\n",
              " 63,\n",
              " 12,\n",
              " 24,\n",
              " 36,\n",
              " 48,\n",
              " 59,\n",
              " 12,\n",
              " 24,\n",
              " 36,\n",
              " 47,\n",
              " 58,\n",
              " 12,\n",
              " 23,\n",
              " 35,\n",
              " 47,\n",
              " 59,\n",
              " 12,\n",
              " 25,\n",
              " 38,\n",
              " 50,\n",
              " 62,\n",
              " 12,\n",
              " 24,\n",
              " 35,\n",
              " 47,\n",
              " 60,\n",
              " 13,\n",
              " 26,\n",
              " 38,\n",
              " 51,\n",
              " 63,\n",
              " 12,\n",
              " 24,\n",
              " 36,\n",
              " 48,\n",
              " 61,\n",
              " 12,\n",
              " 24,\n",
              " 36,\n",
              " 48,\n",
              " 60,\n",
              " 13,\n",
              " 25,\n",
              " 38,\n",
              " 49,\n",
              " 62,\n",
              " 12,\n",
              " 24,\n",
              " 35,\n",
              " 47,\n",
              " 59,\n",
              " 12,\n",
              " 24,\n",
              " 36,\n",
              " 48,\n",
              " 58,\n",
              " 12,\n",
              " 24,\n",
              " 36,\n",
              " 48,\n",
              " 61,\n",
              " 13,\n",
              " 26,\n",
              " 38,\n",
              " 50,\n",
              " 63,\n",
              " 24,\n",
              " 37,\n",
              " 49,\n",
              " 62,\n",
              " 74,\n",
              " 12,\n",
              " 24,\n",
              " 36,\n",
              " 49,\n",
              " 61,\n",
              " 13,\n",
              " 26,\n",
              " 39,\n",
              " 51,\n",
              " 63,\n",
              " 12,\n",
              " 24,\n",
              " 36,\n",
              " 48,\n",
              " 60,\n",
              " 12,\n",
              " 24,\n",
              " 36,\n",
              " 47,\n",
              " 59,\n",
              " 13,\n",
              " 26,\n",
              " 38,\n",
              " 51,\n",
              " 64,\n",
              " 12,\n",
              " 24,\n",
              " 37,\n",
              " 51,\n",
              " 63,\n",
              " 13,\n",
              " 25,\n",
              " 37,\n",
              " 50,\n",
              " 62,\n",
              " 12,\n",
              " 24,\n",
              " 37,\n",
              " 50,\n",
              " 62,\n",
              " 12,\n",
              " 25,\n",
              " 38,\n",
              " 48,\n",
              " 60,\n",
              " 12,\n",
              " 25,\n",
              " 37,\n",
              " 50,\n",
              " 62,\n",
              " 13,\n",
              " 24,\n",
              " 37,\n",
              " 49,\n",
              " 63,\n",
              " 12,\n",
              " 23,\n",
              " 36,\n",
              " 49,\n",
              " 61,\n",
              " 13,\n",
              " 24,\n",
              " 37,\n",
              " 60,\n",
              " 71,\n",
              " 12,\n",
              " 24,\n",
              " 35,\n",
              " 47,\n",
              " 60,\n",
              " 12,\n",
              " 24,\n",
              " 38,\n",
              " 50,\n",
              " 62,\n",
              " 36,\n",
              " 48,\n",
              " 61,\n",
              " 73,\n",
              " 86,\n",
              " 12,\n",
              " 24,\n",
              " 37,\n",
              " 49,\n",
              " 61,\n",
              " 13,\n",
              " 25,\n",
              " 37,\n",
              " 49,\n",
              " 60,\n",
              " 13,\n",
              " 25,\n",
              " 36,\n",
              " 47,\n",
              " 59,\n",
              " 13,\n",
              " 25,\n",
              " 38,\n",
              " 49,\n",
              " 62,\n",
              " 24,\n",
              " 37,\n",
              " 48,\n",
              " 60,\n",
              " 72,\n",
              " 13,\n",
              " 25,\n",
              " 37,\n",
              " 49,\n",
              " 61,\n",
              " 12,\n",
              " 24,\n",
              " 37,\n",
              " 49,\n",
              " 61,\n",
              " 12,\n",
              " 24,\n",
              " 36,\n",
              " 48,\n",
              " 62,\n",
              " 12,\n",
              " 25,\n",
              " 38,\n",
              " 50,\n",
              " 62,\n",
              " 12,\n",
              " 23,\n",
              " 35,\n",
              " 49,\n",
              " 60,\n",
              " 14,\n",
              " 26,\n",
              " 39,\n",
              " 51,\n",
              " 63,\n",
              " 13,\n",
              " 25,\n",
              " 36,\n",
              " 49,\n",
              " 62,\n",
              " 13,\n",
              " 26,\n",
              " 38,\n",
              " 50,\n",
              " 61,\n",
              " 13,\n",
              " 25,\n",
              " 38,\n",
              " 50,\n",
              " 62,\n",
              " 13,\n",
              " 26,\n",
              " 39,\n",
              " 51,\n",
              " 63,\n",
              " 12,\n",
              " 25,\n",
              " 47,\n",
              " 61,\n",
              " 74,\n",
              " 13,\n",
              " 26,\n",
              " 38,\n",
              " 50,\n",
              " 62,\n",
              " 12,\n",
              " 24,\n",
              " 36,\n",
              " 49,\n",
              " 62,\n",
              " 12,\n",
              " 24,\n",
              " 37,\n",
              " 49,\n",
              " 61,\n",
              " 12,\n",
              " 25,\n",
              " 37,\n",
              " 50,\n",
              " 61,\n",
              " 12,\n",
              " 25,\n",
              " 38,\n",
              " 50,\n",
              " 63,\n",
              " 12,\n",
              " 24,\n",
              " 37,\n",
              " 50,\n",
              " 62,\n",
              " 12,\n",
              " 24,\n",
              " 36,\n",
              " 48,\n",
              " 60,\n",
              " 12,\n",
              " 24,\n",
              " 37,\n",
              " 49,\n",
              " 62,\n",
              " 13,\n",
              " 25,\n",
              " 37,\n",
              " 49,\n",
              " 62,\n",
              " 12,\n",
              " 24,\n",
              " 36,\n",
              " 49,\n",
              " 60,\n",
              " 25,\n",
              " 36,\n",
              " 48,\n",
              " 61,\n",
              " 73,\n",
              " 12,\n",
              " 24,\n",
              " 36,\n",
              " 48,\n",
              " 60,\n",
              " 12,\n",
              " 24,\n",
              " 35,\n",
              " 47,\n",
              " 60,\n",
              " 12,\n",
              " 25,\n",
              " 38,\n",
              " 51,\n",
              " 65,\n",
              " 12,\n",
              " 25,\n",
              " 37,\n",
              " 50,\n",
              " 62,\n",
              " 12,\n",
              " 24,\n",
              " 35,\n",
              " 48,\n",
              " 61,\n",
              " 13,\n",
              " 27,\n",
              " 39,\n",
              " 51,\n",
              " 62,\n",
              " 12,\n",
              " 24,\n",
              " 37,\n",
              " 49,\n",
              " 61,\n",
              " 12,\n",
              " 24,\n",
              " 37,\n",
              " 48,\n",
              " 60,\n",
              " 13,\n",
              " 25,\n",
              " 38,\n",
              " 50,\n",
              " 62,\n",
              " 12,\n",
              " 24,\n",
              " 37,\n",
              " 49,\n",
              " 62,\n",
              " 12,\n",
              " 23,\n",
              " 35,\n",
              " 47,\n",
              " 59,\n",
              " 12,\n",
              " 24,\n",
              " 36,\n",
              " 49,\n",
              " 61,\n",
              " 24,\n",
              " 37,\n",
              " 49,\n",
              " 61,\n",
              " 73,\n",
              " 12,\n",
              " 24,\n",
              " 37,\n",
              " 49,\n",
              " 61,\n",
              " 13,\n",
              " 26,\n",
              " 38,\n",
              " 50,\n",
              " 61,\n",
              " 12,\n",
              " 24,\n",
              " 36,\n",
              " 49,\n",
              " 61,\n",
              " 27,\n",
              " 38,\n",
              " 50,\n",
              " 61,\n",
              " 73,\n",
              " 12,\n",
              " 26,\n",
              " 37,\n",
              " 50,\n",
              " 63,\n",
              " 12,\n",
              " 24,\n",
              " 36,\n",
              " 48,\n",
              " 59,\n",
              " 12,\n",
              " 24,\n",
              " 37,\n",
              " 48,\n",
              " 60,\n",
              " 13,\n",
              " 25,\n",
              " 37,\n",
              " 48,\n",
              " 61,\n",
              " 12,\n",
              " 24,\n",
              " 36,\n",
              " 48,\n",
              " 60,\n",
              " 12,\n",
              " 25,\n",
              " 37,\n",
              " 49,\n",
              " 63,\n",
              " 13,\n",
              " 25,\n",
              " 37,\n",
              " 49,\n",
              " 61,\n",
              " 12,\n",
              " 24,\n",
              " 36,\n",
              " 48,\n",
              " 61,\n",
              " 12,\n",
              " 24,\n",
              " 37,\n",
              " 50,\n",
              " 62,\n",
              " 13,\n",
              " 25,\n",
              " 37,\n",
              " 50,\n",
              " 62,\n",
              " 14,\n",
              " 27,\n",
              " 39,\n",
              " 51,\n",
              " 62,\n",
              " 13,\n",
              " 25,\n",
              " 37,\n",
              " 49,\n",
              " 60,\n",
              " 12,\n",
              " 25,\n",
              " 37,\n",
              " 49,\n",
              " 63,\n",
              " 24,\n",
              " 36,\n",
              " 47,\n",
              " 59,\n",
              " 71,\n",
              " 13,\n",
              " 25,\n",
              " 37,\n",
              " 50,\n",
              " 62,\n",
              " 13,\n",
              " 24,\n",
              " 36,\n",
              " 48,\n",
              " 61,\n",
              " 23,\n",
              " 34,\n",
              " 46,\n",
              " 58,\n",
              " 70,\n",
              " 13,\n",
              " 25,\n",
              " 38,\n",
              " 52,\n",
              " 65,\n",
              " 12,\n",
              " 24,\n",
              " 36,\n",
              " 47,\n",
              " 60,\n",
              " 12,\n",
              " 26,\n",
              " 38,\n",
              " 51,\n",
              " 63,\n",
              " 12,\n",
              " 25,\n",
              " 38,\n",
              " 49,\n",
              " 62,\n",
              " 13,\n",
              " 25,\n",
              " 38,\n",
              " 49,\n",
              " 62,\n",
              " 12,\n",
              " 24,\n",
              " 36,\n",
              " 49,\n",
              " 61,\n",
              " 12,\n",
              " 24,\n",
              " 37,\n",
              " 50,\n",
              " 62,\n",
              " 12,\n",
              " 24,\n",
              " 38,\n",
              " 51,\n",
              " 63,\n",
              " 12,\n",
              " 24,\n",
              " 36,\n",
              " 48,\n",
              " 62,\n",
              " 13,\n",
              " 25,\n",
              " 37,\n",
              " 49,\n",
              " 61,\n",
              " 12,\n",
              " 24,\n",
              " 38,\n",
              " 50,\n",
              " 61,\n",
              " 35,\n",
              " 47,\n",
              " 60,\n",
              " 72,\n",
              " 84,\n",
              " 12,\n",
              " 24,\n",
              " 36,\n",
              " 49,\n",
              " 61,\n",
              " 12,\n",
              " 24,\n",
              " 35,\n",
              " 48,\n",
              " 60,\n",
              " 12,\n",
              " 24,\n",
              " 36,\n",
              " 49,\n",
              " 60,\n",
              " 12,\n",
              " 25,\n",
              " 37,\n",
              " 49,\n",
              " 62,\n",
              " 12,\n",
              " 24,\n",
              " 36,\n",
              " 48,\n",
              " 60,\n",
              " 13,\n",
              " 26,\n",
              " 37,\n",
              " 50,\n",
              " 62,\n",
              " 13,\n",
              " 25,\n",
              " 38,\n",
              " 50,\n",
              " 64,\n",
              " 23,\n",
              " 35,\n",
              " 47,\n",
              " 60,\n",
              " 73,\n",
              " 12,\n",
              " 24,\n",
              " 37,\n",
              " 49,\n",
              " 61,\n",
              " 12,\n",
              " 24,\n",
              " 36,\n",
              " 49,\n",
              " 62,\n",
              " 12,\n",
              " 24,\n",
              " 37,\n",
              " 49,\n",
              " 61,\n",
              " 12,\n",
              " 25,\n",
              " 38,\n",
              " 50,\n",
              " 62,\n",
              " 14,\n",
              " 25,\n",
              " 37,\n",
              " 49,\n",
              " 61,\n",
              " 13,\n",
              " 26,\n",
              " 38,\n",
              " 50,\n",
              " 62,\n",
              " 12,\n",
              " 23,\n",
              " 35,\n",
              " 47,\n",
              " 58,\n",
              " 12,\n",
              " 24,\n",
              " 37,\n",
              " 49,\n",
              " 61,\n",
              " 25,\n",
              " 36,\n",
              " 48,\n",
              " 60,\n",
              " 71,\n",
              " 24,\n",
              " 38,\n",
              " 50,\n",
              " 62,\n",
              " 75,\n",
              " 13,\n",
              " 25,\n",
              " 36,\n",
              " 47,\n",
              " 59,\n",
              " 24,\n",
              " 37,\n",
              " 50,\n",
              " 61,\n",
              " 74,\n",
              " 12,\n",
              " 25,\n",
              " 38,\n",
              " 50,\n",
              " 64,\n",
              " 13,\n",
              " 25,\n",
              " 37,\n",
              " 49,\n",
              " 61,\n",
              " 12,\n",
              " 24,\n",
              " 36,\n",
              " 48,\n",
              " 61,\n",
              " 12,\n",
              " 25,\n",
              " 38,\n",
              " 51,\n",
              " 64,\n",
              " 12,\n",
              " 24,\n",
              " 36,\n",
              " 49,\n",
              " 60,\n",
              " 12,\n",
              " 25,\n",
              " 38,\n",
              " 50,\n",
              " 62,\n",
              " 12,\n",
              " 25,\n",
              " 39,\n",
              " 51,\n",
              " 63,\n",
              " 12,\n",
              " 24,\n",
              " 36,\n",
              " 49,\n",
              " 61,\n",
              " 12,\n",
              " 26,\n",
              " 39,\n",
              " 51,\n",
              " 63,\n",
              " 13,\n",
              " 26,\n",
              " 38,\n",
              " 49,\n",
              " 60,\n",
              " 37,\n",
              " 48,\n",
              " 60,\n",
              " 73,\n",
              " 83,\n",
              " 12,\n",
              " 25,\n",
              " 37,\n",
              " 49,\n",
              " 61,\n",
              " 13,\n",
              " 25,\n",
              " 38,\n",
              " 51,\n",
              " 64,\n",
              " 12,\n",
              " 25,\n",
              " 39,\n",
              " 51,\n",
              " 63,\n",
              " 23,\n",
              " 36,\n",
              " 47,\n",
              " 59,\n",
              " 71,\n",
              " 13,\n",
              " 25,\n",
              " 37,\n",
              " 50,\n",
              " 62,\n",
              " 13,\n",
              " 25,\n",
              " 38,\n",
              " 50,\n",
              " 62,\n",
              " 36,\n",
              " 47,\n",
              " 59,\n",
              " 71,\n",
              " 84,\n",
              " 13,\n",
              " 25,\n",
              " 37,\n",
              " 50,\n",
              " 62,\n",
              " 12,\n",
              " 25,\n",
              " 37,\n",
              " 51,\n",
              " 63,\n",
              " 13,\n",
              " 26,\n",
              " 38,\n",
              " 52,\n",
              " 64,\n",
              " 12,\n",
              " 24,\n",
              " 37,\n",
              " 49,\n",
              " 60,\n",
              " 12,\n",
              " 24,\n",
              " 36,\n",
              " 47,\n",
              " 60,\n",
              " 13,\n",
              " 25,\n",
              " 36,\n",
              " 49,\n",
              " 61,\n",
              " 13,\n",
              " 25,\n",
              " 38,\n",
              " 50,\n",
              " 62,\n",
              " 12,\n",
              " 24,\n",
              " 38,\n",
              " 51,\n",
              " 63,\n",
              " 13,\n",
              " 25,\n",
              " 38,\n",
              " 50,\n",
              " 62,\n",
              " 13,\n",
              " 25,\n",
              " 37,\n",
              " 49,\n",
              " 60,\n",
              " 12,\n",
              " 25,\n",
              " 36,\n",
              " 47,\n",
              " 60,\n",
              " ...]"
            ]
          },
          "metadata": {},
          "execution_count": 367
        }
      ]
    },
    {
      "cell_type": "code",
      "source": [
        "max_story_len = max(all_story_lens)\n",
        "max_story_len"
      ],
      "metadata": {
        "colab": {
          "base_uri": "https://localhost:8080/"
        },
        "id": "uQ8MMXUkqAV_",
        "outputId": "a3253289-4ad8-412b-c629-a0a066ea72bd"
      },
      "execution_count": 368,
      "outputs": [
        {
          "output_type": "execute_result",
          "data": {
            "text/plain": [
              "156"
            ]
          },
          "metadata": {},
          "execution_count": 368
        }
      ]
    },
    {
      "cell_type": "code",
      "source": [
        "max_question_len = max([len(data[1]) for data in all_data])\n",
        "print(max_question_len)"
      ],
      "metadata": {
        "colab": {
          "base_uri": "https://localhost:8080/"
        },
        "id": "Gmn-WTD7qCQi",
        "outputId": "5c8d93c9-371d-4857-8af5-d5d362073864"
      },
      "execution_count": 369,
      "outputs": [
        {
          "output_type": "stream",
          "name": "stdout",
          "text": [
            "6\n"
          ]
        }
      ]
    },
    {
      "cell_type": "code",
      "source": [
        "from keras.preprocessing.sequence import pad_sequences\n",
        "from keras.preprocessing.text import Tokenizer"
      ],
      "metadata": {
        "id": "MLw0N2gaqn87"
      },
      "execution_count": 370,
      "outputs": []
    },
    {
      "cell_type": "code",
      "source": [
        "tokenizer = Tokenizer(filters=[])\n",
        "tokenizer.fit_on_texts(vocab)"
      ],
      "metadata": {
        "id": "9jIQ9QN5ra5r"
      },
      "execution_count": 371,
      "outputs": []
    },
    {
      "cell_type": "code",
      "source": [
        "tokenizer.word_index.items()\n",
        "\n",
        "print(tokenizer.word_index[\"down\"])\n",
        "print(\"\\n\")\n",
        "\n",
        "for i,(word,count) in enumerate(tokenizer.word_index.items()):\n",
        "  print(f\"{word:<10}: {count}\")\n",
        "  if(i==9):\n",
        "    break"
      ],
      "metadata": {
        "colab": {
          "base_uri": "https://localhost:8080/"
        },
        "id": "Al9eztHRroZm",
        "outputId": "6880985b-e594-40b3-ca7e-b4e92856caf8"
      },
      "execution_count": 372,
      "outputs": [
        {
          "output_type": "stream",
          "name": "stdout",
          "text": [
            "1\n",
            "\n",
            "\n",
            "down      : 1\n",
            "there     : 2\n",
            ".         : 3\n",
            "in        : 4\n",
            "kitchen   : 5\n",
            "football  : 6\n",
            "yes       : 7\n",
            "the       : 8\n",
            "milk      : 9\n",
            "got       : 10\n"
          ]
        }
      ]
    },
    {
      "cell_type": "code",
      "source": [
        "train_story_text = []\n",
        "train_question_text = []\n",
        "train_ans = []"
      ],
      "metadata": {
        "id": "RgWGn4GNrqDt"
      },
      "execution_count": 373,
      "outputs": []
    },
    {
      "cell_type": "code",
      "source": [
        "for story,question,answer in train_data:\n",
        "  train_story_text.append(story)\n",
        "  train_question_text.append(question)\n",
        "  train_ans.append(answer)"
      ],
      "metadata": {
        "id": "foLReJZh3Uew"
      },
      "execution_count": 374,
      "outputs": []
    },
    {
      "cell_type": "code",
      "source": [
        "train_story_text"
      ],
      "metadata": {
        "colab": {
          "base_uri": "https://localhost:8080/"
        },
        "id": "VSS9JAZm3jQ-",
        "outputId": "62a0d568-7509-46d2-c695-bac9b46716eb"
      },
      "execution_count": 375,
      "outputs": [
        {
          "output_type": "execute_result",
          "data": {
            "text/plain": [
              "[['Mary',\n",
              "  'moved',\n",
              "  'to',\n",
              "  'the',\n",
              "  'bathroom',\n",
              "  '.',\n",
              "  'Sandra',\n",
              "  'journeyed',\n",
              "  'to',\n",
              "  'the',\n",
              "  'bedroom',\n",
              "  '.'],\n",
              " ['Mary',\n",
              "  'moved',\n",
              "  'to',\n",
              "  'the',\n",
              "  'bathroom',\n",
              "  '.',\n",
              "  'Sandra',\n",
              "  'journeyed',\n",
              "  'to',\n",
              "  'the',\n",
              "  'bedroom',\n",
              "  '.',\n",
              "  'Mary',\n",
              "  'went',\n",
              "  'back',\n",
              "  'to',\n",
              "  'the',\n",
              "  'bedroom',\n",
              "  '.',\n",
              "  'Daniel',\n",
              "  'went',\n",
              "  'back',\n",
              "  'to',\n",
              "  'the',\n",
              "  'hallway',\n",
              "  '.'],\n",
              " ['Mary',\n",
              "  'moved',\n",
              "  'to',\n",
              "  'the',\n",
              "  'bathroom',\n",
              "  '.',\n",
              "  'Sandra',\n",
              "  'journeyed',\n",
              "  'to',\n",
              "  'the',\n",
              "  'bedroom',\n",
              "  '.',\n",
              "  'Mary',\n",
              "  'went',\n",
              "  'back',\n",
              "  'to',\n",
              "  'the',\n",
              "  'bedroom',\n",
              "  '.',\n",
              "  'Daniel',\n",
              "  'went',\n",
              "  'back',\n",
              "  'to',\n",
              "  'the',\n",
              "  'hallway',\n",
              "  '.',\n",
              "  'Sandra',\n",
              "  'went',\n",
              "  'to',\n",
              "  'the',\n",
              "  'kitchen',\n",
              "  '.',\n",
              "  'Daniel',\n",
              "  'went',\n",
              "  'back',\n",
              "  'to',\n",
              "  'the',\n",
              "  'bathroom',\n",
              "  '.'],\n",
              " ['Mary',\n",
              "  'moved',\n",
              "  'to',\n",
              "  'the',\n",
              "  'bathroom',\n",
              "  '.',\n",
              "  'Sandra',\n",
              "  'journeyed',\n",
              "  'to',\n",
              "  'the',\n",
              "  'bedroom',\n",
              "  '.',\n",
              "  'Mary',\n",
              "  'went',\n",
              "  'back',\n",
              "  'to',\n",
              "  'the',\n",
              "  'bedroom',\n",
              "  '.',\n",
              "  'Daniel',\n",
              "  'went',\n",
              "  'back',\n",
              "  'to',\n",
              "  'the',\n",
              "  'hallway',\n",
              "  '.',\n",
              "  'Sandra',\n",
              "  'went',\n",
              "  'to',\n",
              "  'the',\n",
              "  'kitchen',\n",
              "  '.',\n",
              "  'Daniel',\n",
              "  'went',\n",
              "  'back',\n",
              "  'to',\n",
              "  'the',\n",
              "  'bathroom',\n",
              "  '.',\n",
              "  'Daniel',\n",
              "  'picked',\n",
              "  'up',\n",
              "  'the',\n",
              "  'football',\n",
              "  'there',\n",
              "  '.',\n",
              "  'Daniel',\n",
              "  'went',\n",
              "  'to',\n",
              "  'the',\n",
              "  'bedroom',\n",
              "  '.'],\n",
              " ['Mary',\n",
              "  'moved',\n",
              "  'to',\n",
              "  'the',\n",
              "  'bathroom',\n",
              "  '.',\n",
              "  'Sandra',\n",
              "  'journeyed',\n",
              "  'to',\n",
              "  'the',\n",
              "  'bedroom',\n",
              "  '.',\n",
              "  'Mary',\n",
              "  'went',\n",
              "  'back',\n",
              "  'to',\n",
              "  'the',\n",
              "  'bedroom',\n",
              "  '.',\n",
              "  'Daniel',\n",
              "  'went',\n",
              "  'back',\n",
              "  'to',\n",
              "  'the',\n",
              "  'hallway',\n",
              "  '.',\n",
              "  'Sandra',\n",
              "  'went',\n",
              "  'to',\n",
              "  'the',\n",
              "  'kitchen',\n",
              "  '.',\n",
              "  'Daniel',\n",
              "  'went',\n",
              "  'back',\n",
              "  'to',\n",
              "  'the',\n",
              "  'bathroom',\n",
              "  '.',\n",
              "  'Daniel',\n",
              "  'picked',\n",
              "  'up',\n",
              "  'the',\n",
              "  'football',\n",
              "  'there',\n",
              "  '.',\n",
              "  'Daniel',\n",
              "  'went',\n",
              "  'to',\n",
              "  'the',\n",
              "  'bedroom',\n",
              "  '.',\n",
              "  'John',\n",
              "  'travelled',\n",
              "  'to',\n",
              "  'the',\n",
              "  'office',\n",
              "  '.',\n",
              "  'Sandra',\n",
              "  'went',\n",
              "  'to',\n",
              "  'the',\n",
              "  'garden',\n",
              "  '.']]"
            ]
          },
          "metadata": {},
          "execution_count": 375
        }
      ]
    },
    {
      "cell_type": "code",
      "source": [
        "train_story_seq = tokenizer.texts_to_sequences(train_story_text)"
      ],
      "metadata": {
        "id": "Eootr0c13nTG"
      },
      "execution_count": 376,
      "outputs": []
    },
    {
      "cell_type": "code",
      "source": [
        "len(train_story_seq)"
      ],
      "metadata": {
        "colab": {
          "base_uri": "https://localhost:8080/"
        },
        "id": "-0cCkrTi31Z_",
        "outputId": "fc04cda2-24fd-4cfa-cee5-80a9930995a1"
      },
      "execution_count": 377,
      "outputs": [
        {
          "output_type": "execute_result",
          "data": {
            "text/plain": [
              "10000"
            ]
          },
          "metadata": {},
          "execution_count": 377
        }
      ]
    },
    {
      "cell_type": "code",
      "source": [
        "train_story_seq[:3]"
      ],
      "metadata": {
        "colab": {
          "base_uri": "https://localhost:8080/"
        },
        "id": "ESY4b_Ao38My",
        "outputId": "fccf3bd7-3700-429a-90bc-249e020fcaf4"
      },
      "execution_count": 378,
      "outputs": [
        {
          "output_type": "execute_result",
          "data": {
            "text/plain": [
              "[[11, 20, 16, 8, 26, 3, 33, 32, 16, 8, 27, 3],\n",
              " [11,\n",
              "  20,\n",
              "  16,\n",
              "  8,\n",
              "  26,\n",
              "  3,\n",
              "  33,\n",
              "  32,\n",
              "  16,\n",
              "  8,\n",
              "  27,\n",
              "  3,\n",
              "  11,\n",
              "  13,\n",
              "  19,\n",
              "  16,\n",
              "  8,\n",
              "  27,\n",
              "  3,\n",
              "  17,\n",
              "  13,\n",
              "  19,\n",
              "  16,\n",
              "  8,\n",
              "  31,\n",
              "  3],\n",
              " [11,\n",
              "  20,\n",
              "  16,\n",
              "  8,\n",
              "  26,\n",
              "  3,\n",
              "  33,\n",
              "  32,\n",
              "  16,\n",
              "  8,\n",
              "  27,\n",
              "  3,\n",
              "  11,\n",
              "  13,\n",
              "  19,\n",
              "  16,\n",
              "  8,\n",
              "  27,\n",
              "  3,\n",
              "  17,\n",
              "  13,\n",
              "  19,\n",
              "  16,\n",
              "  8,\n",
              "  31,\n",
              "  3,\n",
              "  33,\n",
              "  13,\n",
              "  16,\n",
              "  8,\n",
              "  5,\n",
              "  3,\n",
              "  17,\n",
              "  13,\n",
              "  19,\n",
              "  16,\n",
              "  8,\n",
              "  26,\n",
              "  3]]"
            ]
          },
          "metadata": {},
          "execution_count": 378
        }
      ]
    },
    {
      "cell_type": "code",
      "source": [
        "def vectorize_stories(data,word_index=tokenizer.word_index,max_story_len = max_story_len,max_ques_len = max_question_len):\n",
        "\n",
        "  #STORIES = X\n",
        "  X = []\n",
        "  #QUESTION\n",
        "  Xq = []\n",
        "  #Y CORRECT ANS (yes/no)\n",
        "  Y = []\n",
        "\n",
        "  for story,question,answer in data:\n",
        "\n",
        "    #for each story\n",
        "    #[23,14,...]\n",
        "    x = [word_index[word.lower()] for word in story]\n",
        "    xq = [word_index[word.lower()] for word in question]\n",
        "\n",
        "    y = np.zeros(len(word_index) + 1)\n",
        "    y[word_index[answer]] = 1\n",
        "\n",
        "    X.append(x)\n",
        "    Xq.append(xq)\n",
        "    Y.append(y)\n",
        "\n",
        "  #pad_sequences - make all the question and stories in the same length\n",
        "  return (pad_sequences(X,maxlen = max_story_len),pad_sequences(Xq,maxlen=max_question_len),np.array(Y))\n"
      ],
      "metadata": {
        "id": "oH7NDVsv4ARS"
      },
      "execution_count": 379,
      "outputs": []
    },
    {
      "cell_type": "code",
      "source": [
        "input_train,question_train,answer_train = vectorize_stories(train_data)"
      ],
      "metadata": {
        "id": "BLASV3tG7VZn"
      },
      "execution_count": 380,
      "outputs": []
    },
    {
      "cell_type": "code",
      "source": [
        "input_test,question_test,answer_test = vectorize_stories(test_data)"
      ],
      "metadata": {
        "id": "2uzMYL3k7ksW"
      },
      "execution_count": 381,
      "outputs": []
    },
    {
      "cell_type": "code",
      "source": [
        "answer_test"
      ],
      "metadata": {
        "colab": {
          "base_uri": "https://localhost:8080/"
        },
        "id": "QHwE1s6w74xW",
        "outputId": "145e95b1-ea19-4ebe-862c-ded7bb938717"
      },
      "execution_count": 382,
      "outputs": [
        {
          "output_type": "execute_result",
          "data": {
            "text/plain": [
              "array([[0., 0., 0., ..., 0., 0., 0.],\n",
              "       [0., 0., 0., ..., 0., 0., 0.],\n",
              "       [0., 0., 0., ..., 0., 0., 0.],\n",
              "       ...,\n",
              "       [0., 0., 0., ..., 0., 0., 0.],\n",
              "       [0., 0., 0., ..., 0., 0., 0.],\n",
              "       [0., 0., 0., ..., 0., 0., 0.]])"
            ]
          },
          "metadata": {},
          "execution_count": 382
        }
      ]
    },
    {
      "cell_type": "code",
      "source": [
        "input_test"
      ],
      "metadata": {
        "colab": {
          "base_uri": "https://localhost:8080/"
        },
        "id": "-y4lDTCq77eb",
        "outputId": "24f1d5ce-da73-44fa-e725-e65ad50a4a3e"
      },
      "execution_count": 383,
      "outputs": [
        {
          "output_type": "execute_result",
          "data": {
            "text/plain": [
              "array([[ 0,  0,  0, ...,  8, 27,  3],\n",
              "       [ 0,  0,  0, ...,  8, 30,  3],\n",
              "       [ 0,  0,  0, ...,  8, 30,  3],\n",
              "       ...,\n",
              "       [ 0,  0,  0, ...,  8, 24,  3],\n",
              "       [ 0,  0,  0, ...,  8, 30,  3],\n",
              "       [ 0,  0,  0, ..., 24,  2,  3]], dtype=int32)"
            ]
          },
          "metadata": {},
          "execution_count": 383
        }
      ]
    },
    {
      "cell_type": "code",
      "source": [
        "tokenizer.word_index['yes']"
      ],
      "metadata": {
        "colab": {
          "base_uri": "https://localhost:8080/"
        },
        "id": "LW97Z_Xi7-LE",
        "outputId": "9e6ff3c9-0048-4393-e1f0-c03207880f24"
      },
      "execution_count": 384,
      "outputs": [
        {
          "output_type": "execute_result",
          "data": {
            "text/plain": [
              "7"
            ]
          },
          "metadata": {},
          "execution_count": 384
        }
      ]
    },
    {
      "cell_type": "code",
      "source": [
        "tokenizer.word_index['no']"
      ],
      "metadata": {
        "colab": {
          "base_uri": "https://localhost:8080/"
        },
        "id": "Pns4OiIl8fgB",
        "outputId": "ba5e2d9f-fb98-4a63-8910-4d8ff9ba411b"
      },
      "execution_count": 385,
      "outputs": [
        {
          "output_type": "execute_result",
          "data": {
            "text/plain": [
              "25"
            ]
          },
          "metadata": {},
          "execution_count": 385
        }
      ]
    },
    {
      "cell_type": "code",
      "source": [
        "yes = 0\n",
        "no = 0\n",
        "\n",
        "for i in range (len(test_data)):\n",
        "  if train_data[i][2] == 'no':\n",
        "    no+=1\n",
        "  else:\n",
        "    yes+=1\n",
        "\n",
        "print(yes)\n",
        "print(no)\n"
      ],
      "metadata": {
        "colab": {
          "base_uri": "https://localhost:8080/"
        },
        "id": "kAm6f-CN8nfL",
        "outputId": "1378c032-c41c-4436-d2e8-f97c5b6c5c04"
      },
      "execution_count": 386,
      "outputs": [
        {
          "output_type": "stream",
          "name": "stdout",
          "text": [
            "508\n",
            "492\n"
          ]
        }
      ]
    },
    {
      "cell_type": "code",
      "source": [
        "sum(answer_test)"
      ],
      "metadata": {
        "colab": {
          "base_uri": "https://localhost:8080/"
        },
        "id": "ew2hWC6p8l-d",
        "outputId": "b79810ff-7101-4fe3-ad04-ebf7c5648637"
      },
      "execution_count": 387,
      "outputs": [
        {
          "output_type": "execute_result",
          "data": {
            "text/plain": [
              "array([  0.,   0.,   0.,   0.,   0.,   0.,   0., 497.,   0.,   0.,   0.,\n",
              "         0.,   0.,   0.,   0.,   0.,   0.,   0.,   0.,   0.,   0.,   0.,\n",
              "         0.,   0.,   0., 503.,   0.,   0.,   0.,   0.,   0.,   0.,   0.,\n",
              "         0.,   0.,   0.,   0.,   0.])"
            ]
          },
          "metadata": {},
          "execution_count": 387
        }
      ]
    },
    {
      "cell_type": "code",
      "source": [
        "from keras.models import Sequential,Model"
      ],
      "metadata": {
        "id": "Kj97SVvp-9KC"
      },
      "execution_count": 388,
      "outputs": []
    },
    {
      "cell_type": "code",
      "source": [
        "from tensorflow.keras.layers import Embedding"
      ],
      "metadata": {
        "id": "EqJwWjA2_BnO"
      },
      "execution_count": 389,
      "outputs": []
    },
    {
      "cell_type": "code",
      "source": [
        "from keras.layers import Input,Activation,Dense,Permute,Dropout,add,dot,concatenate"
      ],
      "metadata": {
        "id": "ZqRMlxyr_F5I"
      },
      "execution_count": 390,
      "outputs": []
    },
    {
      "cell_type": "code",
      "source": [
        "#PLACEHOLDER shape = (max_story_len,batch_size)\n",
        "input_sequence = Input((max_story_len,))\n",
        "question = Input((max_question_len,))"
      ],
      "metadata": {
        "id": "6cEudpnN_f8s"
      },
      "execution_count": 391,
      "outputs": []
    },
    {
      "cell_type": "code",
      "source": [
        "vocab_size = len(vocab) + 1"
      ],
      "metadata": {
        "id": "B5Bqpw7KAHJU"
      },
      "execution_count": 392,
      "outputs": []
    },
    {
      "cell_type": "code",
      "source": [
        "# INPUT ENCODER M\n",
        "input_encoder_m = Sequential()\n",
        "input_encoder_m.add(Embedding(input_dim = vocab_size,output_dim = 64))\n",
        "#Dropout = 0.5, 50% of neuron wil be turned off during the training\n",
        "#Help in preventing overfitting\n",
        "input_encoder_m.add(Dropout(0.3))\n",
        "\n",
        "#OUTPUT\n",
        "#(samples,story_maxlen,embedding_dim)"
      ],
      "metadata": {
        "id": "bJldIB24AYol"
      },
      "execution_count": 393,
      "outputs": []
    },
    {
      "cell_type": "code",
      "source": [
        "# INPUT ENCODER C\n",
        "input_encoder_c = Sequential()\n",
        "input_encoder_c.add(Embedding(input_dim=vocab_size,output_dim = max_question_len))\n",
        "input_encoder_c.add(Dropout(0.3))\n",
        "\n",
        "#OUTPUT\n",
        "#(samples,story_maxlen,max_question_len)"
      ],
      "metadata": {
        "id": "wtwq_CMoBLUY"
      },
      "execution_count": 394,
      "outputs": []
    },
    {
      "cell_type": "code",
      "source": [
        "question_encoder = Sequential()\n",
        "question_encoder.add(Embedding(input_dim = vocab_size,output_dim = 64,input_length = max_question_len))\n",
        "question_encoder.add(Dropout(0.3))\n",
        "\n",
        "#(samples,question_maxlen,embedding_dim)"
      ],
      "metadata": {
        "id": "oJgDVoG6B7tT"
      },
      "execution_count": 395,
      "outputs": []
    },
    {
      "cell_type": "code",
      "source": [
        "#ENCODED ---> ENCODER(INPUT)\n",
        "input_encoded_m = input_encoder_m(input_sequence)\n",
        "input_encoded_c = input_encoder_c(input_sequence)\n",
        "question_encoded = question_encoder(question)"
      ],
      "metadata": {
        "id": "fPQhr6ANCULb"
      },
      "execution_count": 396,
      "outputs": []
    },
    {
      "cell_type": "code",
      "source": [
        "match = dot([input_encoded_m,question_encoded],axes = (2,2))\n",
        "match = Activation('softmax')(match)"
      ],
      "metadata": {
        "id": "j3qA1_4yC6kk"
      },
      "execution_count": 397,
      "outputs": []
    },
    {
      "cell_type": "code",
      "source": [
        " response = add([match,input_encoded_c])\n",
        " response = Permute((2,1))(response)"
      ],
      "metadata": {
        "id": "GCIp31hzDXl_"
      },
      "execution_count": 398,
      "outputs": []
    },
    {
      "cell_type": "code",
      "source": [
        "answer = concatenate([response,question_encoded])"
      ],
      "metadata": {
        "id": "2DMnQO3eDnKE"
      },
      "execution_count": 399,
      "outputs": []
    },
    {
      "cell_type": "code",
      "source": [
        "answer"
      ],
      "metadata": {
        "colab": {
          "base_uri": "https://localhost:8080/"
        },
        "id": "PnDqwzRiDsrU",
        "outputId": "9bc365dd-65be-477d-ae13-28d5191cd38b"
      },
      "execution_count": 400,
      "outputs": [
        {
          "output_type": "execute_result",
          "data": {
            "text/plain": [
              "<KerasTensor: shape=(None, 6, 220) dtype=float32 (created by layer 'concatenate_2')>"
            ]
          },
          "metadata": {},
          "execution_count": 400
        }
      ]
    },
    {
      "cell_type": "code",
      "source": [
        "from keras.layers import LSTM\n",
        "answer = LSTM(32)(answer)"
      ],
      "metadata": {
        "id": "lBDhypBqDvwQ"
      },
      "execution_count": 401,
      "outputs": []
    },
    {
      "cell_type": "code",
      "source": [
        "answer = Dropout(0.5)(answer)\n",
        "answer = Dense(vocab_size)(answer)"
      ],
      "metadata": {
        "id": "5OFKICbAD-Sf"
      },
      "execution_count": 402,
      "outputs": []
    },
    {
      "cell_type": "code",
      "source": [
        "answer = Activation('softmax')(answer)"
      ],
      "metadata": {
        "id": "nL6egdhdETTY"
      },
      "execution_count": 403,
      "outputs": []
    },
    {
      "cell_type": "code",
      "source": [
        "model = Model([input_sequence,question],answer)"
      ],
      "metadata": {
        "id": "iUCK77QDEbXA"
      },
      "execution_count": 404,
      "outputs": []
    },
    {
      "cell_type": "code",
      "source": [
        "import tensorflow as tf\n",
        "tf.keras.utils.plot_model(model)"
      ],
      "metadata": {
        "colab": {
          "base_uri": "https://localhost:8080/",
          "height": 1000
        },
        "id": "RLx8C7UxEhlS",
        "outputId": "16c6399e-fe86-4d0f-b04a-759006c46fee"
      },
      "execution_count": 405,
      "outputs": [
        {
          "output_type": "execute_result",
          "data": {
            "image/png": "[encoded data removed]",
            "text/plain": [
              "<IPython.core.display.Image object>"
            ]
          },
          "metadata": {},
          "execution_count": 405
        }
      ]
    },
    {
      "cell_type": "code",
      "source": [
        "model.compile(optimizer = 'rmsprop',loss = 'categorical_crossentropy')"
      ],
      "metadata": {
        "id": "D5wi_qSXEnDR"
      },
      "execution_count": 406,
      "outputs": []
    },
    {
      "cell_type": "code",
      "source": [
        "model.summary()"
      ],
      "metadata": {
        "colab": {
          "base_uri": "https://localhost:8080/"
        },
        "id": "bfdVOEjnE-tb",
        "outputId": "e8069dd9-98b1-4743-b1a1-72c83358d241"
      },
      "execution_count": 407,
      "outputs": [
        {
          "output_type": "stream",
          "name": "stdout",
          "text": [
            "Model: \"model_2\"\n",
            "__________________________________________________________________________________________________\n",
            " Layer (type)                Output Shape                 Param #   Connected to                  \n",
            "==================================================================================================\n",
            " input_6 (InputLayer)        [(None, 156)]                0         []                            \n",
            "                                                                                                  \n",
            " input_7 (InputLayer)        [(None, 6)]                  0         []                            \n",
            "                                                                                                  \n",
            " sequential_11 (Sequential)  (None, None, 64)             2432      ['input_6[0][0]']             \n",
            "                                                                                                  \n",
            " sequential_13 (Sequential)  (None, 6, 64)                2432      ['input_7[0][0]']             \n",
            "                                                                                                  \n",
            " dot_2 (Dot)                 (None, 156, 6)               0         ['sequential_11[0][0]',       \n",
            "                                                                     'sequential_13[0][0]']       \n",
            "                                                                                                  \n",
            " activation_4 (Activation)   (None, 156, 6)               0         ['dot_2[0][0]']               \n",
            "                                                                                                  \n",
            " sequential_12 (Sequential)  (None, None, 6)              228       ['input_6[0][0]']             \n",
            "                                                                                                  \n",
            " add_2 (Add)                 (None, 156, 6)               0         ['activation_4[0][0]',        \n",
            "                                                                     'sequential_12[0][0]']       \n",
            "                                                                                                  \n",
            " permute_2 (Permute)         (None, 6, 156)               0         ['add_2[0][0]']               \n",
            "                                                                                                  \n",
            " concatenate_2 (Concatenate  (None, 6, 220)               0         ['permute_2[0][0]',           \n",
            " )                                                                   'sequential_13[0][0]']       \n",
            "                                                                                                  \n",
            " lstm_2 (LSTM)               (None, 32)                   32384     ['concatenate_2[0][0]']       \n",
            "                                                                                                  \n",
            " dropout_12 (Dropout)        (None, 32)                   0         ['lstm_2[0][0]']              \n",
            "                                                                                                  \n",
            " dense_2 (Dense)             (None, 38)                   1254      ['dropout_12[0][0]']          \n",
            "                                                                                                  \n",
            " activation_5 (Activation)   (None, 38)                   0         ['dense_2[0][0]']             \n",
            "                                                                                                  \n",
            "==================================================================================================\n",
            "Total params: 38730 (151.29 KB)\n",
            "Trainable params: 38730 (151.29 KB)\n",
            "Non-trainable params: 0 (0.00 Byte)\n",
            "__________________________________________________________________________________________________\n"
          ]
        }
      ]
    },
    {
      "cell_type": "code",
      "source": [
        "history = model.fit(\n",
        "    [input_train,question_train],\n",
        "    answer_train,\n",
        "    batch_size = 32,\n",
        "    epochs = 100,\n",
        "    validation_data = ([input_test,question_test],answer_test)\n",
        ")"
      ],
      "metadata": {
        "colab": {
          "base_uri": "https://localhost:8080/"
        },
        "id": "HK8YCXUMFDG1",
        "outputId": "c652e5ef-068c-4f5e-b488-7bf0a5190525"
      },
      "execution_count": 408,
      "outputs": [
        {
          "output_type": "stream",
          "name": "stdout",
          "text": [
            "Epoch 1/100\n",
            "313/313 [==============================] - 8s 15ms/step - loss: 0.9135 - val_loss: 0.6948\n",
            "Epoch 2/100\n",
            "313/313 [==============================] - 4s 13ms/step - loss: 0.7080 - val_loss: 0.6939\n",
            "Epoch 3/100\n",
            "313/313 [==============================] - 6s 18ms/step - loss: 0.6978 - val_loss: 0.6932\n",
            "Epoch 4/100\n",
            "313/313 [==============================] - 4s 12ms/step - loss: 0.6967 - val_loss: 0.6932\n",
            "Epoch 5/100\n",
            "313/313 [==============================] - 4s 12ms/step - loss: 0.6965 - val_loss: 0.6950\n",
            "Epoch 6/100\n",
            "313/313 [==============================] - 5s 17ms/step - loss: 0.6953 - val_loss: 0.6934\n",
            "Epoch 7/100\n",
            "313/313 [==============================] - 4s 12ms/step - loss: 0.6956 - val_loss: 0.6941\n",
            "Epoch 8/100\n",
            "313/313 [==============================] - 4s 13ms/step - loss: 0.6952 - val_loss: 0.6932\n",
            "Epoch 9/100\n",
            "313/313 [==============================] - 5s 17ms/step - loss: 0.6950 - val_loss: 0.6935\n",
            "Epoch 10/100\n",
            "313/313 [==============================] - 4s 13ms/step - loss: 0.6958 - val_loss: 0.6932\n",
            "Epoch 11/100\n",
            "313/313 [==============================] - 4s 12ms/step - loss: 0.6951 - val_loss: 0.6934\n",
            "Epoch 12/100\n",
            "313/313 [==============================] - 6s 20ms/step - loss: 0.6948 - val_loss: 0.6932\n",
            "Epoch 13/100\n",
            "313/313 [==============================] - 4s 14ms/step - loss: 0.6952 - val_loss: 0.6936\n",
            "Epoch 14/100\n",
            "313/313 [==============================] - 4s 12ms/step - loss: 0.6949 - val_loss: 0.6938\n",
            "Epoch 15/100\n",
            "313/313 [==============================] - 5s 17ms/step - loss: 0.6950 - val_loss: 0.7015\n",
            "Epoch 16/100\n",
            "313/313 [==============================] - 4s 12ms/step - loss: 0.6949 - val_loss: 0.6943\n",
            "Epoch 17/100\n",
            "313/313 [==============================] - 4s 12ms/step - loss: 0.6950 - val_loss: 0.6932\n",
            "Epoch 18/100\n",
            "313/313 [==============================] - 5s 17ms/step - loss: 0.6945 - val_loss: 0.6944\n",
            "Epoch 19/100\n",
            "313/313 [==============================] - 4s 12ms/step - loss: 0.6954 - val_loss: 0.6960\n",
            "Epoch 20/100\n",
            "313/313 [==============================] - 4s 12ms/step - loss: 0.6947 - val_loss: 0.6937\n",
            "Epoch 21/100\n",
            "313/313 [==============================] - 5s 17ms/step - loss: 0.6955 - val_loss: 0.6939\n",
            "Epoch 22/100\n",
            "313/313 [==============================] - 4s 12ms/step - loss: 0.6950 - val_loss: 0.6933\n",
            "Epoch 23/100\n",
            "313/313 [==============================] - 4s 12ms/step - loss: 0.6952 - val_loss: 0.6931\n",
            "Epoch 24/100\n",
            "313/313 [==============================] - 5s 17ms/step - loss: 0.6948 - val_loss: 0.6937\n",
            "Epoch 25/100\n",
            "313/313 [==============================] - 4s 13ms/step - loss: 0.6946 - val_loss: 0.6945\n",
            "Epoch 26/100\n",
            "313/313 [==============================] - 4s 12ms/step - loss: 0.6950 - val_loss: 0.6932\n",
            "Epoch 27/100\n",
            "313/313 [==============================] - 5s 16ms/step - loss: 0.6953 - val_loss: 0.6938\n",
            "Epoch 28/100\n",
            "313/313 [==============================] - 4s 14ms/step - loss: 0.6953 - val_loss: 0.6935\n",
            "Epoch 29/100\n",
            "313/313 [==============================] - 4s 13ms/step - loss: 0.6951 - val_loss: 0.6932\n",
            "Epoch 30/100\n",
            "313/313 [==============================] - 5s 16ms/step - loss: 0.6947 - val_loss: 0.6933\n",
            "Epoch 31/100\n",
            "313/313 [==============================] - 4s 14ms/step - loss: 0.6954 - val_loss: 0.6942\n",
            "Epoch 32/100\n",
            "313/313 [==============================] - 4s 12ms/step - loss: 0.6948 - val_loss: 0.6955\n",
            "Epoch 33/100\n",
            "313/313 [==============================] - 5s 16ms/step - loss: 0.6950 - val_loss: 0.6944\n",
            "Epoch 34/100\n",
            "313/313 [==============================] - 5s 14ms/step - loss: 0.6951 - val_loss: 0.6950\n",
            "Epoch 35/100\n",
            "313/313 [==============================] - 4s 13ms/step - loss: 0.6946 - val_loss: 0.6935\n",
            "Epoch 36/100\n",
            "313/313 [==============================] - 5s 16ms/step - loss: 0.6948 - val_loss: 0.6962\n",
            "Epoch 37/100\n",
            "313/313 [==============================] - 5s 14ms/step - loss: 0.6951 - val_loss: 0.6935\n",
            "Epoch 38/100\n",
            "313/313 [==============================] - 4s 12ms/step - loss: 0.6949 - val_loss: 0.6945\n",
            "Epoch 39/100\n",
            "313/313 [==============================] - 4s 14ms/step - loss: 0.6954 - val_loss: 0.6932\n",
            "Epoch 40/100\n",
            "313/313 [==============================] - 5s 15ms/step - loss: 0.6947 - val_loss: 0.6936\n",
            "Epoch 41/100\n",
            "313/313 [==============================] - 4s 12ms/step - loss: 0.6945 - val_loss: 0.6935\n",
            "Epoch 42/100\n",
            "313/313 [==============================] - 4s 13ms/step - loss: 0.6947 - val_loss: 0.6933\n",
            "Epoch 43/100\n",
            "313/313 [==============================] - 5s 17ms/step - loss: 0.6946 - val_loss: 0.6935\n",
            "Epoch 44/100\n",
            "313/313 [==============================] - 4s 13ms/step - loss: 0.6950 - val_loss: 0.6952\n",
            "Epoch 45/100\n",
            "313/313 [==============================] - 4s 13ms/step - loss: 0.6945 - val_loss: 0.6972\n",
            "Epoch 46/100\n",
            "313/313 [==============================] - 5s 17ms/step - loss: 0.6942 - val_loss: 0.6936\n",
            "Epoch 47/100\n",
            "313/313 [==============================] - 4s 12ms/step - loss: 0.6944 - val_loss: 0.6949\n",
            "Epoch 48/100\n",
            "313/313 [==============================] - 4s 13ms/step - loss: 0.6940 - val_loss: 0.6962\n",
            "Epoch 49/100\n",
            "313/313 [==============================] - 5s 17ms/step - loss: 0.6941 - val_loss: 0.6944\n",
            "Epoch 50/100\n",
            "313/313 [==============================] - 4s 12ms/step - loss: 0.6937 - val_loss: 0.6957\n",
            "Epoch 51/100\n",
            "313/313 [==============================] - 4s 13ms/step - loss: 0.6930 - val_loss: 0.6957\n",
            "Epoch 52/100\n",
            "313/313 [==============================] - 7s 22ms/step - loss: 0.6932 - val_loss: 0.6994\n",
            "Epoch 53/100\n",
            "313/313 [==============================] - 5s 17ms/step - loss: 0.6925 - val_loss: 0.7008\n",
            "Epoch 54/100\n",
            "313/313 [==============================] - 4s 12ms/step - loss: 0.6926 - val_loss: 0.6971\n",
            "Epoch 55/100\n",
            "313/313 [==============================] - 4s 13ms/step - loss: 0.6928 - val_loss: 0.6973\n",
            "Epoch 56/100\n",
            "313/313 [==============================] - 5s 16ms/step - loss: 0.6923 - val_loss: 0.6995\n",
            "Epoch 57/100\n",
            "313/313 [==============================] - 4s 12ms/step - loss: 0.6904 - val_loss: 0.7013\n",
            "Epoch 58/100\n",
            "313/313 [==============================] - 4s 12ms/step - loss: 0.6897 - val_loss: 0.6985\n",
            "Epoch 59/100\n",
            "313/313 [==============================] - 5s 18ms/step - loss: 0.6874 - val_loss: 0.7009\n",
            "Epoch 60/100\n",
            "313/313 [==============================] - 4s 12ms/step - loss: 0.6857 - val_loss: 0.6951\n",
            "Epoch 61/100\n",
            "313/313 [==============================] - 4s 12ms/step - loss: 0.6803 - val_loss: 0.6878\n",
            "Epoch 62/100\n",
            "313/313 [==============================] - 5s 17ms/step - loss: 0.6700 - val_loss: 0.6801\n",
            "Epoch 63/100\n",
            "313/313 [==============================] - 4s 12ms/step - loss: 0.6543 - val_loss: 0.6647\n",
            "Epoch 64/100\n",
            "313/313 [==============================] - 4s 12ms/step - loss: 0.6406 - val_loss: 0.6415\n",
            "Epoch 65/100\n",
            "313/313 [==============================] - 5s 17ms/step - loss: 0.6290 - val_loss: 0.6274\n",
            "Epoch 66/100\n",
            "313/313 [==============================] - 4s 12ms/step - loss: 0.6223 - val_loss: 0.6265\n",
            "Epoch 67/100\n",
            "313/313 [==============================] - 4s 12ms/step - loss: 0.6124 - val_loss: 0.6288\n",
            "Epoch 68/100\n",
            "313/313 [==============================] - 6s 18ms/step - loss: 0.6139 - val_loss: 0.6219\n",
            "Epoch 69/100\n",
            "313/313 [==============================] - 4s 12ms/step - loss: 0.6064 - val_loss: 0.6109\n",
            "Epoch 70/100\n",
            "313/313 [==============================] - 4s 13ms/step - loss: 0.5985 - val_loss: 0.6054\n",
            "Epoch 71/100\n",
            "313/313 [==============================] - 6s 18ms/step - loss: 0.5919 - val_loss: 0.5995\n",
            "Epoch 72/100\n",
            "313/313 [==============================] - 4s 12ms/step - loss: 0.5865 - val_loss: 0.5977\n",
            "Epoch 73/100\n",
            "313/313 [==============================] - 4s 12ms/step - loss: 0.5749 - val_loss: 0.5725\n",
            "Epoch 74/100\n",
            "313/313 [==============================] - 5s 17ms/step - loss: 0.5617 - val_loss: 0.5498\n",
            "Epoch 75/100\n",
            "313/313 [==============================] - 4s 12ms/step - loss: 0.5413 - val_loss: 0.5168\n",
            "Epoch 76/100\n",
            "313/313 [==============================] - 4s 13ms/step - loss: 0.5193 - val_loss: 0.5036\n",
            "Epoch 77/100\n",
            "313/313 [==============================] - 5s 16ms/step - loss: 0.5070 - val_loss: 0.4958\n",
            "Epoch 78/100\n",
            "313/313 [==============================] - 4s 14ms/step - loss: 0.4938 - val_loss: 0.4854\n",
            "Epoch 79/100\n",
            "313/313 [==============================] - 4s 13ms/step - loss: 0.4876 - val_loss: 0.4742\n",
            "Epoch 80/100\n",
            "313/313 [==============================] - 5s 16ms/step - loss: 0.4776 - val_loss: 0.4860\n",
            "Epoch 81/100\n",
            "313/313 [==============================] - 4s 14ms/step - loss: 0.4697 - val_loss: 0.4539\n",
            "Epoch 82/100\n",
            "313/313 [==============================] - 4s 12ms/step - loss: 0.4605 - val_loss: 0.4654\n",
            "Epoch 83/100\n",
            "313/313 [==============================] - 5s 15ms/step - loss: 0.4542 - val_loss: 0.4464\n",
            "Epoch 84/100\n",
            "313/313 [==============================] - 5s 15ms/step - loss: 0.4435 - val_loss: 0.4335\n",
            "Epoch 85/100\n",
            "313/313 [==============================] - 4s 13ms/step - loss: 0.4401 - val_loss: 0.4426\n",
            "Epoch 86/100\n",
            "313/313 [==============================] - 4s 14ms/step - loss: 0.4321 - val_loss: 0.4202\n",
            "Epoch 87/100\n",
            "313/313 [==============================] - 5s 16ms/step - loss: 0.4264 - val_loss: 0.4731\n",
            "Epoch 88/100\n",
            "313/313 [==============================] - 4s 13ms/step - loss: 0.4188 - val_loss: 0.4213\n",
            "Epoch 89/100\n",
            "313/313 [==============================] - 5s 15ms/step - loss: 0.4142 - val_loss: 0.4353\n",
            "Epoch 90/100\n",
            "313/313 [==============================] - 5s 16ms/step - loss: 0.4052 - val_loss: 0.4223\n",
            "Epoch 91/100\n",
            "313/313 [==============================] - 4s 12ms/step - loss: 0.4109 - val_loss: 0.4112\n",
            "Epoch 92/100\n",
            "313/313 [==============================] - 4s 14ms/step - loss: 0.4000 - val_loss: 0.4163\n",
            "Epoch 93/100\n",
            "313/313 [==============================] - 5s 16ms/step - loss: 0.3901 - val_loss: 0.4294\n",
            "Epoch 94/100\n",
            "313/313 [==============================] - 4s 13ms/step - loss: 0.3886 - val_loss: 0.3871\n",
            "Epoch 95/100\n",
            "313/313 [==============================] - 4s 13ms/step - loss: 0.3755 - val_loss: 0.3974\n",
            "Epoch 96/100\n",
            "313/313 [==============================] - 5s 17ms/step - loss: 0.3812 - val_loss: 0.3907\n",
            "Epoch 97/100\n",
            "313/313 [==============================] - 4s 13ms/step - loss: 0.3778 - val_loss: 0.3824\n",
            "Epoch 98/100\n",
            "313/313 [==============================] - 4s 13ms/step - loss: 0.3642 - val_loss: 0.3817\n",
            "Epoch 99/100\n",
            "313/313 [==============================] - 5s 17ms/step - loss: 0.3634 - val_loss: 0.3815\n",
            "Epoch 100/100\n",
            "313/313 [==============================] - 4s 13ms/step - loss: 0.3566 - val_loss: 0.3995\n"
          ]
        }
      ]
    },
    {
      "cell_type": "code",
      "source": [
        "import matplotlib.pyplot as plt\n",
        "%matplotlib inline\n",
        "print(history.history.keys())\n",
        "\n",
        "#Summarize history for loss\n",
        "plt.plot(history.history[\"loss\"])\n",
        "plt.plot(history.history['val_loss'])\n",
        "plt.title(\"model loss\")\n",
        "plt.ylabel(\"loss\")\n",
        "plt.xlabel(\"epoch\")\n",
        "plt.legend([\"train\",\"test\"],loc = \"upper left\")\n",
        "plt.show()"
      ],
      "metadata": {
        "colab": {
          "base_uri": "https://localhost:8080/",
          "height": 489
        },
        "id": "9fHyfV0BHAWy",
        "outputId": "d31065de-8a86-4b7c-cf0f-8ad85cfb13aa"
      },
      "execution_count": 409,
      "outputs": [
        {
          "output_type": "stream",
          "name": "stdout",
          "text": [
            "dict_keys(['loss', 'val_loss'])\n"
          ]
        },
        {
          "output_type": "display_data",
          "data": {
            "text/plain": [
              "<Figure size 640x480 with 1 Axes>"
            ],
            "image/png": "[encoded data removed]"
          },
          "metadata": {}
        }
      ]
    },
    {
      "cell_type": "code",
      "source": [
        "#Summarize history for accuracy\n",
        "# plt.plot(history.history[\"accuracy\"])\n",
        "# plt.plot(history.history['val_accuracy'])\n",
        "# plt.title(\"model accuracy\")\n",
        "# plt.ylabel(\"accuracy\")\n",
        "# plt.xlabel(\"epoch\")\n",
        "# plt.legend([\"train\",\"test\"],loc = \"upper left\")\n",
        "# plt.show()"
      ],
      "metadata": {
        "id": "PMD0AqVQjRLQ"
      },
      "execution_count": null,
      "outputs": []
    },
    {
      "cell_type": "code",
      "source": [
        "model.save(\"chatbox_model\")"
      ],
      "metadata": {
        "id": "ptkdfTvUIwq-"
      },
      "execution_count": 413,
      "outputs": []
    },
    {
      "cell_type": "code",
      "source": [
        "pred_results = model.predict([input_test,question_test])"
      ],
      "metadata": {
        "colab": {
          "base_uri": "https://localhost:8080/"
        },
        "id": "cx0GwL3BJv-4",
        "outputId": "35681d2c-de10-4c41-fd01-8c477e603692"
      },
      "execution_count": 414,
      "outputs": [
        {
          "output_type": "stream",
          "name": "stdout",
          "text": [
            "32/32 [==============================] - 1s 3ms/step\n"
          ]
        }
      ]
    },
    {
      "cell_type": "code",
      "source": [
        "test_data[0]"
      ],
      "metadata": {
        "colab": {
          "base_uri": "https://localhost:8080/"
        },
        "id": "-0XqgE-gJ8xA",
        "outputId": "f320dd6b-3d7e-4cbe-f4d0-9fef1853cabf"
      },
      "execution_count": 415,
      "outputs": [
        {
          "output_type": "execute_result",
          "data": {
            "text/plain": [
              "(['Mary',\n",
              "  'got',\n",
              "  'the',\n",
              "  'milk',\n",
              "  'there',\n",
              "  '.',\n",
              "  'John',\n",
              "  'moved',\n",
              "  'to',\n",
              "  'the',\n",
              "  'bedroom',\n",
              "  '.'],\n",
              " ['Is', 'John', 'in', 'the', 'kitchen', '?'],\n",
              " 'no')"
            ]
          },
          "metadata": {},
          "execution_count": 415
        }
      ]
    },
    {
      "cell_type": "code",
      "source": [
        "test_data[0][0]"
      ],
      "metadata": {
        "colab": {
          "base_uri": "https://localhost:8080/"
        },
        "id": "P8BIpCU3Rvqc",
        "outputId": "45a64168-dad3-43f5-db66-ea6d071c715d"
      },
      "execution_count": 416,
      "outputs": [
        {
          "output_type": "execute_result",
          "data": {
            "text/plain": [
              "['Mary',\n",
              " 'got',\n",
              " 'the',\n",
              " 'milk',\n",
              " 'there',\n",
              " '.',\n",
              " 'John',\n",
              " 'moved',\n",
              " 'to',\n",
              " 'the',\n",
              " 'bedroom',\n",
              " '.']"
            ]
          },
          "metadata": {},
          "execution_count": 416
        }
      ]
    },
    {
      "cell_type": "code",
      "source": [
        "pred_results.shape"
      ],
      "metadata": {
        "colab": {
          "base_uri": "https://localhost:8080/"
        },
        "id": "tKbh2pRXRyXK",
        "outputId": "d87fc78e-6108-469a-e5f3-231379a8c840"
      },
      "execution_count": 417,
      "outputs": [
        {
          "output_type": "execute_result",
          "data": {
            "text/plain": [
              "(1000, 38)"
            ]
          },
          "metadata": {},
          "execution_count": 417
        }
      ]
    },
    {
      "cell_type": "code",
      "source": [
        "pred_results"
      ],
      "metadata": {
        "colab": {
          "base_uri": "https://localhost:8080/"
        },
        "id": "U9YdldSeR2hh",
        "outputId": "27966b84-f42f-4913-b223-ef204c2e5f92"
      },
      "execution_count": 418,
      "outputs": [
        {
          "output_type": "execute_result",
          "data": {
            "text/plain": [
              "array([[8.92271945e-09, 8.86064822e-09, 1.03710089e-08, ...,\n",
              "        7.68841879e-09, 8.54080895e-09, 1.00090523e-08],\n",
              "       [1.50422022e-08, 1.65713114e-08, 2.49802330e-08, ...,\n",
              "        1.59568554e-08, 1.36046951e-08, 1.60568110e-08],\n",
              "       [3.93319297e-08, 2.10655973e-08, 3.73416427e-08, ...,\n",
              "        3.53272576e-08, 4.32889813e-08, 2.91666904e-08],\n",
              "       ...,\n",
              "       [3.49119889e-09, 3.25678795e-09, 4.12542356e-09, ...,\n",
              "        4.54171545e-09, 3.60517616e-09, 4.41893233e-09],\n",
              "       [9.77192300e-08, 1.01049686e-07, 1.36964786e-07, ...,\n",
              "        8.88659883e-08, 9.50995585e-08, 1.03727558e-07],\n",
              "       [5.37609992e-07, 4.36419924e-07, 4.98785710e-07, ...,\n",
              "        5.69868064e-07, 5.58230056e-07, 5.31697481e-07]], dtype=float32)"
            ]
          },
          "metadata": {},
          "execution_count": 418
        }
      ]
    },
    {
      "cell_type": "code",
      "source": [
        "pred_results[0]"
      ],
      "metadata": {
        "colab": {
          "base_uri": "https://localhost:8080/"
        },
        "id": "MsqpAcf7R3nJ",
        "outputId": "a55e48b7-bc5e-49e9-afb3-1de7eb84375c"
      },
      "execution_count": 419,
      "outputs": [
        {
          "output_type": "execute_result",
          "data": {
            "text/plain": [
              "array([8.92271945e-09, 8.86064822e-09, 1.03710089e-08, 8.16790457e-09,\n",
              "       9.97436800e-09, 6.29738128e-09, 8.34160918e-09, 1.47390610e-03,\n",
              "       1.03389146e-08, 8.17482437e-09, 5.46506440e-09, 8.09738854e-09,\n",
              "       7.30620453e-09, 1.12583756e-08, 9.15271503e-09, 1.02153255e-08,\n",
              "       1.04012194e-08, 9.08919873e-09, 8.17507395e-09, 6.94431757e-09,\n",
              "       7.42182715e-09, 9.57638857e-09, 1.01682236e-08, 9.12350284e-09,\n",
              "       7.05302838e-09, 9.98525798e-01, 8.87199469e-09, 8.69883543e-09,\n",
              "       7.85170151e-09, 8.60165805e-09, 5.90580829e-09, 1.19108261e-08,\n",
              "       1.11986225e-08, 1.01374917e-08, 9.89633175e-09, 7.68841879e-09,\n",
              "       8.54080895e-09, 1.00090523e-08], dtype=float32)"
            ]
          },
          "metadata": {},
          "execution_count": 419
        }
      ]
    },
    {
      "cell_type": "code",
      "source": [
        "\" \".join(test_data[0][0])"
      ],
      "metadata": {
        "colab": {
          "base_uri": "https://localhost:8080/",
          "height": 35
        },
        "id": "GOFFZp4ZSJHa",
        "outputId": "dba236a8-e603-4289-c99d-d25699252411"
      },
      "execution_count": 420,
      "outputs": [
        {
          "output_type": "execute_result",
          "data": {
            "text/plain": [
              "'Mary got the milk there . John moved to the bedroom .'"
            ],
            "application/vnd.google.colaboratory.intrinsic+json": {
              "type": "string"
            }
          },
          "metadata": {},
          "execution_count": 420
        }
      ]
    },
    {
      "cell_type": "code",
      "source": [
        "\" \".join(test_data[0][1])"
      ],
      "metadata": {
        "colab": {
          "base_uri": "https://localhost:8080/",
          "height": 35
        },
        "id": "OyoeYAg5SI7T",
        "outputId": "abcf954e-7889-45f3-8032-081c2321617c"
      },
      "execution_count": 421,
      "outputs": [
        {
          "output_type": "execute_result",
          "data": {
            "text/plain": [
              "'Is John in the kitchen ?'"
            ],
            "application/vnd.google.colaboratory.intrinsic+json": {
              "type": "string"
            }
          },
          "metadata": {},
          "execution_count": 421
        }
      ]
    },
    {
      "cell_type": "code",
      "source": [
        "test_data[0][2]"
      ],
      "metadata": {
        "colab": {
          "base_uri": "https://localhost:8080/",
          "height": 35
        },
        "id": "WPHp9XvdSRDe",
        "outputId": "cdd4a8bd-15c0-44bc-a373-62cac1962c16"
      },
      "execution_count": 422,
      "outputs": [
        {
          "output_type": "execute_result",
          "data": {
            "text/plain": [
              "'no'"
            ],
            "application/vnd.google.colaboratory.intrinsic+json": {
              "type": "string"
            }
          },
          "metadata": {},
          "execution_count": 422
        }
      ]
    },
    {
      "cell_type": "code",
      "source": [
        "val_max = np.argmax(pred_results[0])"
      ],
      "metadata": {
        "id": "lnfI0g1KR8Kc"
      },
      "execution_count": 423,
      "outputs": []
    },
    {
      "cell_type": "code",
      "source": [
        "for key,val in tokenizer.word_index.items():\n",
        "  if val == val_max:\n",
        "    k = key"
      ],
      "metadata": {
        "id": "tOJyKCf5SWDH"
      },
      "execution_count": 424,
      "outputs": []
    },
    {
      "cell_type": "code",
      "source": [
        "k"
      ],
      "metadata": {
        "colab": {
          "base_uri": "https://localhost:8080/",
          "height": 35
        },
        "id": "6aeJDYsvSdqZ",
        "outputId": "ead99e01-c6b2-45c7-da51-7217e18574d6"
      },
      "execution_count": 425,
      "outputs": [
        {
          "output_type": "execute_result",
          "data": {
            "text/plain": [
              "'no'"
            ],
            "application/vnd.google.colaboratory.intrinsic+json": {
              "type": "string"
            }
          },
          "metadata": {},
          "execution_count": 425
        }
      ]
    },
    {
      "cell_type": "code",
      "source": [
        "#Return the probability\n",
        "pred_results[0][val_max]"
      ],
      "metadata": {
        "colab": {
          "base_uri": "https://localhost:8080/"
        },
        "id": "WIH2-UmwSe6S",
        "outputId": "bceffd6b-4d2c-4614-afda-0ef5544b0f12"
      },
      "execution_count": 426,
      "outputs": [
        {
          "output_type": "execute_result",
          "data": {
            "text/plain": [
              "0.9985258"
            ]
          },
          "metadata": {},
          "execution_count": 426
        }
      ]
    },
    {
      "cell_type": "code",
      "source": [
        "#Only can use the vocab that we have trained\n",
        "vocab"
      ],
      "metadata": {
        "colab": {
          "base_uri": "https://localhost:8080/"
        },
        "id": "PQ7uSJzZSld2",
        "outputId": "074fe284-a881-473a-da12-3e58fd5904af"
      },
      "execution_count": 427,
      "outputs": [
        {
          "output_type": "execute_result",
          "data": {
            "text/plain": [
              "{'.',\n",
              " '?',\n",
              " 'Daniel',\n",
              " 'Is',\n",
              " 'John',\n",
              " 'Mary',\n",
              " 'Sandra',\n",
              " 'apple',\n",
              " 'back',\n",
              " 'bathroom',\n",
              " 'bedroom',\n",
              " 'discarded',\n",
              " 'down',\n",
              " 'dropped',\n",
              " 'football',\n",
              " 'garden',\n",
              " 'got',\n",
              " 'grabbed',\n",
              " 'hallway',\n",
              " 'in',\n",
              " 'journeyed',\n",
              " 'kitchen',\n",
              " 'left',\n",
              " 'milk',\n",
              " 'moved',\n",
              " 'no',\n",
              " 'office',\n",
              " 'picked',\n",
              " 'put',\n",
              " 'the',\n",
              " 'there',\n",
              " 'to',\n",
              " 'took',\n",
              " 'travelled',\n",
              " 'up',\n",
              " 'went',\n",
              " 'yes'}"
            ]
          },
          "metadata": {},
          "execution_count": 427
        }
      ]
    },
    {
      "cell_type": "code",
      "source": [
        "my_story = \"John left kitchen . Sandra dropped the football in the garden .\""
      ],
      "metadata": {
        "id": "FdpSnaFSS3K-"
      },
      "execution_count": 428,
      "outputs": []
    },
    {
      "cell_type": "code",
      "source": [
        "my_story.split()"
      ],
      "metadata": {
        "colab": {
          "base_uri": "https://localhost:8080/"
        },
        "id": "Cecf0zVgTSih",
        "outputId": "48563c2c-09a3-493f-f0bb-0fc0d8472aae"
      },
      "execution_count": 429,
      "outputs": [
        {
          "output_type": "execute_result",
          "data": {
            "text/plain": [
              "['John',\n",
              " 'left',\n",
              " 'kitchen',\n",
              " '.',\n",
              " 'Sandra',\n",
              " 'dropped',\n",
              " 'the',\n",
              " 'football',\n",
              " 'in',\n",
              " 'the',\n",
              " 'garden',\n",
              " '.']"
            ]
          },
          "metadata": {},
          "execution_count": 429
        }
      ]
    },
    {
      "cell_type": "code",
      "source": [
        "my_ques = \"Is the football in the garden .\""
      ],
      "metadata": {
        "id": "TvkduLlxTaA3"
      },
      "execution_count": 430,
      "outputs": []
    },
    {
      "cell_type": "code",
      "source": [
        "my_ques.split()"
      ],
      "metadata": {
        "colab": {
          "base_uri": "https://localhost:8080/"
        },
        "id": "T29_Uq7aTeb3",
        "outputId": "a75b015b-9222-442a-aa9c-0760378bf2ff"
      },
      "execution_count": 431,
      "outputs": [
        {
          "output_type": "execute_result",
          "data": {
            "text/plain": [
              "['Is', 'the', 'football', 'in', 'the', 'garden', '.']"
            ]
          },
          "metadata": {},
          "execution_count": 431
        }
      ]
    },
    {
      "cell_type": "code",
      "source": [
        "mydata = [(my_story.split(),my_ques.split(),'yes')]"
      ],
      "metadata": {
        "id": "e95srvdbTgLA"
      },
      "execution_count": 432,
      "outputs": []
    },
    {
      "cell_type": "code",
      "source": [
        "#Same format as my train and test data\n",
        "mydata"
      ],
      "metadata": {
        "colab": {
          "base_uri": "https://localhost:8080/"
        },
        "id": "2tghNo57T0Jj",
        "outputId": "5abb2213-bfb4-4c20-dfb0-28f7e8467f6f"
      },
      "execution_count": 433,
      "outputs": [
        {
          "output_type": "execute_result",
          "data": {
            "text/plain": [
              "[(['John',\n",
              "   'left',\n",
              "   'kitchen',\n",
              "   '.',\n",
              "   'Sandra',\n",
              "   'dropped',\n",
              "   'the',\n",
              "   'football',\n",
              "   'in',\n",
              "   'the',\n",
              "   'garden',\n",
              "   '.'],\n",
              "  ['Is', 'the', 'football', 'in', 'the', 'garden', '.'],\n",
              "  'yes')]"
            ]
          },
          "metadata": {},
          "execution_count": 433
        }
      ]
    },
    {
      "cell_type": "code",
      "source": [
        "my_story,my_ques,my_ans = vectorize_stories(mydata)"
      ],
      "metadata": {
        "id": "3IqZ1sGLT01y"
      },
      "execution_count": 434,
      "outputs": []
    },
    {
      "cell_type": "code",
      "source": [
        "my_story"
      ],
      "metadata": {
        "colab": {
          "base_uri": "https://localhost:8080/"
        },
        "id": "-96DGmPtUASe",
        "outputId": "dd264a2a-971f-47ec-acae-6f24427d64f4"
      },
      "execution_count": 435,
      "outputs": [
        {
          "output_type": "execute_result",
          "data": {
            "text/plain": [
              "array([[ 0,  0,  0,  0,  0,  0,  0,  0,  0,  0,  0,  0,  0,  0,  0,  0,\n",
              "         0,  0,  0,  0,  0,  0,  0,  0,  0,  0,  0,  0,  0,  0,  0,  0,\n",
              "         0,  0,  0,  0,  0,  0,  0,  0,  0,  0,  0,  0,  0,  0,  0,  0,\n",
              "         0,  0,  0,  0,  0,  0,  0,  0,  0,  0,  0,  0,  0,  0,  0,  0,\n",
              "         0,  0,  0,  0,  0,  0,  0,  0,  0,  0,  0,  0,  0,  0,  0,  0,\n",
              "         0,  0,  0,  0,  0,  0,  0,  0,  0,  0,  0,  0,  0,  0,  0,  0,\n",
              "         0,  0,  0,  0,  0,  0,  0,  0,  0,  0,  0,  0,  0,  0,  0,  0,\n",
              "         0,  0,  0,  0,  0,  0,  0,  0,  0,  0,  0,  0,  0,  0,  0,  0,\n",
              "         0,  0,  0,  0,  0,  0,  0,  0,  0,  0,  0,  0,  0,  0,  0,  0,\n",
              "        21, 18,  5,  3, 33, 29,  8,  6,  4,  8, 30,  3]], dtype=int32)"
            ]
          },
          "metadata": {},
          "execution_count": 435
        }
      ]
    },
    {
      "cell_type": "code",
      "source": [
        "my_ques"
      ],
      "metadata": {
        "colab": {
          "base_uri": "https://localhost:8080/"
        },
        "id": "i-as9Gt5UGaH",
        "outputId": "2a2c5889-c9b4-4821-bfd2-08dcee496a82"
      },
      "execution_count": 436,
      "outputs": [
        {
          "output_type": "execute_result",
          "data": {
            "text/plain": [
              "array([[ 8,  6,  4,  8, 30,  3]], dtype=int32)"
            ]
          },
          "metadata": {},
          "execution_count": 436
        }
      ]
    },
    {
      "cell_type": "code",
      "source": [
        "pred_results = model.predict([my_story,my_ques])"
      ],
      "metadata": {
        "colab": {
          "base_uri": "https://localhost:8080/"
        },
        "id": "SvrFGpF3UHZQ",
        "outputId": "d0d6491a-4e52-41dd-f7d7-b2971b660983"
      },
      "execution_count": 437,
      "outputs": [
        {
          "output_type": "stream",
          "name": "stdout",
          "text": [
            "1/1 [==============================] - 0s 24ms/step\n"
          ]
        }
      ]
    },
    {
      "cell_type": "code",
      "source": [
        "val_max = np.argmax(pred_results[0])"
      ],
      "metadata": {
        "id": "IlM2SesnUStL"
      },
      "execution_count": 438,
      "outputs": []
    },
    {
      "cell_type": "code",
      "source": [
        "val_max"
      ],
      "metadata": {
        "colab": {
          "base_uri": "https://localhost:8080/"
        },
        "id": "WDd4WIAsUzIj",
        "outputId": "fdd4a631-b4d1-4976-b70a-2ad178baee90"
      },
      "execution_count": 439,
      "outputs": [
        {
          "output_type": "execute_result",
          "data": {
            "text/plain": [
              "7"
            ]
          },
          "metadata": {},
          "execution_count": 439
        }
      ]
    },
    {
      "cell_type": "code",
      "source": [
        "for key,val in tokenizer.word_index.items():\n",
        "  if val == val_max:\n",
        "    k = key"
      ],
      "metadata": {
        "id": "FTzFD02VUbCH"
      },
      "execution_count": 440,
      "outputs": []
    },
    {
      "cell_type": "code",
      "source": [
        "#The ans is yes\n",
        "k"
      ],
      "metadata": {
        "colab": {
          "base_uri": "https://localhost:8080/",
          "height": 35
        },
        "id": "Itm-ptTsUtX7",
        "outputId": "5555d140-6a7f-404a-c6dd-1a1d13671fd8"
      },
      "execution_count": 441,
      "outputs": [
        {
          "output_type": "execute_result",
          "data": {
            "text/plain": [
              "'yes'"
            ],
            "application/vnd.google.colaboratory.intrinsic+json": {
              "type": "string"
            }
          },
          "metadata": {},
          "execution_count": 441
        }
      ]
    },
    {
      "cell_type": "code",
      "source": [
        "pred_results[0][val_max]"
      ],
      "metadata": {
        "colab": {
          "base_uri": "https://localhost:8080/"
        },
        "id": "iE2bGrGWVHiw",
        "outputId": "6b727364-4f4b-4fd5-c52e-5372aa52fd98"
      },
      "execution_count": 442,
      "outputs": [
        {
          "output_type": "execute_result",
          "data": {
            "text/plain": [
              "0.9856494"
            ]
          },
          "metadata": {},
          "execution_count": 442
        }
      ]
    },
    {
      "cell_type": "code",
      "source": [
        "def chat_box(story,ques,ans):\n",
        "  k = \"null\"\n",
        "\n",
        "  mydata = [(story.split(),ques.split(),ans)]\n",
        "  my_story,my_ques,my_ans = vectorize_stories(mydata)\n",
        "\n",
        "  pred_results = model.predict([my_story,my_ques])\n",
        "  val_max = np.argmax(pred_results[0])\n",
        "\n",
        "  for key,val in tokenizer.word_index.items():\n",
        "    if val == val_max:\n",
        "      k = key\n",
        "\n",
        "  print(k,\" \",pred_results[0][val_max])"
      ],
      "metadata": {
        "id": "0206mnVWWnLj"
      },
      "execution_count": 443,
      "outputs": []
    },
    {
      "cell_type": "code",
      "source": [
        "story = \"john dropped football in garden . john left .\"\n",
        "ques = \"Is the football in the kitchen\"\n",
        "ans = 'no'\n",
        "\n",
        "chat_box(story,ques,ans)"
      ],
      "metadata": {
        "colab": {
          "base_uri": "https://localhost:8080/"
        },
        "id": "gjKrMagQYIkc",
        "outputId": "69729158-92cf-4e44-9e74-a6cf88cc2c12"
      },
      "execution_count": 444,
      "outputs": [
        {
          "output_type": "stream",
          "name": "stdout",
          "text": [
            "1/1 [==============================] - 0s 23ms/step\n",
            "no   0.7176984\n"
          ]
        }
      ]
    },
    {
      "cell_type": "code",
      "source": [
        "story = \"john dropped football in garden . john left .\"\n",
        "ques = \"Is the football in the garden .\"\n",
        "ans = 'yes'\n",
        "\n",
        "chat_box(story,ques,ans)"
      ],
      "metadata": {
        "colab": {
          "base_uri": "https://localhost:8080/"
        },
        "id": "MGtiV4gTgpLt",
        "outputId": "67aba8c7-8d69-4a55-92f8-30edd9c10e2c"
      },
      "execution_count": 445,
      "outputs": [
        {
          "output_type": "stream",
          "name": "stdout",
          "text": [
            "1/1 [==============================] - 0s 26ms/step\n",
            "yes   0.89946544\n"
          ]
        }
      ]
    }
  ]
}