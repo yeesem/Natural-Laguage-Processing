{
  "nbformat": 4,
  "nbformat_minor": 0,
  "metadata": {
    "colab": {
      "provenance": [],
      "authorship_tag": "ABX9TyN2fB8aSFN3blD2d3v7MkX/",
      "include_colab_link": true
    },
    "kernelspec": {
      "name": "python3",
      "display_name": "Python 3"
    },
    "language_info": {
      "name": "python"
    }
  },
  "cells": [
    {
      "cell_type": "markdown",
      "metadata": {
        "id": "view-in-github",
        "colab_type": "text"
      },
      "source": [
        "<a href=\"https://colab.research.google.com/github/yeesem/Natural-Laguage-Processing/blob/main/Chat_Bot.ipynb\" target=\"_parent\"><img src=\"https://colab.research.google.com/assets/colab-badge.svg\" alt=\"Open In Colab\"/></a>"
      ]
    },
    {
      "cell_type": "code",
      "execution_count": 1,
      "metadata": {
        "id": "ofO5lYbmg-DM"
      },
      "outputs": [],
      "source": [
        "import pickle\n",
        "import numpy as np"
      ]
    },
    {
      "cell_type": "code",
      "source": [
        "with open(\"train_qa.txt\",'rb') as f:\n",
        "  train_data = pickle.load(f)"
      ],
      "metadata": {
        "id": "Fg5fmhjQhECe"
      },
      "execution_count": 3,
      "outputs": []
    },
    {
      "cell_type": "code",
      "source": [
        "with open(\"test_qa.txt\",\"rb\") as f:\n",
        "  test_data = pickle.load(f)"
      ],
      "metadata": {
        "id": "AtqoBDPuh0Iz"
      },
      "execution_count": 4,
      "outputs": []
    },
    {
      "cell_type": "code",
      "source": [
        "type(test_data)"
      ],
      "metadata": {
        "colab": {
          "base_uri": "https://localhost:8080/"
        },
        "id": "fxN-CP7QhOCa",
        "outputId": "d8741b9e-8fad-4628-800f-903f52a09870"
      },
      "execution_count": 5,
      "outputs": [
        {
          "output_type": "execute_result",
          "data": {
            "text/plain": [
              "list"
            ]
          },
          "metadata": {},
          "execution_count": 5
        }
      ]
    },
    {
      "cell_type": "code",
      "source": [
        "type(train_data)"
      ],
      "metadata": {
        "colab": {
          "base_uri": "https://localhost:8080/"
        },
        "id": "hVJ9LUksh-9P",
        "outputId": "c9fec20f-4129-4b23-c8b6-66c6e5460837"
      },
      "execution_count": 6,
      "outputs": [
        {
          "output_type": "execute_result",
          "data": {
            "text/plain": [
              "list"
            ]
          },
          "metadata": {},
          "execution_count": 6
        }
      ]
    },
    {
      "cell_type": "code",
      "source": [
        "len(train_data)"
      ],
      "metadata": {
        "colab": {
          "base_uri": "https://localhost:8080/"
        },
        "id": "LUVg1hVlh__A",
        "outputId": "e95dde86-3201-4100-edfd-e61b429e6ca6"
      },
      "execution_count": 7,
      "outputs": [
        {
          "output_type": "execute_result",
          "data": {
            "text/plain": [
              "10000"
            ]
          },
          "metadata": {},
          "execution_count": 7
        }
      ]
    },
    {
      "cell_type": "code",
      "source": [
        "len(test_data)"
      ],
      "metadata": {
        "colab": {
          "base_uri": "https://localhost:8080/"
        },
        "id": "R3zd7apGiB_B",
        "outputId": "44d30f25-b9d3-429c-faca-1b93b7977cb8"
      },
      "execution_count": 8,
      "outputs": [
        {
          "output_type": "execute_result",
          "data": {
            "text/plain": [
              "1000"
            ]
          },
          "metadata": {},
          "execution_count": 8
        }
      ]
    },
    {
      "cell_type": "code",
      "source": [
        "#Story,Question,Ans\n",
        "print(train_data[0])\n",
        "\n",
        "print(\"\\n\")\n",
        "\n",
        "#Story\n",
        "print(train_data[0][0])"
      ],
      "metadata": {
        "colab": {
          "base_uri": "https://localhost:8080/"
        },
        "id": "tSKeSyOPiDWi",
        "outputId": "56a7243f-ff0c-468a-8eea-c13de3222054"
      },
      "execution_count": 13,
      "outputs": [
        {
          "output_type": "stream",
          "name": "stdout",
          "text": [
            "(['Mary', 'moved', 'to', 'the', 'bathroom', '.', 'Sandra', 'journeyed', 'to', 'the', 'bedroom', '.'], ['Is', 'Sandra', 'in', 'the', 'hallway', '?'], 'no')\n",
            "\n",
            "\n",
            "['Mary', 'moved', 'to', 'the', 'bathroom', '.', 'Sandra', 'journeyed', 'to', 'the', 'bedroom', '.']\n"
          ]
        }
      ]
    },
    {
      "cell_type": "code",
      "source": [
        "\" \".join(train_data[0][1])"
      ],
      "metadata": {
        "colab": {
          "base_uri": "https://localhost:8080/",
          "height": 35
        },
        "id": "YnK6HqYViSxN",
        "outputId": "a5f2cab7-ba20-406d-d0db-ae1ebda91002"
      },
      "execution_count": 14,
      "outputs": [
        {
          "output_type": "execute_result",
          "data": {
            "text/plain": [
              "'Is Sandra in the hallway ?'"
            ],
            "application/vnd.google.colaboratory.intrinsic+json": {
              "type": "string"
            }
          },
          "metadata": {},
          "execution_count": 14
        }
      ]
    },
    {
      "cell_type": "code",
      "source": [
        "all_data = test_data + train_data"
      ],
      "metadata": {
        "id": "w-lwWP8CjYc3"
      },
      "execution_count": 15,
      "outputs": []
    },
    {
      "cell_type": "code",
      "source": [
        "len(all_data)"
      ],
      "metadata": {
        "colab": {
          "base_uri": "https://localhost:8080/"
        },
        "id": "E16g4AaXkSol",
        "outputId": "383a0808-f564-4547-a7a4-1b27a413cb4e"
      },
      "execution_count": 16,
      "outputs": [
        {
          "output_type": "execute_result",
          "data": {
            "text/plain": [
              "11000"
            ]
          },
          "metadata": {},
          "execution_count": 16
        }
      ]
    },
    {
      "cell_type": "code",
      "source": [
        "test = [\"I\",\"am\",\"John\",\"I\"]\n",
        "set1 = set(test)\n",
        "test2 = [\"I\",\"am\",\"Peter\",\"I\"]\n",
        "set1.union(test2)"
      ],
      "metadata": {
        "colab": {
          "base_uri": "https://localhost:8080/"
        },
        "id": "eU8QOVjamN_l",
        "outputId": "d2af4d38-3a8f-4947-d1da-fc3ac8d52a7a"
      },
      "execution_count": 22,
      "outputs": [
        {
          "output_type": "execute_result",
          "data": {
            "text/plain": [
              "{'I', 'John', 'Peter', 'am'}"
            ]
          },
          "metadata": {},
          "execution_count": 22
        }
      ]
    },
    {
      "cell_type": "code",
      "source": [
        "#Set vocab as empty set\n",
        "vocab = set()\n",
        "\n",
        "#Set - Only Return unique word\n",
        "for story,question,answer in all_data:\n",
        "  vocab = vocab.union(set(story))\n",
        "  vocab = vocab.union(set(question))"
      ],
      "metadata": {
        "id": "I4YygVzSkT-W"
      },
      "execution_count": 24,
      "outputs": []
    },
    {
      "cell_type": "code",
      "source": [
        "vocab.add('no')"
      ],
      "metadata": {
        "id": "4K1IyLtekl5S"
      },
      "execution_count": 25,
      "outputs": []
    },
    {
      "cell_type": "code",
      "source": [
        "vocab.add('yes')"
      ],
      "metadata": {
        "id": "YQ3i3UFzm0tl"
      },
      "execution_count": 26,
      "outputs": []
    },
    {
      "cell_type": "code",
      "source": [
        "vocab"
      ],
      "metadata": {
        "colab": {
          "base_uri": "https://localhost:8080/"
        },
        "id": "mvIXtpMAm2Kl",
        "outputId": "93dc8383-c011-43b1-93d4-f2b9c251786b"
      },
      "execution_count": 27,
      "outputs": [
        {
          "output_type": "execute_result",
          "data": {
            "text/plain": [
              "{'.',\n",
              " '?',\n",
              " 'Daniel',\n",
              " 'Is',\n",
              " 'John',\n",
              " 'Mary',\n",
              " 'Sandra',\n",
              " 'apple',\n",
              " 'back',\n",
              " 'bathroom',\n",
              " 'bedroom',\n",
              " 'discarded',\n",
              " 'down',\n",
              " 'dropped',\n",
              " 'football',\n",
              " 'garden',\n",
              " 'got',\n",
              " 'grabbed',\n",
              " 'hallway',\n",
              " 'in',\n",
              " 'journeyed',\n",
              " 'kitchen',\n",
              " 'left',\n",
              " 'milk',\n",
              " 'moved',\n",
              " 'no',\n",
              " 'office',\n",
              " 'picked',\n",
              " 'put',\n",
              " 'the',\n",
              " 'there',\n",
              " 'to',\n",
              " 'took',\n",
              " 'travelled',\n",
              " 'up',\n",
              " 'went',\n",
              " 'yes'}"
            ]
          },
          "metadata": {},
          "execution_count": 27
        }
      ]
    },
    {
      "cell_type": "code",
      "source": [
        "vocab_len = len(vocab) + 1"
      ],
      "metadata": {
        "id": "eu0m9j_Lm59h"
      },
      "execution_count": 28,
      "outputs": []
    },
    {
      "cell_type": "code",
      "source": [
        "vocab_len"
      ],
      "metadata": {
        "colab": {
          "base_uri": "https://localhost:8080/"
        },
        "id": "AbMb-GVApmGN",
        "outputId": "3d3fa3e8-2d3a-4170-acc6-efca2e7c359f"
      },
      "execution_count": 29,
      "outputs": [
        {
          "output_type": "execute_result",
          "data": {
            "text/plain": [
              "38"
            ]
          },
          "metadata": {},
          "execution_count": 29
        }
      ]
    },
    {
      "cell_type": "code",
      "source": [
        "#Longest story\n",
        "all_story_lens = [len(data[0]) for data in all_data]"
      ],
      "metadata": {
        "id": "BqZJyHH3prSo"
      },
      "execution_count": 30,
      "outputs": []
    },
    {
      "cell_type": "code",
      "source": [
        "all_story_lens"
      ],
      "metadata": {
        "colab": {
          "base_uri": "https://localhost:8080/"
        },
        "id": "c4asH9xgp_CR",
        "outputId": "7baee2b9-5215-4c42-a2c8-0400fbd80c31"
      },
      "execution_count": 31,
      "outputs": [
        {
          "output_type": "execute_result",
          "data": {
            "text/plain": [
              "[12,\n",
              " 23,\n",
              " 35,\n",
              " 47,\n",
              " 59,\n",
              " 13,\n",
              " 26,\n",
              " 37,\n",
              " 50,\n",
              " 62,\n",
              " 12,\n",
              " 24,\n",
              " 37,\n",
              " 49,\n",
              " 60,\n",
              " 12,\n",
              " 25,\n",
              " 38,\n",
              " 50,\n",
              " 62,\n",
              " 12,\n",
              " 24,\n",
              " 36,\n",
              " 47,\n",
              " 59,\n",
              " 12,\n",
              " 25,\n",
              " 36,\n",
              " 48,\n",
              " 59,\n",
              " 12,\n",
              " 26,\n",
              " 39,\n",
              " 51,\n",
              " 63,\n",
              " 13,\n",
              " 24,\n",
              " 37,\n",
              " 50,\n",
              " 62,\n",
              " 13,\n",
              " 26,\n",
              " 38,\n",
              " 50,\n",
              " 63,\n",
              " 13,\n",
              " 25,\n",
              " 36,\n",
              " 49,\n",
              " 61,\n",
              " 13,\n",
              " 26,\n",
              " 39,\n",
              " 51,\n",
              " 64,\n",
              " 13,\n",
              " 25,\n",
              " 37,\n",
              " 50,\n",
              " 62,\n",
              " 13,\n",
              " 25,\n",
              " 37,\n",
              " 50,\n",
              " 61,\n",
              " 12,\n",
              " 25,\n",
              " 38,\n",
              " 50,\n",
              " 62,\n",
              " 12,\n",
              " 25,\n",
              " 37,\n",
              " 50,\n",
              " 61,\n",
              " 12,\n",
              " 25,\n",
              " 36,\n",
              " 48,\n",
              " 60,\n",
              " 12,\n",
              " 24,\n",
              " 36,\n",
              " 48,\n",
              " 60,\n",
              " 13,\n",
              " 25,\n",
              " 37,\n",
              " 49,\n",
              " 60,\n",
              " 13,\n",
              " 25,\n",
              " 39,\n",
              " 51,\n",
              " 64,\n",
              " 12,\n",
              " 25,\n",
              " 37,\n",
              " 49,\n",
              " 61,\n",
              " 12,\n",
              " 25,\n",
              " 38,\n",
              " 50,\n",
              " 61,\n",
              " 12,\n",
              " 24,\n",
              " 36,\n",
              " 49,\n",
              " 62,\n",
              " 13,\n",
              " 25,\n",
              " 37,\n",
              " 50,\n",
              " 62,\n",
              " 12,\n",
              " 23,\n",
              " 35,\n",
              " 47,\n",
              " 59,\n",
              " 12,\n",
              " 25,\n",
              " 37,\n",
              " 48,\n",
              " 73,\n",
              " 12,\n",
              " 24,\n",
              " 37,\n",
              " 49,\n",
              " 61,\n",
              " 12,\n",
              " 24,\n",
              " 37,\n",
              " 49,\n",
              " 62,\n",
              " 14,\n",
              " 26,\n",
              " 37,\n",
              " 49,\n",
              " 62,\n",
              " 12,\n",
              " 23,\n",
              " 35,\n",
              " 48,\n",
              " 59,\n",
              " 12,\n",
              " 24,\n",
              " 36,\n",
              " 49,\n",
              " 61,\n",
              " 13,\n",
              " 25,\n",
              " 37,\n",
              " 49,\n",
              " 61,\n",
              " 12,\n",
              " 25,\n",
              " 37,\n",
              " 50,\n",
              " 62,\n",
              " 12,\n",
              " 24,\n",
              " 36,\n",
              " 47,\n",
              " 58,\n",
              " 12,\n",
              " 24,\n",
              " 36,\n",
              " 48,\n",
              " 61,\n",
              " 25,\n",
              " 38,\n",
              " 50,\n",
              " 62,\n",
              " 74,\n",
              " 13,\n",
              " 25,\n",
              " 37,\n",
              " 49,\n",
              " 62,\n",
              " 12,\n",
              " 24,\n",
              " 37,\n",
              " 49,\n",
              " 62,\n",
              " 12,\n",
              " 24,\n",
              " 36,\n",
              " 48,\n",
              " 60,\n",
              " 12,\n",
              " 24,\n",
              " 36,\n",
              " 48,\n",
              " 61,\n",
              " 12,\n",
              " 25,\n",
              " 36,\n",
              " 50,\n",
              " 62,\n",
              " 24,\n",
              " 36,\n",
              " 49,\n",
              " 61,\n",
              " 74,\n",
              " 12,\n",
              " 24,\n",
              " 36,\n",
              " 47,\n",
              " 59,\n",
              " 13,\n",
              " 25,\n",
              " 38,\n",
              " 50,\n",
              " 62,\n",
              " 12,\n",
              " 25,\n",
              " 37,\n",
              " 49,\n",
              " 61,\n",
              " 12,\n",
              " 24,\n",
              " 36,\n",
              " 48,\n",
              " 61,\n",
              " 13,\n",
              " 25,\n",
              " 37,\n",
              " 48,\n",
              " 61,\n",
              " 13,\n",
              " 26,\n",
              " 39,\n",
              " 52,\n",
              " 63,\n",
              " 13,\n",
              " 27,\n",
              " 40,\n",
              " 51,\n",
              " 63,\n",
              " 12,\n",
              " 24,\n",
              " 36,\n",
              " 48,\n",
              " 59,\n",
              " 12,\n",
              " 24,\n",
              " 36,\n",
              " 47,\n",
              " 58,\n",
              " 12,\n",
              " 23,\n",
              " 35,\n",
              " 47,\n",
              " 59,\n",
              " 12,\n",
              " 25,\n",
              " 38,\n",
              " 50,\n",
              " 62,\n",
              " 12,\n",
              " 24,\n",
              " 35,\n",
              " 47,\n",
              " 60,\n",
              " 13,\n",
              " 26,\n",
              " 38,\n",
              " 51,\n",
              " 63,\n",
              " 12,\n",
              " 24,\n",
              " 36,\n",
              " 48,\n",
              " 61,\n",
              " 12,\n",
              " 24,\n",
              " 36,\n",
              " 48,\n",
              " 60,\n",
              " 13,\n",
              " 25,\n",
              " 38,\n",
              " 49,\n",
              " 62,\n",
              " 12,\n",
              " 24,\n",
              " 35,\n",
              " 47,\n",
              " 59,\n",
              " 12,\n",
              " 24,\n",
              " 36,\n",
              " 48,\n",
              " 58,\n",
              " 12,\n",
              " 24,\n",
              " 36,\n",
              " 48,\n",
              " 61,\n",
              " 13,\n",
              " 26,\n",
              " 38,\n",
              " 50,\n",
              " 63,\n",
              " 24,\n",
              " 37,\n",
              " 49,\n",
              " 62,\n",
              " 74,\n",
              " 12,\n",
              " 24,\n",
              " 36,\n",
              " 49,\n",
              " 61,\n",
              " 13,\n",
              " 26,\n",
              " 39,\n",
              " 51,\n",
              " 63,\n",
              " 12,\n",
              " 24,\n",
              " 36,\n",
              " 48,\n",
              " 60,\n",
              " 12,\n",
              " 24,\n",
              " 36,\n",
              " 47,\n",
              " 59,\n",
              " 13,\n",
              " 26,\n",
              " 38,\n",
              " 51,\n",
              " 64,\n",
              " 12,\n",
              " 24,\n",
              " 37,\n",
              " 51,\n",
              " 63,\n",
              " 13,\n",
              " 25,\n",
              " 37,\n",
              " 50,\n",
              " 62,\n",
              " 12,\n",
              " 24,\n",
              " 37,\n",
              " 50,\n",
              " 62,\n",
              " 12,\n",
              " 25,\n",
              " 38,\n",
              " 48,\n",
              " 60,\n",
              " 12,\n",
              " 25,\n",
              " 37,\n",
              " 50,\n",
              " 62,\n",
              " 13,\n",
              " 24,\n",
              " 37,\n",
              " 49,\n",
              " 63,\n",
              " 12,\n",
              " 23,\n",
              " 36,\n",
              " 49,\n",
              " 61,\n",
              " 13,\n",
              " 24,\n",
              " 37,\n",
              " 60,\n",
              " 71,\n",
              " 12,\n",
              " 24,\n",
              " 35,\n",
              " 47,\n",
              " 60,\n",
              " 12,\n",
              " 24,\n",
              " 38,\n",
              " 50,\n",
              " 62,\n",
              " 36,\n",
              " 48,\n",
              " 61,\n",
              " 73,\n",
              " 86,\n",
              " 12,\n",
              " 24,\n",
              " 37,\n",
              " 49,\n",
              " 61,\n",
              " 13,\n",
              " 25,\n",
              " 37,\n",
              " 49,\n",
              " 60,\n",
              " 13,\n",
              " 25,\n",
              " 36,\n",
              " 47,\n",
              " 59,\n",
              " 13,\n",
              " 25,\n",
              " 38,\n",
              " 49,\n",
              " 62,\n",
              " 24,\n",
              " 37,\n",
              " 48,\n",
              " 60,\n",
              " 72,\n",
              " 13,\n",
              " 25,\n",
              " 37,\n",
              " 49,\n",
              " 61,\n",
              " 12,\n",
              " 24,\n",
              " 37,\n",
              " 49,\n",
              " 61,\n",
              " 12,\n",
              " 24,\n",
              " 36,\n",
              " 48,\n",
              " 62,\n",
              " 12,\n",
              " 25,\n",
              " 38,\n",
              " 50,\n",
              " 62,\n",
              " 12,\n",
              " 23,\n",
              " 35,\n",
              " 49,\n",
              " 60,\n",
              " 14,\n",
              " 26,\n",
              " 39,\n",
              " 51,\n",
              " 63,\n",
              " 13,\n",
              " 25,\n",
              " 36,\n",
              " 49,\n",
              " 62,\n",
              " 13,\n",
              " 26,\n",
              " 38,\n",
              " 50,\n",
              " 61,\n",
              " 13,\n",
              " 25,\n",
              " 38,\n",
              " 50,\n",
              " 62,\n",
              " 13,\n",
              " 26,\n",
              " 39,\n",
              " 51,\n",
              " 63,\n",
              " 12,\n",
              " 25,\n",
              " 47,\n",
              " 61,\n",
              " 74,\n",
              " 13,\n",
              " 26,\n",
              " 38,\n",
              " 50,\n",
              " 62,\n",
              " 12,\n",
              " 24,\n",
              " 36,\n",
              " 49,\n",
              " 62,\n",
              " 12,\n",
              " 24,\n",
              " 37,\n",
              " 49,\n",
              " 61,\n",
              " 12,\n",
              " 25,\n",
              " 37,\n",
              " 50,\n",
              " 61,\n",
              " 12,\n",
              " 25,\n",
              " 38,\n",
              " 50,\n",
              " 63,\n",
              " 12,\n",
              " 24,\n",
              " 37,\n",
              " 50,\n",
              " 62,\n",
              " 12,\n",
              " 24,\n",
              " 36,\n",
              " 48,\n",
              " 60,\n",
              " 12,\n",
              " 24,\n",
              " 37,\n",
              " 49,\n",
              " 62,\n",
              " 13,\n",
              " 25,\n",
              " 37,\n",
              " 49,\n",
              " 62,\n",
              " 12,\n",
              " 24,\n",
              " 36,\n",
              " 49,\n",
              " 60,\n",
              " 25,\n",
              " 36,\n",
              " 48,\n",
              " 61,\n",
              " 73,\n",
              " 12,\n",
              " 24,\n",
              " 36,\n",
              " 48,\n",
              " 60,\n",
              " 12,\n",
              " 24,\n",
              " 35,\n",
              " 47,\n",
              " 60,\n",
              " 12,\n",
              " 25,\n",
              " 38,\n",
              " 51,\n",
              " 65,\n",
              " 12,\n",
              " 25,\n",
              " 37,\n",
              " 50,\n",
              " 62,\n",
              " 12,\n",
              " 24,\n",
              " 35,\n",
              " 48,\n",
              " 61,\n",
              " 13,\n",
              " 27,\n",
              " 39,\n",
              " 51,\n",
              " 62,\n",
              " 12,\n",
              " 24,\n",
              " 37,\n",
              " 49,\n",
              " 61,\n",
              " 12,\n",
              " 24,\n",
              " 37,\n",
              " 48,\n",
              " 60,\n",
              " 13,\n",
              " 25,\n",
              " 38,\n",
              " 50,\n",
              " 62,\n",
              " 12,\n",
              " 24,\n",
              " 37,\n",
              " 49,\n",
              " 62,\n",
              " 12,\n",
              " 23,\n",
              " 35,\n",
              " 47,\n",
              " 59,\n",
              " 12,\n",
              " 24,\n",
              " 36,\n",
              " 49,\n",
              " 61,\n",
              " 24,\n",
              " 37,\n",
              " 49,\n",
              " 61,\n",
              " 73,\n",
              " 12,\n",
              " 24,\n",
              " 37,\n",
              " 49,\n",
              " 61,\n",
              " 13,\n",
              " 26,\n",
              " 38,\n",
              " 50,\n",
              " 61,\n",
              " 12,\n",
              " 24,\n",
              " 36,\n",
              " 49,\n",
              " 61,\n",
              " 27,\n",
              " 38,\n",
              " 50,\n",
              " 61,\n",
              " 73,\n",
              " 12,\n",
              " 26,\n",
              " 37,\n",
              " 50,\n",
              " 63,\n",
              " 12,\n",
              " 24,\n",
              " 36,\n",
              " 48,\n",
              " 59,\n",
              " 12,\n",
              " 24,\n",
              " 37,\n",
              " 48,\n",
              " 60,\n",
              " 13,\n",
              " 25,\n",
              " 37,\n",
              " 48,\n",
              " 61,\n",
              " 12,\n",
              " 24,\n",
              " 36,\n",
              " 48,\n",
              " 60,\n",
              " 12,\n",
              " 25,\n",
              " 37,\n",
              " 49,\n",
              " 63,\n",
              " 13,\n",
              " 25,\n",
              " 37,\n",
              " 49,\n",
              " 61,\n",
              " 12,\n",
              " 24,\n",
              " 36,\n",
              " 48,\n",
              " 61,\n",
              " 12,\n",
              " 24,\n",
              " 37,\n",
              " 50,\n",
              " 62,\n",
              " 13,\n",
              " 25,\n",
              " 37,\n",
              " 50,\n",
              " 62,\n",
              " 14,\n",
              " 27,\n",
              " 39,\n",
              " 51,\n",
              " 62,\n",
              " 13,\n",
              " 25,\n",
              " 37,\n",
              " 49,\n",
              " 60,\n",
              " 12,\n",
              " 25,\n",
              " 37,\n",
              " 49,\n",
              " 63,\n",
              " 24,\n",
              " 36,\n",
              " 47,\n",
              " 59,\n",
              " 71,\n",
              " 13,\n",
              " 25,\n",
              " 37,\n",
              " 50,\n",
              " 62,\n",
              " 13,\n",
              " 24,\n",
              " 36,\n",
              " 48,\n",
              " 61,\n",
              " 23,\n",
              " 34,\n",
              " 46,\n",
              " 58,\n",
              " 70,\n",
              " 13,\n",
              " 25,\n",
              " 38,\n",
              " 52,\n",
              " 65,\n",
              " 12,\n",
              " 24,\n",
              " 36,\n",
              " 47,\n",
              " 60,\n",
              " 12,\n",
              " 26,\n",
              " 38,\n",
              " 51,\n",
              " 63,\n",
              " 12,\n",
              " 25,\n",
              " 38,\n",
              " 49,\n",
              " 62,\n",
              " 13,\n",
              " 25,\n",
              " 38,\n",
              " 49,\n",
              " 62,\n",
              " 12,\n",
              " 24,\n",
              " 36,\n",
              " 49,\n",
              " 61,\n",
              " 12,\n",
              " 24,\n",
              " 37,\n",
              " 50,\n",
              " 62,\n",
              " 12,\n",
              " 24,\n",
              " 38,\n",
              " 51,\n",
              " 63,\n",
              " 12,\n",
              " 24,\n",
              " 36,\n",
              " 48,\n",
              " 62,\n",
              " 13,\n",
              " 25,\n",
              " 37,\n",
              " 49,\n",
              " 61,\n",
              " 12,\n",
              " 24,\n",
              " 38,\n",
              " 50,\n",
              " 61,\n",
              " 35,\n",
              " 47,\n",
              " 60,\n",
              " 72,\n",
              " 84,\n",
              " 12,\n",
              " 24,\n",
              " 36,\n",
              " 49,\n",
              " 61,\n",
              " 12,\n",
              " 24,\n",
              " 35,\n",
              " 48,\n",
              " 60,\n",
              " 12,\n",
              " 24,\n",
              " 36,\n",
              " 49,\n",
              " 60,\n",
              " 12,\n",
              " 25,\n",
              " 37,\n",
              " 49,\n",
              " 62,\n",
              " 12,\n",
              " 24,\n",
              " 36,\n",
              " 48,\n",
              " 60,\n",
              " 13,\n",
              " 26,\n",
              " 37,\n",
              " 50,\n",
              " 62,\n",
              " 13,\n",
              " 25,\n",
              " 38,\n",
              " 50,\n",
              " 64,\n",
              " 23,\n",
              " 35,\n",
              " 47,\n",
              " 60,\n",
              " 73,\n",
              " 12,\n",
              " 24,\n",
              " 37,\n",
              " 49,\n",
              " 61,\n",
              " 12,\n",
              " 24,\n",
              " 36,\n",
              " 49,\n",
              " 62,\n",
              " 12,\n",
              " 24,\n",
              " 37,\n",
              " 49,\n",
              " 61,\n",
              " 12,\n",
              " 25,\n",
              " 38,\n",
              " 50,\n",
              " 62,\n",
              " 14,\n",
              " 25,\n",
              " 37,\n",
              " 49,\n",
              " 61,\n",
              " 13,\n",
              " 26,\n",
              " 38,\n",
              " 50,\n",
              " 62,\n",
              " 12,\n",
              " 23,\n",
              " 35,\n",
              " 47,\n",
              " 58,\n",
              " 12,\n",
              " 24,\n",
              " 37,\n",
              " 49,\n",
              " 61,\n",
              " 25,\n",
              " 36,\n",
              " 48,\n",
              " 60,\n",
              " 71,\n",
              " 24,\n",
              " 38,\n",
              " 50,\n",
              " 62,\n",
              " 75,\n",
              " 13,\n",
              " 25,\n",
              " 36,\n",
              " 47,\n",
              " 59,\n",
              " 24,\n",
              " 37,\n",
              " 50,\n",
              " 61,\n",
              " 74,\n",
              " 12,\n",
              " 25,\n",
              " 38,\n",
              " 50,\n",
              " 64,\n",
              " 13,\n",
              " 25,\n",
              " 37,\n",
              " 49,\n",
              " 61,\n",
              " 12,\n",
              " 24,\n",
              " 36,\n",
              " 48,\n",
              " 61,\n",
              " 12,\n",
              " 25,\n",
              " 38,\n",
              " 51,\n",
              " 64,\n",
              " 12,\n",
              " 24,\n",
              " 36,\n",
              " 49,\n",
              " 60,\n",
              " 12,\n",
              " 25,\n",
              " 38,\n",
              " 50,\n",
              " 62,\n",
              " 12,\n",
              " 25,\n",
              " 39,\n",
              " 51,\n",
              " 63,\n",
              " 12,\n",
              " 24,\n",
              " 36,\n",
              " 49,\n",
              " 61,\n",
              " 12,\n",
              " 26,\n",
              " 39,\n",
              " 51,\n",
              " 63,\n",
              " 13,\n",
              " 26,\n",
              " 38,\n",
              " 49,\n",
              " 60,\n",
              " 37,\n",
              " 48,\n",
              " 60,\n",
              " 73,\n",
              " 83,\n",
              " 12,\n",
              " 25,\n",
              " 37,\n",
              " 49,\n",
              " 61,\n",
              " 13,\n",
              " 25,\n",
              " 38,\n",
              " 51,\n",
              " 64,\n",
              " 12,\n",
              " 25,\n",
              " 39,\n",
              " 51,\n",
              " 63,\n",
              " 23,\n",
              " 36,\n",
              " 47,\n",
              " 59,\n",
              " 71,\n",
              " 13,\n",
              " 25,\n",
              " 37,\n",
              " 50,\n",
              " 62,\n",
              " 13,\n",
              " 25,\n",
              " 38,\n",
              " 50,\n",
              " 62,\n",
              " 36,\n",
              " 47,\n",
              " 59,\n",
              " 71,\n",
              " 84,\n",
              " 13,\n",
              " 25,\n",
              " 37,\n",
              " 50,\n",
              " 62,\n",
              " 12,\n",
              " 25,\n",
              " 37,\n",
              " 51,\n",
              " 63,\n",
              " 13,\n",
              " 26,\n",
              " 38,\n",
              " 52,\n",
              " 64,\n",
              " 12,\n",
              " 24,\n",
              " 37,\n",
              " 49,\n",
              " 60,\n",
              " 12,\n",
              " 24,\n",
              " 36,\n",
              " 47,\n",
              " 60,\n",
              " 13,\n",
              " 25,\n",
              " 36,\n",
              " 49,\n",
              " 61,\n",
              " 13,\n",
              " 25,\n",
              " 38,\n",
              " 50,\n",
              " 62,\n",
              " 12,\n",
              " 24,\n",
              " 38,\n",
              " 51,\n",
              " 63,\n",
              " 13,\n",
              " 25,\n",
              " 38,\n",
              " 50,\n",
              " 62,\n",
              " 13,\n",
              " 25,\n",
              " 37,\n",
              " 49,\n",
              " 60,\n",
              " 12,\n",
              " 25,\n",
              " 36,\n",
              " 47,\n",
              " 60,\n",
              " ...]"
            ]
          },
          "metadata": {},
          "execution_count": 31
        }
      ]
    },
    {
      "cell_type": "code",
      "source": [
        "max_story_len = max(all_story_lens)\n",
        "max_story_len"
      ],
      "metadata": {
        "colab": {
          "base_uri": "https://localhost:8080/"
        },
        "id": "uQ8MMXUkqAV_",
        "outputId": "63753b62-2d93-4aa8-a0a4-c0749b3d360b"
      },
      "execution_count": 33,
      "outputs": [
        {
          "output_type": "execute_result",
          "data": {
            "text/plain": [
              "156"
            ]
          },
          "metadata": {},
          "execution_count": 33
        }
      ]
    },
    {
      "cell_type": "code",
      "source": [
        "max_question_len = max([len(data[1]) for data in all_data])\n",
        "print(max_question_len)"
      ],
      "metadata": {
        "colab": {
          "base_uri": "https://localhost:8080/"
        },
        "id": "Gmn-WTD7qCQi",
        "outputId": "855fd99c-fca9-4042-e7f0-ee12106877ae"
      },
      "execution_count": 35,
      "outputs": [
        {
          "output_type": "stream",
          "name": "stdout",
          "text": [
            "6\n"
          ]
        }
      ]
    },
    {
      "cell_type": "code",
      "source": [
        "from keras.preprocessing.sequence import pad_sequences\n",
        "from keras.preprocessing.text import Tokenizer"
      ],
      "metadata": {
        "id": "MLw0N2gaqn87"
      },
      "execution_count": 36,
      "outputs": []
    },
    {
      "cell_type": "code",
      "source": [
        "tokenizer = Tokenizer(filters=[])\n",
        "tokenizer.fit_on_texts(vocab)"
      ],
      "metadata": {
        "id": "9jIQ9QN5ra5r"
      },
      "execution_count": 37,
      "outputs": []
    },
    {
      "cell_type": "code",
      "source": [
        "tokenizer.word_index.items()\n",
        "\n",
        "print(tokenizer.word_index[\"down\"])\n",
        "print(\"\\n\")\n",
        "\n",
        "for i,(word,count) in enumerate(tokenizer.word_index.items()):\n",
        "  print(f\"{word:<10}: {count}\")\n",
        "  if(i==9):\n",
        "    break"
      ],
      "metadata": {
        "colab": {
          "base_uri": "https://localhost:8080/"
        },
        "id": "Al9eztHRroZm",
        "outputId": "6ec16931-7690-4f8c-a2a2-bc3a5d00bf59"
      },
      "execution_count": 65,
      "outputs": [
        {
          "output_type": "stream",
          "name": "stdout",
          "text": [
            "1\n",
            "\n",
            "\n",
            "down      : 1\n",
            "there     : 2\n",
            ".         : 3\n",
            "in        : 4\n",
            "kitchen   : 5\n",
            "football  : 6\n",
            "yes       : 7\n",
            "the       : 8\n",
            "milk      : 9\n",
            "got       : 10\n"
          ]
        }
      ]
    },
    {
      "cell_type": "code",
      "source": [
        "train_story_text = []\n",
        "train_question_text = []\n",
        "train_ans = []"
      ],
      "metadata": {
        "id": "RgWGn4GNrqDt"
      },
      "execution_count": 53,
      "outputs": []
    },
    {
      "cell_type": "code",
      "source": [
        "for story,question,answer in train_data:\n",
        "  train_story_text.append(story)\n",
        "  train_question_text.append(question)\n",
        "  train_ans.append(answer)"
      ],
      "metadata": {
        "id": "foLReJZh3Uew"
      },
      "execution_count": 55,
      "outputs": []
    },
    {
      "cell_type": "code",
      "source": [
        "train_story_text[:5]"
      ],
      "metadata": {
        "colab": {
          "base_uri": "https://localhost:8080/"
        },
        "id": "VSS9JAZm3jQ-",
        "outputId": "cbdb0aba-eda4-46e6-83d1-f59d442edf15"
      },
      "execution_count": 57,
      "outputs": [
        {
          "output_type": "execute_result",
          "data": {
            "text/plain": [
              "[['Mary',\n",
              "  'moved',\n",
              "  'to',\n",
              "  'the',\n",
              "  'bathroom',\n",
              "  '.',\n",
              "  'Sandra',\n",
              "  'journeyed',\n",
              "  'to',\n",
              "  'the',\n",
              "  'bedroom',\n",
              "  '.'],\n",
              " ['Mary',\n",
              "  'moved',\n",
              "  'to',\n",
              "  'the',\n",
              "  'bathroom',\n",
              "  '.',\n",
              "  'Sandra',\n",
              "  'journeyed',\n",
              "  'to',\n",
              "  'the',\n",
              "  'bedroom',\n",
              "  '.',\n",
              "  'Mary',\n",
              "  'went',\n",
              "  'back',\n",
              "  'to',\n",
              "  'the',\n",
              "  'bedroom',\n",
              "  '.',\n",
              "  'Daniel',\n",
              "  'went',\n",
              "  'back',\n",
              "  'to',\n",
              "  'the',\n",
              "  'hallway',\n",
              "  '.'],\n",
              " ['Mary',\n",
              "  'moved',\n",
              "  'to',\n",
              "  'the',\n",
              "  'bathroom',\n",
              "  '.',\n",
              "  'Sandra',\n",
              "  'journeyed',\n",
              "  'to',\n",
              "  'the',\n",
              "  'bedroom',\n",
              "  '.',\n",
              "  'Mary',\n",
              "  'went',\n",
              "  'back',\n",
              "  'to',\n",
              "  'the',\n",
              "  'bedroom',\n",
              "  '.',\n",
              "  'Daniel',\n",
              "  'went',\n",
              "  'back',\n",
              "  'to',\n",
              "  'the',\n",
              "  'hallway',\n",
              "  '.',\n",
              "  'Sandra',\n",
              "  'went',\n",
              "  'to',\n",
              "  'the',\n",
              "  'kitchen',\n",
              "  '.',\n",
              "  'Daniel',\n",
              "  'went',\n",
              "  'back',\n",
              "  'to',\n",
              "  'the',\n",
              "  'bathroom',\n",
              "  '.'],\n",
              " ['Mary',\n",
              "  'moved',\n",
              "  'to',\n",
              "  'the',\n",
              "  'bathroom',\n",
              "  '.',\n",
              "  'Sandra',\n",
              "  'journeyed',\n",
              "  'to',\n",
              "  'the',\n",
              "  'bedroom',\n",
              "  '.',\n",
              "  'Mary',\n",
              "  'went',\n",
              "  'back',\n",
              "  'to',\n",
              "  'the',\n",
              "  'bedroom',\n",
              "  '.',\n",
              "  'Daniel',\n",
              "  'went',\n",
              "  'back',\n",
              "  'to',\n",
              "  'the',\n",
              "  'hallway',\n",
              "  '.',\n",
              "  'Sandra',\n",
              "  'went',\n",
              "  'to',\n",
              "  'the',\n",
              "  'kitchen',\n",
              "  '.',\n",
              "  'Daniel',\n",
              "  'went',\n",
              "  'back',\n",
              "  'to',\n",
              "  'the',\n",
              "  'bathroom',\n",
              "  '.',\n",
              "  'Daniel',\n",
              "  'picked',\n",
              "  'up',\n",
              "  'the',\n",
              "  'football',\n",
              "  'there',\n",
              "  '.',\n",
              "  'Daniel',\n",
              "  'went',\n",
              "  'to',\n",
              "  'the',\n",
              "  'bedroom',\n",
              "  '.'],\n",
              " ['Mary',\n",
              "  'moved',\n",
              "  'to',\n",
              "  'the',\n",
              "  'bathroom',\n",
              "  '.',\n",
              "  'Sandra',\n",
              "  'journeyed',\n",
              "  'to',\n",
              "  'the',\n",
              "  'bedroom',\n",
              "  '.',\n",
              "  'Mary',\n",
              "  'went',\n",
              "  'back',\n",
              "  'to',\n",
              "  'the',\n",
              "  'bedroom',\n",
              "  '.',\n",
              "  'Daniel',\n",
              "  'went',\n",
              "  'back',\n",
              "  'to',\n",
              "  'the',\n",
              "  'hallway',\n",
              "  '.',\n",
              "  'Sandra',\n",
              "  'went',\n",
              "  'to',\n",
              "  'the',\n",
              "  'kitchen',\n",
              "  '.',\n",
              "  'Daniel',\n",
              "  'went',\n",
              "  'back',\n",
              "  'to',\n",
              "  'the',\n",
              "  'bathroom',\n",
              "  '.',\n",
              "  'Daniel',\n",
              "  'picked',\n",
              "  'up',\n",
              "  'the',\n",
              "  'football',\n",
              "  'there',\n",
              "  '.',\n",
              "  'Daniel',\n",
              "  'went',\n",
              "  'to',\n",
              "  'the',\n",
              "  'bedroom',\n",
              "  '.',\n",
              "  'John',\n",
              "  'travelled',\n",
              "  'to',\n",
              "  'the',\n",
              "  'office',\n",
              "  '.',\n",
              "  'Sandra',\n",
              "  'went',\n",
              "  'to',\n",
              "  'the',\n",
              "  'garden',\n",
              "  '.']]"
            ]
          },
          "metadata": {},
          "execution_count": 57
        }
      ]
    },
    {
      "cell_type": "code",
      "source": [
        "train_story_seq = tokenizer.texts_to_sequences(train_story_text)"
      ],
      "metadata": {
        "id": "Eootr0c13nTG"
      },
      "execution_count": 58,
      "outputs": []
    },
    {
      "cell_type": "code",
      "source": [
        "len(train_story_seq)"
      ],
      "metadata": {
        "colab": {
          "base_uri": "https://localhost:8080/"
        },
        "id": "-0cCkrTi31Z_",
        "outputId": "48bd4af4-d26c-4270-ecf8-6adeb8da958c"
      },
      "execution_count": 59,
      "outputs": [
        {
          "output_type": "execute_result",
          "data": {
            "text/plain": [
              "10000"
            ]
          },
          "metadata": {},
          "execution_count": 59
        }
      ]
    },
    {
      "cell_type": "code",
      "source": [
        "train_story_seq[:3]"
      ],
      "metadata": {
        "colab": {
          "base_uri": "https://localhost:8080/"
        },
        "id": "ESY4b_Ao38My",
        "outputId": "239682b3-5aa2-4238-c8f1-2348cb2b2120"
      },
      "execution_count": 62,
      "outputs": [
        {
          "output_type": "execute_result",
          "data": {
            "text/plain": [
              "[[11, 20, 16, 8, 26, 3, 33, 32, 16, 8, 27, 3],\n",
              " [11,\n",
              "  20,\n",
              "  16,\n",
              "  8,\n",
              "  26,\n",
              "  3,\n",
              "  33,\n",
              "  32,\n",
              "  16,\n",
              "  8,\n",
              "  27,\n",
              "  3,\n",
              "  11,\n",
              "  13,\n",
              "  19,\n",
              "  16,\n",
              "  8,\n",
              "  27,\n",
              "  3,\n",
              "  17,\n",
              "  13,\n",
              "  19,\n",
              "  16,\n",
              "  8,\n",
              "  31,\n",
              "  3],\n",
              " [11,\n",
              "  20,\n",
              "  16,\n",
              "  8,\n",
              "  26,\n",
              "  3,\n",
              "  33,\n",
              "  32,\n",
              "  16,\n",
              "  8,\n",
              "  27,\n",
              "  3,\n",
              "  11,\n",
              "  13,\n",
              "  19,\n",
              "  16,\n",
              "  8,\n",
              "  27,\n",
              "  3,\n",
              "  17,\n",
              "  13,\n",
              "  19,\n",
              "  16,\n",
              "  8,\n",
              "  31,\n",
              "  3,\n",
              "  33,\n",
              "  13,\n",
              "  16,\n",
              "  8,\n",
              "  5,\n",
              "  3,\n",
              "  17,\n",
              "  13,\n",
              "  19,\n",
              "  16,\n",
              "  8,\n",
              "  26,\n",
              "  3]]"
            ]
          },
          "metadata": {},
          "execution_count": 62
        }
      ]
    },
    {
      "cell_type": "code",
      "source": [
        "def vectorize_stories(data,word_index=tokenizer.word_index,max_story_len = max_story_len,max_ques_len = max_question_len):\n",
        "\n",
        "  #STORIES = X\n",
        "  X = []\n",
        "  #QUESTION\n",
        "  Xq = []\n",
        "  #Y CORRECT ANS (yes/no)\n",
        "  Y = []\n",
        "\n",
        "  for story,question,answer in data:\n",
        "\n",
        "    #for each story\n",
        "    #[23,14,...]\n",
        "    x = [word_index[word.lower()] for word in story]\n",
        "    xq = [word_index[word.lower()] for word in question]\n",
        "\n",
        "    y = np.zeros(len(word_index) + 1)\n",
        "    y[word_index[answer]] = 1\n",
        "\n",
        "    X.append(x)\n",
        "    Xq.append(xq)\n",
        "    Y.append(y)\n",
        "\n",
        "  #pad_sequences - make all the question and stories in the same length\n",
        "  return (pad_sequences(X,maxlen = max_story_len),pad_sequences(Xq,maxlen=max_question_len),np.array(Y))\n"
      ],
      "metadata": {
        "id": "oH7NDVsv4ARS"
      },
      "execution_count": 75,
      "outputs": []
    },
    {
      "cell_type": "code",
      "source": [
        "input_train,question_train,answer_train = vectorize_stories(train_data)"
      ],
      "metadata": {
        "id": "BLASV3tG7VZn"
      },
      "execution_count": null,
      "outputs": []
    },
    {
      "cell_type": "code",
      "source": [
        "input_test,question_test,answer_test = vectorize_stories(test_data)"
      ],
      "metadata": {
        "id": "2uzMYL3k7ksW"
      },
      "execution_count": 72,
      "outputs": []
    },
    {
      "cell_type": "code",
      "source": [
        "answer_test"
      ],
      "metadata": {
        "colab": {
          "base_uri": "https://localhost:8080/"
        },
        "id": "QHwE1s6w74xW",
        "outputId": "2fcb9dc8-01b5-4385-ff26-e8496ea17be6"
      },
      "execution_count": 73,
      "outputs": [
        {
          "output_type": "execute_result",
          "data": {
            "text/plain": [
              "array([[0., 0., 0., ..., 0., 0., 0.],\n",
              "       [0., 0., 0., ..., 0., 0., 0.],\n",
              "       [0., 0., 0., ..., 0., 0., 0.],\n",
              "       ...,\n",
              "       [0., 0., 0., ..., 0., 0., 0.],\n",
              "       [0., 0., 0., ..., 0., 0., 0.],\n",
              "       [0., 0., 0., ..., 0., 0., 0.]])"
            ]
          },
          "metadata": {},
          "execution_count": 73
        }
      ]
    },
    {
      "cell_type": "code",
      "source": [
        "input_test"
      ],
      "metadata": {
        "colab": {
          "base_uri": "https://localhost:8080/"
        },
        "id": "-y4lDTCq77eb",
        "outputId": "e28841fd-30b7-4e16-b578-495f68c76163"
      },
      "execution_count": 74,
      "outputs": [
        {
          "output_type": "execute_result",
          "data": {
            "text/plain": [
              "array([[ 0,  0,  0, ...,  8, 27,  3],\n",
              "       [ 0,  0,  0, ...,  8, 30,  3],\n",
              "       [ 0,  0,  0, ...,  8, 30,  3],\n",
              "       ...,\n",
              "       [ 0,  0,  0, ...,  8, 24,  3],\n",
              "       [ 0,  0,  0, ...,  8, 30,  3],\n",
              "       [ 0,  0,  0, ..., 24,  2,  3]], dtype=int32)"
            ]
          },
          "metadata": {},
          "execution_count": 74
        }
      ]
    },
    {
      "cell_type": "code",
      "source": [
        "tokenizer.word_index['yes']"
      ],
      "metadata": {
        "colab": {
          "base_uri": "https://localhost:8080/"
        },
        "id": "LW97Z_Xi7-LE",
        "outputId": "2cc207b4-9791-4bb9-888e-932b57bcaf19"
      },
      "execution_count": 78,
      "outputs": [
        {
          "output_type": "execute_result",
          "data": {
            "text/plain": [
              "7"
            ]
          },
          "metadata": {},
          "execution_count": 78
        }
      ]
    },
    {
      "cell_type": "code",
      "source": [
        "tokenizer.word_index['no']"
      ],
      "metadata": {
        "colab": {
          "base_uri": "https://localhost:8080/"
        },
        "id": "Pns4OiIl8fgB",
        "outputId": "a9743b10-cbb4-41a7-f0ea-54e78d3941b7"
      },
      "execution_count": 79,
      "outputs": [
        {
          "output_type": "execute_result",
          "data": {
            "text/plain": [
              "25"
            ]
          },
          "metadata": {},
          "execution_count": 79
        }
      ]
    },
    {
      "cell_type": "code",
      "source": [
        "yes = 0\n",
        "no = 0\n",
        "\n",
        "for i in range (len(test_data)):\n",
        "  if train_data[i][2] == 'no':\n",
        "    no+=1\n",
        "  else:\n",
        "    yes+=1\n",
        "\n",
        "print(yes)\n",
        "print(no)\n"
      ],
      "metadata": {
        "colab": {
          "base_uri": "https://localhost:8080/"
        },
        "id": "kAm6f-CN8nfL",
        "outputId": "518fea8d-17ca-4775-8384-95ba62038f43"
      },
      "execution_count": 88,
      "outputs": [
        {
          "output_type": "stream",
          "name": "stdout",
          "text": [
            "508\n",
            "492\n"
          ]
        }
      ]
    },
    {
      "cell_type": "code",
      "source": [
        "sum(answer_test)"
      ],
      "metadata": {
        "colab": {
          "base_uri": "https://localhost:8080/"
        },
        "id": "ew2hWC6p8l-d",
        "outputId": "7eeba692-7fd0-489f-9d01-f5c113606b95"
      },
      "execution_count": 81,
      "outputs": [
        {
          "output_type": "execute_result",
          "data": {
            "text/plain": [
              "array([  0.,   0.,   0.,   0.,   0.,   0.,   0., 497.,   0.,   0.,   0.,\n",
              "         0.,   0.,   0.,   0.,   0.,   0.,   0.,   0.,   0.,   0.,   0.,\n",
              "         0.,   0.,   0., 503.,   0.,   0.,   0.,   0.,   0.,   0.,   0.,\n",
              "         0.,   0.,   0.,   0.,   0.])"
            ]
          },
          "metadata": {},
          "execution_count": 81
        }
      ]
    },
    {
      "cell_type": "code",
      "source": [
        "from keras.models import Sequential,Model"
      ],
      "metadata": {
        "id": "Kj97SVvp-9KC"
      },
      "execution_count": 89,
      "outputs": []
    },
    {
      "cell_type": "code",
      "source": [
        "from tensorflow.keras.layers import Embedding"
      ],
      "metadata": {
        "id": "EqJwWjA2_BnO"
      },
      "execution_count": 92,
      "outputs": []
    },
    {
      "cell_type": "code",
      "source": [
        "from keras.layers import Input,Activation,Dense,Permute,Dropout,add,dot,concatenate"
      ],
      "metadata": {
        "id": "ZqRMlxyr_F5I"
      },
      "execution_count": 93,
      "outputs": []
    },
    {
      "cell_type": "code",
      "source": [
        "#PLACEHOLDER shape = (max_story_len,batch_size)\n",
        "input_sequence = Input((max_story_len,))\n",
        "question = Input((max_question_len,))"
      ],
      "metadata": {
        "id": "6cEudpnN_f8s"
      },
      "execution_count": 95,
      "outputs": []
    },
    {
      "cell_type": "code",
      "source": [
        "vocab_size = len(vocab) + 1"
      ],
      "metadata": {
        "id": "B5Bqpw7KAHJU"
      },
      "execution_count": 96,
      "outputs": []
    },
    {
      "cell_type": "code",
      "source": [
        "# INPUT ENCODER M\n",
        "input_encoder_m = Sequential()\n",
        "input_encoder_m.add(Embedding(input_dim = vocab_size,output_dim = 64))\n",
        "#Dropout = 0.5, 50% of neuron wil be turned off during the training\n",
        "#Help in preventing overfitting\n",
        "input_encoder_m.add(Dropout(0.3))\n",
        "\n",
        "#OUTPUT\n",
        "#(samples,story_maxlen,embedding_dim)"
      ],
      "metadata": {
        "id": "bJldIB24AYol"
      },
      "execution_count": 102,
      "outputs": []
    },
    {
      "cell_type": "code",
      "source": [
        "# INPUT ENCODER C\n",
        "input_encoder_c = Sequential()\n",
        "input_encoder_c.add(Embedding(input_dim=vocab_size,output_dim = max_question_len))\n",
        "input_encoder_c.add(Dropout(0.3))\n",
        "\n",
        "#OUTPUT\n",
        "#(samples,story_maxlen,max_question_len)"
      ],
      "metadata": {
        "id": "wtwq_CMoBLUY"
      },
      "execution_count": 97,
      "outputs": []
    },
    {
      "cell_type": "code",
      "source": [
        "question_encoder = Sequential()\n",
        "question_encoder.add(Embedding(input_dim = vocab_size,output_dim = 64,input_length = max_question_len))\n",
        "question_encoder.add(Dropout(0.3))\n",
        "\n",
        "#(samples,question_maxlen,embedding_dim)"
      ],
      "metadata": {
        "id": "oJgDVoG6B7tT"
      },
      "execution_count": 100,
      "outputs": []
    },
    {
      "cell_type": "code",
      "source": [
        "#ENCODED ---> ENCODER(INPUT)\n",
        "input_encoded_m = input_encoder_m(input_sequence)\n",
        "input_encoded_c = input_encoder_c(input_sequence)\n",
        "question_encoded = question_encoder(question)"
      ],
      "metadata": {
        "id": "fPQhr6ANCULb"
      },
      "execution_count": 103,
      "outputs": []
    },
    {
      "cell_type": "code",
      "source": [
        "match = dot([input_encoded_m,question_encoded],axes = (2,2))\n",
        "match = Activation('softmax')(match)"
      ],
      "metadata": {
        "id": "j3qA1_4yC6kk"
      },
      "execution_count": 104,
      "outputs": []
    },
    {
      "cell_type": "code",
      "source": [
        " response = add([match,input_encoded_c])\n",
        " response = Permute((2,1))(response)"
      ],
      "metadata": {
        "id": "GCIp31hzDXl_"
      },
      "execution_count": 105,
      "outputs": []
    },
    {
      "cell_type": "code",
      "source": [
        "answer = concatenate([response,question_encoded])"
      ],
      "metadata": {
        "id": "2DMnQO3eDnKE"
      },
      "execution_count": 107,
      "outputs": []
    },
    {
      "cell_type": "code",
      "source": [
        "answer"
      ],
      "metadata": {
        "colab": {
          "base_uri": "https://localhost:8080/"
        },
        "id": "PnDqwzRiDsrU",
        "outputId": "a744c26a-ccd3-4318-eba7-410f9a71ffd4"
      },
      "execution_count": 108,
      "outputs": [
        {
          "output_type": "execute_result",
          "data": {
            "text/plain": [
              "<KerasTensor: shape=(None, 6, 220) dtype=float32 (created by layer 'concatenate')>"
            ]
          },
          "metadata": {},
          "execution_count": 108
        }
      ]
    },
    {
      "cell_type": "code",
      "source": [
        "from keras.layers import LSTM\n",
        "answer = LSTM(32)(answer)"
      ],
      "metadata": {
        "id": "lBDhypBqDvwQ"
      },
      "execution_count": 110,
      "outputs": []
    },
    {
      "cell_type": "code",
      "source": [
        "answer = Dropout(0.5)(answer)\n",
        "answer = Dense(vocab_size)(answer)"
      ],
      "metadata": {
        "id": "5OFKICbAD-Sf"
      },
      "execution_count": 111,
      "outputs": []
    },
    {
      "cell_type": "code",
      "source": [
        "answer = Activation('softmax')(answer)"
      ],
      "metadata": {
        "id": "nL6egdhdETTY"
      },
      "execution_count": 112,
      "outputs": []
    },
    {
      "cell_type": "code",
      "source": [
        "model = Model([input_sequence,question],answer)"
      ],
      "metadata": {
        "id": "iUCK77QDEbXA"
      },
      "execution_count": 113,
      "outputs": []
    },
    {
      "cell_type": "code",
      "source": [
        "import tensorflow as tf\n",
        "tf.keras.utils.plot_model(model)"
      ],
      "metadata": {
        "colab": {
          "base_uri": "https://localhost:8080/",
          "height": 1000
        },
        "id": "RLx8C7UxEhlS",
        "outputId": "f53f6aea-3670-4709-ef9a-b9fa1ae0541a"
      },
      "execution_count": 114,
      "outputs": [
        {
          "output_type": "execute_result",
          "data": {
            "image/png": "[encoded data removed]",
            "text/plain": [
              "<IPython.core.display.Image object>"
            ]
          },
          "metadata": {},
          "execution_count": 114
        }
      ]
    },
    {
      "cell_type": "code",
      "source": [
        "model.compile(optimizer = 'rmsprop',loss = 'categorical_crossentropy')"
      ],
      "metadata": {
        "id": "D5wi_qSXEnDR"
      },
      "execution_count": 115,
      "outputs": []
    },
    {
      "cell_type": "code",
      "source": [
        "model.summary()"
      ],
      "metadata": {
        "colab": {
          "base_uri": "https://localhost:8080/"
        },
        "id": "bfdVOEjnE-tb",
        "outputId": "532bc33f-2e4e-427f-f56a-7521d806d90c"
      },
      "execution_count": 116,
      "outputs": [
        {
          "output_type": "stream",
          "name": "stdout",
          "text": [
            "Model: \"model\"\n",
            "__________________________________________________________________________________________________\n",
            " Layer (type)                Output Shape                 Param #   Connected to                  \n",
            "==================================================================================================\n",
            " input_2 (InputLayer)        [(None, 156)]                0         []                            \n",
            "                                                                                                  \n",
            " input_3 (InputLayer)        [(None, 6)]                  0         []                            \n",
            "                                                                                                  \n",
            " sequential_4 (Sequential)   (None, None, 64)             2432      ['input_2[0][0]']             \n",
            "                                                                                                  \n",
            " sequential_3 (Sequential)   (None, 6, 64)                2432      ['input_3[0][0]']             \n",
            "                                                                                                  \n",
            " dot (Dot)                   (None, 156, 6)               0         ['sequential_4[0][0]',        \n",
            "                                                                     'sequential_3[0][0]']        \n",
            "                                                                                                  \n",
            " activation (Activation)     (None, 156, 6)               0         ['dot[0][0]']                 \n",
            "                                                                                                  \n",
            " sequential (Sequential)     (None, None, 6)              228       ['input_2[0][0]']             \n",
            "                                                                                                  \n",
            " add (Add)                   (None, 156, 6)               0         ['activation[0][0]',          \n",
            "                                                                     'sequential[0][0]']          \n",
            "                                                                                                  \n",
            " permute (Permute)           (None, 6, 156)               0         ['add[0][0]']                 \n",
            "                                                                                                  \n",
            " concatenate (Concatenate)   (None, 6, 220)               0         ['permute[0][0]',             \n",
            "                                                                     'sequential_3[0][0]']        \n",
            "                                                                                                  \n",
            " lstm (LSTM)                 (None, 32)                   32384     ['concatenate[0][0]']         \n",
            "                                                                                                  \n",
            " dropout_4 (Dropout)         (None, 32)                   0         ['lstm[0][0]']                \n",
            "                                                                                                  \n",
            " dense (Dense)               (None, 38)                   1254      ['dropout_4[0][0]']           \n",
            "                                                                                                  \n",
            " activation_1 (Activation)   (None, 38)                   0         ['dense[0][0]']               \n",
            "                                                                                                  \n",
            "==================================================================================================\n",
            "Total params: 38730 (151.29 KB)\n",
            "Trainable params: 38730 (151.29 KB)\n",
            "Non-trainable params: 0 (0.00 Byte)\n",
            "__________________________________________________________________________________________________\n"
          ]
        }
      ]
    },
    {
      "cell_type": "code",
      "source": [],
      "metadata": {
        "id": "HK8YCXUMFDG1"
      },
      "execution_count": null,
      "outputs": []
    }
  ]
}