{
  "nbformat": 4,
  "nbformat_minor": 0,
  "metadata": {
    "colab": {
      "provenance": [],
      "authorship_tag": "ABX9TyN16fpb7ZnPEXhhhm0pQCNw",
      "include_colab_link": true
    },
    "kernelspec": {
      "name": "python3",
      "display_name": "Python 3"
    },
    "language_info": {
      "name": "python"
    }
  },
  "cells": [
    {
      "cell_type": "markdown",
      "metadata": {
        "id": "view-in-github",
        "colab_type": "text"
      },
      "source": [
        "<a href=\"https://colab.research.google.com/github/yeesem/Natural-Laguage-Processing/blob/main/Chat_Bot.ipynb\" target=\"_parent\"><img src=\"https://colab.research.google.com/assets/colab-badge.svg\" alt=\"Open In Colab\"/></a>"
      ]
    },
    {
      "cell_type": "code",
      "execution_count": 223,
      "metadata": {
        "id": "ofO5lYbmg-DM"
      },
      "outputs": [],
      "source": [
        "import pickle\n",
        "import numpy as np"
      ]
    },
    {
      "cell_type": "code",
      "source": [
        "with open(\"train_qa.txt\",'rb') as f:\n",
        "  train_data = pickle.load(f)"
      ],
      "metadata": {
        "id": "Fg5fmhjQhECe"
      },
      "execution_count": 224,
      "outputs": []
    },
    {
      "cell_type": "code",
      "source": [
        "with open(\"test_qa.txt\",\"rb\") as f:\n",
        "  test_data = pickle.load(f)"
      ],
      "metadata": {
        "id": "AtqoBDPuh0Iz"
      },
      "execution_count": 225,
      "outputs": []
    },
    {
      "cell_type": "code",
      "source": [
        "type(test_data)"
      ],
      "metadata": {
        "colab": {
          "base_uri": "https://localhost:8080/"
        },
        "id": "fxN-CP7QhOCa",
        "outputId": "cca72bbb-ae19-419a-9aec-2205b2b88fc4"
      },
      "execution_count": 226,
      "outputs": [
        {
          "output_type": "execute_result",
          "data": {
            "text/plain": [
              "list"
            ]
          },
          "metadata": {},
          "execution_count": 226
        }
      ]
    },
    {
      "cell_type": "code",
      "source": [
        "type(train_data)"
      ],
      "metadata": {
        "colab": {
          "base_uri": "https://localhost:8080/"
        },
        "id": "hVJ9LUksh-9P",
        "outputId": "def7aef8-2685-4156-883b-e1c924497c06"
      },
      "execution_count": 227,
      "outputs": [
        {
          "output_type": "execute_result",
          "data": {
            "text/plain": [
              "list"
            ]
          },
          "metadata": {},
          "execution_count": 227
        }
      ]
    },
    {
      "cell_type": "code",
      "source": [
        "len(train_data)"
      ],
      "metadata": {
        "colab": {
          "base_uri": "https://localhost:8080/"
        },
        "id": "LUVg1hVlh__A",
        "outputId": "e9b07fb1-e01f-4266-fbd3-23c3fd8804f6"
      },
      "execution_count": 228,
      "outputs": [
        {
          "output_type": "execute_result",
          "data": {
            "text/plain": [
              "10000"
            ]
          },
          "metadata": {},
          "execution_count": 228
        }
      ]
    },
    {
      "cell_type": "code",
      "source": [
        "len(test_data)"
      ],
      "metadata": {
        "colab": {
          "base_uri": "https://localhost:8080/"
        },
        "id": "R3zd7apGiB_B",
        "outputId": "cbdfe5c3-153b-4a65-8c93-a077b69bd9d9"
      },
      "execution_count": 229,
      "outputs": [
        {
          "output_type": "execute_result",
          "data": {
            "text/plain": [
              "1000"
            ]
          },
          "metadata": {},
          "execution_count": 229
        }
      ]
    },
    {
      "cell_type": "code",
      "source": [
        "#Story,Question,Ans\n",
        "print(train_data[0])\n",
        "\n",
        "print(\"\\n\")\n",
        "\n",
        "#Story\n",
        "print(train_data[0][0])"
      ],
      "metadata": {
        "colab": {
          "base_uri": "https://localhost:8080/"
        },
        "id": "tSKeSyOPiDWi",
        "outputId": "fb3f2be3-9b9c-4148-b0a7-61fdbf029b1a"
      },
      "execution_count": 230,
      "outputs": [
        {
          "output_type": "stream",
          "name": "stdout",
          "text": [
            "(['Mary', 'moved', 'to', 'the', 'bathroom', '.', 'Sandra', 'journeyed', 'to', 'the', 'bedroom', '.'], ['Is', 'Sandra', 'in', 'the', 'hallway', '?'], 'no')\n",
            "\n",
            "\n",
            "['Mary', 'moved', 'to', 'the', 'bathroom', '.', 'Sandra', 'journeyed', 'to', 'the', 'bedroom', '.']\n"
          ]
        }
      ]
    },
    {
      "cell_type": "code",
      "source": [
        "\" \".join(train_data[0][1])"
      ],
      "metadata": {
        "colab": {
          "base_uri": "https://localhost:8080/",
          "height": 35
        },
        "id": "YnK6HqYViSxN",
        "outputId": "6daf194f-3fed-4f23-e6aa-512910fd34be"
      },
      "execution_count": 231,
      "outputs": [
        {
          "output_type": "execute_result",
          "data": {
            "text/plain": [
              "'Is Sandra in the hallway ?'"
            ],
            "application/vnd.google.colaboratory.intrinsic+json": {
              "type": "string"
            }
          },
          "metadata": {},
          "execution_count": 231
        }
      ]
    },
    {
      "cell_type": "code",
      "source": [
        "all_data = test_data + train_data"
      ],
      "metadata": {
        "id": "w-lwWP8CjYc3"
      },
      "execution_count": 232,
      "outputs": []
    },
    {
      "cell_type": "code",
      "source": [
        "len(all_data)"
      ],
      "metadata": {
        "colab": {
          "base_uri": "https://localhost:8080/"
        },
        "id": "E16g4AaXkSol",
        "outputId": "34aa1ba5-c813-4d59-97e9-4add91f6dfa0"
      },
      "execution_count": 233,
      "outputs": [
        {
          "output_type": "execute_result",
          "data": {
            "text/plain": [
              "11000"
            ]
          },
          "metadata": {},
          "execution_count": 233
        }
      ]
    },
    {
      "cell_type": "code",
      "source": [
        "test = [\"I\",\"am\",\"John\",\"I\"]\n",
        "set1 = set(test)\n",
        "test2 = [\"I\",\"am\",\"Peter\",\"I\"]\n",
        "set1.union(test2)"
      ],
      "metadata": {
        "colab": {
          "base_uri": "https://localhost:8080/"
        },
        "id": "eU8QOVjamN_l",
        "outputId": "3cf04ccc-8190-4d19-e8f9-f33b952926e4"
      },
      "execution_count": 234,
      "outputs": [
        {
          "output_type": "execute_result",
          "data": {
            "text/plain": [
              "{'I', 'John', 'Peter', 'am'}"
            ]
          },
          "metadata": {},
          "execution_count": 234
        }
      ]
    },
    {
      "cell_type": "code",
      "source": [
        "#Set vocab as empty set\n",
        "vocab = set()\n",
        "\n",
        "#Set - Only Return unique word\n",
        "for story,question,answer in all_data:\n",
        "  vocab = vocab.union(set(story))\n",
        "  vocab = vocab.union(set(question))"
      ],
      "metadata": {
        "id": "I4YygVzSkT-W"
      },
      "execution_count": 235,
      "outputs": []
    },
    {
      "cell_type": "code",
      "source": [
        "vocab.add('no')"
      ],
      "metadata": {
        "id": "4K1IyLtekl5S"
      },
      "execution_count": 236,
      "outputs": []
    },
    {
      "cell_type": "code",
      "source": [
        "vocab.add('yes')"
      ],
      "metadata": {
        "id": "YQ3i3UFzm0tl"
      },
      "execution_count": 237,
      "outputs": []
    },
    {
      "cell_type": "code",
      "source": [
        "vocab"
      ],
      "metadata": {
        "colab": {
          "base_uri": "https://localhost:8080/"
        },
        "id": "mvIXtpMAm2Kl",
        "outputId": "689cf4ee-66a8-491d-8464-14510c13a7fa"
      },
      "execution_count": 238,
      "outputs": [
        {
          "output_type": "execute_result",
          "data": {
            "text/plain": [
              "{'.',\n",
              " '?',\n",
              " 'Daniel',\n",
              " 'Is',\n",
              " 'John',\n",
              " 'Mary',\n",
              " 'Sandra',\n",
              " 'apple',\n",
              " 'back',\n",
              " 'bathroom',\n",
              " 'bedroom',\n",
              " 'discarded',\n",
              " 'down',\n",
              " 'dropped',\n",
              " 'football',\n",
              " 'garden',\n",
              " 'got',\n",
              " 'grabbed',\n",
              " 'hallway',\n",
              " 'in',\n",
              " 'journeyed',\n",
              " 'kitchen',\n",
              " 'left',\n",
              " 'milk',\n",
              " 'moved',\n",
              " 'no',\n",
              " 'office',\n",
              " 'picked',\n",
              " 'put',\n",
              " 'the',\n",
              " 'there',\n",
              " 'to',\n",
              " 'took',\n",
              " 'travelled',\n",
              " 'up',\n",
              " 'went',\n",
              " 'yes'}"
            ]
          },
          "metadata": {},
          "execution_count": 238
        }
      ]
    },
    {
      "cell_type": "code",
      "source": [
        "vocab_len = len(vocab) + 1"
      ],
      "metadata": {
        "id": "eu0m9j_Lm59h"
      },
      "execution_count": 239,
      "outputs": []
    },
    {
      "cell_type": "code",
      "source": [
        "vocab_len"
      ],
      "metadata": {
        "colab": {
          "base_uri": "https://localhost:8080/"
        },
        "id": "AbMb-GVApmGN",
        "outputId": "e5adb11d-26e5-429d-fe68-b11ec3c40ec1"
      },
      "execution_count": 240,
      "outputs": [
        {
          "output_type": "execute_result",
          "data": {
            "text/plain": [
              "38"
            ]
          },
          "metadata": {},
          "execution_count": 240
        }
      ]
    },
    {
      "cell_type": "code",
      "source": [
        "#Longest story\n",
        "all_story_lens = [len(data[0]) for data in all_data]"
      ],
      "metadata": {
        "id": "BqZJyHH3prSo"
      },
      "execution_count": 241,
      "outputs": []
    },
    {
      "cell_type": "code",
      "source": [
        "all_story_lens"
      ],
      "metadata": {
        "colab": {
          "base_uri": "https://localhost:8080/"
        },
        "id": "c4asH9xgp_CR",
        "outputId": "d5083e40-0697-439e-e249-62919a27ce15"
      },
      "execution_count": 242,
      "outputs": [
        {
          "output_type": "execute_result",
          "data": {
            "text/plain": [
              "[12,\n",
              " 23,\n",
              " 35,\n",
              " 47,\n",
              " 59,\n",
              " 13,\n",
              " 26,\n",
              " 37,\n",
              " 50,\n",
              " 62,\n",
              " 12,\n",
              " 24,\n",
              " 37,\n",
              " 49,\n",
              " 60,\n",
              " 12,\n",
              " 25,\n",
              " 38,\n",
              " 50,\n",
              " 62,\n",
              " 12,\n",
              " 24,\n",
              " 36,\n",
              " 47,\n",
              " 59,\n",
              " 12,\n",
              " 25,\n",
              " 36,\n",
              " 48,\n",
              " 59,\n",
              " 12,\n",
              " 26,\n",
              " 39,\n",
              " 51,\n",
              " 63,\n",
              " 13,\n",
              " 24,\n",
              " 37,\n",
              " 50,\n",
              " 62,\n",
              " 13,\n",
              " 26,\n",
              " 38,\n",
              " 50,\n",
              " 63,\n",
              " 13,\n",
              " 25,\n",
              " 36,\n",
              " 49,\n",
              " 61,\n",
              " 13,\n",
              " 26,\n",
              " 39,\n",
              " 51,\n",
              " 64,\n",
              " 13,\n",
              " 25,\n",
              " 37,\n",
              " 50,\n",
              " 62,\n",
              " 13,\n",
              " 25,\n",
              " 37,\n",
              " 50,\n",
              " 61,\n",
              " 12,\n",
              " 25,\n",
              " 38,\n",
              " 50,\n",
              " 62,\n",
              " 12,\n",
              " 25,\n",
              " 37,\n",
              " 50,\n",
              " 61,\n",
              " 12,\n",
              " 25,\n",
              " 36,\n",
              " 48,\n",
              " 60,\n",
              " 12,\n",
              " 24,\n",
              " 36,\n",
              " 48,\n",
              " 60,\n",
              " 13,\n",
              " 25,\n",
              " 37,\n",
              " 49,\n",
              " 60,\n",
              " 13,\n",
              " 25,\n",
              " 39,\n",
              " 51,\n",
              " 64,\n",
              " 12,\n",
              " 25,\n",
              " 37,\n",
              " 49,\n",
              " 61,\n",
              " 12,\n",
              " 25,\n",
              " 38,\n",
              " 50,\n",
              " 61,\n",
              " 12,\n",
              " 24,\n",
              " 36,\n",
              " 49,\n",
              " 62,\n",
              " 13,\n",
              " 25,\n",
              " 37,\n",
              " 50,\n",
              " 62,\n",
              " 12,\n",
              " 23,\n",
              " 35,\n",
              " 47,\n",
              " 59,\n",
              " 12,\n",
              " 25,\n",
              " 37,\n",
              " 48,\n",
              " 73,\n",
              " 12,\n",
              " 24,\n",
              " 37,\n",
              " 49,\n",
              " 61,\n",
              " 12,\n",
              " 24,\n",
              " 37,\n",
              " 49,\n",
              " 62,\n",
              " 14,\n",
              " 26,\n",
              " 37,\n",
              " 49,\n",
              " 62,\n",
              " 12,\n",
              " 23,\n",
              " 35,\n",
              " 48,\n",
              " 59,\n",
              " 12,\n",
              " 24,\n",
              " 36,\n",
              " 49,\n",
              " 61,\n",
              " 13,\n",
              " 25,\n",
              " 37,\n",
              " 49,\n",
              " 61,\n",
              " 12,\n",
              " 25,\n",
              " 37,\n",
              " 50,\n",
              " 62,\n",
              " 12,\n",
              " 24,\n",
              " 36,\n",
              " 47,\n",
              " 58,\n",
              " 12,\n",
              " 24,\n",
              " 36,\n",
              " 48,\n",
              " 61,\n",
              " 25,\n",
              " 38,\n",
              " 50,\n",
              " 62,\n",
              " 74,\n",
              " 13,\n",
              " 25,\n",
              " 37,\n",
              " 49,\n",
              " 62,\n",
              " 12,\n",
              " 24,\n",
              " 37,\n",
              " 49,\n",
              " 62,\n",
              " 12,\n",
              " 24,\n",
              " 36,\n",
              " 48,\n",
              " 60,\n",
              " 12,\n",
              " 24,\n",
              " 36,\n",
              " 48,\n",
              " 61,\n",
              " 12,\n",
              " 25,\n",
              " 36,\n",
              " 50,\n",
              " 62,\n",
              " 24,\n",
              " 36,\n",
              " 49,\n",
              " 61,\n",
              " 74,\n",
              " 12,\n",
              " 24,\n",
              " 36,\n",
              " 47,\n",
              " 59,\n",
              " 13,\n",
              " 25,\n",
              " 38,\n",
              " 50,\n",
              " 62,\n",
              " 12,\n",
              " 25,\n",
              " 37,\n",
              " 49,\n",
              " 61,\n",
              " 12,\n",
              " 24,\n",
              " 36,\n",
              " 48,\n",
              " 61,\n",
              " 13,\n",
              " 25,\n",
              " 37,\n",
              " 48,\n",
              " 61,\n",
              " 13,\n",
              " 26,\n",
              " 39,\n",
              " 52,\n",
              " 63,\n",
              " 13,\n",
              " 27,\n",
              " 40,\n",
              " 51,\n",
              " 63,\n",
              " 12,\n",
              " 24,\n",
              " 36,\n",
              " 48,\n",
              " 59,\n",
              " 12,\n",
              " 24,\n",
              " 36,\n",
              " 47,\n",
              " 58,\n",
              " 12,\n",
              " 23,\n",
              " 35,\n",
              " 47,\n",
              " 59,\n",
              " 12,\n",
              " 25,\n",
              " 38,\n",
              " 50,\n",
              " 62,\n",
              " 12,\n",
              " 24,\n",
              " 35,\n",
              " 47,\n",
              " 60,\n",
              " 13,\n",
              " 26,\n",
              " 38,\n",
              " 51,\n",
              " 63,\n",
              " 12,\n",
              " 24,\n",
              " 36,\n",
              " 48,\n",
              " 61,\n",
              " 12,\n",
              " 24,\n",
              " 36,\n",
              " 48,\n",
              " 60,\n",
              " 13,\n",
              " 25,\n",
              " 38,\n",
              " 49,\n",
              " 62,\n",
              " 12,\n",
              " 24,\n",
              " 35,\n",
              " 47,\n",
              " 59,\n",
              " 12,\n",
              " 24,\n",
              " 36,\n",
              " 48,\n",
              " 58,\n",
              " 12,\n",
              " 24,\n",
              " 36,\n",
              " 48,\n",
              " 61,\n",
              " 13,\n",
              " 26,\n",
              " 38,\n",
              " 50,\n",
              " 63,\n",
              " 24,\n",
              " 37,\n",
              " 49,\n",
              " 62,\n",
              " 74,\n",
              " 12,\n",
              " 24,\n",
              " 36,\n",
              " 49,\n",
              " 61,\n",
              " 13,\n",
              " 26,\n",
              " 39,\n",
              " 51,\n",
              " 63,\n",
              " 12,\n",
              " 24,\n",
              " 36,\n",
              " 48,\n",
              " 60,\n",
              " 12,\n",
              " 24,\n",
              " 36,\n",
              " 47,\n",
              " 59,\n",
              " 13,\n",
              " 26,\n",
              " 38,\n",
              " 51,\n",
              " 64,\n",
              " 12,\n",
              " 24,\n",
              " 37,\n",
              " 51,\n",
              " 63,\n",
              " 13,\n",
              " 25,\n",
              " 37,\n",
              " 50,\n",
              " 62,\n",
              " 12,\n",
              " 24,\n",
              " 37,\n",
              " 50,\n",
              " 62,\n",
              " 12,\n",
              " 25,\n",
              " 38,\n",
              " 48,\n",
              " 60,\n",
              " 12,\n",
              " 25,\n",
              " 37,\n",
              " 50,\n",
              " 62,\n",
              " 13,\n",
              " 24,\n",
              " 37,\n",
              " 49,\n",
              " 63,\n",
              " 12,\n",
              " 23,\n",
              " 36,\n",
              " 49,\n",
              " 61,\n",
              " 13,\n",
              " 24,\n",
              " 37,\n",
              " 60,\n",
              " 71,\n",
              " 12,\n",
              " 24,\n",
              " 35,\n",
              " 47,\n",
              " 60,\n",
              " 12,\n",
              " 24,\n",
              " 38,\n",
              " 50,\n",
              " 62,\n",
              " 36,\n",
              " 48,\n",
              " 61,\n",
              " 73,\n",
              " 86,\n",
              " 12,\n",
              " 24,\n",
              " 37,\n",
              " 49,\n",
              " 61,\n",
              " 13,\n",
              " 25,\n",
              " 37,\n",
              " 49,\n",
              " 60,\n",
              " 13,\n",
              " 25,\n",
              " 36,\n",
              " 47,\n",
              " 59,\n",
              " 13,\n",
              " 25,\n",
              " 38,\n",
              " 49,\n",
              " 62,\n",
              " 24,\n",
              " 37,\n",
              " 48,\n",
              " 60,\n",
              " 72,\n",
              " 13,\n",
              " 25,\n",
              " 37,\n",
              " 49,\n",
              " 61,\n",
              " 12,\n",
              " 24,\n",
              " 37,\n",
              " 49,\n",
              " 61,\n",
              " 12,\n",
              " 24,\n",
              " 36,\n",
              " 48,\n",
              " 62,\n",
              " 12,\n",
              " 25,\n",
              " 38,\n",
              " 50,\n",
              " 62,\n",
              " 12,\n",
              " 23,\n",
              " 35,\n",
              " 49,\n",
              " 60,\n",
              " 14,\n",
              " 26,\n",
              " 39,\n",
              " 51,\n",
              " 63,\n",
              " 13,\n",
              " 25,\n",
              " 36,\n",
              " 49,\n",
              " 62,\n",
              " 13,\n",
              " 26,\n",
              " 38,\n",
              " 50,\n",
              " 61,\n",
              " 13,\n",
              " 25,\n",
              " 38,\n",
              " 50,\n",
              " 62,\n",
              " 13,\n",
              " 26,\n",
              " 39,\n",
              " 51,\n",
              " 63,\n",
              " 12,\n",
              " 25,\n",
              " 47,\n",
              " 61,\n",
              " 74,\n",
              " 13,\n",
              " 26,\n",
              " 38,\n",
              " 50,\n",
              " 62,\n",
              " 12,\n",
              " 24,\n",
              " 36,\n",
              " 49,\n",
              " 62,\n",
              " 12,\n",
              " 24,\n",
              " 37,\n",
              " 49,\n",
              " 61,\n",
              " 12,\n",
              " 25,\n",
              " 37,\n",
              " 50,\n",
              " 61,\n",
              " 12,\n",
              " 25,\n",
              " 38,\n",
              " 50,\n",
              " 63,\n",
              " 12,\n",
              " 24,\n",
              " 37,\n",
              " 50,\n",
              " 62,\n",
              " 12,\n",
              " 24,\n",
              " 36,\n",
              " 48,\n",
              " 60,\n",
              " 12,\n",
              " 24,\n",
              " 37,\n",
              " 49,\n",
              " 62,\n",
              " 13,\n",
              " 25,\n",
              " 37,\n",
              " 49,\n",
              " 62,\n",
              " 12,\n",
              " 24,\n",
              " 36,\n",
              " 49,\n",
              " 60,\n",
              " 25,\n",
              " 36,\n",
              " 48,\n",
              " 61,\n",
              " 73,\n",
              " 12,\n",
              " 24,\n",
              " 36,\n",
              " 48,\n",
              " 60,\n",
              " 12,\n",
              " 24,\n",
              " 35,\n",
              " 47,\n",
              " 60,\n",
              " 12,\n",
              " 25,\n",
              " 38,\n",
              " 51,\n",
              " 65,\n",
              " 12,\n",
              " 25,\n",
              " 37,\n",
              " 50,\n",
              " 62,\n",
              " 12,\n",
              " 24,\n",
              " 35,\n",
              " 48,\n",
              " 61,\n",
              " 13,\n",
              " 27,\n",
              " 39,\n",
              " 51,\n",
              " 62,\n",
              " 12,\n",
              " 24,\n",
              " 37,\n",
              " 49,\n",
              " 61,\n",
              " 12,\n",
              " 24,\n",
              " 37,\n",
              " 48,\n",
              " 60,\n",
              " 13,\n",
              " 25,\n",
              " 38,\n",
              " 50,\n",
              " 62,\n",
              " 12,\n",
              " 24,\n",
              " 37,\n",
              " 49,\n",
              " 62,\n",
              " 12,\n",
              " 23,\n",
              " 35,\n",
              " 47,\n",
              " 59,\n",
              " 12,\n",
              " 24,\n",
              " 36,\n",
              " 49,\n",
              " 61,\n",
              " 24,\n",
              " 37,\n",
              " 49,\n",
              " 61,\n",
              " 73,\n",
              " 12,\n",
              " 24,\n",
              " 37,\n",
              " 49,\n",
              " 61,\n",
              " 13,\n",
              " 26,\n",
              " 38,\n",
              " 50,\n",
              " 61,\n",
              " 12,\n",
              " 24,\n",
              " 36,\n",
              " 49,\n",
              " 61,\n",
              " 27,\n",
              " 38,\n",
              " 50,\n",
              " 61,\n",
              " 73,\n",
              " 12,\n",
              " 26,\n",
              " 37,\n",
              " 50,\n",
              " 63,\n",
              " 12,\n",
              " 24,\n",
              " 36,\n",
              " 48,\n",
              " 59,\n",
              " 12,\n",
              " 24,\n",
              " 37,\n",
              " 48,\n",
              " 60,\n",
              " 13,\n",
              " 25,\n",
              " 37,\n",
              " 48,\n",
              " 61,\n",
              " 12,\n",
              " 24,\n",
              " 36,\n",
              " 48,\n",
              " 60,\n",
              " 12,\n",
              " 25,\n",
              " 37,\n",
              " 49,\n",
              " 63,\n",
              " 13,\n",
              " 25,\n",
              " 37,\n",
              " 49,\n",
              " 61,\n",
              " 12,\n",
              " 24,\n",
              " 36,\n",
              " 48,\n",
              " 61,\n",
              " 12,\n",
              " 24,\n",
              " 37,\n",
              " 50,\n",
              " 62,\n",
              " 13,\n",
              " 25,\n",
              " 37,\n",
              " 50,\n",
              " 62,\n",
              " 14,\n",
              " 27,\n",
              " 39,\n",
              " 51,\n",
              " 62,\n",
              " 13,\n",
              " 25,\n",
              " 37,\n",
              " 49,\n",
              " 60,\n",
              " 12,\n",
              " 25,\n",
              " 37,\n",
              " 49,\n",
              " 63,\n",
              " 24,\n",
              " 36,\n",
              " 47,\n",
              " 59,\n",
              " 71,\n",
              " 13,\n",
              " 25,\n",
              " 37,\n",
              " 50,\n",
              " 62,\n",
              " 13,\n",
              " 24,\n",
              " 36,\n",
              " 48,\n",
              " 61,\n",
              " 23,\n",
              " 34,\n",
              " 46,\n",
              " 58,\n",
              " 70,\n",
              " 13,\n",
              " 25,\n",
              " 38,\n",
              " 52,\n",
              " 65,\n",
              " 12,\n",
              " 24,\n",
              " 36,\n",
              " 47,\n",
              " 60,\n",
              " 12,\n",
              " 26,\n",
              " 38,\n",
              " 51,\n",
              " 63,\n",
              " 12,\n",
              " 25,\n",
              " 38,\n",
              " 49,\n",
              " 62,\n",
              " 13,\n",
              " 25,\n",
              " 38,\n",
              " 49,\n",
              " 62,\n",
              " 12,\n",
              " 24,\n",
              " 36,\n",
              " 49,\n",
              " 61,\n",
              " 12,\n",
              " 24,\n",
              " 37,\n",
              " 50,\n",
              " 62,\n",
              " 12,\n",
              " 24,\n",
              " 38,\n",
              " 51,\n",
              " 63,\n",
              " 12,\n",
              " 24,\n",
              " 36,\n",
              " 48,\n",
              " 62,\n",
              " 13,\n",
              " 25,\n",
              " 37,\n",
              " 49,\n",
              " 61,\n",
              " 12,\n",
              " 24,\n",
              " 38,\n",
              " 50,\n",
              " 61,\n",
              " 35,\n",
              " 47,\n",
              " 60,\n",
              " 72,\n",
              " 84,\n",
              " 12,\n",
              " 24,\n",
              " 36,\n",
              " 49,\n",
              " 61,\n",
              " 12,\n",
              " 24,\n",
              " 35,\n",
              " 48,\n",
              " 60,\n",
              " 12,\n",
              " 24,\n",
              " 36,\n",
              " 49,\n",
              " 60,\n",
              " 12,\n",
              " 25,\n",
              " 37,\n",
              " 49,\n",
              " 62,\n",
              " 12,\n",
              " 24,\n",
              " 36,\n",
              " 48,\n",
              " 60,\n",
              " 13,\n",
              " 26,\n",
              " 37,\n",
              " 50,\n",
              " 62,\n",
              " 13,\n",
              " 25,\n",
              " 38,\n",
              " 50,\n",
              " 64,\n",
              " 23,\n",
              " 35,\n",
              " 47,\n",
              " 60,\n",
              " 73,\n",
              " 12,\n",
              " 24,\n",
              " 37,\n",
              " 49,\n",
              " 61,\n",
              " 12,\n",
              " 24,\n",
              " 36,\n",
              " 49,\n",
              " 62,\n",
              " 12,\n",
              " 24,\n",
              " 37,\n",
              " 49,\n",
              " 61,\n",
              " 12,\n",
              " 25,\n",
              " 38,\n",
              " 50,\n",
              " 62,\n",
              " 14,\n",
              " 25,\n",
              " 37,\n",
              " 49,\n",
              " 61,\n",
              " 13,\n",
              " 26,\n",
              " 38,\n",
              " 50,\n",
              " 62,\n",
              " 12,\n",
              " 23,\n",
              " 35,\n",
              " 47,\n",
              " 58,\n",
              " 12,\n",
              " 24,\n",
              " 37,\n",
              " 49,\n",
              " 61,\n",
              " 25,\n",
              " 36,\n",
              " 48,\n",
              " 60,\n",
              " 71,\n",
              " 24,\n",
              " 38,\n",
              " 50,\n",
              " 62,\n",
              " 75,\n",
              " 13,\n",
              " 25,\n",
              " 36,\n",
              " 47,\n",
              " 59,\n",
              " 24,\n",
              " 37,\n",
              " 50,\n",
              " 61,\n",
              " 74,\n",
              " 12,\n",
              " 25,\n",
              " 38,\n",
              " 50,\n",
              " 64,\n",
              " 13,\n",
              " 25,\n",
              " 37,\n",
              " 49,\n",
              " 61,\n",
              " 12,\n",
              " 24,\n",
              " 36,\n",
              " 48,\n",
              " 61,\n",
              " 12,\n",
              " 25,\n",
              " 38,\n",
              " 51,\n",
              " 64,\n",
              " 12,\n",
              " 24,\n",
              " 36,\n",
              " 49,\n",
              " 60,\n",
              " 12,\n",
              " 25,\n",
              " 38,\n",
              " 50,\n",
              " 62,\n",
              " 12,\n",
              " 25,\n",
              " 39,\n",
              " 51,\n",
              " 63,\n",
              " 12,\n",
              " 24,\n",
              " 36,\n",
              " 49,\n",
              " 61,\n",
              " 12,\n",
              " 26,\n",
              " 39,\n",
              " 51,\n",
              " 63,\n",
              " 13,\n",
              " 26,\n",
              " 38,\n",
              " 49,\n",
              " 60,\n",
              " 37,\n",
              " 48,\n",
              " 60,\n",
              " 73,\n",
              " 83,\n",
              " 12,\n",
              " 25,\n",
              " 37,\n",
              " 49,\n",
              " 61,\n",
              " 13,\n",
              " 25,\n",
              " 38,\n",
              " 51,\n",
              " 64,\n",
              " 12,\n",
              " 25,\n",
              " 39,\n",
              " 51,\n",
              " 63,\n",
              " 23,\n",
              " 36,\n",
              " 47,\n",
              " 59,\n",
              " 71,\n",
              " 13,\n",
              " 25,\n",
              " 37,\n",
              " 50,\n",
              " 62,\n",
              " 13,\n",
              " 25,\n",
              " 38,\n",
              " 50,\n",
              " 62,\n",
              " 36,\n",
              " 47,\n",
              " 59,\n",
              " 71,\n",
              " 84,\n",
              " 13,\n",
              " 25,\n",
              " 37,\n",
              " 50,\n",
              " 62,\n",
              " 12,\n",
              " 25,\n",
              " 37,\n",
              " 51,\n",
              " 63,\n",
              " 13,\n",
              " 26,\n",
              " 38,\n",
              " 52,\n",
              " 64,\n",
              " 12,\n",
              " 24,\n",
              " 37,\n",
              " 49,\n",
              " 60,\n",
              " 12,\n",
              " 24,\n",
              " 36,\n",
              " 47,\n",
              " 60,\n",
              " 13,\n",
              " 25,\n",
              " 36,\n",
              " 49,\n",
              " 61,\n",
              " 13,\n",
              " 25,\n",
              " 38,\n",
              " 50,\n",
              " 62,\n",
              " 12,\n",
              " 24,\n",
              " 38,\n",
              " 51,\n",
              " 63,\n",
              " 13,\n",
              " 25,\n",
              " 38,\n",
              " 50,\n",
              " 62,\n",
              " 13,\n",
              " 25,\n",
              " 37,\n",
              " 49,\n",
              " 60,\n",
              " 12,\n",
              " 25,\n",
              " 36,\n",
              " 47,\n",
              " 60,\n",
              " ...]"
            ]
          },
          "metadata": {},
          "execution_count": 242
        }
      ]
    },
    {
      "cell_type": "code",
      "source": [
        "max_story_len = max(all_story_lens)\n",
        "max_story_len"
      ],
      "metadata": {
        "colab": {
          "base_uri": "https://localhost:8080/"
        },
        "id": "uQ8MMXUkqAV_",
        "outputId": "7269e4d2-25ee-4e38-a4b0-40d7e80fc126"
      },
      "execution_count": 243,
      "outputs": [
        {
          "output_type": "execute_result",
          "data": {
            "text/plain": [
              "156"
            ]
          },
          "metadata": {},
          "execution_count": 243
        }
      ]
    },
    {
      "cell_type": "code",
      "source": [
        "max_question_len = max([len(data[1]) for data in all_data])\n",
        "print(max_question_len)"
      ],
      "metadata": {
        "colab": {
          "base_uri": "https://localhost:8080/"
        },
        "id": "Gmn-WTD7qCQi",
        "outputId": "3163ece4-14d9-44df-a6f4-a5a210b2f0e5"
      },
      "execution_count": 244,
      "outputs": [
        {
          "output_type": "stream",
          "name": "stdout",
          "text": [
            "6\n"
          ]
        }
      ]
    },
    {
      "cell_type": "code",
      "source": [
        "from keras.preprocessing.sequence import pad_sequences\n",
        "from keras.preprocessing.text import Tokenizer"
      ],
      "metadata": {
        "id": "MLw0N2gaqn87"
      },
      "execution_count": 245,
      "outputs": []
    },
    {
      "cell_type": "code",
      "source": [
        "tokenizer = Tokenizer(filters=[])\n",
        "tokenizer.fit_on_texts(vocab)"
      ],
      "metadata": {
        "id": "9jIQ9QN5ra5r"
      },
      "execution_count": 246,
      "outputs": []
    },
    {
      "cell_type": "code",
      "source": [
        "tokenizer.word_index.items()\n",
        "\n",
        "print(tokenizer.word_index[\"down\"])\n",
        "print(\"\\n\")\n",
        "\n",
        "for i,(word,count) in enumerate(tokenizer.word_index.items()):\n",
        "  print(f\"{word:<10}: {count}\")\n",
        "  if(i==9):\n",
        "    break"
      ],
      "metadata": {
        "colab": {
          "base_uri": "https://localhost:8080/"
        },
        "id": "Al9eztHRroZm",
        "outputId": "5d8d8c8a-625d-4619-9801-e7aa18428341"
      },
      "execution_count": 247,
      "outputs": [
        {
          "output_type": "stream",
          "name": "stdout",
          "text": [
            "1\n",
            "\n",
            "\n",
            "down      : 1\n",
            "there     : 2\n",
            ".         : 3\n",
            "in        : 4\n",
            "kitchen   : 5\n",
            "football  : 6\n",
            "yes       : 7\n",
            "the       : 8\n",
            "milk      : 9\n",
            "got       : 10\n"
          ]
        }
      ]
    },
    {
      "cell_type": "code",
      "source": [
        "train_story_text = []\n",
        "train_question_text = []\n",
        "train_ans = []"
      ],
      "metadata": {
        "id": "RgWGn4GNrqDt"
      },
      "execution_count": 248,
      "outputs": []
    },
    {
      "cell_type": "code",
      "source": [
        "for story,question,answer in train_data:\n",
        "  train_story_text.append(story)\n",
        "  train_question_text.append(question)\n",
        "  train_ans.append(answer)"
      ],
      "metadata": {
        "id": "foLReJZh3Uew"
      },
      "execution_count": 249,
      "outputs": []
    },
    {
      "cell_type": "code",
      "source": [
        "train_story_text[:5]"
      ],
      "metadata": {
        "colab": {
          "base_uri": "https://localhost:8080/"
        },
        "id": "VSS9JAZm3jQ-",
        "outputId": "6c66fc06-8c50-42ae-b14e-749de4af66b7"
      },
      "execution_count": 250,
      "outputs": [
        {
          "output_type": "execute_result",
          "data": {
            "text/plain": [
              "[['Mary',\n",
              "  'moved',\n",
              "  'to',\n",
              "  'the',\n",
              "  'bathroom',\n",
              "  '.',\n",
              "  'Sandra',\n",
              "  'journeyed',\n",
              "  'to',\n",
              "  'the',\n",
              "  'bedroom',\n",
              "  '.'],\n",
              " ['Mary',\n",
              "  'moved',\n",
              "  'to',\n",
              "  'the',\n",
              "  'bathroom',\n",
              "  '.',\n",
              "  'Sandra',\n",
              "  'journeyed',\n",
              "  'to',\n",
              "  'the',\n",
              "  'bedroom',\n",
              "  '.',\n",
              "  'Mary',\n",
              "  'went',\n",
              "  'back',\n",
              "  'to',\n",
              "  'the',\n",
              "  'bedroom',\n",
              "  '.',\n",
              "  'Daniel',\n",
              "  'went',\n",
              "  'back',\n",
              "  'to',\n",
              "  'the',\n",
              "  'hallway',\n",
              "  '.'],\n",
              " ['Mary',\n",
              "  'moved',\n",
              "  'to',\n",
              "  'the',\n",
              "  'bathroom',\n",
              "  '.',\n",
              "  'Sandra',\n",
              "  'journeyed',\n",
              "  'to',\n",
              "  'the',\n",
              "  'bedroom',\n",
              "  '.',\n",
              "  'Mary',\n",
              "  'went',\n",
              "  'back',\n",
              "  'to',\n",
              "  'the',\n",
              "  'bedroom',\n",
              "  '.',\n",
              "  'Daniel',\n",
              "  'went',\n",
              "  'back',\n",
              "  'to',\n",
              "  'the',\n",
              "  'hallway',\n",
              "  '.',\n",
              "  'Sandra',\n",
              "  'went',\n",
              "  'to',\n",
              "  'the',\n",
              "  'kitchen',\n",
              "  '.',\n",
              "  'Daniel',\n",
              "  'went',\n",
              "  'back',\n",
              "  'to',\n",
              "  'the',\n",
              "  'bathroom',\n",
              "  '.'],\n",
              " ['Mary',\n",
              "  'moved',\n",
              "  'to',\n",
              "  'the',\n",
              "  'bathroom',\n",
              "  '.',\n",
              "  'Sandra',\n",
              "  'journeyed',\n",
              "  'to',\n",
              "  'the',\n",
              "  'bedroom',\n",
              "  '.',\n",
              "  'Mary',\n",
              "  'went',\n",
              "  'back',\n",
              "  'to',\n",
              "  'the',\n",
              "  'bedroom',\n",
              "  '.',\n",
              "  'Daniel',\n",
              "  'went',\n",
              "  'back',\n",
              "  'to',\n",
              "  'the',\n",
              "  'hallway',\n",
              "  '.',\n",
              "  'Sandra',\n",
              "  'went',\n",
              "  'to',\n",
              "  'the',\n",
              "  'kitchen',\n",
              "  '.',\n",
              "  'Daniel',\n",
              "  'went',\n",
              "  'back',\n",
              "  'to',\n",
              "  'the',\n",
              "  'bathroom',\n",
              "  '.',\n",
              "  'Daniel',\n",
              "  'picked',\n",
              "  'up',\n",
              "  'the',\n",
              "  'football',\n",
              "  'there',\n",
              "  '.',\n",
              "  'Daniel',\n",
              "  'went',\n",
              "  'to',\n",
              "  'the',\n",
              "  'bedroom',\n",
              "  '.'],\n",
              " ['Mary',\n",
              "  'moved',\n",
              "  'to',\n",
              "  'the',\n",
              "  'bathroom',\n",
              "  '.',\n",
              "  'Sandra',\n",
              "  'journeyed',\n",
              "  'to',\n",
              "  'the',\n",
              "  'bedroom',\n",
              "  '.',\n",
              "  'Mary',\n",
              "  'went',\n",
              "  'back',\n",
              "  'to',\n",
              "  'the',\n",
              "  'bedroom',\n",
              "  '.',\n",
              "  'Daniel',\n",
              "  'went',\n",
              "  'back',\n",
              "  'to',\n",
              "  'the',\n",
              "  'hallway',\n",
              "  '.',\n",
              "  'Sandra',\n",
              "  'went',\n",
              "  'to',\n",
              "  'the',\n",
              "  'kitchen',\n",
              "  '.',\n",
              "  'Daniel',\n",
              "  'went',\n",
              "  'back',\n",
              "  'to',\n",
              "  'the',\n",
              "  'bathroom',\n",
              "  '.',\n",
              "  'Daniel',\n",
              "  'picked',\n",
              "  'up',\n",
              "  'the',\n",
              "  'football',\n",
              "  'there',\n",
              "  '.',\n",
              "  'Daniel',\n",
              "  'went',\n",
              "  'to',\n",
              "  'the',\n",
              "  'bedroom',\n",
              "  '.',\n",
              "  'John',\n",
              "  'travelled',\n",
              "  'to',\n",
              "  'the',\n",
              "  'office',\n",
              "  '.',\n",
              "  'Sandra',\n",
              "  'went',\n",
              "  'to',\n",
              "  'the',\n",
              "  'garden',\n",
              "  '.']]"
            ]
          },
          "metadata": {},
          "execution_count": 250
        }
      ]
    },
    {
      "cell_type": "code",
      "source": [
        "train_story_seq = tokenizer.texts_to_sequences(train_story_text)"
      ],
      "metadata": {
        "id": "Eootr0c13nTG"
      },
      "execution_count": 251,
      "outputs": []
    },
    {
      "cell_type": "code",
      "source": [
        "len(train_story_seq)"
      ],
      "metadata": {
        "colab": {
          "base_uri": "https://localhost:8080/"
        },
        "id": "-0cCkrTi31Z_",
        "outputId": "5333e5cd-742d-414b-e411-7e32c08c7468"
      },
      "execution_count": 252,
      "outputs": [
        {
          "output_type": "execute_result",
          "data": {
            "text/plain": [
              "10000"
            ]
          },
          "metadata": {},
          "execution_count": 252
        }
      ]
    },
    {
      "cell_type": "code",
      "source": [
        "train_story_seq[:3]"
      ],
      "metadata": {
        "colab": {
          "base_uri": "https://localhost:8080/"
        },
        "id": "ESY4b_Ao38My",
        "outputId": "ce739ce8-8294-4059-9029-db79200fb994"
      },
      "execution_count": 253,
      "outputs": [
        {
          "output_type": "execute_result",
          "data": {
            "text/plain": [
              "[[11, 20, 16, 8, 26, 3, 33, 32, 16, 8, 27, 3],\n",
              " [11,\n",
              "  20,\n",
              "  16,\n",
              "  8,\n",
              "  26,\n",
              "  3,\n",
              "  33,\n",
              "  32,\n",
              "  16,\n",
              "  8,\n",
              "  27,\n",
              "  3,\n",
              "  11,\n",
              "  13,\n",
              "  19,\n",
              "  16,\n",
              "  8,\n",
              "  27,\n",
              "  3,\n",
              "  17,\n",
              "  13,\n",
              "  19,\n",
              "  16,\n",
              "  8,\n",
              "  31,\n",
              "  3],\n",
              " [11,\n",
              "  20,\n",
              "  16,\n",
              "  8,\n",
              "  26,\n",
              "  3,\n",
              "  33,\n",
              "  32,\n",
              "  16,\n",
              "  8,\n",
              "  27,\n",
              "  3,\n",
              "  11,\n",
              "  13,\n",
              "  19,\n",
              "  16,\n",
              "  8,\n",
              "  27,\n",
              "  3,\n",
              "  17,\n",
              "  13,\n",
              "  19,\n",
              "  16,\n",
              "  8,\n",
              "  31,\n",
              "  3,\n",
              "  33,\n",
              "  13,\n",
              "  16,\n",
              "  8,\n",
              "  5,\n",
              "  3,\n",
              "  17,\n",
              "  13,\n",
              "  19,\n",
              "  16,\n",
              "  8,\n",
              "  26,\n",
              "  3]]"
            ]
          },
          "metadata": {},
          "execution_count": 253
        }
      ]
    },
    {
      "cell_type": "code",
      "source": [
        "def vectorize_stories(data,word_index=tokenizer.word_index,max_story_len = max_story_len,max_ques_len = max_question_len):\n",
        "\n",
        "  #STORIES = X\n",
        "  X = []\n",
        "  #QUESTION\n",
        "  Xq = []\n",
        "  #Y CORRECT ANS (yes/no)\n",
        "  Y = []\n",
        "\n",
        "  for story,question,answer in data:\n",
        "\n",
        "    #for each story\n",
        "    #[23,14,...]\n",
        "    x = [word_index[word.lower()] for word in story]\n",
        "    xq = [word_index[word.lower()] for word in question]\n",
        "\n",
        "    y = np.zeros(len(word_index) + 1)\n",
        "    y[word_index[answer]] = 1\n",
        "\n",
        "    X.append(x)\n",
        "    Xq.append(xq)\n",
        "    Y.append(y)\n",
        "\n",
        "  #pad_sequences - make all the question and stories in the same length\n",
        "  return (pad_sequences(X,maxlen = max_story_len),pad_sequences(Xq,maxlen=max_question_len),np.array(Y))\n"
      ],
      "metadata": {
        "id": "oH7NDVsv4ARS"
      },
      "execution_count": 254,
      "outputs": []
    },
    {
      "cell_type": "code",
      "source": [
        "input_train,question_train,answer_train = vectorize_stories(train_data)"
      ],
      "metadata": {
        "id": "BLASV3tG7VZn"
      },
      "execution_count": 255,
      "outputs": []
    },
    {
      "cell_type": "code",
      "source": [
        "input_test,question_test,answer_test = vectorize_stories(test_data)"
      ],
      "metadata": {
        "id": "2uzMYL3k7ksW"
      },
      "execution_count": 256,
      "outputs": []
    },
    {
      "cell_type": "code",
      "source": [
        "answer_test"
      ],
      "metadata": {
        "colab": {
          "base_uri": "https://localhost:8080/"
        },
        "id": "QHwE1s6w74xW",
        "outputId": "9a0a99be-2127-4ca7-da66-65f5f74a4f5b"
      },
      "execution_count": 257,
      "outputs": [
        {
          "output_type": "execute_result",
          "data": {
            "text/plain": [
              "array([[0., 0., 0., ..., 0., 0., 0.],\n",
              "       [0., 0., 0., ..., 0., 0., 0.],\n",
              "       [0., 0., 0., ..., 0., 0., 0.],\n",
              "       ...,\n",
              "       [0., 0., 0., ..., 0., 0., 0.],\n",
              "       [0., 0., 0., ..., 0., 0., 0.],\n",
              "       [0., 0., 0., ..., 0., 0., 0.]])"
            ]
          },
          "metadata": {},
          "execution_count": 257
        }
      ]
    },
    {
      "cell_type": "code",
      "source": [
        "input_test"
      ],
      "metadata": {
        "colab": {
          "base_uri": "https://localhost:8080/"
        },
        "id": "-y4lDTCq77eb",
        "outputId": "978a80de-dccf-4bbe-ed9e-4c0ee19988de"
      },
      "execution_count": 258,
      "outputs": [
        {
          "output_type": "execute_result",
          "data": {
            "text/plain": [
              "array([[ 0,  0,  0, ...,  8, 27,  3],\n",
              "       [ 0,  0,  0, ...,  8, 30,  3],\n",
              "       [ 0,  0,  0, ...,  8, 30,  3],\n",
              "       ...,\n",
              "       [ 0,  0,  0, ...,  8, 24,  3],\n",
              "       [ 0,  0,  0, ...,  8, 30,  3],\n",
              "       [ 0,  0,  0, ..., 24,  2,  3]], dtype=int32)"
            ]
          },
          "metadata": {},
          "execution_count": 258
        }
      ]
    },
    {
      "cell_type": "code",
      "source": [
        "tokenizer.word_index['yes']"
      ],
      "metadata": {
        "colab": {
          "base_uri": "https://localhost:8080/"
        },
        "id": "LW97Z_Xi7-LE",
        "outputId": "c2567f1f-3805-4980-f4a7-2fe11f727a3b"
      },
      "execution_count": 259,
      "outputs": [
        {
          "output_type": "execute_result",
          "data": {
            "text/plain": [
              "7"
            ]
          },
          "metadata": {},
          "execution_count": 259
        }
      ]
    },
    {
      "cell_type": "code",
      "source": [
        "tokenizer.word_index['no']"
      ],
      "metadata": {
        "colab": {
          "base_uri": "https://localhost:8080/"
        },
        "id": "Pns4OiIl8fgB",
        "outputId": "c13a79c8-688b-4c89-d88b-7f7b3bd3e47f"
      },
      "execution_count": 260,
      "outputs": [
        {
          "output_type": "execute_result",
          "data": {
            "text/plain": [
              "25"
            ]
          },
          "metadata": {},
          "execution_count": 260
        }
      ]
    },
    {
      "cell_type": "code",
      "source": [
        "yes = 0\n",
        "no = 0\n",
        "\n",
        "for i in range (len(test_data)):\n",
        "  if train_data[i][2] == 'no':\n",
        "    no+=1\n",
        "  else:\n",
        "    yes+=1\n",
        "\n",
        "print(yes)\n",
        "print(no)\n"
      ],
      "metadata": {
        "colab": {
          "base_uri": "https://localhost:8080/"
        },
        "id": "kAm6f-CN8nfL",
        "outputId": "7123951e-27c9-46b3-b0d6-d51fad753c76"
      },
      "execution_count": 261,
      "outputs": [
        {
          "output_type": "stream",
          "name": "stdout",
          "text": [
            "508\n",
            "492\n"
          ]
        }
      ]
    },
    {
      "cell_type": "code",
      "source": [
        "sum(answer_test)"
      ],
      "metadata": {
        "colab": {
          "base_uri": "https://localhost:8080/"
        },
        "id": "ew2hWC6p8l-d",
        "outputId": "c6e92945-a424-4484-e972-d476434a7b74"
      },
      "execution_count": 262,
      "outputs": [
        {
          "output_type": "execute_result",
          "data": {
            "text/plain": [
              "array([  0.,   0.,   0.,   0.,   0.,   0.,   0., 497.,   0.,   0.,   0.,\n",
              "         0.,   0.,   0.,   0.,   0.,   0.,   0.,   0.,   0.,   0.,   0.,\n",
              "         0.,   0.,   0., 503.,   0.,   0.,   0.,   0.,   0.,   0.,   0.,\n",
              "         0.,   0.,   0.,   0.,   0.])"
            ]
          },
          "metadata": {},
          "execution_count": 262
        }
      ]
    },
    {
      "cell_type": "code",
      "source": [
        "from keras.models import Sequential,Model"
      ],
      "metadata": {
        "id": "Kj97SVvp-9KC"
      },
      "execution_count": 263,
      "outputs": []
    },
    {
      "cell_type": "code",
      "source": [
        "from tensorflow.keras.layers import Embedding"
      ],
      "metadata": {
        "id": "EqJwWjA2_BnO"
      },
      "execution_count": 264,
      "outputs": []
    },
    {
      "cell_type": "code",
      "source": [
        "from keras.layers import Input,Activation,Dense,Permute,Dropout,add,dot,concatenate"
      ],
      "metadata": {
        "id": "ZqRMlxyr_F5I"
      },
      "execution_count": 265,
      "outputs": []
    },
    {
      "cell_type": "code",
      "source": [
        "#PLACEHOLDER shape = (max_story_len,batch_size)\n",
        "input_sequence = Input((max_story_len,))\n",
        "question = Input((max_question_len,))"
      ],
      "metadata": {
        "id": "6cEudpnN_f8s"
      },
      "execution_count": 266,
      "outputs": []
    },
    {
      "cell_type": "code",
      "source": [
        "vocab_size = len(vocab) + 1"
      ],
      "metadata": {
        "id": "B5Bqpw7KAHJU"
      },
      "execution_count": 267,
      "outputs": []
    },
    {
      "cell_type": "code",
      "source": [
        "# INPUT ENCODER M\n",
        "input_encoder_m = Sequential()\n",
        "input_encoder_m.add(Embedding(input_dim = vocab_size,output_dim = 64))\n",
        "#Dropout = 0.5, 50% of neuron wil be turned off during the training\n",
        "#Help in preventing overfitting\n",
        "input_encoder_m.add(Dropout(0.3))\n",
        "\n",
        "#OUTPUT\n",
        "#(samples,story_maxlen,embedding_dim)"
      ],
      "metadata": {
        "id": "bJldIB24AYol"
      },
      "execution_count": 268,
      "outputs": []
    },
    {
      "cell_type": "code",
      "source": [
        "# INPUT ENCODER C\n",
        "input_encoder_c = Sequential()\n",
        "input_encoder_c.add(Embedding(input_dim=vocab_size,output_dim = max_question_len))\n",
        "input_encoder_c.add(Dropout(0.3))\n",
        "\n",
        "#OUTPUT\n",
        "#(samples,story_maxlen,max_question_len)"
      ],
      "metadata": {
        "id": "wtwq_CMoBLUY"
      },
      "execution_count": 269,
      "outputs": []
    },
    {
      "cell_type": "code",
      "source": [
        "question_encoder = Sequential()\n",
        "question_encoder.add(Embedding(input_dim = vocab_size,output_dim = 64,input_length = max_question_len))\n",
        "question_encoder.add(Dropout(0.3))\n",
        "\n",
        "#(samples,question_maxlen,embedding_dim)"
      ],
      "metadata": {
        "id": "oJgDVoG6B7tT"
      },
      "execution_count": 270,
      "outputs": []
    },
    {
      "cell_type": "code",
      "source": [
        "#ENCODED ---> ENCODER(INPUT)\n",
        "input_encoded_m = input_encoder_m(input_sequence)\n",
        "input_encoded_c = input_encoder_c(input_sequence)\n",
        "question_encoded = question_encoder(question)"
      ],
      "metadata": {
        "id": "fPQhr6ANCULb"
      },
      "execution_count": 271,
      "outputs": []
    },
    {
      "cell_type": "code",
      "source": [
        "match = dot([input_encoded_m,question_encoded],axes = (2,2))\n",
        "match = Activation('softmax')(match)"
      ],
      "metadata": {
        "id": "j3qA1_4yC6kk"
      },
      "execution_count": 272,
      "outputs": []
    },
    {
      "cell_type": "code",
      "source": [
        " response = add([match,input_encoded_c])\n",
        " response = Permute((2,1))(response)"
      ],
      "metadata": {
        "id": "GCIp31hzDXl_"
      },
      "execution_count": 273,
      "outputs": []
    },
    {
      "cell_type": "code",
      "source": [
        "answer = concatenate([response,question_encoded])"
      ],
      "metadata": {
        "id": "2DMnQO3eDnKE"
      },
      "execution_count": 274,
      "outputs": []
    },
    {
      "cell_type": "code",
      "source": [
        "answer"
      ],
      "metadata": {
        "colab": {
          "base_uri": "https://localhost:8080/"
        },
        "id": "PnDqwzRiDsrU",
        "outputId": "30d0b76a-4743-4350-fcd9-57a584fadf4f"
      },
      "execution_count": 275,
      "outputs": [
        {
          "output_type": "execute_result",
          "data": {
            "text/plain": [
              "<KerasTensor: shape=(None, 6, 220) dtype=float32 (created by layer 'concatenate_1')>"
            ]
          },
          "metadata": {},
          "execution_count": 275
        }
      ]
    },
    {
      "cell_type": "code",
      "source": [
        "from keras.layers import LSTM\n",
        "answer = LSTM(32)(answer)"
      ],
      "metadata": {
        "id": "lBDhypBqDvwQ"
      },
      "execution_count": 276,
      "outputs": []
    },
    {
      "cell_type": "code",
      "source": [
        "answer = Dropout(0.5)(answer)\n",
        "answer = Dense(vocab_size)(answer)"
      ],
      "metadata": {
        "id": "5OFKICbAD-Sf"
      },
      "execution_count": 277,
      "outputs": []
    },
    {
      "cell_type": "code",
      "source": [
        "answer = Activation('softmax')(answer)"
      ],
      "metadata": {
        "id": "nL6egdhdETTY"
      },
      "execution_count": 278,
      "outputs": []
    },
    {
      "cell_type": "code",
      "source": [
        "model = Model([input_sequence,question],answer)"
      ],
      "metadata": {
        "id": "iUCK77QDEbXA"
      },
      "execution_count": 279,
      "outputs": []
    },
    {
      "cell_type": "code",
      "source": [
        "import tensorflow as tf\n",
        "tf.keras.utils.plot_model(model)"
      ],
      "metadata": {
        "colab": {
          "base_uri": "https://localhost:8080/",
          "height": 1000
        },
        "id": "RLx8C7UxEhlS",
        "outputId": "6f842dfd-6fbf-4cf2-bb8f-72dacbf15da0"
      },
      "execution_count": 280,
      "outputs": [
        {
          "output_type": "execute_result",
          "data": {
            "image/png": "[encoded data removed]",
            "text/plain": [
              "<IPython.core.display.Image object>"
            ]
          },
          "metadata": {},
          "execution_count": 280
        }
      ]
    },
    {
      "cell_type": "code",
      "source": [
        "model.compile(optimizer = 'rmsprop',loss = 'categorical_crossentropy')"
      ],
      "metadata": {
        "id": "D5wi_qSXEnDR"
      },
      "execution_count": 281,
      "outputs": []
    },
    {
      "cell_type": "code",
      "source": [
        "model.summary()"
      ],
      "metadata": {
        "colab": {
          "base_uri": "https://localhost:8080/"
        },
        "id": "bfdVOEjnE-tb",
        "outputId": "4dda5276-3a81-4053-854a-2880429b231a"
      },
      "execution_count": 282,
      "outputs": [
        {
          "output_type": "stream",
          "name": "stdout",
          "text": [
            "Model: \"model_1\"\n",
            "__________________________________________________________________________________________________\n",
            " Layer (type)                Output Shape                 Param #   Connected to                  \n",
            "==================================================================================================\n",
            " input_4 (InputLayer)        [(None, 156)]                0         []                            \n",
            "                                                                                                  \n",
            " input_5 (InputLayer)        [(None, 6)]                  0         []                            \n",
            "                                                                                                  \n",
            " sequential_8 (Sequential)   (None, None, 64)             2432      ['input_4[0][0]']             \n",
            "                                                                                                  \n",
            " sequential_10 (Sequential)  (None, 6, 64)                2432      ['input_5[0][0]']             \n",
            "                                                                                                  \n",
            " dot_1 (Dot)                 (None, 156, 6)               0         ['sequential_8[0][0]',        \n",
            "                                                                     'sequential_10[0][0]']       \n",
            "                                                                                                  \n",
            " activation_2 (Activation)   (None, 156, 6)               0         ['dot_1[0][0]']               \n",
            "                                                                                                  \n",
            " sequential_9 (Sequential)   (None, None, 6)              228       ['input_4[0][0]']             \n",
            "                                                                                                  \n",
            " add_1 (Add)                 (None, 156, 6)               0         ['activation_2[0][0]',        \n",
            "                                                                     'sequential_9[0][0]']        \n",
            "                                                                                                  \n",
            " permute_1 (Permute)         (None, 6, 156)               0         ['add_1[0][0]']               \n",
            "                                                                                                  \n",
            " concatenate_1 (Concatenate  (None, 6, 220)               0         ['permute_1[0][0]',           \n",
            " )                                                                   'sequential_10[0][0]']       \n",
            "                                                                                                  \n",
            " lstm_1 (LSTM)               (None, 32)                   32384     ['concatenate_1[0][0]']       \n",
            "                                                                                                  \n",
            " dropout_8 (Dropout)         (None, 32)                   0         ['lstm_1[0][0]']              \n",
            "                                                                                                  \n",
            " dense_1 (Dense)             (None, 38)                   1254      ['dropout_8[0][0]']           \n",
            "                                                                                                  \n",
            " activation_3 (Activation)   (None, 38)                   0         ['dense_1[0][0]']             \n",
            "                                                                                                  \n",
            "==================================================================================================\n",
            "Total params: 38730 (151.29 KB)\n",
            "Trainable params: 38730 (151.29 KB)\n",
            "Non-trainable params: 0 (0.00 Byte)\n",
            "__________________________________________________________________________________________________\n"
          ]
        }
      ]
    },
    {
      "cell_type": "code",
      "source": [
        "history = model.fit(\n",
        "    [input_train,question_train],\n",
        "    answer_train,\n",
        "    batch_size = 32,\n",
        "    epochs = 100,\n",
        "    validation_data = ([input_test,question_test],answer_test)\n",
        ")"
      ],
      "metadata": {
        "colab": {
          "base_uri": "https://localhost:8080/"
        },
        "id": "HK8YCXUMFDG1",
        "outputId": "19e550cf-4e4d-4170-bacf-c99b2e9cbe9f"
      },
      "execution_count": 283,
      "outputs": [
        {
          "output_type": "stream",
          "name": "stdout",
          "text": [
            "Epoch 1/100\n",
            "313/313 [==============================] - 7s 16ms/step - loss: 0.9334 - val_loss: 0.7001\n",
            "Epoch 2/100\n",
            "313/313 [==============================] - 6s 18ms/step - loss: 0.7089 - val_loss: 0.6937\n",
            "Epoch 3/100\n",
            "313/313 [==============================] - 4s 14ms/step - loss: 0.6980 - val_loss: 0.6958\n",
            "Epoch 4/100\n",
            "313/313 [==============================] - 5s 15ms/step - loss: 0.6962 - val_loss: 0.6936\n",
            "Epoch 5/100\n",
            "313/313 [==============================] - 5s 16ms/step - loss: 0.6965 - val_loss: 0.6944\n",
            "Epoch 6/100\n",
            "313/313 [==============================] - 6s 20ms/step - loss: 0.6955 - val_loss: 0.6937\n",
            "Epoch 7/100\n",
            "313/313 [==============================] - 7s 21ms/step - loss: 0.6955 - val_loss: 0.6936\n",
            "Epoch 8/100\n",
            "313/313 [==============================] - 4s 14ms/step - loss: 0.6957 - val_loss: 0.6932\n",
            "Epoch 9/100\n",
            "313/313 [==============================] - 5s 15ms/step - loss: 0.6956 - val_loss: 0.6931\n",
            "Epoch 10/100\n",
            "313/313 [==============================] - 5s 17ms/step - loss: 0.6946 - val_loss: 0.6932\n",
            "Epoch 11/100\n",
            "313/313 [==============================] - 4s 14ms/step - loss: 0.6952 - val_loss: 0.6932\n",
            "Epoch 12/100\n",
            "313/313 [==============================] - 5s 17ms/step - loss: 0.6948 - val_loss: 0.6932\n",
            "Epoch 13/100\n",
            "313/313 [==============================] - 4s 14ms/step - loss: 0.6946 - val_loss: 0.6934\n",
            "Epoch 14/100\n",
            "313/313 [==============================] - 4s 13ms/step - loss: 0.6957 - val_loss: 0.6932\n",
            "Epoch 15/100\n",
            "313/313 [==============================] - 6s 18ms/step - loss: 0.6947 - val_loss: 0.6932\n",
            "Epoch 16/100\n",
            "313/313 [==============================] - 4s 14ms/step - loss: 0.6945 - val_loss: 0.6942\n",
            "Epoch 17/100\n",
            "313/313 [==============================] - 4s 13ms/step - loss: 0.6952 - val_loss: 0.6933\n",
            "Epoch 18/100\n",
            "313/313 [==============================] - 6s 18ms/step - loss: 0.6947 - val_loss: 0.6933\n",
            "Epoch 19/100\n",
            "313/313 [==============================] - 4s 13ms/step - loss: 0.6947 - val_loss: 0.6932\n",
            "Epoch 20/100\n",
            "313/313 [==============================] - 4s 13ms/step - loss: 0.6951 - val_loss: 0.6936\n",
            "Epoch 21/100\n",
            "313/313 [==============================] - 7s 22ms/step - loss: 0.6951 - val_loss: 0.6937\n",
            "Epoch 22/100\n",
            "313/313 [==============================] - 5s 17ms/step - loss: 0.6944 - val_loss: 0.6942\n",
            "Epoch 23/100\n",
            "313/313 [==============================] - 4s 13ms/step - loss: 0.6948 - val_loss: 0.6935\n",
            "Epoch 24/100\n",
            "313/313 [==============================] - 6s 18ms/step - loss: 0.6943 - val_loss: 0.6939\n",
            "Epoch 25/100\n",
            "313/313 [==============================] - 4s 13ms/step - loss: 0.6949 - val_loss: 0.6947\n",
            "Epoch 26/100\n",
            "313/313 [==============================] - 4s 13ms/step - loss: 0.6948 - val_loss: 0.6935\n",
            "Epoch 27/100\n",
            "313/313 [==============================] - 5s 17ms/step - loss: 0.6952 - val_loss: 0.6932\n",
            "Epoch 28/100\n",
            "313/313 [==============================] - 4s 13ms/step - loss: 0.6944 - val_loss: 0.6933\n",
            "Epoch 29/100\n",
            "313/313 [==============================] - 4s 13ms/step - loss: 0.6951 - val_loss: 0.6940\n",
            "Epoch 30/100\n",
            "313/313 [==============================] - 5s 17ms/step - loss: 0.6948 - val_loss: 0.6940\n",
            "Epoch 31/100\n",
            "313/313 [==============================] - 4s 12ms/step - loss: 0.6949 - val_loss: 0.6932\n",
            "Epoch 32/100\n",
            "313/313 [==============================] - 4s 13ms/step - loss: 0.6948 - val_loss: 0.6940\n",
            "Epoch 33/100\n",
            "313/313 [==============================] - 5s 18ms/step - loss: 0.6946 - val_loss: 0.6933\n",
            "Epoch 34/100\n",
            "313/313 [==============================] - 4s 14ms/step - loss: 0.6952 - val_loss: 0.6952\n",
            "Epoch 35/100\n",
            "313/313 [==============================] - 4s 13ms/step - loss: 0.6948 - val_loss: 0.6937\n",
            "Epoch 36/100\n",
            "313/313 [==============================] - 6s 18ms/step - loss: 0.6951 - val_loss: 0.6932\n",
            "Epoch 37/100\n",
            "313/313 [==============================] - 4s 14ms/step - loss: 0.6951 - val_loss: 0.6937\n",
            "Epoch 38/100\n",
            "313/313 [==============================] - 4s 14ms/step - loss: 0.6944 - val_loss: 0.6931\n",
            "Epoch 39/100\n",
            "313/313 [==============================] - 6s 18ms/step - loss: 0.6952 - val_loss: 0.6934\n",
            "Epoch 40/100\n",
            "313/313 [==============================] - 4s 13ms/step - loss: 0.6948 - val_loss: 0.6939\n",
            "Epoch 41/100\n",
            "313/313 [==============================] - 4s 14ms/step - loss: 0.6941 - val_loss: 0.6975\n",
            "Epoch 42/100\n",
            "313/313 [==============================] - 6s 18ms/step - loss: 0.6939 - val_loss: 0.6982\n",
            "Epoch 43/100\n",
            "313/313 [==============================] - 4s 13ms/step - loss: 0.6952 - val_loss: 0.6933\n",
            "Epoch 44/100\n",
            "313/313 [==============================] - 5s 14ms/step - loss: 0.6945 - val_loss: 0.6951\n",
            "Epoch 45/100\n",
            "313/313 [==============================] - 5s 17ms/step - loss: 0.6941 - val_loss: 0.6940\n",
            "Epoch 46/100\n",
            "313/313 [==============================] - 4s 13ms/step - loss: 0.6949 - val_loss: 0.6946\n",
            "Epoch 47/100\n",
            "313/313 [==============================] - 5s 15ms/step - loss: 0.6946 - val_loss: 0.6937\n",
            "Epoch 48/100\n",
            "313/313 [==============================] - 5s 15ms/step - loss: 0.6945 - val_loss: 0.6934\n",
            "Epoch 49/100\n",
            "313/313 [==============================] - 4s 13ms/step - loss: 0.6947 - val_loss: 0.6934\n",
            "Epoch 50/100\n",
            "313/313 [==============================] - 5s 15ms/step - loss: 0.6946 - val_loss: 0.6936\n",
            "Epoch 51/100\n",
            "313/313 [==============================] - 5s 15ms/step - loss: 0.6944 - val_loss: 0.6963\n",
            "Epoch 52/100\n",
            "313/313 [==============================] - 4s 12ms/step - loss: 0.6935 - val_loss: 0.6969\n",
            "Epoch 53/100\n",
            "313/313 [==============================] - 4s 13ms/step - loss: 0.6940 - val_loss: 0.6965\n",
            "Epoch 54/100\n",
            "313/313 [==============================] - 5s 16ms/step - loss: 0.6938 - val_loss: 0.6950\n",
            "Epoch 55/100\n",
            "313/313 [==============================] - 4s 13ms/step - loss: 0.6929 - val_loss: 0.6999\n",
            "Epoch 56/100\n",
            "313/313 [==============================] - 4s 13ms/step - loss: 0.6926 - val_loss: 0.6960\n",
            "Epoch 57/100\n",
            "313/313 [==============================] - 5s 17ms/step - loss: 0.6925 - val_loss: 0.6967\n",
            "Epoch 58/100\n",
            "313/313 [==============================] - 4s 13ms/step - loss: 0.6924 - val_loss: 0.6982\n",
            "Epoch 59/100\n",
            "313/313 [==============================] - 5s 15ms/step - loss: 0.6909 - val_loss: 0.6979\n",
            "Epoch 60/100\n",
            "313/313 [==============================] - 5s 16ms/step - loss: 0.6905 - val_loss: 0.6958\n",
            "Epoch 61/100\n",
            "313/313 [==============================] - 4s 13ms/step - loss: 0.6878 - val_loss: 0.6909\n",
            "Epoch 62/100\n",
            "313/313 [==============================] - 5s 17ms/step - loss: 0.6786 - val_loss: 0.6811\n",
            "Epoch 63/100\n",
            "313/313 [==============================] - 5s 15ms/step - loss: 0.6659 - val_loss: 0.6652\n",
            "Epoch 64/100\n",
            "313/313 [==============================] - 4s 14ms/step - loss: 0.6492 - val_loss: 0.6442\n",
            "Epoch 65/100\n",
            "313/313 [==============================] - 6s 18ms/step - loss: 0.6315 - val_loss: 0.6155\n",
            "Epoch 66/100\n",
            "313/313 [==============================] - 4s 13ms/step - loss: 0.6082 - val_loss: 0.5866\n",
            "Epoch 67/100\n",
            "313/313 [==============================] - 4s 13ms/step - loss: 0.5924 - val_loss: 0.5695\n",
            "Epoch 68/100\n",
            "313/313 [==============================] - 6s 18ms/step - loss: 0.5743 - val_loss: 0.5623\n",
            "Epoch 69/100\n",
            "313/313 [==============================] - 4s 13ms/step - loss: 0.5650 - val_loss: 0.5443\n",
            "Epoch 70/100\n",
            "313/313 [==============================] - 4s 13ms/step - loss: 0.5550 - val_loss: 0.5378\n",
            "Epoch 71/100\n",
            "313/313 [==============================] - 5s 17ms/step - loss: 0.5469 - val_loss: 0.5367\n",
            "Epoch 72/100\n",
            "313/313 [==============================] - 4s 13ms/step - loss: 0.5426 - val_loss: 0.5346\n",
            "Epoch 73/100\n",
            "313/313 [==============================] - 4s 13ms/step - loss: 0.5343 - val_loss: 0.5125\n",
            "Epoch 74/100\n",
            "313/313 [==============================] - 5s 18ms/step - loss: 0.5286 - val_loss: 0.5256\n",
            "Epoch 75/100\n",
            "313/313 [==============================] - 4s 13ms/step - loss: 0.5219 - val_loss: 0.5149\n",
            "Epoch 76/100\n",
            "313/313 [==============================] - 4s 13ms/step - loss: 0.5167 - val_loss: 0.5023\n",
            "Epoch 77/100\n",
            "313/313 [==============================] - 6s 18ms/step - loss: 0.5059 - val_loss: 0.4953\n",
            "Epoch 78/100\n",
            "313/313 [==============================] - 4s 13ms/step - loss: 0.4926 - val_loss: 0.4895\n",
            "Epoch 79/100\n",
            "313/313 [==============================] - 4s 14ms/step - loss: 0.4816 - val_loss: 0.4709\n",
            "Epoch 80/100\n",
            "313/313 [==============================] - 6s 18ms/step - loss: 0.4757 - val_loss: 0.4667\n",
            "Epoch 81/100\n",
            "313/313 [==============================] - 4s 14ms/step - loss: 0.4689 - val_loss: 0.4636\n",
            "Epoch 82/100\n",
            "313/313 [==============================] - 4s 14ms/step - loss: 0.4614 - val_loss: 0.4664\n",
            "Epoch 83/100\n",
            "313/313 [==============================] - 6s 18ms/step - loss: 0.4483 - val_loss: 0.4616\n",
            "Epoch 84/100\n",
            "313/313 [==============================] - 4s 14ms/step - loss: 0.4434 - val_loss: 0.4430\n",
            "Epoch 85/100\n",
            "313/313 [==============================] - 4s 14ms/step - loss: 0.4354 - val_loss: 0.4304\n",
            "Epoch 86/100\n",
            "313/313 [==============================] - 5s 17ms/step - loss: 0.4216 - val_loss: 0.4263\n",
            "Epoch 87/100\n",
            "313/313 [==============================] - 4s 13ms/step - loss: 0.4198 - val_loss: 0.4347\n",
            "Epoch 88/100\n",
            "313/313 [==============================] - 4s 13ms/step - loss: 0.4113 - val_loss: 0.4182\n",
            "Epoch 89/100\n",
            "313/313 [==============================] - 6s 18ms/step - loss: 0.4053 - val_loss: 0.4259\n",
            "Epoch 90/100\n",
            "313/313 [==============================] - 4s 12ms/step - loss: 0.3984 - val_loss: 0.4221\n",
            "Epoch 91/100\n",
            "313/313 [==============================] - 4s 13ms/step - loss: 0.3943 - val_loss: 0.4058\n",
            "Epoch 92/100\n",
            "313/313 [==============================] - 5s 17ms/step - loss: 0.3914 - val_loss: 0.4049\n",
            "Epoch 93/100\n",
            "313/313 [==============================] - 4s 14ms/step - loss: 0.3815 - val_loss: 0.4103\n",
            "Epoch 94/100\n",
            "313/313 [==============================] - 5s 14ms/step - loss: 0.3766 - val_loss: 0.4023\n",
            "Epoch 95/100\n",
            "313/313 [==============================] - 6s 19ms/step - loss: 0.3710 - val_loss: 0.4083\n",
            "Epoch 96/100\n",
            "313/313 [==============================] - 6s 19ms/step - loss: 0.3664 - val_loss: 0.4104\n",
            "Epoch 97/100\n",
            "313/313 [==============================] - 6s 18ms/step - loss: 0.3641 - val_loss: 0.3992\n",
            "Epoch 98/100\n",
            "313/313 [==============================] - 4s 13ms/step - loss: 0.3578 - val_loss: 0.4012\n",
            "Epoch 99/100\n",
            "313/313 [==============================] - 4s 13ms/step - loss: 0.3600 - val_loss: 0.4042\n",
            "Epoch 100/100\n",
            "313/313 [==============================] - 6s 18ms/step - loss: 0.3471 - val_loss: 0.3943\n"
          ]
        }
      ]
    },
    {
      "cell_type": "code",
      "source": [
        "import matplotlib.pyplot as plt\n",
        "%matplotlib inline\n",
        "print(history.history.keys())\n",
        "\n",
        "#Summarize history for accuracy\n",
        "plt.plot(history.history[\"loss\"])\n",
        "plt.plot(history.history['val_loss'])\n",
        "plt.title(\"model loss\")\n",
        "plt.ylabel(\"loss\")\n",
        "plt.xlabel(\"epoch\")\n",
        "plt.legend([\"train\",\"test\"],loc = \"upper left\")\n",
        "plt.show()"
      ],
      "metadata": {
        "colab": {
          "base_uri": "https://localhost:8080/",
          "height": 489
        },
        "id": "9fHyfV0BHAWy",
        "outputId": "ff2b3e8f-8c5c-4738-fcae-646712acf6d8"
      },
      "execution_count": 293,
      "outputs": [
        {
          "output_type": "stream",
          "name": "stdout",
          "text": [
            "dict_keys(['loss', 'val_loss'])\n"
          ]
        },
        {
          "output_type": "display_data",
          "data": {
            "text/plain": [
              "<Figure size 640x480 with 1 Axes>"
            ],
            "image/png": "[encoded data removed]"
          },
          "metadata": {}
        }
      ]
    },
    {
      "cell_type": "code",
      "source": [
        "model.save(\"chatbox_model\")"
      ],
      "metadata": {
        "id": "ptkdfTvUIwq-"
      },
      "execution_count": 294,
      "outputs": []
    },
    {
      "cell_type": "code",
      "source": [
        "#model = load_model(\"chatbox_model\")"
      ],
      "metadata": {
        "id": "7q_DGxRZJkK4"
      },
      "execution_count": null,
      "outputs": []
    },
    {
      "cell_type": "code",
      "source": [
        "pred_results = model.predict([input_test,question_test])"
      ],
      "metadata": {
        "colab": {
          "base_uri": "https://localhost:8080/"
        },
        "id": "cx0GwL3BJv-4",
        "outputId": "030eff28-7f05-4dc8-874c-af7c4e8f0107"
      },
      "execution_count": 295,
      "outputs": [
        {
          "output_type": "stream",
          "name": "stdout",
          "text": [
            "32/32 [==============================] - 1s 4ms/step\n"
          ]
        }
      ]
    },
    {
      "cell_type": "code",
      "source": [
        "test_data[0]"
      ],
      "metadata": {
        "colab": {
          "base_uri": "https://localhost:8080/"
        },
        "id": "-0XqgE-gJ8xA",
        "outputId": "b4192ea1-6c0b-4482-9411-ce3a014c67b5"
      },
      "execution_count": 296,
      "outputs": [
        {
          "output_type": "execute_result",
          "data": {
            "text/plain": [
              "(['Mary',\n",
              "  'got',\n",
              "  'the',\n",
              "  'milk',\n",
              "  'there',\n",
              "  '.',\n",
              "  'John',\n",
              "  'moved',\n",
              "  'to',\n",
              "  'the',\n",
              "  'bedroom',\n",
              "  '.'],\n",
              " ['Is', 'John', 'in', 'the', 'kitchen', '?'],\n",
              " 'no')"
            ]
          },
          "metadata": {},
          "execution_count": 296
        }
      ]
    },
    {
      "cell_type": "code",
      "source": [
        "test_data[0][0]"
      ],
      "metadata": {
        "colab": {
          "base_uri": "https://localhost:8080/"
        },
        "id": "P8BIpCU3Rvqc",
        "outputId": "2837c1cf-17c9-4fe3-8c09-322051f4dd78"
      },
      "execution_count": 297,
      "outputs": [
        {
          "output_type": "execute_result",
          "data": {
            "text/plain": [
              "['Mary',\n",
              " 'got',\n",
              " 'the',\n",
              " 'milk',\n",
              " 'there',\n",
              " '.',\n",
              " 'John',\n",
              " 'moved',\n",
              " 'to',\n",
              " 'the',\n",
              " 'bedroom',\n",
              " '.']"
            ]
          },
          "metadata": {},
          "execution_count": 297
        }
      ]
    },
    {
      "cell_type": "code",
      "source": [
        "pred_results.shape"
      ],
      "metadata": {
        "colab": {
          "base_uri": "https://localhost:8080/"
        },
        "id": "tKbh2pRXRyXK",
        "outputId": "23a13013-1503-4844-d3ce-ac61e7b59cda"
      },
      "execution_count": 298,
      "outputs": [
        {
          "output_type": "execute_result",
          "data": {
            "text/plain": [
              "(1000, 38)"
            ]
          },
          "metadata": {},
          "execution_count": 298
        }
      ]
    },
    {
      "cell_type": "code",
      "source": [
        "pred_results"
      ],
      "metadata": {
        "colab": {
          "base_uri": "https://localhost:8080/"
        },
        "id": "U9YdldSeR2hh",
        "outputId": "ffd3f050-4139-417f-b347-bec275b89d31"
      },
      "execution_count": 299,
      "outputs": [
        {
          "output_type": "execute_result",
          "data": {
            "text/plain": [
              "array([[1.6470246e-07, 1.3922372e-07, 1.3747356e-07, ..., 1.3391198e-07,\n",
              "        1.8471484e-07, 1.9730753e-07],\n",
              "       [4.6036725e-08, 3.9493585e-08, 4.7409209e-08, ..., 4.4373692e-08,\n",
              "        5.2781768e-08, 5.7478722e-08],\n",
              "       [3.1340040e-08, 2.6808911e-08, 3.4875622e-08, ..., 2.6663166e-08,\n",
              "        2.6400977e-08, 2.6916659e-08],\n",
              "       ...,\n",
              "       [9.8151986e-08, 8.5904936e-08, 9.1387079e-08, ..., 1.0766387e-07,\n",
              "        1.0511208e-07, 1.2503577e-07],\n",
              "       [3.3653674e-08, 2.6135025e-08, 2.8335180e-08, ..., 2.5533067e-08,\n",
              "        2.4316144e-08, 2.2193797e-08],\n",
              "       [2.6519032e-08, 2.3090111e-08, 2.7571801e-08, ..., 2.1631946e-08,\n",
              "        1.5750052e-08, 1.6774448e-08]], dtype=float32)"
            ]
          },
          "metadata": {},
          "execution_count": 299
        }
      ]
    },
    {
      "cell_type": "code",
      "source": [
        "pred_results[0]"
      ],
      "metadata": {
        "id": "MsqpAcf7R3nJ"
      },
      "execution_count": null,
      "outputs": []
    },
    {
      "cell_type": "code",
      "source": [
        "\" \".join(test_data[0][0])"
      ],
      "metadata": {
        "colab": {
          "base_uri": "https://localhost:8080/",
          "height": 35
        },
        "id": "GOFFZp4ZSJHa",
        "outputId": "25ede4ed-a06d-46ad-d010-1bf32c257d12"
      },
      "execution_count": 301,
      "outputs": [
        {
          "output_type": "execute_result",
          "data": {
            "text/plain": [
              "'Mary got the milk there . John moved to the bedroom .'"
            ],
            "application/vnd.google.colaboratory.intrinsic+json": {
              "type": "string"
            }
          },
          "metadata": {},
          "execution_count": 301
        }
      ]
    },
    {
      "cell_type": "code",
      "source": [
        "\" \".join(test_data[0][1])"
      ],
      "metadata": {
        "colab": {
          "base_uri": "https://localhost:8080/",
          "height": 35
        },
        "id": "OyoeYAg5SI7T",
        "outputId": "2fb4acb8-7bc4-4960-f55a-898493a08ccb"
      },
      "execution_count": 302,
      "outputs": [
        {
          "output_type": "execute_result",
          "data": {
            "text/plain": [
              "'Is John in the kitchen ?'"
            ],
            "application/vnd.google.colaboratory.intrinsic+json": {
              "type": "string"
            }
          },
          "metadata": {},
          "execution_count": 302
        }
      ]
    },
    {
      "cell_type": "code",
      "source": [
        "test_data[0][2]"
      ],
      "metadata": {
        "colab": {
          "base_uri": "https://localhost:8080/",
          "height": 35
        },
        "id": "WPHp9XvdSRDe",
        "outputId": "62b7d709-58dc-413f-ccb0-36fbf6602b76"
      },
      "execution_count": 303,
      "outputs": [
        {
          "output_type": "execute_result",
          "data": {
            "text/plain": [
              "'no'"
            ],
            "application/vnd.google.colaboratory.intrinsic+json": {
              "type": "string"
            }
          },
          "metadata": {},
          "execution_count": 303
        }
      ]
    },
    {
      "cell_type": "code",
      "source": [
        "val_max = np.argmax(pred_results[0])"
      ],
      "metadata": {
        "id": "lnfI0g1KR8Kc"
      },
      "execution_count": 304,
      "outputs": []
    },
    {
      "cell_type": "code",
      "source": [
        "for key,val in tokenizer.word_index.items():\n",
        "  if val == val_max:\n",
        "    k = key"
      ],
      "metadata": {
        "id": "tOJyKCf5SWDH"
      },
      "execution_count": 305,
      "outputs": []
    },
    {
      "cell_type": "code",
      "source": [
        "k"
      ],
      "metadata": {
        "colab": {
          "base_uri": "https://localhost:8080/",
          "height": 35
        },
        "id": "6aeJDYsvSdqZ",
        "outputId": "343210d8-915a-4866-a394-b345e9d4c9a5"
      },
      "execution_count": 306,
      "outputs": [
        {
          "output_type": "execute_result",
          "data": {
            "text/plain": [
              "'no'"
            ],
            "application/vnd.google.colaboratory.intrinsic+json": {
              "type": "string"
            }
          },
          "metadata": {},
          "execution_count": 306
        }
      ]
    },
    {
      "cell_type": "code",
      "source": [
        "#Return the probability\n",
        "pred_results[0][val_max]"
      ],
      "metadata": {
        "colab": {
          "base_uri": "https://localhost:8080/"
        },
        "id": "WIH2-UmwSe6S",
        "outputId": "3f47dd3b-665b-4047-d83a-a3994db4b392"
      },
      "execution_count": 307,
      "outputs": [
        {
          "output_type": "execute_result",
          "data": {
            "text/plain": [
              "0.9952022"
            ]
          },
          "metadata": {},
          "execution_count": 307
        }
      ]
    },
    {
      "cell_type": "code",
      "source": [
        "#Only can use the vocab that we have trained\n",
        "vocab"
      ],
      "metadata": {
        "colab": {
          "base_uri": "https://localhost:8080/"
        },
        "id": "PQ7uSJzZSld2",
        "outputId": "b331db0e-b7d1-42a6-d79b-8d72125d3a78"
      },
      "execution_count": 308,
      "outputs": [
        {
          "output_type": "execute_result",
          "data": {
            "text/plain": [
              "{'.',\n",
              " '?',\n",
              " 'Daniel',\n",
              " 'Is',\n",
              " 'John',\n",
              " 'Mary',\n",
              " 'Sandra',\n",
              " 'apple',\n",
              " 'back',\n",
              " 'bathroom',\n",
              " 'bedroom',\n",
              " 'discarded',\n",
              " 'down',\n",
              " 'dropped',\n",
              " 'football',\n",
              " 'garden',\n",
              " 'got',\n",
              " 'grabbed',\n",
              " 'hallway',\n",
              " 'in',\n",
              " 'journeyed',\n",
              " 'kitchen',\n",
              " 'left',\n",
              " 'milk',\n",
              " 'moved',\n",
              " 'no',\n",
              " 'office',\n",
              " 'picked',\n",
              " 'put',\n",
              " 'the',\n",
              " 'there',\n",
              " 'to',\n",
              " 'took',\n",
              " 'travelled',\n",
              " 'up',\n",
              " 'went',\n",
              " 'yes'}"
            ]
          },
          "metadata": {},
          "execution_count": 308
        }
      ]
    },
    {
      "cell_type": "code",
      "source": [
        "my_story = \"John left kitchen . Sandra dropped the football in the garden .\""
      ],
      "metadata": {
        "id": "FdpSnaFSS3K-"
      },
      "execution_count": 309,
      "outputs": []
    },
    {
      "cell_type": "code",
      "source": [
        "my_story.split()"
      ],
      "metadata": {
        "colab": {
          "base_uri": "https://localhost:8080/"
        },
        "id": "Cecf0zVgTSih",
        "outputId": "1f7a06e5-26bb-4374-8578-7a333530c8fe"
      },
      "execution_count": 310,
      "outputs": [
        {
          "output_type": "execute_result",
          "data": {
            "text/plain": [
              "['John',\n",
              " 'left',\n",
              " 'kitchen',\n",
              " '.',\n",
              " 'Sandra',\n",
              " 'dropped',\n",
              " 'the',\n",
              " 'football',\n",
              " 'in',\n",
              " 'the',\n",
              " 'garden',\n",
              " '.']"
            ]
          },
          "metadata": {},
          "execution_count": 310
        }
      ]
    },
    {
      "cell_type": "code",
      "source": [
        "my_ques = \"Is the football in the garden .\""
      ],
      "metadata": {
        "id": "TvkduLlxTaA3"
      },
      "execution_count": 311,
      "outputs": []
    },
    {
      "cell_type": "code",
      "source": [
        "my_ques.split()"
      ],
      "metadata": {
        "colab": {
          "base_uri": "https://localhost:8080/"
        },
        "id": "T29_Uq7aTeb3",
        "outputId": "02a943ce-5a70-412d-bc55-30df1333071b"
      },
      "execution_count": 312,
      "outputs": [
        {
          "output_type": "execute_result",
          "data": {
            "text/plain": [
              "['Is', 'the', 'football', 'in', 'the', 'garden', '.']"
            ]
          },
          "metadata": {},
          "execution_count": 312
        }
      ]
    },
    {
      "cell_type": "code",
      "source": [
        "mydata = [(my_story.split(),my_ques.split(),'yes')]"
      ],
      "metadata": {
        "id": "e95srvdbTgLA"
      },
      "execution_count": 313,
      "outputs": []
    },
    {
      "cell_type": "code",
      "source": [
        "#Same format as my train and test data\n",
        "mydata"
      ],
      "metadata": {
        "colab": {
          "base_uri": "https://localhost:8080/"
        },
        "id": "2tghNo57T0Jj",
        "outputId": "8964e52d-056f-4ae5-85c3-20d79aa0afe5"
      },
      "execution_count": 314,
      "outputs": [
        {
          "output_type": "execute_result",
          "data": {
            "text/plain": [
              "[(['John',\n",
              "   'left',\n",
              "   'kitchen',\n",
              "   '.',\n",
              "   'Sandra',\n",
              "   'dropped',\n",
              "   'the',\n",
              "   'football',\n",
              "   'in',\n",
              "   'the',\n",
              "   'garden',\n",
              "   '.'],\n",
              "  ['Is', 'the', 'football', 'in', 'the', 'garden', '.'],\n",
              "  'yes')]"
            ]
          },
          "metadata": {},
          "execution_count": 314
        }
      ]
    },
    {
      "cell_type": "code",
      "source": [
        "my_story,my_ques,my_ans = vectorize_stories(mydata)"
      ],
      "metadata": {
        "id": "3IqZ1sGLT01y"
      },
      "execution_count": 315,
      "outputs": []
    },
    {
      "cell_type": "code",
      "source": [
        "my_story"
      ],
      "metadata": {
        "colab": {
          "base_uri": "https://localhost:8080/"
        },
        "id": "-96DGmPtUASe",
        "outputId": "94fbb2d6-6d35-4551-9990-b21613733b0f"
      },
      "execution_count": 316,
      "outputs": [
        {
          "output_type": "execute_result",
          "data": {
            "text/plain": [
              "array([[ 0,  0,  0,  0,  0,  0,  0,  0,  0,  0,  0,  0,  0,  0,  0,  0,\n",
              "         0,  0,  0,  0,  0,  0,  0,  0,  0,  0,  0,  0,  0,  0,  0,  0,\n",
              "         0,  0,  0,  0,  0,  0,  0,  0,  0,  0,  0,  0,  0,  0,  0,  0,\n",
              "         0,  0,  0,  0,  0,  0,  0,  0,  0,  0,  0,  0,  0,  0,  0,  0,\n",
              "         0,  0,  0,  0,  0,  0,  0,  0,  0,  0,  0,  0,  0,  0,  0,  0,\n",
              "         0,  0,  0,  0,  0,  0,  0,  0,  0,  0,  0,  0,  0,  0,  0,  0,\n",
              "         0,  0,  0,  0,  0,  0,  0,  0,  0,  0,  0,  0,  0,  0,  0,  0,\n",
              "         0,  0,  0,  0,  0,  0,  0,  0,  0,  0,  0,  0,  0,  0,  0,  0,\n",
              "         0,  0,  0,  0,  0,  0,  0,  0,  0,  0,  0,  0,  0,  0,  0,  0,\n",
              "        21, 18,  5,  3, 33, 29,  8,  6,  4,  8, 30,  3]], dtype=int32)"
            ]
          },
          "metadata": {},
          "execution_count": 316
        }
      ]
    },
    {
      "cell_type": "code",
      "source": [
        "my_ques"
      ],
      "metadata": {
        "colab": {
          "base_uri": "https://localhost:8080/"
        },
        "id": "i-as9Gt5UGaH",
        "outputId": "124706de-26b2-4e62-e184-cc703ee5fdd2"
      },
      "execution_count": 317,
      "outputs": [
        {
          "output_type": "execute_result",
          "data": {
            "text/plain": [
              "array([[ 8,  6,  4,  8, 30,  3]], dtype=int32)"
            ]
          },
          "metadata": {},
          "execution_count": 317
        }
      ]
    },
    {
      "cell_type": "code",
      "source": [
        "pred_results = model.predict([my_story,my_ques])"
      ],
      "metadata": {
        "colab": {
          "base_uri": "https://localhost:8080/"
        },
        "id": "SvrFGpF3UHZQ",
        "outputId": "75bcea1b-a334-46a4-e4b8-34b4034ba00b"
      },
      "execution_count": 318,
      "outputs": [
        {
          "output_type": "stream",
          "name": "stdout",
          "text": [
            "1/1 [==============================] - 0s 21ms/step\n"
          ]
        }
      ]
    },
    {
      "cell_type": "code",
      "source": [
        "val_max = np.argmax(pred_results[0])"
      ],
      "metadata": {
        "id": "IlM2SesnUStL"
      },
      "execution_count": 319,
      "outputs": []
    },
    {
      "cell_type": "code",
      "source": [
        "val_max"
      ],
      "metadata": {
        "colab": {
          "base_uri": "https://localhost:8080/"
        },
        "id": "WDd4WIAsUzIj",
        "outputId": "7959c5b2-6658-486c-c37f-4739b9a20bad"
      },
      "execution_count": 320,
      "outputs": [
        {
          "output_type": "execute_result",
          "data": {
            "text/plain": [
              "7"
            ]
          },
          "metadata": {},
          "execution_count": 320
        }
      ]
    },
    {
      "cell_type": "code",
      "source": [
        "for key,val in tokenizer.word_index.items():\n",
        "  if val == val_max:\n",
        "    k = key"
      ],
      "metadata": {
        "id": "FTzFD02VUbCH"
      },
      "execution_count": 321,
      "outputs": []
    },
    {
      "cell_type": "code",
      "source": [
        "#The ans is yes\n",
        "k"
      ],
      "metadata": {
        "colab": {
          "base_uri": "https://localhost:8080/",
          "height": 35
        },
        "id": "Itm-ptTsUtX7",
        "outputId": "341a9960-b0ab-40b5-8c59-ee2daa7217e7"
      },
      "execution_count": 322,
      "outputs": [
        {
          "output_type": "execute_result",
          "data": {
            "text/plain": [
              "'yes'"
            ],
            "application/vnd.google.colaboratory.intrinsic+json": {
              "type": "string"
            }
          },
          "metadata": {},
          "execution_count": 322
        }
      ]
    },
    {
      "cell_type": "code",
      "source": [
        "pred_results[0][val_max]"
      ],
      "metadata": {
        "colab": {
          "base_uri": "https://localhost:8080/"
        },
        "id": "iE2bGrGWVHiw",
        "outputId": "b1ee41b8-fc7d-4393-f2b3-f9f8fea86649"
      },
      "execution_count": 323,
      "outputs": [
        {
          "output_type": "execute_result",
          "data": {
            "text/plain": [
              "0.98412734"
            ]
          },
          "metadata": {},
          "execution_count": 323
        }
      ]
    },
    {
      "cell_type": "code",
      "source": [
        "def chat_box(story,ques,ans):\n",
        "  k = \"null\"\n",
        "\n",
        "  mydata = [(story.split(),ques.split(),ans)]\n",
        "  my_story,my_ques,my_ans = vectorize_stories(mydata)\n",
        "\n",
        "  pred_results = model.predict([my_story,my_ques])\n",
        "  val_max = np.argmax(pred_results[0])\n",
        "\n",
        "  for key,val in tokenizer.word_index.items():\n",
        "    if val == val_max:\n",
        "      k = key\n",
        "\n",
        "  print(k,\" \",pred_results[0][val_max])"
      ],
      "metadata": {
        "id": "0206mnVWWnLj"
      },
      "execution_count": 336,
      "outputs": []
    },
    {
      "cell_type": "code",
      "source": [
        "story = \"john dropped football in garden . john left .\"\n",
        "ques = \"Is the football in the kitchen\"\n",
        "ans = 'no'\n",
        "\n",
        "chat_box(story,ques,ans)"
      ],
      "metadata": {
        "colab": {
          "base_uri": "https://localhost:8080/"
        },
        "id": "gjKrMagQYIkc",
        "outputId": "f883d4b9-01d3-494c-ea16-d0dccb04f4be"
      },
      "execution_count": 338,
      "outputs": [
        {
          "output_type": "stream",
          "name": "stdout",
          "text": [
            "1/1 [==============================] - 0s 33ms/step\n",
            "no   0.9775713\n"
          ]
        }
      ]
    },
    {
      "cell_type": "code",
      "source": [
        "story = \"john dropped football in garden . john left .\"\n",
        "ques = \"Is the football in the garden .\"\n",
        "ans = 'no'\n",
        "\n",
        "chat_box(story,ques,ans)"
      ],
      "metadata": {
        "colab": {
          "base_uri": "https://localhost:8080/"
        },
        "id": "MGtiV4gTgpLt",
        "outputId": "fb18461e-9af3-4d03-8d8a-c860c43fa8c7"
      },
      "execution_count": 340,
      "outputs": [
        {
          "output_type": "stream",
          "name": "stdout",
          "text": [
            "1/1 [==============================] - 0s 22ms/step\n",
            "no   0.52638906\n"
          ]
        }
      ]
    }
  ]
}