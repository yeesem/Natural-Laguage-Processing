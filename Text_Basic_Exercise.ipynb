{
  "nbformat": 4,
  "nbformat_minor": 0,
  "metadata": {
    "colab": {
      "provenance": [],
      "authorship_tag": "ABX9TyPwngdNmutLlmKqdIbRqp53",
      "include_colab_link": true
    },
    "kernelspec": {
      "name": "python3",
      "display_name": "Python 3"
    },
    "language_info": {
      "name": "python"
    }
  },
  "cells": [
    {
      "cell_type": "markdown",
      "metadata": {
        "id": "view-in-github",
        "colab_type": "text"
      },
      "source": [
        "<a href=\"https://colab.research.google.com/github/yeesem/Natural-Laguage-Processing/blob/main/Text_Basic_Exercise.ipynb\" target=\"_parent\"><img src=\"https://colab.research.google.com/assets/colab-badge.svg\" alt=\"Open In Colab\"/></a>"
      ]
    },
    {
      "cell_type": "code",
      "execution_count": 9,
      "metadata": {
        "colab": {
          "base_uri": "https://localhost:8080/"
        },
        "id": "IpHxMsSQxj6i",
        "outputId": "7d945944-2a3a-4d99-b68f-0d2736f747db"
      },
      "outputs": [
        {
          "output_type": "stream",
          "name": "stdout",
          "text": [
            "NLP stands for Natural Language Processing\n"
          ]
        }
      ],
      "source": [
        "abbr = 'NLP'\n",
        "full = 'Natural Language Processing'\n",
        "\n",
        "print(f\"{abbr} stands for {full}\")"
      ]
    },
    {
      "cell_type": "code",
      "source": [
        "%%writefile contacts.txt\n",
        "First_Name, Last_Name, Title, Extension, Email"
      ],
      "metadata": {
        "colab": {
          "base_uri": "https://localhost:8080/"
        },
        "id": "8rX--Sd4z2Ck",
        "outputId": "166435fd-0645-4f9c-bf4e-0f2f26a69ba2"
      },
      "execution_count": 10,
      "outputs": [
        {
          "output_type": "stream",
          "name": "stdout",
          "text": [
            "Overwriting contacts.txt\n"
          ]
        }
      ]
    },
    {
      "cell_type": "code",
      "source": [
        "myfile = open('contacts.txt')"
      ],
      "metadata": {
        "id": "prOzVnRk5yto"
      },
      "execution_count": 11,
      "outputs": []
    },
    {
      "cell_type": "code",
      "source": [
        "myfile.read()"
      ],
      "metadata": {
        "colab": {
          "base_uri": "https://localhost:8080/",
          "height": 35
        },
        "id": "H0v5Fs0H52lA",
        "outputId": "6eb0b398-f730-4241-b5f1-57e9c8622da9"
      },
      "execution_count": 12,
      "outputs": [
        {
          "output_type": "execute_result",
          "data": {
            "text/plain": [
              "'First_Name, Last_Name, Title, Extension, Email\\n'"
            ],
            "application/vnd.google.colaboratory.intrinsic+json": {
              "type": "string"
            }
          },
          "metadata": {},
          "execution_count": 12
        }
      ]
    },
    {
      "cell_type": "code",
      "source": [
        "myfile.close()"
      ],
      "metadata": {
        "id": "LzClXzcg57db"
      },
      "execution_count": 13,
      "outputs": []
    },
    {
      "cell_type": "code",
      "source": [
        "with open('contacts.txt') as f:\n",
        "  fields = f.read()\n",
        "\n",
        "fields"
      ],
      "metadata": {
        "colab": {
          "base_uri": "https://localhost:8080/",
          "height": 35
        },
        "id": "RX7ioqF-6B5U",
        "outputId": "cc4031b3-9d09-4322-e644-aea5fd3b0604"
      },
      "execution_count": 14,
      "outputs": [
        {
          "output_type": "execute_result",
          "data": {
            "text/plain": [
              "'First_Name, Last_Name, Title, Extension, Email\\n'"
            ],
            "application/vnd.google.colaboratory.intrinsic+json": {
              "type": "string"
            }
          },
          "metadata": {},
          "execution_count": 14
        }
      ]
    },
    {
      "cell_type": "code",
      "source": [
        "!pip install PyPDF2"
      ],
      "metadata": {
        "colab": {
          "base_uri": "https://localhost:8080/"
        },
        "id": "-O7VHSVW7Udp",
        "outputId": "d82c2335-0d9b-49e3-c7e0-f623bdd9a311"
      },
      "execution_count": 15,
      "outputs": [
        {
          "output_type": "stream",
          "name": "stdout",
          "text": [
            "Requirement already satisfied: PyPDF2 in /usr/local/lib/python3.10/dist-packages (3.0.1)\n"
          ]
        }
      ]
    },
    {
      "cell_type": "code",
      "source": [
        "import PyPDF2\n",
        "\n",
        "f = open('/content/Business_Proposal.pdf','rb')\n",
        "\n",
        "pdf_reader = PyPDF2.PdfReader(f)\n",
        "\n",
        "page_two_test = pdf_reader.pages[1].extract_text()\n",
        "\n",
        "f.close()\n",
        "\n",
        "print(page_two_test)"
      ],
      "metadata": {
        "colab": {
          "base_uri": "https://localhost:8080/"
        },
        "id": "QjAiY8Rp6JaJ",
        "outputId": "9a0bf282-cb1f-4006-93ab-4aedbfb10a54"
      },
      "execution_count": 16,
      "outputs": [
        {
          "output_type": "stream",
          "name": "stdout",
          "text": [
            "AUTHORS:  \n",
            "Amy Baker, Finance Chair, x345, abaker@ourcompany.com  \n",
            "Chris Donaldson, Accounting Dir., x621, cdonaldson@ourcompany.com  \n",
            "Erin Freeman, Sr. VP, x879, efreeman@ourcompany.com  \n"
          ]
        }
      ]
    },
    {
      "cell_type": "code",
      "source": [
        "with open('contacts.txt','a+') as f:\n",
        "  f.write(page_two_test)\n",
        "  f.seek(0)\n",
        "  print(f.read())"
      ],
      "metadata": {
        "colab": {
          "base_uri": "https://localhost:8080/"
        },
        "id": "FID0UCR77Kol",
        "outputId": "21d79089-d6e6-468b-ba7d-262298019c79"
      },
      "execution_count": 17,
      "outputs": [
        {
          "output_type": "stream",
          "name": "stdout",
          "text": [
            "First_Name, Last_Name, Title, Extension, Email\n",
            "AUTHORS:  \n",
            "Amy Baker, Finance Chair, x345, abaker@ourcompany.com  \n",
            "Chris Donaldson, Accounting Dir., x621, cdonaldson@ourcompany.com  \n",
            "Erin Freeman, Sr. VP, x879, efreeman@ourcompany.com  \n"
          ]
        }
      ]
    },
    {
      "cell_type": "code",
      "source": [
        "#Overwrite the file\n",
        "%%writefile contacts.txt\n",
        "First_name, Last_name, Title, Extension, Email"
      ],
      "metadata": {
        "colab": {
          "base_uri": "https://localhost:8080/"
        },
        "id": "MNN0n7gb8DJ1",
        "outputId": "e3e7b078-b3b0-4093-a5d5-7819ad72ffba"
      },
      "execution_count": 18,
      "outputs": [
        {
          "output_type": "stream",
          "name": "stdout",
          "text": [
            "Overwriting contacts.txt\n"
          ]
        }
      ]
    },
    {
      "cell_type": "code",
      "source": [
        "with open('contacts.txt','a+') as f:\n",
        "  f.write(page_two_test[8:])\n",
        "  f.seek(0)\n",
        "  print(f.read())"
      ],
      "metadata": {
        "id": "KGndOiDn8523",
        "colab": {
          "base_uri": "https://localhost:8080/"
        },
        "outputId": "70f0dd30-3b41-4d10-caf1-46d880746c84"
      },
      "execution_count": 22,
      "outputs": [
        {
          "output_type": "stream",
          "name": "stdout",
          "text": [
            "First_name, Last_name, Title, Extension, Email\n",
            "  \n",
            "Amy Baker, Finance Chair, x345, abaker@ourcompany.com  \n",
            "Chris Donaldson, Accounting Dir., x621, cdonaldson@ourcompany.com  \n",
            "Erin Freeman, Sr. VP, x879, efreeman@ourcompany.com    \n",
            "Amy Baker, Finance Chair, x345, abaker@ourcompany.com  \n",
            "Chris Donaldson, Accounting Dir., x621, cdonaldson@ourcompany.com  \n",
            "Erin Freeman, Sr. VP, x879, efreeman@ourcompany.com    \n",
            "Amy Baker, Finance Chair, x345, abaker@ourcompany.com  \n",
            "Chris Donaldson, Accounting Dir., x621, cdonaldson@ourcompany.com  \n",
            "Erin Freeman, Sr. VP, x879, efreeman@ourcompany.com    \n",
            "Amy Baker, Finance Chair, x345, abaker@ourcompany.com  \n",
            "Chris Donaldson, Accounting Dir., x621, cdonaldson@ourcompany.com  \n",
            "Erin Freeman, Sr. VP, x879, efreeman@ourcompany.com  \n"
          ]
        }
      ]
    },
    {
      "cell_type": "markdown",
      "source": [
        "# **Regular Expression**"
      ],
      "metadata": {
        "id": "Fs-DnkADi6ox"
      }
    },
    {
      "cell_type": "code",
      "source": [
        "import re\n",
        "\n",
        "print(page_two_test,'\\n')\n",
        "\n",
        "pattern = r'\\w+@ourcompany.com'\n",
        "\n",
        "re.findall(pattern,page_two_test)"
      ],
      "metadata": {
        "colab": {
          "base_uri": "https://localhost:8080/"
        },
        "id": "XGIr8NbbinjM",
        "outputId": "177bab24-4dc1-4270-ef09-c1b4ec299f19"
      },
      "execution_count": 36,
      "outputs": [
        {
          "output_type": "stream",
          "name": "stdout",
          "text": [
            "AUTHORS:  \n",
            "Amy Baker, Finance Chair, x345, abaker@ourcompany.com  \n",
            "Chris Donaldson, Accounting Dir., x621, cdonaldson@ourcompany.com  \n",
            "Erin Freeman, Sr. VP, x879, efreeman@ourcompany.com   \n",
            "\n"
          ]
        },
        {
          "output_type": "execute_result",
          "data": {
            "text/plain": [
              "['abaker@ourcompany.com',\n",
              " 'cdonaldson@ourcompany.com',\n",
              " 'efreeman@ourcompany.com']"
            ]
          },
          "metadata": {},
          "execution_count": 36
        }
      ]
    },
    {
      "cell_type": "code",
      "source": [
        "pattern = r'[\\w]+@[\\w]+.\\w{3}'\n",
        "\n",
        "re.findall(pattern,page_two_test)"
      ],
      "metadata": {
        "colab": {
          "base_uri": "https://localhost:8080/"
        },
        "id": "Rjp7nCmFjOvX",
        "outputId": "90c20ff9-166d-4af5-f5ac-02a5130e918f"
      },
      "execution_count": 37,
      "outputs": [
        {
          "output_type": "execute_result",
          "data": {
            "text/plain": [
              "['abaker@ourcompany.com',\n",
              " 'cdonaldson@ourcompany.com',\n",
              " 'efreeman@ourcompany.com']"
            ]
          },
          "metadata": {},
          "execution_count": 37
        }
      ]
    }
  ]
}