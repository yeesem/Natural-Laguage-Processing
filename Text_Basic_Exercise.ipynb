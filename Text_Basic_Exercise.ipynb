{
  "nbformat": 4,
  "nbformat_minor": 0,
  "metadata": {
    "colab": {
      "provenance": [],
      "authorship_tag": "ABX9TyMJfkNnbJWEmyXyKeo2PQYk",
      "include_colab_link": true
    },
    "kernelspec": {
      "name": "python3",
      "display_name": "Python 3"
    },
    "language_info": {
      "name": "python"
    }
  },
  "cells": [
    {
      "cell_type": "markdown",
      "metadata": {
        "id": "view-in-github",
        "colab_type": "text"
      },
      "source": [
        "<a href=\"https://colab.research.google.com/github/yeesem/Natural-Laguage-Processing/blob/main/Text_Basic_Exercise.ipynb\" target=\"_parent\"><img src=\"https://colab.research.google.com/assets/colab-badge.svg\" alt=\"Open In Colab\"/></a>"
      ]
    },
    {
      "cell_type": "code",
      "execution_count": 10,
      "metadata": {
        "colab": {
          "base_uri": "https://localhost:8080/"
        },
        "id": "IpHxMsSQxj6i",
        "outputId": "f155085a-f643-4812-f6ba-30ee2a685a88"
      },
      "outputs": [
        {
          "output_type": "stream",
          "name": "stdout",
          "text": [
            "NLP stands for Natural Language Processing\n"
          ]
        }
      ],
      "source": [
        "abbr = 'NLP'\n",
        "full = 'Natural Language Processing'\n",
        "\n",
        "print(f\"{abbr} stands for {full}\")"
      ]
    },
    {
      "cell_type": "code",
      "source": [
        "%%writefile contacts.txt\n",
        "First_Name, Last_Name, Title, Extension, Email"
      ],
      "metadata": {
        "colab": {
          "base_uri": "https://localhost:8080/"
        },
        "id": "8rX--Sd4z2Ck",
        "outputId": "8b928515-4759-478b-8db0-6e5182fffcec"
      },
      "execution_count": 11,
      "outputs": [
        {
          "output_type": "stream",
          "name": "stdout",
          "text": [
            "Overwriting contacts.txt\n"
          ]
        }
      ]
    },
    {
      "cell_type": "code",
      "source": [
        "myfile = open('contacts.txt')"
      ],
      "metadata": {
        "id": "prOzVnRk5yto"
      },
      "execution_count": 12,
      "outputs": []
    },
    {
      "cell_type": "code",
      "source": [
        "myfile.read()"
      ],
      "metadata": {
        "colab": {
          "base_uri": "https://localhost:8080/",
          "height": 35
        },
        "id": "H0v5Fs0H52lA",
        "outputId": "51b4f6ea-e6b7-4ef3-e6ea-b34ca09f420b"
      },
      "execution_count": 13,
      "outputs": [
        {
          "output_type": "execute_result",
          "data": {
            "text/plain": [
              "'First_Name, Last_Name, Title, Extension, Email\\n'"
            ],
            "application/vnd.google.colaboratory.intrinsic+json": {
              "type": "string"
            }
          },
          "metadata": {},
          "execution_count": 13
        }
      ]
    },
    {
      "cell_type": "code",
      "source": [
        "myfile.close()"
      ],
      "metadata": {
        "id": "LzClXzcg57db"
      },
      "execution_count": 14,
      "outputs": []
    },
    {
      "cell_type": "code",
      "source": [
        "with open('contacts.txt') as f:\n",
        "  fields = f.read()\n",
        "\n",
        "fields"
      ],
      "metadata": {
        "colab": {
          "base_uri": "https://localhost:8080/",
          "height": 35
        },
        "id": "RX7ioqF-6B5U",
        "outputId": "71e88dbc-7362-4fe9-8c7f-9d42134c301a"
      },
      "execution_count": 15,
      "outputs": [
        {
          "output_type": "execute_result",
          "data": {
            "text/plain": [
              "'First_Name, Last_Name, Title, Extension, Email\\n'"
            ],
            "application/vnd.google.colaboratory.intrinsic+json": {
              "type": "string"
            }
          },
          "metadata": {},
          "execution_count": 15
        }
      ]
    },
    {
      "cell_type": "code",
      "source": [
        "!pip install PyPDF2"
      ],
      "metadata": {
        "colab": {
          "base_uri": "https://localhost:8080/"
        },
        "id": "-O7VHSVW7Udp",
        "outputId": "bdc5cc95-e976-4c50-8cd7-6403c1ae6cd2"
      },
      "execution_count": 16,
      "outputs": [
        {
          "output_type": "stream",
          "name": "stdout",
          "text": [
            "Requirement already satisfied: PyPDF2 in /usr/local/lib/python3.10/dist-packages (3.0.1)\n"
          ]
        }
      ]
    },
    {
      "cell_type": "code",
      "source": [
        "import PyPDF2\n",
        "\n",
        "f = open('/content/Business_Proposal.pdf','rb')\n",
        "\n",
        "pdf_reader = PyPDF2.PdfReader(f)\n",
        "\n",
        "page_two_test = pdf_reader.pages[1].extract_text()\n",
        "\n",
        "f.close()\n",
        "\n",
        "print(page_two_test)"
      ],
      "metadata": {
        "colab": {
          "base_uri": "https://localhost:8080/"
        },
        "id": "QjAiY8Rp6JaJ",
        "outputId": "626cb458-5bfa-491f-b9d6-13f974889ed4"
      },
      "execution_count": 17,
      "outputs": [
        {
          "output_type": "stream",
          "name": "stdout",
          "text": [
            "AUTHORS:  \n",
            "Amy Baker, Finance Chair, x345, abaker@ourcompany.com  \n",
            "Chris Donaldson, Accounting Dir., x621, cdonaldson@ourcompany.com  \n",
            "Erin Freeman, Sr. VP, x879, efreeman@ourcompany.com  \n"
          ]
        }
      ]
    },
    {
      "cell_type": "code",
      "source": [
        "with open('contacts.txt','a+') as f:\n",
        "  f.write(page_two_test)\n",
        "  f.seek(0)\n",
        "  print(f.read())"
      ],
      "metadata": {
        "colab": {
          "base_uri": "https://localhost:8080/"
        },
        "id": "FID0UCR77Kol",
        "outputId": "15f50a1c-1ed5-4016-be9b-4bb6dc2fe5d5"
      },
      "execution_count": 18,
      "outputs": [
        {
          "output_type": "stream",
          "name": "stdout",
          "text": [
            "First_Name, Last_Name, Title, Extension, Email\n",
            "AUTHORS:  \n",
            "Amy Baker, Finance Chair, x345, abaker@ourcompany.com  \n",
            "Chris Donaldson, Accounting Dir., x621, cdonaldson@ourcompany.com  \n",
            "Erin Freeman, Sr. VP, x879, efreeman@ourcompany.com  \n"
          ]
        }
      ]
    },
    {
      "cell_type": "code",
      "source": [
        "#Overwrite the file\n",
        "%%writefile contacts.txt\n",
        "First_name, Last_name, Title, Extension, Email"
      ],
      "metadata": {
        "colab": {
          "base_uri": "https://localhost:8080/"
        },
        "id": "MNN0n7gb8DJ1",
        "outputId": "aeed77e6-ec80-4a6b-8f44-4f4c6b9884a2"
      },
      "execution_count": 19,
      "outputs": [
        {
          "output_type": "stream",
          "name": "stdout",
          "text": [
            "Overwriting contacts.txt\n"
          ]
        }
      ]
    },
    {
      "cell_type": "code",
      "source": [
        "with open('contacts.txt','a+') as f:\n",
        "  f.write(page_two_test[8:])\n"
      ],
      "metadata": {
        "id": "KGndOiDn8523"
      },
      "execution_count": 20,
      "outputs": []
    }
  ]
}