{
  "nbformat": 4,
  "nbformat_minor": 0,
  "metadata": {
    "colab": {
      "provenance": [],
      "authorship_tag": "ABX9TyMkyWw5RWoRmQw58DLQc+vl"
    },
    "kernelspec": {
      "name": "python3",
      "display_name": "Python 3"
    },
    "language_info": {
      "name": "python"
    }
  },
  "cells": [
    {
      "cell_type": "markdown",
      "source": [
        "# imports"
      ],
      "metadata": {
        "id": "XpECau8JoFre"
      }
    },
    {
      "cell_type": "code",
      "execution_count": 1,
      "metadata": {
        "id": "FoNx9rNZnQfo"
      },
      "outputs": [],
      "source": [
        "import re\n",
        "from collections import Counter\n",
        "import numpy as np\n",
        "import pandas as pd"
      ]
    },
    {
      "cell_type": "markdown",
      "source": [
        "# Data Preprocessing"
      ],
      "metadata": {
        "id": "Gy-r0wZmoSWa"
      }
    },
    {
      "cell_type": "markdown",
      "source": [
        "### get_count"
      ],
      "metadata": {
        "id": "2fUKnhAhqSDz"
      }
    },
    {
      "cell_type": "code",
      "source": [
        "def process_data(file_name):\n",
        "  words = []\n",
        "\n",
        "  # Open the file, read its contents into a string variable\n",
        "  with open(file_name) as f:\n",
        "    file_name_data = f.read()\n",
        "\n",
        "  # Convert all letters to lower case\n",
        "  file_name_data = file_name_data.lower()\n",
        "\n",
        "  # Convert every word to lower case and return them in a list\n",
        "  words = re.findall(r\"\\w+\",file_name_data)\n",
        "\n",
        "  return words"
      ],
      "metadata": {
        "id": "kyFyV5tGoKSf"
      },
      "execution_count": 7,
      "outputs": []
    },
    {
      "cell_type": "code",
      "source": [
        "word_l = process_data(\"/content/shakespeare.txt\")\n",
        "vocab = set(word_l)  # this will be your new vocabulary\n",
        "print(f\"The first ten words in the text are: \\n{word_l[0:10]}\")\n",
        "print(f\"There are {len(vocab)} unique words in the vocabulary.\")"
      ],
      "metadata": {
        "colab": {
          "base_uri": "https://localhost:8080/"
        },
        "id": "oV4x_yG4o-cN",
        "outputId": "466e4ffd-83ed-4354-e576-e69949376612"
      },
      "execution_count": 8,
      "outputs": [
        {
          "output_type": "stream",
          "name": "stdout",
          "text": [
            "The first ten words in the text are: \n",
            "['o', 'for', 'a', 'muse', 'of', 'fire', 'that', 'would', 'ascend', 'the']\n",
            "There are 6116 unique words in the vocabulary.\n"
          ]
        }
      ]
    },
    {
      "cell_type": "code",
      "source": [
        "# get_count\n",
        "def get_count(word_l):\n",
        "     # fill this with word counts\n",
        "    word_count_dict = {}\n",
        "\n",
        "    # Method 1\n",
        "    word_count_dict = Counter(word_l)\n",
        "\n",
        "    # Method 2\n",
        "    #for word in word_l:\n",
        "    #    word_count_dict[word] = word_count_dict.get(word,0) + 1\n",
        "\n",
        "    return word_count_dict"
      ],
      "metadata": {
        "id": "UzXahleVqCGW"
      },
      "execution_count": 9,
      "outputs": []
    },
    {
      "cell_type": "code",
      "source": [
        "word_count_dict = get_count(word_l)\n",
        "print(f\"There are {len(word_count_dict)} key values pairs\")\n",
        "print(f\"The count for the word 'thee' is {word_count_dict.get('thee',0)}\")"
      ],
      "metadata": {
        "colab": {
          "base_uri": "https://localhost:8080/"
        },
        "id": "GbJfEdJUqN_0",
        "outputId": "b54c32a9-675f-4cb5-db61-dde80ee83792"
      },
      "execution_count": 10,
      "outputs": [
        {
          "output_type": "stream",
          "name": "stdout",
          "text": [
            "There are 6116 key values pairs\n",
            "The count for the word 'thee' is 240\n"
          ]
        }
      ]
    },
    {
      "cell_type": "markdown",
      "source": [
        "### get_probs"
      ],
      "metadata": {
        "id": "cyCvTKjrqVwC"
      }
    },
    {
      "cell_type": "code",
      "source": [
        "def get_probs(word_count_dict):\n",
        "\n",
        "    probs = {}\n",
        "\n",
        "    # get the total count of words for all words in the dictionary\n",
        "    total_words = sum(word_count_dict.values())\n",
        "    for key in word_count_dict.keys():\n",
        "        probs[key] = word_count_dict[key] / total_words\n",
        "\n",
        "    return probs"
      ],
      "metadata": {
        "id": "vrgfVJn7qXQs"
      },
      "execution_count": 12,
      "outputs": []
    },
    {
      "cell_type": "code",
      "source": [
        "probs = get_probs(word_count_dict)\n",
        "print(f\"Length of probs is {len(probs)}\")\n",
        "print(f\"P('thee') is {probs['thee']:.4f}\")"
      ],
      "metadata": {
        "colab": {
          "base_uri": "https://localhost:8080/"
        },
        "id": "Ox_xp287qqsJ",
        "outputId": "12766bf5-9700-4228-b283-354434bfc1ff"
      },
      "execution_count": 13,
      "outputs": [
        {
          "output_type": "stream",
          "name": "stdout",
          "text": [
            "Length of probs is 6116\n",
            "P('thee') is 0.0045\n"
          ]
        }
      ]
    },
    {
      "cell_type": "markdown",
      "source": [
        "# String Manipulations"
      ],
      "metadata": {
        "id": "RoidaMZKqvai"
      }
    },
    {
      "cell_type": "markdown",
      "source": [
        "### delete letter"
      ],
      "metadata": {
        "id": "fM60aFQIq7ES"
      }
    },
    {
      "cell_type": "code",
      "source": [
        "def delete_letter(word, verbose=False):\n",
        "    delete_l = []\n",
        "    split_l = []\n",
        "\n",
        "    for i in range(len(word)):\n",
        "        split_l.append([word[:i],word[i:]])\n",
        "\n",
        "    for L,R in split_l:\n",
        "        delete_l.append(L + R[1:])\n",
        "\n",
        "    if verbose: print(f\"input word {word}, \\nsplit_l = {split_l}, \\ndelete_l = {delete_l}\")\n",
        "\n",
        "    return  delete_l"
      ],
      "metadata": {
        "id": "e1UE3aI0qtNw"
      },
      "execution_count": 14,
      "outputs": []
    },
    {
      "cell_type": "code",
      "source": [
        "delete_word_l = delete_letter(word=\"cans\",\n",
        "                        verbose=True)"
      ],
      "metadata": {
        "colab": {
          "base_uri": "https://localhost:8080/"
        },
        "id": "C46XX0r_rBcU",
        "outputId": "eeaf8392-0c55-499f-ed51-3fb4c0837513"
      },
      "execution_count": 15,
      "outputs": [
        {
          "output_type": "stream",
          "name": "stdout",
          "text": [
            "input word cans, \n",
            "split_l = [['', 'cans'], ['c', 'ans'], ['ca', 'ns'], ['can', 's']], \n",
            "delete_l = ['ans', 'cns', 'cas', 'can']\n"
          ]
        }
      ]
    },
    {
      "cell_type": "markdown",
      "source": [
        "### switch_letter"
      ],
      "metadata": {
        "id": "T5JMrX8SrDG_"
      }
    },
    {
      "cell_type": "code",
      "source": [
        "def switch_letter(word, verbose=False):\n",
        "\n",
        "    switch_l = []\n",
        "    split_l = []\n",
        "\n",
        "    split_l = [[word[:i], word[i:]] for i in range(len(word))]\n",
        "\n",
        "    switch_l = [L + R[1] + R[0] + R[2:] for L,R in split_l if len(R) >= 2]\n",
        "\n",
        "    if verbose: print(f\"Input word = {word} \\nsplit_l = {split_l} \\nswitch_l = {switch_l}\")\n",
        "\n",
        "    return switch_l"
      ],
      "metadata": {
        "id": "FOVhnNz2rBvh"
      },
      "execution_count": 16,
      "outputs": []
    },
    {
      "cell_type": "code",
      "source": [
        "switch_word_l = switch_letter(word=\"eta\",\n",
        "                         verbose=True)"
      ],
      "metadata": {
        "colab": {
          "base_uri": "https://localhost:8080/"
        },
        "id": "_jyTmejErJE4",
        "outputId": "17e45809-cec6-4154-fe69-acc648ae2637"
      },
      "execution_count": 17,
      "outputs": [
        {
          "output_type": "stream",
          "name": "stdout",
          "text": [
            "Input word = eta \n",
            "split_l = [['', 'eta'], ['e', 'ta'], ['et', 'a']] \n",
            "switch_l = ['tea', 'eat']\n"
          ]
        }
      ]
    },
    {
      "cell_type": "markdown",
      "source": [
        "### replace_letter"
      ],
      "metadata": {
        "id": "E_H_Os-7rK-m"
      }
    },
    {
      "cell_type": "code",
      "source": [],
      "metadata": {
        "id": "91Z-QxSqrKeK"
      },
      "execution_count": null,
      "outputs": []
    }
  ]
}