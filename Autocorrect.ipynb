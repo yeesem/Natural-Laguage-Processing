{
  "nbformat": 4,
  "nbformat_minor": 0,
  "metadata": {
    "colab": {
      "provenance": [],
      "authorship_tag": "ABX9TyOhYHf0o3OCg2CP1tX+p0l4"
    },
    "kernelspec": {
      "name": "python3",
      "display_name": "Python 3"
    },
    "language_info": {
      "name": "python"
    }
  },
  "cells": [
    {
      "cell_type": "markdown",
      "source": [
        "# imports"
      ],
      "metadata": {
        "id": "XpECau8JoFre"
      }
    },
    {
      "cell_type": "code",
      "execution_count": 1,
      "metadata": {
        "id": "FoNx9rNZnQfo"
      },
      "outputs": [],
      "source": [
        "import re\n",
        "from collections import Counter\n",
        "import numpy as np\n",
        "import pandas as pd"
      ]
    },
    {
      "cell_type": "markdown",
      "source": [
        "# Data Preprocessing"
      ],
      "metadata": {
        "id": "Gy-r0wZmoSWa"
      }
    },
    {
      "cell_type": "markdown",
      "source": [
        "### get_count"
      ],
      "metadata": {
        "id": "2fUKnhAhqSDz"
      }
    },
    {
      "cell_type": "code",
      "source": [
        "def process_data(file_name):\n",
        "  words = []\n",
        "\n",
        "  # Open the file, read its contents into a string variable\n",
        "  with open(file_name) as f:\n",
        "    file_name_data = f.read()\n",
        "\n",
        "  # Convert all letters to lower case\n",
        "  file_name_data = file_name_data.lower()\n",
        "\n",
        "  # Convert every word to lower case and return them in a list\n",
        "  words = re.findall(r\"\\w+\",file_name_data)\n",
        "\n",
        "  return words"
      ],
      "metadata": {
        "id": "kyFyV5tGoKSf"
      },
      "execution_count": 7,
      "outputs": []
    },
    {
      "cell_type": "code",
      "source": [
        "word_l = process_data(\"/content/shakespeare.txt\")\n",
        "vocab = set(word_l)  # this will be your new vocabulary\n",
        "print(f\"The first ten words in the text are: \\n{word_l[0:10]}\")\n",
        "print(f\"There are {len(vocab)} unique words in the vocabulary.\")"
      ],
      "metadata": {
        "colab": {
          "base_uri": "https://localhost:8080/"
        },
        "id": "oV4x_yG4o-cN",
        "outputId": "466e4ffd-83ed-4354-e576-e69949376612"
      },
      "execution_count": 8,
      "outputs": [
        {
          "output_type": "stream",
          "name": "stdout",
          "text": [
            "The first ten words in the text are: \n",
            "['o', 'for', 'a', 'muse', 'of', 'fire', 'that', 'would', 'ascend', 'the']\n",
            "There are 6116 unique words in the vocabulary.\n"
          ]
        }
      ]
    },
    {
      "cell_type": "code",
      "source": [
        "# get_count\n",
        "def get_count(word_l):\n",
        "     # fill this with word counts\n",
        "    word_count_dict = {}\n",
        "\n",
        "    # Method 1\n",
        "    word_count_dict = Counter(word_l)\n",
        "\n",
        "    # Method 2\n",
        "    #for word in word_l:\n",
        "    #    word_count_dict[word] = word_count_dict.get(word,0) + 1\n",
        "\n",
        "    return word_count_dict"
      ],
      "metadata": {
        "id": "UzXahleVqCGW"
      },
      "execution_count": 9,
      "outputs": []
    },
    {
      "cell_type": "code",
      "source": [
        "word_count_dict = get_count(word_l)\n",
        "print(f\"There are {len(word_count_dict)} key values pairs\")\n",
        "print(f\"The count for the word 'thee' is {word_count_dict.get('thee',0)}\")"
      ],
      "metadata": {
        "colab": {
          "base_uri": "https://localhost:8080/"
        },
        "id": "GbJfEdJUqN_0",
        "outputId": "b54c32a9-675f-4cb5-db61-dde80ee83792"
      },
      "execution_count": 10,
      "outputs": [
        {
          "output_type": "stream",
          "name": "stdout",
          "text": [
            "There are 6116 key values pairs\n",
            "The count for the word 'thee' is 240\n"
          ]
        }
      ]
    },
    {
      "cell_type": "markdown",
      "source": [
        "### get_probs"
      ],
      "metadata": {
        "id": "cyCvTKjrqVwC"
      }
    },
    {
      "cell_type": "code",
      "source": [
        "def get_probs(word_count_dict):\n",
        "\n",
        "    probs = {}\n",
        "\n",
        "    # get the total count of words for all words in the dictionary\n",
        "    total_words = sum(word_count_dict.values())\n",
        "    for key in word_count_dict.keys():\n",
        "        probs[key] = word_count_dict[key] / total_words\n",
        "\n",
        "    return probs"
      ],
      "metadata": {
        "id": "vrgfVJn7qXQs"
      },
      "execution_count": 12,
      "outputs": []
    },
    {
      "cell_type": "code",
      "source": [
        "probs = get_probs(word_count_dict)\n",
        "print(f\"Length of probs is {len(probs)}\")\n",
        "print(f\"P('thee') is {probs['thee']:.4f}\")"
      ],
      "metadata": {
        "colab": {
          "base_uri": "https://localhost:8080/"
        },
        "id": "Ox_xp287qqsJ",
        "outputId": "12766bf5-9700-4228-b283-354434bfc1ff"
      },
      "execution_count": 13,
      "outputs": [
        {
          "output_type": "stream",
          "name": "stdout",
          "text": [
            "Length of probs is 6116\n",
            "P('thee') is 0.0045\n"
          ]
        }
      ]
    },
    {
      "cell_type": "markdown",
      "source": [
        "# String Manipulations"
      ],
      "metadata": {
        "id": "RoidaMZKqvai"
      }
    },
    {
      "cell_type": "markdown",
      "source": [
        "### delete letter"
      ],
      "metadata": {
        "id": "fM60aFQIq7ES"
      }
    },
    {
      "cell_type": "code",
      "source": [
        "def delete_letter(word, verbose=False):\n",
        "    delete_l = []\n",
        "    split_l = []\n",
        "\n",
        "    for i in range(len(word)):\n",
        "        split_l.append([word[:i],word[i:]])\n",
        "\n",
        "    for L,R in split_l:\n",
        "        delete_l.append(L + R[1:])\n",
        "\n",
        "    if verbose: print(f\"input word {word}, \\nsplit_l = {split_l}, \\ndelete_l = {delete_l}\")\n",
        "\n",
        "    return  delete_l"
      ],
      "metadata": {
        "id": "e1UE3aI0qtNw"
      },
      "execution_count": 14,
      "outputs": []
    },
    {
      "cell_type": "code",
      "source": [
        "delete_word_l = delete_letter(word=\"cans\",\n",
        "                        verbose=True)"
      ],
      "metadata": {
        "colab": {
          "base_uri": "https://localhost:8080/"
        },
        "id": "C46XX0r_rBcU",
        "outputId": "eeaf8392-0c55-499f-ed51-3fb4c0837513"
      },
      "execution_count": 15,
      "outputs": [
        {
          "output_type": "stream",
          "name": "stdout",
          "text": [
            "input word cans, \n",
            "split_l = [['', 'cans'], ['c', 'ans'], ['ca', 'ns'], ['can', 's']], \n",
            "delete_l = ['ans', 'cns', 'cas', 'can']\n"
          ]
        }
      ]
    },
    {
      "cell_type": "markdown",
      "source": [
        "### switch_letter"
      ],
      "metadata": {
        "id": "T5JMrX8SrDG_"
      }
    },
    {
      "cell_type": "code",
      "source": [
        "def switch_letter(word, verbose=False):\n",
        "\n",
        "    switch_l = []\n",
        "    split_l = []\n",
        "\n",
        "    split_l = [[word[:i], word[i:]] for i in range(len(word))]\n",
        "\n",
        "    switch_l = [L + R[1] + R[0] + R[2:] for L,R in split_l if len(R) >= 2]\n",
        "\n",
        "    if verbose: print(f\"Input word = {word} \\nsplit_l = {split_l} \\nswitch_l = {switch_l}\")\n",
        "\n",
        "    return switch_l"
      ],
      "metadata": {
        "id": "FOVhnNz2rBvh"
      },
      "execution_count": 16,
      "outputs": []
    },
    {
      "cell_type": "code",
      "source": [
        "switch_word_l = switch_letter(word=\"eta\",\n",
        "                         verbose=True)"
      ],
      "metadata": {
        "colab": {
          "base_uri": "https://localhost:8080/"
        },
        "id": "_jyTmejErJE4",
        "outputId": "17e45809-cec6-4154-fe69-acc648ae2637"
      },
      "execution_count": 17,
      "outputs": [
        {
          "output_type": "stream",
          "name": "stdout",
          "text": [
            "Input word = eta \n",
            "split_l = [['', 'eta'], ['e', 'ta'], ['et', 'a']] \n",
            "switch_l = ['tea', 'eat']\n"
          ]
        }
      ]
    },
    {
      "cell_type": "markdown",
      "source": [
        "### replace_letter"
      ],
      "metadata": {
        "id": "E_H_Os-7rK-m"
      }
    },
    {
      "cell_type": "code",
      "source": [
        "def replace_letter(word, verbose=False):\n",
        "\n",
        "    letters = 'abcdefghijklmnopqrstuvwxyz'\n",
        "\n",
        "    replace_l = []\n",
        "    split_l = []\n",
        "\n",
        "    split_l = [[word[:i],word[i:]] for i in range(len(word))]\n",
        "\n",
        "    # Method 1\n",
        "#     for L,R in split_l:\n",
        "#         if R:\n",
        "#             for l in letters:\n",
        "#                 if len(R) > 1:\n",
        "#                   replace_l.append(L + l + R[1:])\n",
        "#                 else:\n",
        "#                   replace_l.append(L + l)\n",
        "\n",
        "    # Method 2\n",
        "    replace_l = [L + l + (R[1:] if len(R) > 1 else \"\")for L,R in split_l if R for l in letters]\n",
        "\n",
        "    replace_l = set(replace_l)\n",
        "    replace_l.remove(word)\n",
        "\n",
        "    # Sort the list, for easier viewing\n",
        "    replace_l = sorted(replace_l)\n",
        "\n",
        "    if verbose: print(f\"Input word = {word} \\nsplit_l = {split_l} \\nreplace_l {replace_l}\")\n",
        "\n",
        "    return replace_l"
      ],
      "metadata": {
        "id": "91Z-QxSqrKeK"
      },
      "execution_count": 18,
      "outputs": []
    },
    {
      "cell_type": "code",
      "source": [
        "replace_l = replace_letter(word='can',\n",
        "                              verbose=True)"
      ],
      "metadata": {
        "colab": {
          "base_uri": "https://localhost:8080/"
        },
        "id": "8qdzTCmrrYNO",
        "outputId": "3f8dfb9c-433a-4d61-e1e9-6806c0d09b35"
      },
      "execution_count": 19,
      "outputs": [
        {
          "output_type": "stream",
          "name": "stdout",
          "text": [
            "Input word = can \n",
            "split_l = [['', 'can'], ['c', 'an'], ['ca', 'n']] \n",
            "replace_l ['aan', 'ban', 'caa', 'cab', 'cac', 'cad', 'cae', 'caf', 'cag', 'cah', 'cai', 'caj', 'cak', 'cal', 'cam', 'cao', 'cap', 'caq', 'car', 'cas', 'cat', 'cau', 'cav', 'caw', 'cax', 'cay', 'caz', 'cbn', 'ccn', 'cdn', 'cen', 'cfn', 'cgn', 'chn', 'cin', 'cjn', 'ckn', 'cln', 'cmn', 'cnn', 'con', 'cpn', 'cqn', 'crn', 'csn', 'ctn', 'cun', 'cvn', 'cwn', 'cxn', 'cyn', 'czn', 'dan', 'ean', 'fan', 'gan', 'han', 'ian', 'jan', 'kan', 'lan', 'man', 'nan', 'oan', 'pan', 'qan', 'ran', 'san', 'tan', 'uan', 'van', 'wan', 'xan', 'yan', 'zan']\n"
          ]
        }
      ]
    },
    {
      "cell_type": "markdown",
      "source": [
        "### insert_letter"
      ],
      "metadata": {
        "id": "gfEZ1RLorZ4A"
      }
    },
    {
      "cell_type": "code",
      "source": [
        "def insert_letter(word, verbose=False):\n",
        "\n",
        "    letters = 'abcdefghijklmnopqrstuvwxyz'\n",
        "    insert_l = []\n",
        "    split_l = []\n",
        "\n",
        "    split_l = [[word[:i],word[i:]] for i in range(len(word) + 1)]\n",
        "\n",
        "    for L,R in split_l:\n",
        "        for l in letters:\n",
        "            insert_l.append(L + l + R)\n",
        "\n",
        "    if verbose: print(f\"Input word {word} \\nsplit_l = {split_l} \\ninsert_l = {insert_l}\")\n",
        "\n",
        "    return insert_l"
      ],
      "metadata": {
        "id": "Xd718A6krYsX"
      },
      "execution_count": 20,
      "outputs": []
    },
    {
      "cell_type": "code",
      "source": [
        "insert_l = insert_letter('at', True)\n",
        "print(f\"Number of strings output by insert_letter('at') is {len(insert_l)}\")"
      ],
      "metadata": {
        "colab": {
          "base_uri": "https://localhost:8080/"
        },
        "id": "3H5HWXdjrgQ0",
        "outputId": "7082681f-f037-4355-c240-ac64c617e1f1"
      },
      "execution_count": 21,
      "outputs": [
        {
          "output_type": "stream",
          "name": "stdout",
          "text": [
            "Input word at \n",
            "split_l = [['', 'at'], ['a', 't'], ['at', '']] \n",
            "insert_l = ['aat', 'bat', 'cat', 'dat', 'eat', 'fat', 'gat', 'hat', 'iat', 'jat', 'kat', 'lat', 'mat', 'nat', 'oat', 'pat', 'qat', 'rat', 'sat', 'tat', 'uat', 'vat', 'wat', 'xat', 'yat', 'zat', 'aat', 'abt', 'act', 'adt', 'aet', 'aft', 'agt', 'aht', 'ait', 'ajt', 'akt', 'alt', 'amt', 'ant', 'aot', 'apt', 'aqt', 'art', 'ast', 'att', 'aut', 'avt', 'awt', 'axt', 'ayt', 'azt', 'ata', 'atb', 'atc', 'atd', 'ate', 'atf', 'atg', 'ath', 'ati', 'atj', 'atk', 'atl', 'atm', 'atn', 'ato', 'atp', 'atq', 'atr', 'ats', 'att', 'atu', 'atv', 'atw', 'atx', 'aty', 'atz']\n",
            "Number of strings output by insert_letter('at') is 78\n"
          ]
        }
      ]
    },
    {
      "cell_type": "markdown",
      "source": [
        "# Edit One Letter"
      ],
      "metadata": {
        "id": "fPioFMDErlre"
      }
    },
    {
      "cell_type": "code",
      "source": [
        "def edit_one_letter(word, allow_switches = True):\n",
        "\n",
        "    edit_one_set = set()\n",
        "\n",
        "    edit_one_set.update(delete_letter(word))\n",
        "    edit_one_set.update(insert_letter(word))\n",
        "    edit_one_set.update(replace_letter(word))\n",
        "    if allow_switches:\n",
        "        edit_one_set.update(switch_letter(word))\n",
        "\n",
        "    # return this as a set and not a list\n",
        "    return edit_one_set"
      ],
      "metadata": {
        "id": "TkS41E6Vrh_P"
      },
      "execution_count": null,
      "outputs": []
    },
    {
      "cell_type": "markdown",
      "source": [
        "# Edit Two Letters"
      ],
      "metadata": {
        "id": "ctrSBmeArs9Q"
      }
    },
    {
      "cell_type": "code",
      "source": [
        "def edit_two_letters(word, allow_switches = True):\n",
        "\n",
        "    edit_two_set = set()\n",
        "\n",
        "    edit_one = edit_one_letter(word,allow_switches)\n",
        "    for w in edit_one:\n",
        "        if w:\n",
        "         edit_two_set.update(edit_one_letter(w,allow_switches))\n",
        "\n",
        "    # return this as a set instead of a list\n",
        "    return set(edit_two_set)"
      ],
      "metadata": {
        "id": "r2hxckFwrudx"
      },
      "execution_count": null,
      "outputs": []
    },
    {
      "cell_type": "markdown",
      "source": [
        "# Suggest Spelling Suggestions"
      ],
      "metadata": {
        "id": "df0Pbzoor5Sy"
      }
    },
    {
      "cell_type": "code",
      "source": [
        "def get_corrections(word, probs, vocab, n=2, verbose = False):\n",
        "\n",
        "    suggestions = []\n",
        "    n_best = []\n",
        "\n",
        "    #Step 1: create suggestions as described above\n",
        "    suggestions = list((word in vocab and word)\n",
        "                       or edit_one_letter(word).intersection(vocab)\n",
        "                       or edit_two_letter(word).intersection(vocab))\n",
        "\n",
        "    #Step 2: determine probability of suggestions\n",
        "    suggestions_prob = {s : probs[s] for s in suggestions}\n",
        "\n",
        "    #Step 3: Get all your best words and return the most probable top n_suggested words as n_best\n",
        "    n_best = sorted(suggestions_prob.items(),key = lambda x:x[1],reverse = True)[:n]\n",
        "\n",
        "    # Alternative method\n",
        "    # n_best = [[s,probs[s]] for s in list(reversed(suggestions))]\n",
        "\n",
        "    if verbose: print(\"entered word = \", word, \"\\nsuggestions = \", suggestions)\n",
        "\n",
        "    return n_best"
      ],
      "metadata": {
        "id": "6gHoVz8Or8ff"
      },
      "execution_count": null,
      "outputs": []
    },
    {
      "cell_type": "markdown",
      "source": [
        "# Minimum Edit Distance"
      ],
      "metadata": {
        "id": "YdQSfk2HsD4H"
      }
    },
    {
      "cell_type": "markdown",
      "source": [
        "### Dynamic Programming"
      ],
      "metadata": {
        "id": "VqizuanSsIep"
      }
    },
    {
      "cell_type": "code",
      "source": [
        "def min_edit_distance(source, target, ins_cost = 1, del_cost = 1, rep_cost = 2):\n",
        "\n",
        "    # use deletion and insert cost as  1\n",
        "    m = len(source)\n",
        "    n = len(target)\n",
        "    #initialize cost matrix with zeros and dimensions (m+1,n+1)\n",
        "    D = np.zeros((m+1, n+1), dtype=int)\n",
        "\n",
        "    # Fill in column 0, from row 1 to row m, both inclusive\n",
        "    for row in range(1,m + 1): # Replace None with the proper range\n",
        "        D[row,0] = D[row-1,0] + del_cost\n",
        "\n",
        "    # Fill in row 0, for all columns from 1 to n, both inclusive\n",
        "    for col in range(1, n + 1): # Replace None with the proper range\n",
        "        D[0,col] = D[0,col-1] + ins_cost\n",
        "\n",
        "    # Loop through row 1 to row m, both inclusive\n",
        "    for row in range(1,m+1):\n",
        "\n",
        "        # Loop through column 1 to column n, both inclusive\n",
        "        for col in range(1,n+1):\n",
        "\n",
        "            # Intialize r_cost to the 'replace' cost that is passed into this function\n",
        "            r_cost = rep_cost\n",
        "\n",
        "            # Check to see if source character at the previous row\n",
        "            # matches the target character at the previous column,\n",
        "            # -1 : because the cost matrix is initialized with an extra row and column to account\n",
        "            # for the initial empty string case\n",
        "            if source[row - 1] == target[col - 1]: # Replace None with a proper comparison\n",
        "                # Update the replacement cost to 0 if source and target are the same\n",
        "                r_cost = 0\n",
        "\n",
        "            # Update the cost at row, col based on previous entries in the cost matrix\n",
        "            # Refer to the equation calculate for D[i,j] (the minimum of three calculated costs)\n",
        "            D[row,col] = min(D[row-1,col] + del_cost,D[row,col - 1] + ins_cost,r_cost + D[row-1,col-1])\n",
        "\n",
        "    # Set the minimum edit distance with the cost found at row m, column n\n",
        "    med = D[m,n]\n",
        "\n",
        "    return D, med"
      ],
      "metadata": {
        "id": "U1lXCZl7sHPr"
      },
      "execution_count": 22,
      "outputs": []
    },
    {
      "cell_type": "code",
      "source": [
        "source =  'play'\n",
        "target = 'stay'\n",
        "matrix, min_edits = min_edit_distance(source, target)\n",
        "print(\"minimum edits: \",min_edits, \"\\n\")\n",
        "idx = list('#' + source)\n",
        "cols = list('#' + target)\n",
        "df = pd.DataFrame(matrix, index=idx, columns= cols)\n",
        "print(df)"
      ],
      "metadata": {
        "colab": {
          "base_uri": "https://localhost:8080/"
        },
        "id": "4LUVxv2DsSyP",
        "outputId": "3b1be8fb-c96b-44a3-c772-3c29822a23e0"
      },
      "execution_count": 23,
      "outputs": [
        {
          "output_type": "stream",
          "name": "stdout",
          "text": [
            "minimum edits:  4 \n",
            "\n",
            "   #  s  t  a  y\n",
            "#  0  1  2  3  4\n",
            "p  1  2  3  4  5\n",
            "l  2  3  4  5  6\n",
            "a  3  4  5  4  5\n",
            "y  4  5  6  5  4\n"
          ]
        }
      ]
    },
    {
      "cell_type": "code",
      "source": [
        "source =  'eer'\n",
        "target = 'near'\n",
        "matrix, min_edits = min_edit_distance(source, target)\n",
        "print(\"minimum edits: \",min_edits, \"\\n\")\n",
        "idx = list(source)\n",
        "idx.insert(0, '#')\n",
        "cols = list(target)\n",
        "cols.insert(0, '#')\n",
        "df = pd.DataFrame(matrix, index=idx, columns= cols)\n",
        "print(df)"
      ],
      "metadata": {
        "colab": {
          "base_uri": "https://localhost:8080/"
        },
        "id": "p3sngwnysVag",
        "outputId": "4fa35d99-b69b-4b22-edf0-e14d48159395"
      },
      "execution_count": 24,
      "outputs": [
        {
          "output_type": "stream",
          "name": "stdout",
          "text": [
            "minimum edits:  3 \n",
            "\n",
            "   #  n  e  a  r\n",
            "#  0  1  2  3  4\n",
            "e  1  2  1  2  3\n",
            "e  2  3  2  3  4\n",
            "r  3  4  3  4  3\n"
          ]
        }
      ]
    }
  ]
}