{
  "nbformat": 4,
  "nbformat_minor": 0,
  "metadata": {
    "colab": {
      "provenance": [],
      "authorship_tag": "ABX9TyPTJjXb/8RzwKueC8nrVNr+",
      "include_colab_link": true
    },
    "kernelspec": {
      "name": "python3",
      "display_name": "Python 3"
    },
    "language_info": {
      "name": "python"
    }
  },
  "cells": [
    {
      "cell_type": "markdown",
      "metadata": {
        "id": "view-in-github",
        "colab_type": "text"
      },
      "source": [
        "<a href=\"https://colab.research.google.com/github/yeesem/Natural-Laguage-Processing/blob/main/Sentence_Segmentation.ipynb\" target=\"_parent\"><img src=\"https://colab.research.google.com/assets/colab-badge.svg\" alt=\"Open In Colab\"/></a>"
      ]
    },
    {
      "cell_type": "code",
      "execution_count": 95,
      "metadata": {
        "id": "DKRzdiLrZ0x5"
      },
      "outputs": [],
      "source": [
        "import spacy\n",
        "nlp = spacy.load('en_core_web_sm')"
      ]
    },
    {
      "cell_type": "code",
      "source": [
        "doc = nlp(u\"This is the first sentence. This is another sentence. This is the last sentence.\")"
      ],
      "metadata": {
        "id": "A40uc0uwai8Q"
      },
      "execution_count": 96,
      "outputs": []
    },
    {
      "cell_type": "code",
      "source": [
        "for sent in doc.sents:\n",
        "  print(sent)"
      ],
      "metadata": {
        "colab": {
          "base_uri": "https://localhost:8080/"
        },
        "id": "YikKipdvarx0",
        "outputId": "c9212344-079f-4af2-cbdf-6b5ec21b9ad6"
      },
      "execution_count": 97,
      "outputs": [
        {
          "output_type": "stream",
          "name": "stdout",
          "text": [
            "This is the first sentence.\n",
            "This is another sentence.\n",
            "This is the last sentence.\n"
          ]
        }
      ]
    },
    {
      "cell_type": "code",
      "source": [
        "#Holding in memory\n",
        "#Error will occur if doc.sents[0]\n",
        "doc.sents"
      ],
      "metadata": {
        "colab": {
          "base_uri": "https://localhost:8080/"
        },
        "id": "fTpXNuX6ayKb",
        "outputId": "7cd047e5-6166-4b48-bb92-a2b999a54c19"
      },
      "execution_count": 98,
      "outputs": [
        {
          "output_type": "execute_result",
          "data": {
            "text/plain": [
              "<generator at 0x7a67e212e0c0>"
            ]
          },
          "metadata": {},
          "execution_count": 98
        }
      ]
    },
    {
      "cell_type": "code",
      "source": [
        "#Can pass the memory to the list to solve that issue\n",
        "list(doc.sents)"
      ],
      "metadata": {
        "colab": {
          "base_uri": "https://localhost:8080/"
        },
        "id": "hKxq3OVLa1OO",
        "outputId": "a9c0a7ef-b1a7-415d-c76c-5f13c5af2b79"
      },
      "execution_count": 99,
      "outputs": [
        {
          "output_type": "execute_result",
          "data": {
            "text/plain": [
              "[This is the first sentence.,\n",
              " This is another sentence.,\n",
              " This is the last sentence.]"
            ]
          },
          "metadata": {},
          "execution_count": 99
        }
      ]
    },
    {
      "cell_type": "code",
      "source": [
        "list(doc.sents)[0]"
      ],
      "metadata": {
        "colab": {
          "base_uri": "https://localhost:8080/"
        },
        "id": "5ZM7QOWZbKwH",
        "outputId": "75975350-2f8c-4c02-a59f-399b014c7d16"
      },
      "execution_count": 100,
      "outputs": [
        {
          "output_type": "execute_result",
          "data": {
            "text/plain": [
              "This is the first sentence."
            ]
          },
          "metadata": {},
          "execution_count": 100
        }
      ]
    },
    {
      "cell_type": "code",
      "source": [
        "doc = nlp(u'\"Management is doing the right things; leadership is doing the right things.\" -Peter Drucker')"
      ],
      "metadata": {
        "id": "4CMGKLU_bRFt"
      },
      "execution_count": 101,
      "outputs": []
    },
    {
      "cell_type": "code",
      "source": [
        "doc.text"
      ],
      "metadata": {
        "colab": {
          "base_uri": "https://localhost:8080/",
          "height": 52
        },
        "id": "4NVr-VdVbrty",
        "outputId": "21b77059-1362-4b54-e4ab-d9d128e41145"
      },
      "execution_count": 102,
      "outputs": [
        {
          "output_type": "execute_result",
          "data": {
            "text/plain": [
              "'\"Management is doing the right things; leadership is doing the right things.\" -Peter Drucker'"
            ],
            "application/vnd.google.colaboratory.intrinsic+json": {
              "type": "string"
            }
          },
          "metadata": {},
          "execution_count": 102
        }
      ]
    },
    {
      "cell_type": "code",
      "source": [
        "#The separation of the sentences maybe right,maybe wrong\n",
        "for sents in doc.sents:\n",
        "  print(sents)\n",
        "  print('\\n')"
      ],
      "metadata": {
        "colab": {
          "base_uri": "https://localhost:8080/"
        },
        "id": "ud9mQ1_Pbxjj",
        "outputId": "e5d2e719-8745-40f6-b7f0-3593f39aef28"
      },
      "execution_count": 103,
      "outputs": [
        {
          "output_type": "stream",
          "name": "stdout",
          "text": [
            "\"Management is doing the right things; leadership is doing the right things.\"\n",
            "\n",
            "\n",
            "-Peter Drucker\n",
            "\n",
            "\n"
          ]
        }
      ]
    },
    {
      "cell_type": "code",
      "source": [
        "##CAN CUSTORMISE THE SENTENCES SEGMENTATION\n",
        "##ADD A SEGMENTATION RULE\n",
        "def set_custom_boundaries(doc):\n",
        "  for token in doc:\n",
        "    print(token)\n",
        "    #Show the index\n",
        "    print(token.i)"
      ],
      "metadata": {
        "id": "PpbWPv5Mb5cZ"
      },
      "execution_count": 104,
      "outputs": []
    },
    {
      "cell_type": "code",
      "source": [
        "set_custom_boundaries(doc)"
      ],
      "metadata": {
        "colab": {
          "base_uri": "https://localhost:8080/"
        },
        "id": "8FBLJXntczXw",
        "outputId": "b6f510d7-022e-4a53-e32c-9a1bb26ef9e0"
      },
      "execution_count": 105,
      "outputs": [
        {
          "output_type": "stream",
          "name": "stdout",
          "text": [
            "\"\n",
            "0\n",
            "Management\n",
            "1\n",
            "is\n",
            "2\n",
            "doing\n",
            "3\n",
            "the\n",
            "4\n",
            "right\n",
            "5\n",
            "things\n",
            "6\n",
            ";\n",
            "7\n",
            "leadership\n",
            "8\n",
            "is\n",
            "9\n",
            "doing\n",
            "10\n",
            "the\n",
            "11\n",
            "right\n",
            "12\n",
            "things\n",
            "13\n",
            ".\n",
            "14\n",
            "\"\n",
            "15\n",
            "-Peter\n",
            "16\n",
            "Drucker\n",
            "17\n"
          ]
        }
      ]
    },
    {
      "cell_type": "code",
      "source": [
        "#Loop until the second last word in the sentence\n",
        "def set_custom_boundaries2(doc):\n",
        "  for token in doc[:-1]:\n",
        "    print(token.text)"
      ],
      "metadata": {
        "id": "_7uI5Xvcc198"
      },
      "execution_count": 106,
      "outputs": []
    },
    {
      "cell_type": "code",
      "source": [
        "set_custom_boundaries2(doc)"
      ],
      "metadata": {
        "colab": {
          "base_uri": "https://localhost:8080/"
        },
        "id": "0zrRBrsudgG5",
        "outputId": "d4323a9f-14c4-4217-e7b6-2c451876359c"
      },
      "execution_count": 107,
      "outputs": [
        {
          "output_type": "stream",
          "name": "stdout",
          "text": [
            "\"\n",
            "Management\n",
            "is\n",
            "doing\n",
            "the\n",
            "right\n",
            "things\n",
            ";\n",
            "leadership\n",
            "is\n",
            "doing\n",
            "the\n",
            "right\n",
            "things\n",
            ".\n",
            "\"\n",
            "-Peter\n"
          ]
        }
      ]
    },
    {
      "cell_type": "code",
      "source": [
        "doc[:-1]"
      ],
      "metadata": {
        "colab": {
          "base_uri": "https://localhost:8080/"
        },
        "id": "agBIZCnSdmma",
        "outputId": "a80cec5a-7178-40a0-8872-287e52835fd8"
      },
      "execution_count": 108,
      "outputs": [
        {
          "output_type": "execute_result",
          "data": {
            "text/plain": [
              "\"Management is doing the right things; leadership is doing the right things.\" -Peter"
            ]
          },
          "metadata": {},
          "execution_count": 108
        }
      ]
    },
    {
      "cell_type": "code",
      "source": [
        "from spacy.language import Language\n",
        "@Language.component(\"set_custom_boundaries\")\n",
        "def set_custom_boundaries(doc):\n",
        "  #Declaration of doc[:-1] is to prevent error\n",
        "  #when the last word is ';'\n",
        "  for token in doc[:-1]:\n",
        "    if token.text == ';':\n",
        "      doc[token.i+1].is_sent_start = True\n",
        "  return doc"
      ],
      "metadata": {
        "id": "hGoP7UxZdvQn"
      },
      "execution_count": 109,
      "outputs": []
    },
    {
      "cell_type": "code",
      "source": [
        "nlp.add_pipe(\"set_custom_boundaries\", before='parser')"
      ],
      "metadata": {
        "colab": {
          "base_uri": "https://localhost:8080/"
        },
        "id": "13T8hznse99o",
        "outputId": "f6273da5-95d6-44df-b671-3c9dced6b691"
      },
      "execution_count": 110,
      "outputs": [
        {
          "output_type": "execute_result",
          "data": {
            "text/plain": [
              "<function __main__.set_custom_boundaries(doc)>"
            ]
          },
          "metadata": {},
          "execution_count": 110
        }
      ]
    },
    {
      "cell_type": "code",
      "source": [
        "nlp.pipe_names"
      ],
      "metadata": {
        "colab": {
          "base_uri": "https://localhost:8080/"
        },
        "id": "qkZSUWlkfPwc",
        "outputId": "417511bb-0c7f-431c-ba52-9dff7a7ae4fd"
      },
      "execution_count": 111,
      "outputs": [
        {
          "output_type": "execute_result",
          "data": {
            "text/plain": [
              "['tok2vec',\n",
              " 'tagger',\n",
              " 'set_custom_boundaries',\n",
              " 'parser',\n",
              " 'attribute_ruler',\n",
              " 'lemmatizer',\n",
              " 'ner']"
            ]
          },
          "metadata": {},
          "execution_count": 111
        }
      ]
    },
    {
      "cell_type": "code",
      "source": [
        "doc4 = nlp(u'\"Management is doing the right things; leadership is doing the right things.\" -Peter Drucker')"
      ],
      "metadata": {
        "id": "cDV23qiuiB-W"
      },
      "execution_count": 112,
      "outputs": []
    },
    {
      "cell_type": "code",
      "source": [
        "for sent in doc4.sents:\n",
        "  print(sent)\n",
        "  print(\"\\n\")"
      ],
      "metadata": {
        "colab": {
          "base_uri": "https://localhost:8080/"
        },
        "id": "tXv3GsCojM-h",
        "outputId": "24adcaae-926a-4178-fb82-625db6c529db"
      },
      "execution_count": 113,
      "outputs": [
        {
          "output_type": "stream",
          "name": "stdout",
          "text": [
            "\"Management is doing the right things;\n",
            "\n",
            "\n",
            "leadership is doing the right things.\"\n",
            "\n",
            "\n",
            "-Peter Drucker\n",
            "\n",
            "\n"
          ]
        }
      ]
    },
    {
      "cell_type": "code",
      "source": [
        "#CHANGE SEGMENTATION RULE\n",
        "nlp = spacy.load('en_core_web_sm')"
      ],
      "metadata": {
        "id": "5Q1Hp675jS9l"
      },
      "execution_count": 114,
      "outputs": []
    },
    {
      "cell_type": "code",
      "source": [
        "mystring = u\"This is a sentence. This is another.\\n\\nThis is a \\nthird sentence.\""
      ],
      "metadata": {
        "id": "EGFSlOsQjlPe"
      },
      "execution_count": 115,
      "outputs": []
    },
    {
      "cell_type": "code",
      "source": [
        "print(mystring)"
      ],
      "metadata": {
        "colab": {
          "base_uri": "https://localhost:8080/"
        },
        "id": "xitljob-jwkM",
        "outputId": "137de65a-724b-4ea9-d6e5-3db67e1f3788"
      },
      "execution_count": 116,
      "outputs": [
        {
          "output_type": "stream",
          "name": "stdout",
          "text": [
            "This is a sentence. This is another.\n",
            "\n",
            "This is a \n",
            "third sentence.\n"
          ]
        }
      ]
    },
    {
      "cell_type": "code",
      "source": [
        "doc = nlp(mystring)"
      ],
      "metadata": {
        "id": "LtW7GfKPjzPB"
      },
      "execution_count": 117,
      "outputs": []
    },
    {
      "cell_type": "code",
      "source": [
        "for sentence in doc.sents:\n",
        "  print(sentence)"
      ],
      "metadata": {
        "colab": {
          "base_uri": "https://localhost:8080/"
        },
        "id": "G_GtDzzvj4yY",
        "outputId": "c7f591c3-b2ed-4322-ee73-01bc6cd3c0ea"
      },
      "execution_count": 118,
      "outputs": [
        {
          "output_type": "stream",
          "name": "stdout",
          "text": [
            "This is a sentence.\n",
            "This is another.\n",
            "\n",
            "\n",
            "This is a \n",
            "third sentence.\n"
          ]
        }
      ]
    },
    {
      "cell_type": "code",
      "source": [
        "def split_on_newlines(doc):\n",
        "  start = 0\n",
        "  seen_newline = False\n",
        "\n",
        "  for word in doc:\n",
        "    if seen_newline:\n",
        "      yield doc[start:word.i]\n",
        "      start = word.i\n",
        "      seen_newline = False\n",
        "    elif word.text.startswith('\\n'):\n",
        "      seen_newline = True\n",
        "\n",
        "  yield doc[start:]"
      ],
      "metadata": {
        "id": "VWrXISrOkGDN"
      },
      "execution_count": 123,
      "outputs": []
    },
    {
      "cell_type": "code",
      "source": [
        "nlp = spacy.load('en_core_web_sm',exclude = ['parser'])\n",
        "config = {'punct_chars':['\\n']}\n",
        "nlp.add_pipe('sentencizer',config=config,before = 'attribute_ruler')"
      ],
      "metadata": {
        "colab": {
          "base_uri": "https://localhost:8080/"
        },
        "id": "d7PVU27FZx9A",
        "outputId": "9556f4b5-b3c6-4bec-edbf-1c60e0ea361f"
      },
      "execution_count": 127,
      "outputs": [
        {
          "output_type": "execute_result",
          "data": {
            "text/plain": [
              "<spacy.pipeline.sentencizer.Sentencizer at 0x7a67e5341f00>"
            ]
          },
          "metadata": {},
          "execution_count": 127
        }
      ]
    },
    {
      "cell_type": "code",
      "source": [
        "nlp.pipe_names"
      ],
      "metadata": {
        "colab": {
          "base_uri": "https://localhost:8080/"
        },
        "id": "XMWK5x_daGDc",
        "outputId": "e668fde5-64fb-4757-e6b8-4ed50bbe0b0a"
      },
      "execution_count": 128,
      "outputs": [
        {
          "output_type": "execute_result",
          "data": {
            "text/plain": [
              "['tok2vec', 'tagger', 'sentencizer', 'attribute_ruler', 'lemmatizer', 'ner']"
            ]
          },
          "metadata": {},
          "execution_count": 128
        }
      ]
    },
    {
      "cell_type": "code",
      "source": [
        "doc2 = nlp(mystring)\n",
        "for sent in doc2.sents:\n",
        "  print(sent)"
      ],
      "metadata": {
        "colab": {
          "base_uri": "https://localhost:8080/"
        },
        "id": "Enk1esexaMVR",
        "outputId": "525fd4d2-c19e-4574-e3ba-469579aa2767"
      },
      "execution_count": 129,
      "outputs": [
        {
          "output_type": "stream",
          "name": "stdout",
          "text": [
            "This is a sentence. This is another.\n",
            "\n",
            "This is a \n",
            "\n",
            "third sentence.\n"
          ]
        }
      ]
    }
  ]
}