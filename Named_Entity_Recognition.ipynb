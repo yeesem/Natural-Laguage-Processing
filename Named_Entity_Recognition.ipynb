{
  "nbformat": 4,
  "nbformat_minor": 0,
  "metadata": {
    "colab": {
      "provenance": [],
      "authorship_tag": "ABX9TyOkEmOZD8lz1Sn9XdL0ZhiU",
      "include_colab_link": true
    },
    "kernelspec": {
      "name": "python3",
      "display_name": "Python 3"
    },
    "language_info": {
      "name": "python"
    }
  },
  "cells": [
    {
      "cell_type": "markdown",
      "metadata": {
        "id": "view-in-github",
        "colab_type": "text"
      },
      "source": [
        "<a href=\"https://colab.research.google.com/github/yeesem/Natural-Laguage-Processing/blob/main/Named_Entity_Recognition.ipynb\" target=\"_parent\"><img src=\"https://colab.research.google.com/assets/colab-badge.svg\" alt=\"Open In Colab\"/></a>"
      ]
    },
    {
      "cell_type": "code",
      "execution_count": 41,
      "metadata": {
        "id": "3OptfU2reMsC"
      },
      "outputs": [],
      "source": [
        "import spacy"
      ]
    },
    {
      "cell_type": "code",
      "source": [
        "nlp = spacy.load('en_core_web_sm')"
      ],
      "metadata": {
        "id": "CwuXBM_ieRcK"
      },
      "execution_count": 42,
      "outputs": []
    },
    {
      "cell_type": "code",
      "source": [
        "def show_ents(doc):\n",
        "  print(doc.ents , '\\n')\n",
        "  if doc.ents:\n",
        "    for ent in doc.ents:\n",
        "      print(ent.text + ' - ' + ent.label_ + \" \" + spacy.explain(ent.label_))\n",
        "\n",
        "  else:\n",
        "    print(\"No entities found\")"
      ],
      "metadata": {
        "id": "-KfjnohaeT8L"
      },
      "execution_count": 43,
      "outputs": []
    },
    {
      "cell_type": "code",
      "source": [
        "doc = nlp(u\"Hi how are you?\")"
      ],
      "metadata": {
        "id": "MHiXMZPufzTU"
      },
      "execution_count": 44,
      "outputs": []
    },
    {
      "cell_type": "code",
      "source": [
        "show_ents(doc)"
      ],
      "metadata": {
        "colab": {
          "base_uri": "https://localhost:8080/"
        },
        "id": "u4HI_vJYgAE0",
        "outputId": "38c2d2c7-8654-41b7-9546-cd04bf44c3d1"
      },
      "execution_count": 45,
      "outputs": [
        {
          "output_type": "stream",
          "name": "stdout",
          "text": [
            "() \n",
            "\n",
            "No entities found\n"
          ]
        }
      ]
    },
    {
      "cell_type": "code",
      "source": [
        "doc = nlp(u\"May i go to Washington, DC next May to see the Washington Monument\")"
      ],
      "metadata": {
        "id": "cjwIESZ0gChx"
      },
      "execution_count": 46,
      "outputs": []
    },
    {
      "cell_type": "code",
      "source": [
        "show_ents(doc)"
      ],
      "metadata": {
        "colab": {
          "base_uri": "https://localhost:8080/"
        },
        "id": "BjbqZ_iQgM7V",
        "outputId": "9ba41ccd-4117-427a-afb0-c7c5f5a3e1b5"
      },
      "execution_count": 47,
      "outputs": [
        {
          "output_type": "stream",
          "name": "stdout",
          "text": [
            "(Washington, DC, next May, the Washington Monument) \n",
            "\n",
            "Washington, DC - GPE Countries, cities, states\n",
            "next May - DATE Absolute or relative dates or periods\n",
            "the Washington Monument - ORG Companies, agencies, institutions, etc.\n"
          ]
        }
      ]
    },
    {
      "cell_type": "code",
      "source": [
        "doc = nlp(u\"Can I please have 500 dollars of Microsoft stock\")"
      ],
      "metadata": {
        "id": "DTdHFQCDgTNA"
      },
      "execution_count": 48,
      "outputs": []
    },
    {
      "cell_type": "code",
      "source": [
        "show_ents(doc)"
      ],
      "metadata": {
        "colab": {
          "base_uri": "https://localhost:8080/"
        },
        "id": "QcBica4QhJr_",
        "outputId": "164b9b6f-082c-4be3-bf67-1352cdf2bafe"
      },
      "execution_count": 49,
      "outputs": [
        {
          "output_type": "stream",
          "name": "stdout",
          "text": [
            "(500 dollars, Microsoft) \n",
            "\n",
            "500 dollars - MONEY Monetary values, including unit\n",
            "Microsoft - ORG Companies, agencies, institutions, etc.\n"
          ]
        }
      ]
    },
    {
      "cell_type": "code",
      "source": [
        "doc = nlp(u\"Tesla to build a Malaysia factory for $6 million\")"
      ],
      "metadata": {
        "id": "u6kA3mfRhKww"
      },
      "execution_count": 50,
      "outputs": []
    },
    {
      "cell_type": "code",
      "source": [
        "show_ents(doc)"
      ],
      "metadata": {
        "colab": {
          "base_uri": "https://localhost:8080/"
        },
        "id": "Nr0di_21iJb9",
        "outputId": "2ef4d73c-36d6-4b4e-fb6a-d1d4e033259e"
      },
      "execution_count": 51,
      "outputs": [
        {
          "output_type": "stream",
          "name": "stdout",
          "text": [
            "(Malaysia, $6 million) \n",
            "\n",
            "Malaysia - GPE Countries, cities, states\n",
            "$6 million - MONEY Monetary values, including unit\n"
          ]
        }
      ]
    },
    {
      "cell_type": "code",
      "source": [
        "from spacy.tokens import Span"
      ],
      "metadata": {
        "id": "BbQJG1OBiKyL"
      },
      "execution_count": 52,
      "outputs": []
    },
    {
      "cell_type": "code",
      "source": [
        "ORG = doc.vocab.strings[u'ORG']"
      ],
      "metadata": {
        "id": "kwpO_oWpiXuk"
      },
      "execution_count": 53,
      "outputs": []
    },
    {
      "cell_type": "code",
      "source": [
        "ORG"
      ],
      "metadata": {
        "colab": {
          "base_uri": "https://localhost:8080/"
        },
        "id": "9TAn81-Fib6d",
        "outputId": "1bea001e-32c4-4de1-8539-178ab2f99774"
      },
      "execution_count": 54,
      "outputs": [
        {
          "output_type": "execute_result",
          "data": {
            "text/plain": [
              "383"
            ]
          },
          "metadata": {},
          "execution_count": 54
        }
      ]
    },
    {
      "cell_type": "code",
      "source": [
        "new_ent = Span(doc,0,1,label=ORG)"
      ],
      "metadata": {
        "id": "UnPMEi1sicbu"
      },
      "execution_count": 55,
      "outputs": []
    },
    {
      "cell_type": "code",
      "source": [
        "doc.ents = list(doc.ents) + [new_ent]"
      ],
      "metadata": {
        "id": "gUgY7wSFilQA"
      },
      "execution_count": 56,
      "outputs": []
    },
    {
      "cell_type": "code",
      "source": [
        "show_ents(doc)"
      ],
      "metadata": {
        "colab": {
          "base_uri": "https://localhost:8080/"
        },
        "id": "13r4ldf8i0eD",
        "outputId": "a793b29a-d6ce-4d1d-8486-fbb020e4e735"
      },
      "execution_count": 57,
      "outputs": [
        {
          "output_type": "stream",
          "name": "stdout",
          "text": [
            "(Tesla, Malaysia, $6 million) \n",
            "\n",
            "Tesla - ORG Companies, agencies, institutions, etc.\n",
            "Malaysia - GPE Countries, cities, states\n",
            "$6 million - MONEY Monetary values, including unit\n"
          ]
        }
      ]
    },
    {
      "cell_type": "code",
      "source": [
        "doc2 = nlp(u\"Tesla is going to build a factory in PB\")"
      ],
      "metadata": {
        "id": "fw7fWjbGi2OZ"
      },
      "execution_count": 75,
      "outputs": []
    },
    {
      "cell_type": "code",
      "source": [
        "GPE = doc2.vocab.strings[u'GPE']"
      ],
      "metadata": {
        "id": "CnFIc1V4j7VJ"
      },
      "execution_count": 76,
      "outputs": []
    },
    {
      "cell_type": "code",
      "source": [
        "GPE"
      ],
      "metadata": {
        "colab": {
          "base_uri": "https://localhost:8080/"
        },
        "id": "Qj2nRKpckD7G",
        "outputId": "3e543438-8af9-4524-e62e-736f9bd2beb1"
      },
      "execution_count": 77,
      "outputs": [
        {
          "output_type": "execute_result",
          "data": {
            "text/plain": [
              "384"
            ]
          },
          "metadata": {},
          "execution_count": 77
        }
      ]
    },
    {
      "cell_type": "code",
      "source": [
        "new_ent = Span(doc2,8,9,label = GPE)"
      ],
      "metadata": {
        "id": "y9u12ZKYkEfv"
      },
      "execution_count": 82,
      "outputs": []
    },
    {
      "cell_type": "code",
      "source": [
        "doc2.ents = list(doc2.ents) + [new_ent]"
      ],
      "metadata": {
        "id": "pPmI_ao-kPjF"
      },
      "execution_count": 83,
      "outputs": []
    },
    {
      "cell_type": "code",
      "source": [
        "show_ents(doc2)"
      ],
      "metadata": {
        "colab": {
          "base_uri": "https://localhost:8080/"
        },
        "id": "8_XTftxQkTos",
        "outputId": "2f4233ec-4a2d-42cf-f43e-2960c7301206"
      },
      "execution_count": 84,
      "outputs": [
        {
          "output_type": "stream",
          "name": "stdout",
          "text": [
            "(Tesla, PB) \n",
            "\n",
            "Tesla - ORG Companies, agencies, institutions, etc.\n",
            "PB - GPE Countries, cities, states\n"
          ]
        }
      ]
    },
    {
      "cell_type": "code",
      "source": [],
      "metadata": {
        "id": "Rvi1dfXCk4hd"
      },
      "execution_count": null,
      "outputs": []
    }
  ]
}