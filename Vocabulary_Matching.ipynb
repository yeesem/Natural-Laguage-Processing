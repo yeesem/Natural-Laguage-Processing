{
  "cells": [
    {
      "cell_type": "markdown",
      "metadata": {
        "id": "view-in-github",
        "colab_type": "text"
      },
      "source": [
        "<a href=\"https://colab.research.google.com/github/yeesem/Natural-Laguage-Processing/blob/main/Vocabulary_Matching.ipynb\" target=\"_parent\"><img src=\"https://colab.research.google.com/assets/colab-badge.svg\" alt=\"Open In Colab\"/></a>"
      ]
    },
    {
      "cell_type": "code",
      "execution_count": 1,
      "metadata": {
        "id": "HGHkf_zjI-Eg"
      },
      "outputs": [],
      "source": [
        "import spacy"
      ]
    },
    {
      "cell_type": "code",
      "execution_count": 2,
      "metadata": {
        "id": "dooWWaKvJfRQ"
      },
      "outputs": [],
      "source": [
        "nlp = spacy.load('en_core_web_sm')"
      ]
    },
    {
      "cell_type": "code",
      "execution_count": 3,
      "metadata": {
        "id": "7bvi1T4WJwAv"
      },
      "outputs": [],
      "source": [
        "from spacy.matcher import Matcher"
      ]
    },
    {
      "cell_type": "code",
      "execution_count": 4,
      "metadata": {
        "colab": {
          "base_uri": "https://localhost:8080/"
        },
        "id": "oJ46gTpmJ85T",
        "outputId": "353c22f6-fc6f-42ef-efb7-67dfa0b6ef92"
      },
      "outputs": [
        {
          "output_type": "execute_result",
          "data": {
            "text/plain": [
              "<spacy.vocab.Vocab at 0x7f2a45a10e50>"
            ]
          },
          "metadata": {},
          "execution_count": 4
        }
      ],
      "source": [
        "nlp.vocab"
      ]
    },
    {
      "cell_type": "code",
      "execution_count": 5,
      "metadata": {
        "id": "F72jNUsqJ6ej"
      },
      "outputs": [],
      "source": [
        "matcher = Matcher(nlp.vocab)"
      ]
    },
    {
      "cell_type": "code",
      "execution_count": 9,
      "metadata": {
        "id": "dOKefBIMKGeQ"
      },
      "outputs": [],
      "source": [
        "#SolarPower\n",
        "pattern1 = [{'LOWER':'solarpower'}]\n",
        "#Solar-power\n",
        "pattern2 = [{'LOWER':'solar'},{'IS_PUNCT':True},{'LOWER':'power'}]\n",
        "#Solar power\n",
        "pattern3 = [{'LOWER':'solar'},{'LOWER':'power'}]"
      ]
    },
    {
      "cell_type": "code",
      "execution_count": 10,
      "metadata": {
        "id": "Ns48EdbEK_QY"
      },
      "outputs": [],
      "source": [
        "matcher.add('SolarPower',patterns = [pattern1,pattern2,pattern3])"
      ]
    },
    {
      "cell_type": "code",
      "execution_count": 11,
      "metadata": {
        "id": "dB20deUOLiXQ"
      },
      "outputs": [],
      "source": [
        "doc = nlp(u\"The Solar Power industry continue to grow a solarpower increases. Solar-power is amazing.\")"
      ]
    },
    {
      "cell_type": "code",
      "execution_count": 12,
      "metadata": {
        "id": "W2HmH56yMhPm"
      },
      "outputs": [],
      "source": [
        "found_matcher = matcher(doc)"
      ]
    },
    {
      "cell_type": "code",
      "source": [
        "pronoun_verb = [{'POS':'PRON'},{'POS','VERB'}]\n",
        "found_matcher2 = matcher(doc)\n",
        "print(found_matcher2)"
      ],
      "metadata": {
        "colab": {
          "base_uri": "https://localhost:8080/"
        },
        "id": "iW4CGsXLP4PQ",
        "outputId": "2bb83e36-e1b4-494a-936c-c9d4a863b9eb"
      },
      "execution_count": 13,
      "outputs": [
        {
          "output_type": "stream",
          "name": "stdout",
          "text": [
            "[(8656102463236116519, 1, 3), (8656102463236116519, 8, 9), (8656102463236116519, 11, 14)]\n"
          ]
        }
      ]
    },
    {
      "cell_type": "code",
      "source": [
        "for match_id,start,end in found_matcher:\n",
        "  string_id = nlp.vocab.strings[match_id]\n",
        "  span = doc[start:end]\n",
        "  print(match_id,string_id,start,end,span.text)"
      ],
      "metadata": {
        "colab": {
          "base_uri": "https://localhost:8080/"
        },
        "id": "-719GaJdP55S",
        "outputId": "f2c17003-3d5f-4a7f-e926-157347d7e912"
      },
      "execution_count": 14,
      "outputs": [
        {
          "output_type": "stream",
          "name": "stdout",
          "text": [
            "8656102463236116519 SolarPower 1 3 Solar Power\n",
            "8656102463236116519 SolarPower 8 9 solarpower\n",
            "8656102463236116519 SolarPower 11 14 Solar-power\n"
          ]
        }
      ]
    },
    {
      "cell_type": "code",
      "source": [
        "for match_id,start,end in found_matcher2:\n",
        "  string_id = nlp.vocab.strings[match_id]\n",
        "  span = doc[start:end]\n",
        "  print(match_id,string_id,start,end,span)"
      ],
      "metadata": {
        "colab": {
          "base_uri": "https://localhost:8080/"
        },
        "id": "Zl3ONvIzP8YZ",
        "outputId": "c66f8050-81bd-4e90-f674-64ce071a61dc"
      },
      "execution_count": 15,
      "outputs": [
        {
          "output_type": "stream",
          "name": "stdout",
          "text": [
            "8656102463236116519 SolarPower 1 3 Solar Power\n",
            "8656102463236116519 SolarPower 8 9 solarpower\n",
            "8656102463236116519 SolarPower 11 14 Solar-power\n"
          ]
        }
      ]
    },
    {
      "cell_type": "code",
      "source": [
        "matcher.remove('SolarPower')"
      ],
      "metadata": {
        "id": "-BUUwjJAQBfa"
      },
      "execution_count": 16,
      "outputs": []
    },
    {
      "cell_type": "code",
      "source": [
        "#solarpower,SolarPower\n",
        "pattern1 = [{'LOWER':'solarpower'}]\n",
        "#solar[any number of punctuations]power exp: solar.power/solar--power\n",
        "pattern2 = [{'LOWER':'solar'},{'IS_PUNCT':True,'OP':'*'},{'LOWER':'power'}]"
      ],
      "metadata": {
        "id": "LvL76u_2QDM7"
      },
      "execution_count": 17,
      "outputs": []
    },
    {
      "cell_type": "code",
      "source": [
        "matcher.add('SolarPower',patterns = [pattern1,pattern2])"
      ],
      "metadata": {
        "id": "61O-GKfrQGHM"
      },
      "execution_count": 18,
      "outputs": []
    },
    {
      "cell_type": "code",
      "source": [
        "doc2 = nlp(u\"Solar--power is solarpower yay!\")"
      ],
      "metadata": {
        "id": "b37q1rklQHkY"
      },
      "execution_count": 19,
      "outputs": []
    },
    {
      "cell_type": "code",
      "source": [
        "found_matchers3 = matcher(doc2)"
      ],
      "metadata": {
        "id": "3fxpNMfmQJ1V"
      },
      "execution_count": 20,
      "outputs": []
    },
    {
      "cell_type": "code",
      "source": [
        "print(found_matchers3)"
      ],
      "metadata": {
        "colab": {
          "base_uri": "https://localhost:8080/"
        },
        "id": "zhm0P05cQLqb",
        "outputId": "6e4dc1b4-1271-4057-b049-9a1570c92eb6"
      },
      "execution_count": 21,
      "outputs": [
        {
          "output_type": "stream",
          "name": "stdout",
          "text": [
            "[(8656102463236116519, 0, 3), (8656102463236116519, 4, 5)]\n"
          ]
        }
      ]
    },
    {
      "cell_type": "code",
      "source": [
        "for match_id,start,end in found_matchers3:\n",
        "  string_id = nlp.vocab.strings[match_id]\n",
        "  span = doc[start:end]\n",
        "  print(match_id,string_id,start,end,span)"
      ],
      "metadata": {
        "colab": {
          "base_uri": "https://localhost:8080/"
        },
        "id": "BK-6wGXbQM-d",
        "outputId": "338dc94c-37f4-4da5-8771-4f72ed252fce"
      },
      "execution_count": 24,
      "outputs": [
        {
          "output_type": "stream",
          "name": "stdout",
          "text": [
            "8656102463236116519 SolarPower 0 3 The Solar Power\n",
            "8656102463236116519 SolarPower 4 5 continue\n"
          ]
        }
      ]
    },
    {
      "cell_type": "code",
      "source": [
        "from spacy.matcher import PhraseMatcher"
      ],
      "metadata": {
        "id": "PT-L7UuZQPyO"
      },
      "execution_count": 25,
      "outputs": []
    },
    {
      "cell_type": "code",
      "source": [
        "matcher = PhraseMatcher(nlp.vocab)"
      ],
      "metadata": {
        "id": "Xxp_cpYiQdi0"
      },
      "execution_count": 26,
      "outputs": []
    },
    {
      "cell_type": "code",
      "source": [
        "with open(\"/content/reaganomics.txt\",encoding=\"utf8\", errors='ignore') as f:\n",
        "  doc3 = nlp(f.read())"
      ],
      "metadata": {
        "id": "tRWXaYEcQfoB"
      },
      "execution_count": 37,
      "outputs": []
    },
    {
      "cell_type": "code",
      "source": [
        "phrase_list = ['voodoo economics','supply-side economics','trickle-down economics','free-market economies']"
      ],
      "metadata": {
        "id": "0Jtdwyp1RGIy"
      },
      "execution_count": 38,
      "outputs": []
    },
    {
      "cell_type": "code",
      "source": [
        "phrase_pattern = [nlp(text) for text in phrase_list]"
      ],
      "metadata": {
        "id": "t8hzCYqKSrfh"
      },
      "execution_count": 39,
      "outputs": []
    },
    {
      "cell_type": "code",
      "source": [
        "phrase_pattern"
      ],
      "metadata": {
        "colab": {
          "base_uri": "https://localhost:8080/"
        },
        "id": "A2BAIfADSzhX",
        "outputId": "d87cf79d-4373-4801-ed87-cb731b214b77"
      },
      "execution_count": 40,
      "outputs": [
        {
          "output_type": "execute_result",
          "data": {
            "text/plain": [
              "[voodoo economics,\n",
              " supply-side economics,\n",
              " trickle-down economics,\n",
              " free-market economies]"
            ]
          },
          "metadata": {},
          "execution_count": 40
        }
      ]
    },
    {
      "cell_type": "code",
      "source": [
        "#Check the type of the one of the elements inside the phrase_pattern\n",
        "type(phrase_pattern[0])"
      ],
      "metadata": {
        "colab": {
          "base_uri": "https://localhost:8080/"
        },
        "id": "5DTrityyTevf",
        "outputId": "41fae7b1-13be-49a5-f93f-4735f6377c59"
      },
      "execution_count": 41,
      "outputs": [
        {
          "output_type": "execute_result",
          "data": {
            "text/plain": [
              "spacy.tokens.doc.Doc"
            ]
          },
          "metadata": {},
          "execution_count": 41
        }
      ]
    },
    {
      "cell_type": "code",
      "source": [
        "matcher.add('EconMatcher',None,*phrase_pattern)"
      ],
      "metadata": {
        "id": "AwgK6xbhS8ln"
      },
      "execution_count": 45,
      "outputs": []
    },
    {
      "cell_type": "code",
      "source": [
        "found_matches = matcher(doc3)"
      ],
      "metadata": {
        "id": "4NGumu7GUALy"
      },
      "execution_count": 46,
      "outputs": []
    },
    {
      "cell_type": "code",
      "source": [
        "found_matches"
      ],
      "metadata": {
        "colab": {
          "base_uri": "https://localhost:8080/"
        },
        "id": "vIOdeVb8T2I9",
        "outputId": "9cfe8ce2-9dc9-4d94-9558-32714498aad5"
      },
      "execution_count": 47,
      "outputs": [
        {
          "output_type": "execute_result",
          "data": {
            "text/plain": [
              "[(3680293220734633682, 41, 45),\n",
              " (3680293220734633682, 49, 53),\n",
              " (3680293220734633682, 54, 56),\n",
              " (3680293220734633682, 673, 677),\n",
              " (3680293220734633682, 2986, 2990)]"
            ]
          },
          "metadata": {},
          "execution_count": 47
        }
      ]
    },
    {
      "cell_type": "code",
      "source": [
        "for match_id,start,end in found_matches:\n",
        "  string_id = nlp.vocab.strings[match_id]\n",
        "  span = doc3[start:end]\n",
        "  print(match_id,string_id,start,end,span.text)"
      ],
      "metadata": {
        "colab": {
          "base_uri": "https://localhost:8080/"
        },
        "id": "TJgkBP2-UMMh",
        "outputId": "a3362768-dca9-42ba-cac2-80907fb6c1c2"
      },
      "execution_count": 50,
      "outputs": [
        {
          "output_type": "stream",
          "name": "stdout",
          "text": [
            "3680293220734633682 EconMatcher 41 45 supply-side economics\n",
            "3680293220734633682 EconMatcher 49 53 trickle-down economics\n",
            "3680293220734633682 EconMatcher 54 56 voodoo economics\n",
            "3680293220734633682 EconMatcher 673 677 supply-side economics\n",
            "3680293220734633682 EconMatcher 2986 2990 trickle-down economics\n"
          ]
        }
      ]
    },
    {
      "cell_type": "code",
      "source": [
        "for match_id,start,end in found_matches:\n",
        "  string_id = nlp.vocab.strings[match_id]\n",
        "  #To get more infomation\n",
        "  span = doc3[start-5:end+10]\n",
        "  print(match_id,string_id,start,end,span.text)"
      ],
      "metadata": {
        "colab": {
          "base_uri": "https://localhost:8080/"
        },
        "id": "pHssYee8UnA-",
        "outputId": "d1ce1663-4f37-44ad-a263-dc941a38a455"
      },
      "execution_count": 51,
      "outputs": [
        {
          "output_type": "stream",
          "name": "stdout",
          "text": [
            "3680293220734633682 EconMatcher 41 45 policies are commonly associated with supply-side economics, referred to as trickle-down economics or voodoo\n",
            "3680293220734633682 EconMatcher 49 53 economics, referred to as trickle-down economics or voodoo economics by political opponents, and free-\n",
            "3680293220734633682 EconMatcher 54 56 trickle-down economics or voodoo economics by political opponents, and free-market economics by\n",
            "3680293220734633682 EconMatcher 673 677 attracted a following from the supply-side economics movement, which formed in opposition to Keynesian demand-\n",
            "3680293220734633682 EconMatcher 2986 2990 became widely known as \"trickle-down economics\", due to the significant cuts in the upper\n"
          ]
        }
      ]
    }
  ],
  "metadata": {
    "colab": {
      "provenance": [],
      "authorship_tag": "ABX9TyMwaXPq406s+KKRQGF/In1y",
      "include_colab_link": true
    },
    "kernelspec": {
      "display_name": "Python 3",
      "name": "python3"
    },
    "language_info": {
      "name": "python"
    }
  },
  "nbformat": 4,
  "nbformat_minor": 0
}