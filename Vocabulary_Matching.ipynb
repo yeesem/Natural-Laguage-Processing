{
  "nbformat": 4,
  "nbformat_minor": 0,
  "metadata": {
    "colab": {
      "provenance": [],
      "authorship_tag": "ABX9TyMbsQKrGpYphU7o3Dj561dT",
      "include_colab_link": true
    },
    "kernelspec": {
      "name": "python3",
      "display_name": "Python 3"
    },
    "language_info": {
      "name": "python"
    }
  },
  "cells": [
    {
      "cell_type": "markdown",
      "metadata": {
        "id": "view-in-github",
        "colab_type": "text"
      },
      "source": [
        "<a href=\"https://colab.research.google.com/github/yeesem/Natural-Laguage-Processing/blob/main/Vocabulary_Matching.ipynb\" target=\"_parent\"><img src=\"https://colab.research.google.com/assets/colab-badge.svg\" alt=\"Open In Colab\"/></a>"
      ]
    },
    {
      "cell_type": "code",
      "execution_count": 1,
      "metadata": {
        "id": "HGHkf_zjI-Eg"
      },
      "outputs": [],
      "source": [
        "import spacy"
      ]
    },
    {
      "cell_type": "code",
      "source": [
        "nlp = spacy.load('en_core_web_sm')"
      ],
      "metadata": {
        "id": "dooWWaKvJfRQ"
      },
      "execution_count": 2,
      "outputs": []
    },
    {
      "cell_type": "code",
      "source": [
        "from spacy.matcher import Matcher"
      ],
      "metadata": {
        "id": "7bvi1T4WJwAv"
      },
      "execution_count": 3,
      "outputs": []
    },
    {
      "cell_type": "code",
      "source": [
        "nlp.vocab"
      ],
      "metadata": {
        "colab": {
          "base_uri": "https://localhost:8080/"
        },
        "id": "oJ46gTpmJ85T",
        "outputId": "601a4559-63e8-46b6-95e6-677c9813f97e"
      },
      "execution_count": 4,
      "outputs": [
        {
          "output_type": "execute_result",
          "data": {
            "text/plain": [
              "<spacy.vocab.Vocab at 0x7dc591ffcca0>"
            ]
          },
          "metadata": {},
          "execution_count": 4
        }
      ]
    },
    {
      "cell_type": "code",
      "source": [
        "matcher = Matcher(nlp.vocab)"
      ],
      "metadata": {
        "id": "F72jNUsqJ6ej"
      },
      "execution_count": 7,
      "outputs": []
    },
    {
      "cell_type": "code",
      "source": [
        "#SolarPower\n",
        "pattern1 = [{'LOWER':'solarpower'}]\n",
        "#Solar-power\n",
        "pattern2 = [{'LOWER':'solar'},{'IS_PUNCT':True},{'LOWER':'power'}]\n",
        "#Solar power\n",
        "pattern3 = [{'LOWER':'solar'},{'LOWER':'power'}]"
      ],
      "metadata": {
        "id": "dOKefBIMKGeQ"
      },
      "execution_count": 20,
      "outputs": []
    },
    {
      "cell_type": "code",
      "source": [
        "matcher.add('SolarPower',patterns = [pattern1,pattern2,pattern3]);"
      ],
      "metadata": {
        "id": "Ns48EdbEK_QY"
      },
      "execution_count": 21,
      "outputs": []
    },
    {
      "cell_type": "code",
      "source": [
        "doc = nlp(u\"The Solar Power industry continue to grow a solarpower increases. Solar-power is amazing.\")"
      ],
      "metadata": {
        "id": "dB20deUOLiXQ"
      },
      "execution_count": 22,
      "outputs": []
    },
    {
      "cell_type": "code",
      "source": [
        "found_matcher = matcher(doc)"
      ],
      "metadata": {
        "id": "W2HmH56yMhPm"
      },
      "execution_count": 23,
      "outputs": []
    },
    {
      "cell_type": "code",
      "source": [
        "print(found_matcher)"
      ],
      "metadata": {
        "id": "9we_jIOXQrd3",
        "outputId": "a3c4c2ab-5305-4906-ef63-e3c7a59595e3",
        "colab": {
          "base_uri": "https://localhost:8080/"
        }
      },
      "execution_count": 24,
      "outputs": [
        {
          "output_type": "stream",
          "name": "stdout",
          "text": [
            "[(8656102463236116519, 1, 3), (8656102463236116519, 8, 9), (8656102463236116519, 11, 14)]\n"
          ]
        }
      ]
    },
    {
      "cell_type": "code",
      "source": [
        "pronoun_verb = [{'POS':'PRON'},{'POS','VERB'}]\n",
        "found_matcher2 = matcher(doc)\n",
        "print(found_matcher2)"
      ],
      "metadata": {
        "id": "MBhlVT3aQs6v",
        "outputId": "6a18d687-eb2a-4d39-e869-dbe17f117ae0",
        "colab": {
          "base_uri": "https://localhost:8080/"
        }
      },
      "execution_count": 26,
      "outputs": [
        {
          "output_type": "stream",
          "name": "stdout",
          "text": [
            "[(8656102463236116519, 1, 3), (8656102463236116519, 8, 9), (8656102463236116519, 11, 14)]\n"
          ]
        }
      ]
    },
    {
      "cell_type": "code",
      "source": [
        "for match_id,start,end in found_matcher:\n",
        "  string_id = nlp.vocab.strings[match_id]\n",
        "  span = doc[start:end]\n",
        "  print(match_id,string_id,start,end,span.text)"
      ],
      "metadata": {
        "id": "t_20v3ahUzn2",
        "outputId": "6de7f993-2f62-4703-adc6-e553d48f823a",
        "colab": {
          "base_uri": "https://localhost:8080/"
        }
      },
      "execution_count": 27,
      "outputs": [
        {
          "output_type": "stream",
          "name": "stdout",
          "text": [
            "8656102463236116519 SolarPower 1 3 Solar Power\n",
            "8656102463236116519 SolarPower 8 9 solarpower\n",
            "8656102463236116519 SolarPower 11 14 Solar-power\n"
          ]
        }
      ]
    },
    {
      "cell_type": "code",
      "source": [
        "for match_id,start,end in found_matcher2:\n",
        "  string_id = nlp.vocab.strings[match_id]\n",
        "  span = doc[start:end]\n",
        "  print(match_id,string_id,start,end,span)"
      ],
      "metadata": {
        "id": "Hw1LSeWBWM0l",
        "outputId": "540ea634-ece1-4e87-d377-b409b8230723",
        "colab": {
          "base_uri": "https://localhost:8080/"
        }
      },
      "execution_count": 28,
      "outputs": [
        {
          "output_type": "stream",
          "name": "stdout",
          "text": [
            "8656102463236116519 SolarPower 1 3 Solar Power\n",
            "8656102463236116519 SolarPower 8 9 solarpower\n",
            "8656102463236116519 SolarPower 11 14 Solar-power\n"
          ]
        }
      ]
    },
    {
      "cell_type": "code",
      "source": [
        "matcher.remove('SolarPower')"
      ],
      "metadata": {
        "id": "vahOrGuQWhLv"
      },
      "execution_count": 29,
      "outputs": []
    },
    {
      "cell_type": "code",
      "source": [
        "#solarpower,SolarPower\n",
        "pattern1 = [{'LOWER':'solarpower'}]\n",
        "#solar[any number of punctuations]power exp: solar.power/solar--power\n",
        "pattern2 = [{'LOWER':'solar'},{'IS_PUNCT':True,'OP':'*'},{'LOWER':'power'}]"
      ],
      "metadata": {
        "id": "Bflf8TYJWv6M"
      },
      "execution_count": 31,
      "outputs": []
    },
    {
      "cell_type": "code",
      "source": [
        "matcher.add('SolarPower',patterns = [pattern1,pattern2])"
      ],
      "metadata": {
        "id": "LBznr943XXoO"
      },
      "execution_count": 32,
      "outputs": []
    },
    {
      "cell_type": "code",
      "source": [
        "doc2 = nlp(u\"Solar--power is solarpower yay!\")"
      ],
      "metadata": {
        "id": "-vGC_BfUX3oF"
      },
      "execution_count": 33,
      "outputs": []
    },
    {
      "cell_type": "code",
      "source": [
        "found_matchers3 = matcher(doc2)"
      ],
      "metadata": {
        "id": "TI3FU4OcYFEb"
      },
      "execution_count": 34,
      "outputs": []
    },
    {
      "cell_type": "code",
      "source": [
        "print(found_matchers3)"
      ],
      "metadata": {
        "id": "XW_3ZNlYYJ5t",
        "outputId": "a04b89d0-932a-4fa0-b811-fb206402cc2b",
        "colab": {
          "base_uri": "https://localhost:8080/"
        }
      },
      "execution_count": 35,
      "outputs": [
        {
          "output_type": "stream",
          "name": "stdout",
          "text": [
            "[(8656102463236116519, 0, 3), (8656102463236116519, 4, 5)]\n"
          ]
        }
      ]
    },
    {
      "cell_type": "code",
      "source": [
        "for match_id,start,end in found_matcher2:\n",
        "  string_id = nlp.vocab.strings[match_id]\n",
        "  span = doc[start:end]\n",
        "  print(match_id,string_id,start,end,span)"
      ],
      "metadata": {
        "id": "sj1rzLbVYNfJ",
        "outputId": "536abf2d-367e-4d97-ec08-5fc18ed30729",
        "colab": {
          "base_uri": "https://localhost:8080/"
        }
      },
      "execution_count": 36,
      "outputs": [
        {
          "output_type": "stream",
          "name": "stdout",
          "text": [
            "8656102463236116519 SolarPower 1 3 Solar Power\n",
            "8656102463236116519 SolarPower 8 9 solarpower\n",
            "8656102463236116519 SolarPower 11 14 Solar-power\n"
          ]
        }
      ]
    },
    {
      "cell_type": "code",
      "source": [],
      "metadata": {
        "id": "8f4e1Pn1YZDD"
      },
      "execution_count": null,
      "outputs": []
    }
  ]
}