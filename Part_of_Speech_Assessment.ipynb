{
  "nbformat": 4,
  "nbformat_minor": 0,
  "metadata": {
    "colab": {
      "provenance": [],
      "authorship_tag": "ABX9TyOR2zDOE9pig/Qhzkzlk5wo",
      "include_colab_link": true
    },
    "kernelspec": {
      "name": "python3",
      "display_name": "Python 3"
    },
    "language_info": {
      "name": "python"
    }
  },
  "cells": [
    {
      "cell_type": "markdown",
      "metadata": {
        "id": "view-in-github",
        "colab_type": "text"
      },
      "source": [
        "<a href=\"https://colab.research.google.com/github/yeesem/Natural-Laguage-Processing/blob/main/Part_of_Speech_Assessment.ipynb\" target=\"_parent\"><img src=\"https://colab.research.google.com/assets/colab-badge.svg\" alt=\"Open In Colab\"/></a>"
      ]
    },
    {
      "cell_type": "code",
      "execution_count": 1,
      "metadata": {
        "id": "AHYIlMyuri4j"
      },
      "outputs": [],
      "source": [
        "import spacy\n",
        "nlp = spacy.load('en_core_web_sm')\n",
        "from spacy import displacy"
      ]
    },
    {
      "cell_type": "code",
      "source": [
        "with open('/content/peterrabbit.txt') as f:\n",
        "  doc = nlp(f.read())"
      ],
      "metadata": {
        "id": "rl22YQnzr36k"
      },
      "execution_count": 2,
      "outputs": []
    },
    {
      "cell_type": "code",
      "source": [
        "print(doc)"
      ],
      "metadata": {
        "colab": {
          "base_uri": "https://localhost:8080/"
        },
        "id": "MkRrR6Gwslft",
        "outputId": "ad49d1bb-2c98-4492-f3d3-7ff87d8f623d"
      },
      "execution_count": 3,
      "outputs": [
        {
          "output_type": "stream",
          "name": "stdout",
          "text": [
            "The Tale of Peter Rabbit, by Beatrix Potter (1902).\n",
            "\n",
            "Once upon a time there were four little Rabbits, and their names\n",
            "were--\n",
            "\n",
            "          Flopsy,\n",
            "       Mopsy,\n",
            "   Cotton-tail,\n",
            "and Peter.\n",
            "\n",
            "They lived with their Mother in a sand-bank, underneath the root of a\n",
            "very big fir-tree.\n",
            "\n",
            "'Now my dears,' said old Mrs. Rabbit one morning, 'you may go into\n",
            "the fields or down the lane, but don't go into Mr. McGregor's garden:\n",
            "your Father had an accident there; he was put in a pie by Mrs.\n",
            "McGregor.'\n",
            "\n",
            "'Now run along, and don't get into mischief. I am going out.'\n",
            "\n",
            "Then old Mrs. Rabbit took a basket and her umbrella, and went through\n",
            "the wood to the baker's. She bought a loaf of brown bread and five\n",
            "currant buns.\n",
            "\n",
            "Flopsy, Mopsy, and Cottontail, who were good little bunnies, went\n",
            "down the lane to gather blackberries:\n",
            "\n",
            "But Peter, who was very naughty, ran straight away to Mr. McGregor's\n",
            "garden, and squeezed under the gate!\n",
            "\n",
            "First he ate some lettuces and some French beans; and then he ate\n",
            "some radishes;\n",
            "\n",
            "And then, feeling rather sick, he went to look for some parsley.\n",
            "\n",
            "But round the end of a cucumber frame, whom should he meet but Mr.\n",
            "McGregor!\n",
            "\n",
            "Mr. McGregor was on his hands and knees planting out young cabbages,\n",
            "but he jumped up and ran after Peter, waving a rake and calling out,\n",
            "'Stop thief!'\n",
            "\n",
            "Peter was most dreadfully frightened; he rushed all over the garden,\n",
            "for he had forgotten the way back to the gate.\n",
            "\n",
            "He lost one of his shoes among the cabbages, and the other shoe\n",
            "amongst the potatoes.\n",
            "\n",
            "After losing them, he ran on four legs and went faster, so that I\n",
            "think he might have got away altogether if he had not unfortunately\n",
            "run into a gooseberry net, and got caught by the large buttons on his\n",
            "jacket. It was a blue jacket with brass buttons, quite new.\n",
            "\n",
            "Peter gave himself up for lost, and shed big tears; but his sobs were\n",
            "overheard by some friendly sparrows, who flew to him in great\n",
            "excitement, and implored him to exert himself.\n",
            "\n",
            "Mr. McGregor came up with a sieve, which he intended to pop upon the\n",
            "top of Peter; but Peter wriggled out just in time, leaving his jacket\n",
            "behind him.\n",
            "\n",
            "And rushed into the tool-shed, and jumped into a can. It would have\n",
            "been a beautiful thing to hide in, if it had not had so much water in it.\n",
            "\n",
            "Mr. McGregor was quite sure that Peter was somewhere in the\n",
            "tool-shed, perhaps hidden underneath a flower-pot. He began to turn\n",
            "them over carefully, looking under each.\n",
            "\n",
            "Presently Peter sneezed--'Kertyschoo!' Mr. McGregor was after him in\n",
            "no time.\n",
            "\n",
            "And tried to put his foot upon Peter, who jumped out of a window,\n",
            "upsetting three plants. The window was too small for Mr. McGregor, and\n",
            "he was tired of running after Peter. He went back to his work.\n",
            "\n",
            "Peter sat down to rest; he was out of breath and trembling with\n",
            "fright, and he had not the least idea which way to go. Also he was\n",
            "very damp with sitting in that can.\n",
            "\n",
            "After a time he began to wander about, going lippity--lippity--not\n",
            "very fast, and looking all round.\n",
            "\n",
            "He found a door in a wall; but it was locked, and there was no room\n",
            "for a fat little rabbit to squeeze underneath.\n",
            "\n",
            "An old mouse was running in and out over the stone doorstep, carrying\n",
            "peas and beans to her family in the wood. Peter asked her the way to\n",
            "the gate, but she had such a large pea in her mouth that she could not\n",
            "answer. She only shook her head at him. Peter began to cry.\n",
            "\n",
            "Then he tried to find his way straight across the garden, but he\n",
            "became more and more puzzled. Presently, he came to a pond where Mr.\n",
            "McGregor filled his water-cans. A white cat was staring at some\n",
            "gold-fish, she sat very, very still, but now and then the tip of her\n",
            "tail twitched as if it were alive. Peter thought it best to go away\n",
            "without speaking to her; he had heard about cats from his cousin,\n",
            "little Benjamin Bunny.\n",
            "\n",
            "He went back towards the tool-shed, but suddenly, quite close to him,\n",
            "he heard the noise of a hoe--scr-r-ritch, scratch, scratch, scritch.\n",
            "Peter scuttered underneath the bushes. But presently, as nothing\n",
            "happened, he came out, and climbed upon a wheelbarrow and peeped over.\n",
            "The first thing he saw was Mr. McGregor hoeing onions. His back was\n",
            "turned towards Peter, and beyond him was the gate!\n",
            "\n",
            "Peter got down very quietly off the wheelbarrow; and started running\n",
            "as fast as he could go, along a straight walk behind some\n",
            "black-currant bushes.\n",
            "\n",
            "Mr. McGregor caught sight of him at the corner, but Peter did not\n",
            "care. He slipped underneath the gate, and was safe at last in the wood\n",
            "outside the garden.\n",
            "\n",
            "Mr. McGregor hung up the little jacket and the shoes for a scare-crow\n",
            "to frighten the blackbirds.\n",
            "\n",
            "Peter never stopped running or looked behind him till he got home to\n",
            "the big fir-tree.\n",
            "\n",
            "He was so tired that he flopped down upon the nice soft sand on the\n",
            "floor of the rabbit-hole and shut his eyes. His mother was busy\n",
            "cooking; she wondered what he had done with his clothes. It was the\n",
            "second little jacket and pair of shoes that Peter had lost in a\n",
            "fortnight!\n",
            "\n",
            "I am sorry to say that Peter was not very well during the evening.\n",
            "\n",
            "His mother put him to bed, and made some camomile tea; and she gave a\n",
            "dose of it to Peter!\n",
            "\n",
            "'One table-spoonful to be taken at bed-time.'\n",
            "\n",
            "But Flopsy, Mopsy, and Cotton-tail had bread and milk and\n",
            "blackberries for supper.\n",
            "\n",
            "THE END\n",
            "\n"
          ]
        }
      ]
    },
    {
      "cell_type": "code",
      "source": [
        "list(doc.sents)"
      ],
      "metadata": {
        "colab": {
          "base_uri": "https://localhost:8080/"
        },
        "id": "h0l3ygFWsvpG",
        "outputId": "f658fb49-cf5d-4482-c87c-50721c227995"
      },
      "execution_count": 6,
      "outputs": [
        {
          "output_type": "execute_result",
          "data": {
            "text/plain": [
              "[The Tale of Peter Rabbit, by Beatrix Potter (1902).\n",
              " ,\n",
              " Once upon a time there were four little Rabbits, and their names\n",
              " were--\n",
              " \n",
              "           Flopsy,\n",
              "        Mopsy,\n",
              "    Cotton-tail,\n",
              " and Peter.\n",
              " ,\n",
              " They lived with their Mother in a sand-bank, underneath the root of a\n",
              " very big fir-tree.\n",
              " ,\n",
              " 'Now my dears,' said old Mrs. Rabbit one morning, 'you may go into\n",
              " the fields or down the lane, but don't go into Mr. McGregor's garden:\n",
              " your Father had an accident there; he was put in a pie by Mrs.\n",
              " McGregor.'\n",
              " \n",
              " 'Now run along, and don't get into mischief.,\n",
              " I am going out.'\n",
              " ,\n",
              " Then old Mrs. Rabbit took a basket and her umbrella, and went through\n",
              " the wood to the baker's.,\n",
              " She bought a loaf of brown bread and five\n",
              " currant buns.\n",
              " ,\n",
              " Flopsy, Mopsy, and Cottontail, who were good little bunnies, went\n",
              " down the lane to gather blackberries:\n",
              " \n",
              " But Peter, who was very naughty, ran straight away to Mr. McGregor's\n",
              " garden, and squeezed under the gate!\n",
              " ,\n",
              " First he ate some lettuces and some French beans; and then he ate\n",
              " some radishes;\n",
              " \n",
              " And then, feeling rather sick, he went to look for some parsley.\n",
              " ,\n",
              " But round the end of a cucumber frame, whom should he meet but Mr.\n",
              " McGregor!\n",
              " \n",
              " Mr. McGregor was on his hands and knees planting out young cabbages,\n",
              " but he jumped up and ran after Peter, waving a rake and calling out,\n",
              " 'Stop thief!'\n",
              " ,\n",
              " Peter was most dreadfully frightened; he rushed all over the garden,\n",
              " for he had forgotten the way back to the gate.\n",
              " ,\n",
              " He lost one of his shoes among the cabbages, and the other shoe\n",
              " amongst the potatoes.\n",
              " ,\n",
              " After losing them, he ran on four legs and went faster, so that I\n",
              " think he might have got away altogether if he had not unfortunately\n",
              " run into a gooseberry net, and got caught by the large buttons on his\n",
              " jacket.,\n",
              " It was a blue jacket with brass buttons, quite new.\n",
              " ,\n",
              " Peter gave himself up for lost, and shed big tears; but his sobs were\n",
              " overheard by some friendly sparrows, who flew to him in great\n",
              " excitement, and implored him to exert himself.\n",
              " ,\n",
              " Mr. McGregor came up with a sieve, which he intended to pop upon the\n",
              " top of Peter; but Peter wriggled out just in time, leaving his jacket\n",
              " behind him.\n",
              " \n",
              " And rushed into the tool-shed, and jumped into a can.,\n",
              " It would have\n",
              " been a beautiful thing to hide in, if it had not had so much water in it.\n",
              " ,\n",
              " Mr. McGregor was quite sure that Peter was somewhere in the\n",
              " tool-shed, perhaps hidden underneath a flower-pot.,\n",
              " He began to turn\n",
              " them over carefully, looking under each.\n",
              " ,\n",
              " Presently Peter sneezed--'Kertyschoo!',\n",
              " Mr. McGregor was after him in\n",
              " no time.\n",
              " ,\n",
              " And tried to put his foot upon Peter, who jumped out of a window,\n",
              " upsetting three plants.,\n",
              " The window was too small for Mr. McGregor, and\n",
              " he was tired of running after Peter.,\n",
              " He went back to his work.\n",
              " ,\n",
              " Peter sat down to rest; he was out of breath and trembling with\n",
              " fright, and he had not the least idea which way to go.,\n",
              " Also he was\n",
              " very damp with sitting in that can.\n",
              " ,\n",
              " After a time he began to wander about, going lippity--lippity--not\n",
              " very fast, and looking all round.\n",
              " ,\n",
              " He found a door in a wall; but it was locked, and there was no room\n",
              " for a fat little rabbit to squeeze underneath.\n",
              " ,\n",
              " An old mouse was running in and out over the stone doorstep, carrying\n",
              " peas and beans to her family in the wood.,\n",
              " Peter asked her the way to\n",
              " the gate, but she had such a large pea in her mouth that she could not\n",
              " answer.,\n",
              " She only shook her head at him.,\n",
              " Peter began to cry.\n",
              " ,\n",
              " Then he tried to find his way straight across the garden, but he\n",
              " became more and more puzzled.,\n",
              " Presently, he came to a pond where Mr.\n",
              " McGregor filled his water-cans.,\n",
              " A white cat was staring at some\n",
              " gold-fish, she sat very, very still, but now and then the tip of her\n",
              " tail twitched as if it were alive.,\n",
              " Peter thought it best to go away\n",
              " without speaking to her; he had heard about cats from his cousin,\n",
              " little Benjamin Bunny.\n",
              " ,\n",
              " He went back towards the tool-shed, but suddenly, quite close to him,\n",
              " he heard the noise of a hoe--scr-r-ritch, scratch, scratch, scritch.,\n",
              " Peter scuttered underneath the bushes.,\n",
              " But presently, as nothing\n",
              " happened, he came out, and climbed upon a wheelbarrow and peeped over.,\n",
              " The first thing he saw was Mr. McGregor hoeing onions.,\n",
              " His back was\n",
              " turned towards Peter, and beyond him was the gate!\n",
              " ,\n",
              " Peter got down very quietly off the wheelbarrow; and started running\n",
              " as fast as he could go, along a straight walk behind some\n",
              " black-currant bushes.\n",
              " ,\n",
              " Mr. McGregor caught sight of him at the corner, but Peter did not\n",
              " care.,\n",
              " He slipped underneath the gate, and was safe at last in the wood\n",
              " outside the garden.\n",
              " ,\n",
              " Mr. McGregor hung up the little jacket and the shoes for a scare-crow\n",
              " to frighten the blackbirds.\n",
              " ,\n",
              " Peter never stopped running or looked behind him till he got home to\n",
              " the big fir-tree.\n",
              " ,\n",
              " He was so tired that he flopped down upon the nice soft sand on the\n",
              " floor of the rabbit-hole and shut his eyes.,\n",
              " His mother was busy\n",
              " cooking; she wondered what he had done with his clothes.,\n",
              " It was the\n",
              " second little jacket and pair of shoes that Peter had lost in a\n",
              " fortnight!\n",
              " ,\n",
              " I am sorry to say that Peter was not very well during the evening.\n",
              " ,\n",
              " His mother put him to bed, and made some camomile tea; and she gave a\n",
              " dose of it to Peter!\n",
              " ,\n",
              " 'One table-spoonful to be taken at bed-time.,\n",
              " '\n",
              " ,\n",
              " But Flopsy, Mopsy, and Cotton-tail had bread and milk and\n",
              " blackberries for supper.\n",
              " ,\n",
              " THE END]"
            ]
          },
          "metadata": {},
          "execution_count": 6
        }
      ]
    },
    {
      "cell_type": "code",
      "source": [
        "#Extract the third sentence\n",
        "for token in list(doc.sents)[2]:\n",
        "  print(f\"{token.text:{10}} {token.pos_:{12}} {token.tag_:{1}} {str(spacy.explain(token.tag_))}\")"
      ],
      "metadata": {
        "colab": {
          "base_uri": "https://localhost:8080/"
        },
        "id": "hpJuLn5Js3nc",
        "outputId": "9f002c5d-ee93-424a-d799-47721431ef6b"
      },
      "execution_count": 14,
      "outputs": [
        {
          "output_type": "stream",
          "name": "stdout",
          "text": [
            "They       PRON         PRP pronoun, personal\n",
            "lived      VERB         VBD verb, past tense\n",
            "with       ADP          IN conjunction, subordinating or preposition\n",
            "their      PRON         PRP$ pronoun, possessive\n",
            "Mother     NOUN         NN noun, singular or mass\n",
            "in         ADP          IN conjunction, subordinating or preposition\n",
            "a          DET          DT determiner\n",
            "sand       NOUN         NN noun, singular or mass\n",
            "-          PUNCT        HYPH punctuation mark, hyphen\n",
            "bank       NOUN         NN noun, singular or mass\n",
            ",          PUNCT        , punctuation mark, comma\n",
            "underneath ADP          IN conjunction, subordinating or preposition\n",
            "the        DET          DT determiner\n",
            "root       NOUN         NN noun, singular or mass\n",
            "of         ADP          IN conjunction, subordinating or preposition\n",
            "a          DET          DT determiner\n",
            "\n",
            "          SPACE        _SP whitespace\n",
            "very       ADV          RB adverb\n",
            "big        ADJ          JJ adjective (English), other noun-modifier (Chinese)\n",
            "fir        NOUN         NN noun, singular or mass\n",
            "-          PUNCT        HYPH punctuation mark, hyphen\n",
            "tree       NOUN         NN noun, singular or mass\n",
            ".          PUNCT        . punctuation mark, sentence closer\n",
            "\n",
            "\n",
            "         SPACE        _SP whitespace\n"
          ]
        }
      ]
    },
    {
      "cell_type": "code",
      "source": [
        "POS_counts = doc.count_by(spacy.attrs.POS)\n",
        "POS_counts"
      ],
      "metadata": {
        "colab": {
          "base_uri": "https://localhost:8080/"
        },
        "id": "1D1LimIouB3A",
        "outputId": "b4fbff9e-b386-4cce-9f1d-2cc05f031bf1"
      },
      "execution_count": 17,
      "outputs": [
        {
          "output_type": "execute_result",
          "data": {
            "text/plain": [
              "{90: 90,\n",
              " 96: 74,\n",
              " 85: 125,\n",
              " 97: 171,\n",
              " 93: 9,\n",
              " 103: 99,\n",
              " 86: 63,\n",
              " 98: 19,\n",
              " 92: 172,\n",
              " 95: 110,\n",
              " 100: 135,\n",
              " 84: 53,\n",
              " 89: 61,\n",
              " 87: 49,\n",
              " 94: 28}"
            ]
          },
          "metadata": {},
          "execution_count": 17
        }
      ]
    },
    {
      "cell_type": "code",
      "source": [
        "POS_counts.items()"
      ],
      "metadata": {
        "colab": {
          "base_uri": "https://localhost:8080/"
        },
        "id": "-mM-tV8VvF4N",
        "outputId": "93847516-7585-4910-c60c-e3826d5a562c"
      },
      "execution_count": 18,
      "outputs": [
        {
          "output_type": "execute_result",
          "data": {
            "text/plain": [
              "dict_items([(90, 90), (96, 74), (85, 125), (97, 171), (93, 9), (103, 99), (86, 63), (98, 19), (92, 172), (95, 110), (100, 135), (84, 53), (89, 61), (87, 49), (94, 28)])"
            ]
          },
          "metadata": {},
          "execution_count": 18
        }
      ]
    },
    {
      "cell_type": "code",
      "source": [
        "for k,v in sorted(POS_counts.items()):\n",
        "  print(f\"{k:{3}} {nlp.vocab[k].text:{8}} {v} counts\")"
      ],
      "metadata": {
        "colab": {
          "base_uri": "https://localhost:8080/"
        },
        "id": "UUJ675-_u49J",
        "outputId": "e2704a76-7c89-4645-8535-71ff5af7ef9e"
      },
      "execution_count": 21,
      "outputs": [
        {
          "output_type": "stream",
          "name": "stdout",
          "text": [
            " 84 ADJ      53 counts\n",
            " 85 ADP      125 counts\n",
            " 86 ADV      63 counts\n",
            " 87 AUX      49 counts\n",
            " 89 CCONJ    61 counts\n",
            " 90 DET      90 counts\n",
            " 92 NOUN     172 counts\n",
            " 93 NUM      9 counts\n",
            " 94 PART     28 counts\n",
            " 95 PRON     110 counts\n",
            " 96 PROPN    74 counts\n",
            " 97 PUNCT    171 counts\n",
            " 98 SCONJ    19 counts\n",
            "100 VERB     135 counts\n",
            "103 SPACE    99 counts\n"
          ]
        }
      ]
    },
    {
      "cell_type": "code",
      "source": [
        "len(doc)"
      ],
      "metadata": {
        "colab": {
          "base_uri": "https://localhost:8080/"
        },
        "id": "fn-acUtLvlCJ",
        "outputId": "85a06a2d-147b-4136-eeb1-69e4678d9d1d"
      },
      "execution_count": 22,
      "outputs": [
        {
          "output_type": "execute_result",
          "data": {
            "text/plain": [
              "1258"
            ]
          },
          "metadata": {},
          "execution_count": 22
        }
      ]
    },
    {
      "cell_type": "code",
      "source": [
        "#92 - Numerical index for NOUN\n",
        "#173 total number of NOUN\n",
        "POS_counts[92]"
      ],
      "metadata": {
        "colab": {
          "base_uri": "https://localhost:8080/"
        },
        "id": "FQh4TWZhv9lY",
        "outputId": "f21c4234-2187-4063-fc8f-3940b3d4ae3f"
      },
      "execution_count": 25,
      "outputs": [
        {
          "output_type": "execute_result",
          "data": {
            "text/plain": [
              "172"
            ]
          },
          "metadata": {},
          "execution_count": 25
        }
      ]
    },
    {
      "cell_type": "code",
      "source": [
        "percentage_of_noun = POS_counts[92]/len(doc) * 100\n",
        "print(round(percentage_of_noun,2),'%')"
      ],
      "metadata": {
        "colab": {
          "base_uri": "https://localhost:8080/"
        },
        "id": "jwSbbvWwwDJX",
        "outputId": "67677b64-10d0-40e4-bc8b-7037c7dbfaf1"
      },
      "execution_count": 27,
      "outputs": [
        {
          "output_type": "stream",
          "name": "stdout",
          "text": [
            "13.67 %\n"
          ]
        }
      ]
    },
    {
      "cell_type": "code",
      "source": [
        "displacy.render(list(doc.sents)[2],style = 'dep',jupyter = True)"
      ],
      "metadata": {
        "colab": {
          "base_uri": "https://localhost:8080/",
          "height": 616
        },
        "id": "4Pz1cG6rwjDk",
        "outputId": "a6a72bef-0f34-4ebc-b900-b9311f9e8928"
      },
      "execution_count": 28,
      "outputs": [
        {
          "output_type": "display_data",
          "data": {
            "text/plain": [
              "<IPython.core.display.HTML object>"
            ],
            "text/html": [
              "<span class=\"tex2jax_ignore\"><svg xmlns=\"http://www.w3.org/2000/svg\" xmlns:xlink=\"http://www.w3.org/1999/xlink\" xml:lang=\"en\" id=\"0fc201a6e89b4747946622a977160503-0\" class=\"displacy\" width=\"3550\" height=\"574.5\" direction=\"ltr\" style=\"max-width: none; height: 574.5px; color: #000000; background: #ffffff; font-family: Arial; direction: ltr\">\n",
              "<text class=\"displacy-token\" fill=\"currentColor\" text-anchor=\"middle\" y=\"484.5\">\n",
              "    <tspan class=\"displacy-word\" fill=\"currentColor\" x=\"50\">They</tspan>\n",
              "    <tspan class=\"displacy-tag\" dy=\"2em\" fill=\"currentColor\" x=\"50\">PRON</tspan>\n",
              "</text>\n",
              "\n",
              "<text class=\"displacy-token\" fill=\"currentColor\" text-anchor=\"middle\" y=\"484.5\">\n",
              "    <tspan class=\"displacy-word\" fill=\"currentColor\" x=\"225\">lived</tspan>\n",
              "    <tspan class=\"displacy-tag\" dy=\"2em\" fill=\"currentColor\" x=\"225\">VERB</tspan>\n",
              "</text>\n",
              "\n",
              "<text class=\"displacy-token\" fill=\"currentColor\" text-anchor=\"middle\" y=\"484.5\">\n",
              "    <tspan class=\"displacy-word\" fill=\"currentColor\" x=\"400\">with</tspan>\n",
              "    <tspan class=\"displacy-tag\" dy=\"2em\" fill=\"currentColor\" x=\"400\">ADP</tspan>\n",
              "</text>\n",
              "\n",
              "<text class=\"displacy-token\" fill=\"currentColor\" text-anchor=\"middle\" y=\"484.5\">\n",
              "    <tspan class=\"displacy-word\" fill=\"currentColor\" x=\"575\">their</tspan>\n",
              "    <tspan class=\"displacy-tag\" dy=\"2em\" fill=\"currentColor\" x=\"575\">PRON</tspan>\n",
              "</text>\n",
              "\n",
              "<text class=\"displacy-token\" fill=\"currentColor\" text-anchor=\"middle\" y=\"484.5\">\n",
              "    <tspan class=\"displacy-word\" fill=\"currentColor\" x=\"750\">Mother</tspan>\n",
              "    <tspan class=\"displacy-tag\" dy=\"2em\" fill=\"currentColor\" x=\"750\">NOUN</tspan>\n",
              "</text>\n",
              "\n",
              "<text class=\"displacy-token\" fill=\"currentColor\" text-anchor=\"middle\" y=\"484.5\">\n",
              "    <tspan class=\"displacy-word\" fill=\"currentColor\" x=\"925\">in</tspan>\n",
              "    <tspan class=\"displacy-tag\" dy=\"2em\" fill=\"currentColor\" x=\"925\">ADP</tspan>\n",
              "</text>\n",
              "\n",
              "<text class=\"displacy-token\" fill=\"currentColor\" text-anchor=\"middle\" y=\"484.5\">\n",
              "    <tspan class=\"displacy-word\" fill=\"currentColor\" x=\"1100\">a</tspan>\n",
              "    <tspan class=\"displacy-tag\" dy=\"2em\" fill=\"currentColor\" x=\"1100\">DET</tspan>\n",
              "</text>\n",
              "\n",
              "<text class=\"displacy-token\" fill=\"currentColor\" text-anchor=\"middle\" y=\"484.5\">\n",
              "    <tspan class=\"displacy-word\" fill=\"currentColor\" x=\"1275\">sand-</tspan>\n",
              "    <tspan class=\"displacy-tag\" dy=\"2em\" fill=\"currentColor\" x=\"1275\">NOUN</tspan>\n",
              "</text>\n",
              "\n",
              "<text class=\"displacy-token\" fill=\"currentColor\" text-anchor=\"middle\" y=\"484.5\">\n",
              "    <tspan class=\"displacy-word\" fill=\"currentColor\" x=\"1450\">bank,</tspan>\n",
              "    <tspan class=\"displacy-tag\" dy=\"2em\" fill=\"currentColor\" x=\"1450\">NOUN</tspan>\n",
              "</text>\n",
              "\n",
              "<text class=\"displacy-token\" fill=\"currentColor\" text-anchor=\"middle\" y=\"484.5\">\n",
              "    <tspan class=\"displacy-word\" fill=\"currentColor\" x=\"1625\">underneath</tspan>\n",
              "    <tspan class=\"displacy-tag\" dy=\"2em\" fill=\"currentColor\" x=\"1625\">ADP</tspan>\n",
              "</text>\n",
              "\n",
              "<text class=\"displacy-token\" fill=\"currentColor\" text-anchor=\"middle\" y=\"484.5\">\n",
              "    <tspan class=\"displacy-word\" fill=\"currentColor\" x=\"1800\">the</tspan>\n",
              "    <tspan class=\"displacy-tag\" dy=\"2em\" fill=\"currentColor\" x=\"1800\">DET</tspan>\n",
              "</text>\n",
              "\n",
              "<text class=\"displacy-token\" fill=\"currentColor\" text-anchor=\"middle\" y=\"484.5\">\n",
              "    <tspan class=\"displacy-word\" fill=\"currentColor\" x=\"1975\">root</tspan>\n",
              "    <tspan class=\"displacy-tag\" dy=\"2em\" fill=\"currentColor\" x=\"1975\">NOUN</tspan>\n",
              "</text>\n",
              "\n",
              "<text class=\"displacy-token\" fill=\"currentColor\" text-anchor=\"middle\" y=\"484.5\">\n",
              "    <tspan class=\"displacy-word\" fill=\"currentColor\" x=\"2150\">of</tspan>\n",
              "    <tspan class=\"displacy-tag\" dy=\"2em\" fill=\"currentColor\" x=\"2150\">ADP</tspan>\n",
              "</text>\n",
              "\n",
              "<text class=\"displacy-token\" fill=\"currentColor\" text-anchor=\"middle\" y=\"484.5\">\n",
              "    <tspan class=\"displacy-word\" fill=\"currentColor\" x=\"2325\">a</tspan>\n",
              "    <tspan class=\"displacy-tag\" dy=\"2em\" fill=\"currentColor\" x=\"2325\">DET</tspan>\n",
              "</text>\n",
              "\n",
              "<text class=\"displacy-token\" fill=\"currentColor\" text-anchor=\"middle\" y=\"484.5\">\n",
              "    <tspan class=\"displacy-word\" fill=\"currentColor\" x=\"2500\">\n",
              "</tspan>\n",
              "    <tspan class=\"displacy-tag\" dy=\"2em\" fill=\"currentColor\" x=\"2500\">SPACE</tspan>\n",
              "</text>\n",
              "\n",
              "<text class=\"displacy-token\" fill=\"currentColor\" text-anchor=\"middle\" y=\"484.5\">\n",
              "    <tspan class=\"displacy-word\" fill=\"currentColor\" x=\"2675\">very</tspan>\n",
              "    <tspan class=\"displacy-tag\" dy=\"2em\" fill=\"currentColor\" x=\"2675\">ADV</tspan>\n",
              "</text>\n",
              "\n",
              "<text class=\"displacy-token\" fill=\"currentColor\" text-anchor=\"middle\" y=\"484.5\">\n",
              "    <tspan class=\"displacy-word\" fill=\"currentColor\" x=\"2850\">big</tspan>\n",
              "    <tspan class=\"displacy-tag\" dy=\"2em\" fill=\"currentColor\" x=\"2850\">ADJ</tspan>\n",
              "</text>\n",
              "\n",
              "<text class=\"displacy-token\" fill=\"currentColor\" text-anchor=\"middle\" y=\"484.5\">\n",
              "    <tspan class=\"displacy-word\" fill=\"currentColor\" x=\"3025\">fir-</tspan>\n",
              "    <tspan class=\"displacy-tag\" dy=\"2em\" fill=\"currentColor\" x=\"3025\">NOUN</tspan>\n",
              "</text>\n",
              "\n",
              "<text class=\"displacy-token\" fill=\"currentColor\" text-anchor=\"middle\" y=\"484.5\">\n",
              "    <tspan class=\"displacy-word\" fill=\"currentColor\" x=\"3200\">tree.</tspan>\n",
              "    <tspan class=\"displacy-tag\" dy=\"2em\" fill=\"currentColor\" x=\"3200\">PUNCT</tspan>\n",
              "</text>\n",
              "\n",
              "<text class=\"displacy-token\" fill=\"currentColor\" text-anchor=\"middle\" y=\"484.5\">\n",
              "    <tspan class=\"displacy-word\" fill=\"currentColor\" x=\"3375\">\n",
              "\n",
              "</tspan>\n",
              "    <tspan class=\"displacy-tag\" dy=\"2em\" fill=\"currentColor\" x=\"3375\">SPACE</tspan>\n",
              "</text>\n",
              "\n",
              "<g class=\"displacy-arrow\">\n",
              "    <path class=\"displacy-arc\" id=\"arrow-0fc201a6e89b4747946622a977160503-0-0\" stroke-width=\"2px\" d=\"M70,439.5 C70,352.0 205.0,352.0 205.0,439.5\" fill=\"none\" stroke=\"currentColor\"/>\n",
              "    <text dy=\"1.25em\" style=\"font-size: 0.8em; letter-spacing: 1px\">\n",
              "        <textPath xlink:href=\"#arrow-0fc201a6e89b4747946622a977160503-0-0\" class=\"displacy-label\" startOffset=\"50%\" side=\"left\" fill=\"currentColor\" text-anchor=\"middle\">nsubj</textPath>\n",
              "    </text>\n",
              "    <path class=\"displacy-arrowhead\" d=\"M70,441.5 L62,429.5 78,429.5\" fill=\"currentColor\"/>\n",
              "</g>\n",
              "\n",
              "<g class=\"displacy-arrow\">\n",
              "    <path class=\"displacy-arc\" id=\"arrow-0fc201a6e89b4747946622a977160503-0-1\" stroke-width=\"2px\" d=\"M245,439.5 C245,352.0 380.0,352.0 380.0,439.5\" fill=\"none\" stroke=\"currentColor\"/>\n",
              "    <text dy=\"1.25em\" style=\"font-size: 0.8em; letter-spacing: 1px\">\n",
              "        <textPath xlink:href=\"#arrow-0fc201a6e89b4747946622a977160503-0-1\" class=\"displacy-label\" startOffset=\"50%\" side=\"left\" fill=\"currentColor\" text-anchor=\"middle\">prep</textPath>\n",
              "    </text>\n",
              "    <path class=\"displacy-arrowhead\" d=\"M380.0,441.5 L388.0,429.5 372.0,429.5\" fill=\"currentColor\"/>\n",
              "</g>\n",
              "\n",
              "<g class=\"displacy-arrow\">\n",
              "    <path class=\"displacy-arc\" id=\"arrow-0fc201a6e89b4747946622a977160503-0-2\" stroke-width=\"2px\" d=\"M595,439.5 C595,352.0 730.0,352.0 730.0,439.5\" fill=\"none\" stroke=\"currentColor\"/>\n",
              "    <text dy=\"1.25em\" style=\"font-size: 0.8em; letter-spacing: 1px\">\n",
              "        <textPath xlink:href=\"#arrow-0fc201a6e89b4747946622a977160503-0-2\" class=\"displacy-label\" startOffset=\"50%\" side=\"left\" fill=\"currentColor\" text-anchor=\"middle\">poss</textPath>\n",
              "    </text>\n",
              "    <path class=\"displacy-arrowhead\" d=\"M595,441.5 L587,429.5 603,429.5\" fill=\"currentColor\"/>\n",
              "</g>\n",
              "\n",
              "<g class=\"displacy-arrow\">\n",
              "    <path class=\"displacy-arc\" id=\"arrow-0fc201a6e89b4747946622a977160503-0-3\" stroke-width=\"2px\" d=\"M420,439.5 C420,264.5 735.0,264.5 735.0,439.5\" fill=\"none\" stroke=\"currentColor\"/>\n",
              "    <text dy=\"1.25em\" style=\"font-size: 0.8em; letter-spacing: 1px\">\n",
              "        <textPath xlink:href=\"#arrow-0fc201a6e89b4747946622a977160503-0-3\" class=\"displacy-label\" startOffset=\"50%\" side=\"left\" fill=\"currentColor\" text-anchor=\"middle\">pobj</textPath>\n",
              "    </text>\n",
              "    <path class=\"displacy-arrowhead\" d=\"M735.0,441.5 L743.0,429.5 727.0,429.5\" fill=\"currentColor\"/>\n",
              "</g>\n",
              "\n",
              "<g class=\"displacy-arrow\">\n",
              "    <path class=\"displacy-arc\" id=\"arrow-0fc201a6e89b4747946622a977160503-0-4\" stroke-width=\"2px\" d=\"M245,439.5 C245,177.0 915.0,177.0 915.0,439.5\" fill=\"none\" stroke=\"currentColor\"/>\n",
              "    <text dy=\"1.25em\" style=\"font-size: 0.8em; letter-spacing: 1px\">\n",
              "        <textPath xlink:href=\"#arrow-0fc201a6e89b4747946622a977160503-0-4\" class=\"displacy-label\" startOffset=\"50%\" side=\"left\" fill=\"currentColor\" text-anchor=\"middle\">prep</textPath>\n",
              "    </text>\n",
              "    <path class=\"displacy-arrowhead\" d=\"M915.0,441.5 L923.0,429.5 907.0,429.5\" fill=\"currentColor\"/>\n",
              "</g>\n",
              "\n",
              "<g class=\"displacy-arrow\">\n",
              "    <path class=\"displacy-arc\" id=\"arrow-0fc201a6e89b4747946622a977160503-0-5\" stroke-width=\"2px\" d=\"M1120,439.5 C1120,264.5 1435.0,264.5 1435.0,439.5\" fill=\"none\" stroke=\"currentColor\"/>\n",
              "    <text dy=\"1.25em\" style=\"font-size: 0.8em; letter-spacing: 1px\">\n",
              "        <textPath xlink:href=\"#arrow-0fc201a6e89b4747946622a977160503-0-5\" class=\"displacy-label\" startOffset=\"50%\" side=\"left\" fill=\"currentColor\" text-anchor=\"middle\">det</textPath>\n",
              "    </text>\n",
              "    <path class=\"displacy-arrowhead\" d=\"M1120,441.5 L1112,429.5 1128,429.5\" fill=\"currentColor\"/>\n",
              "</g>\n",
              "\n",
              "<g class=\"displacy-arrow\">\n",
              "    <path class=\"displacy-arc\" id=\"arrow-0fc201a6e89b4747946622a977160503-0-6\" stroke-width=\"2px\" d=\"M1295,439.5 C1295,352.0 1430.0,352.0 1430.0,439.5\" fill=\"none\" stroke=\"currentColor\"/>\n",
              "    <text dy=\"1.25em\" style=\"font-size: 0.8em; letter-spacing: 1px\">\n",
              "        <textPath xlink:href=\"#arrow-0fc201a6e89b4747946622a977160503-0-6\" class=\"displacy-label\" startOffset=\"50%\" side=\"left\" fill=\"currentColor\" text-anchor=\"middle\">compound</textPath>\n",
              "    </text>\n",
              "    <path class=\"displacy-arrowhead\" d=\"M1295,441.5 L1287,429.5 1303,429.5\" fill=\"currentColor\"/>\n",
              "</g>\n",
              "\n",
              "<g class=\"displacy-arrow\">\n",
              "    <path class=\"displacy-arc\" id=\"arrow-0fc201a6e89b4747946622a977160503-0-7\" stroke-width=\"2px\" d=\"M945,439.5 C945,177.0 1440.0,177.0 1440.0,439.5\" fill=\"none\" stroke=\"currentColor\"/>\n",
              "    <text dy=\"1.25em\" style=\"font-size: 0.8em; letter-spacing: 1px\">\n",
              "        <textPath xlink:href=\"#arrow-0fc201a6e89b4747946622a977160503-0-7\" class=\"displacy-label\" startOffset=\"50%\" side=\"left\" fill=\"currentColor\" text-anchor=\"middle\">pobj</textPath>\n",
              "    </text>\n",
              "    <path class=\"displacy-arrowhead\" d=\"M1440.0,441.5 L1448.0,429.5 1432.0,429.5\" fill=\"currentColor\"/>\n",
              "</g>\n",
              "\n",
              "<g class=\"displacy-arrow\">\n",
              "    <path class=\"displacy-arc\" id=\"arrow-0fc201a6e89b4747946622a977160503-0-8\" stroke-width=\"2px\" d=\"M245,439.5 C245,89.5 1620.0,89.5 1620.0,439.5\" fill=\"none\" stroke=\"currentColor\"/>\n",
              "    <text dy=\"1.25em\" style=\"font-size: 0.8em; letter-spacing: 1px\">\n",
              "        <textPath xlink:href=\"#arrow-0fc201a6e89b4747946622a977160503-0-8\" class=\"displacy-label\" startOffset=\"50%\" side=\"left\" fill=\"currentColor\" text-anchor=\"middle\">prep</textPath>\n",
              "    </text>\n",
              "    <path class=\"displacy-arrowhead\" d=\"M1620.0,441.5 L1628.0,429.5 1612.0,429.5\" fill=\"currentColor\"/>\n",
              "</g>\n",
              "\n",
              "<g class=\"displacy-arrow\">\n",
              "    <path class=\"displacy-arc\" id=\"arrow-0fc201a6e89b4747946622a977160503-0-9\" stroke-width=\"2px\" d=\"M1820,439.5 C1820,352.0 1955.0,352.0 1955.0,439.5\" fill=\"none\" stroke=\"currentColor\"/>\n",
              "    <text dy=\"1.25em\" style=\"font-size: 0.8em; letter-spacing: 1px\">\n",
              "        <textPath xlink:href=\"#arrow-0fc201a6e89b4747946622a977160503-0-9\" class=\"displacy-label\" startOffset=\"50%\" side=\"left\" fill=\"currentColor\" text-anchor=\"middle\">det</textPath>\n",
              "    </text>\n",
              "    <path class=\"displacy-arrowhead\" d=\"M1820,441.5 L1812,429.5 1828,429.5\" fill=\"currentColor\"/>\n",
              "</g>\n",
              "\n",
              "<g class=\"displacy-arrow\">\n",
              "    <path class=\"displacy-arc\" id=\"arrow-0fc201a6e89b4747946622a977160503-0-10\" stroke-width=\"2px\" d=\"M1645,439.5 C1645,264.5 1960.0,264.5 1960.0,439.5\" fill=\"none\" stroke=\"currentColor\"/>\n",
              "    <text dy=\"1.25em\" style=\"font-size: 0.8em; letter-spacing: 1px\">\n",
              "        <textPath xlink:href=\"#arrow-0fc201a6e89b4747946622a977160503-0-10\" class=\"displacy-label\" startOffset=\"50%\" side=\"left\" fill=\"currentColor\" text-anchor=\"middle\">pobj</textPath>\n",
              "    </text>\n",
              "    <path class=\"displacy-arrowhead\" d=\"M1960.0,441.5 L1968.0,429.5 1952.0,429.5\" fill=\"currentColor\"/>\n",
              "</g>\n",
              "\n",
              "<g class=\"displacy-arrow\">\n",
              "    <path class=\"displacy-arc\" id=\"arrow-0fc201a6e89b4747946622a977160503-0-11\" stroke-width=\"2px\" d=\"M1995,439.5 C1995,352.0 2130.0,352.0 2130.0,439.5\" fill=\"none\" stroke=\"currentColor\"/>\n",
              "    <text dy=\"1.25em\" style=\"font-size: 0.8em; letter-spacing: 1px\">\n",
              "        <textPath xlink:href=\"#arrow-0fc201a6e89b4747946622a977160503-0-11\" class=\"displacy-label\" startOffset=\"50%\" side=\"left\" fill=\"currentColor\" text-anchor=\"middle\">prep</textPath>\n",
              "    </text>\n",
              "    <path class=\"displacy-arrowhead\" d=\"M2130.0,441.5 L2138.0,429.5 2122.0,429.5\" fill=\"currentColor\"/>\n",
              "</g>\n",
              "\n",
              "<g class=\"displacy-arrow\">\n",
              "    <path class=\"displacy-arc\" id=\"arrow-0fc201a6e89b4747946622a977160503-0-12\" stroke-width=\"2px\" d=\"M2345,439.5 C2345,177.0 3190.0,177.0 3190.0,439.5\" fill=\"none\" stroke=\"currentColor\"/>\n",
              "    <text dy=\"1.25em\" style=\"font-size: 0.8em; letter-spacing: 1px\">\n",
              "        <textPath xlink:href=\"#arrow-0fc201a6e89b4747946622a977160503-0-12\" class=\"displacy-label\" startOffset=\"50%\" side=\"left\" fill=\"currentColor\" text-anchor=\"middle\">det</textPath>\n",
              "    </text>\n",
              "    <path class=\"displacy-arrowhead\" d=\"M2345,441.5 L2337,429.5 2353,429.5\" fill=\"currentColor\"/>\n",
              "</g>\n",
              "\n",
              "<g class=\"displacy-arrow\">\n",
              "    <path class=\"displacy-arc\" id=\"arrow-0fc201a6e89b4747946622a977160503-0-13\" stroke-width=\"2px\" d=\"M2345,439.5 C2345,352.0 2480.0,352.0 2480.0,439.5\" fill=\"none\" stroke=\"currentColor\"/>\n",
              "    <text dy=\"1.25em\" style=\"font-size: 0.8em; letter-spacing: 1px\">\n",
              "        <textPath xlink:href=\"#arrow-0fc201a6e89b4747946622a977160503-0-13\" class=\"displacy-label\" startOffset=\"50%\" side=\"left\" fill=\"currentColor\" text-anchor=\"middle\">dep</textPath>\n",
              "    </text>\n",
              "    <path class=\"displacy-arrowhead\" d=\"M2480.0,441.5 L2488.0,429.5 2472.0,429.5\" fill=\"currentColor\"/>\n",
              "</g>\n",
              "\n",
              "<g class=\"displacy-arrow\">\n",
              "    <path class=\"displacy-arc\" id=\"arrow-0fc201a6e89b4747946622a977160503-0-14\" stroke-width=\"2px\" d=\"M2695,439.5 C2695,352.0 2830.0,352.0 2830.0,439.5\" fill=\"none\" stroke=\"currentColor\"/>\n",
              "    <text dy=\"1.25em\" style=\"font-size: 0.8em; letter-spacing: 1px\">\n",
              "        <textPath xlink:href=\"#arrow-0fc201a6e89b4747946622a977160503-0-14\" class=\"displacy-label\" startOffset=\"50%\" side=\"left\" fill=\"currentColor\" text-anchor=\"middle\">advmod</textPath>\n",
              "    </text>\n",
              "    <path class=\"displacy-arrowhead\" d=\"M2695,441.5 L2687,429.5 2703,429.5\" fill=\"currentColor\"/>\n",
              "</g>\n",
              "\n",
              "<g class=\"displacy-arrow\">\n",
              "    <path class=\"displacy-arc\" id=\"arrow-0fc201a6e89b4747946622a977160503-0-15\" stroke-width=\"2px\" d=\"M2870,439.5 C2870,264.5 3185.0,264.5 3185.0,439.5\" fill=\"none\" stroke=\"currentColor\"/>\n",
              "    <text dy=\"1.25em\" style=\"font-size: 0.8em; letter-spacing: 1px\">\n",
              "        <textPath xlink:href=\"#arrow-0fc201a6e89b4747946622a977160503-0-15\" class=\"displacy-label\" startOffset=\"50%\" side=\"left\" fill=\"currentColor\" text-anchor=\"middle\">amod</textPath>\n",
              "    </text>\n",
              "    <path class=\"displacy-arrowhead\" d=\"M2870,441.5 L2862,429.5 2878,429.5\" fill=\"currentColor\"/>\n",
              "</g>\n",
              "\n",
              "<g class=\"displacy-arrow\">\n",
              "    <path class=\"displacy-arc\" id=\"arrow-0fc201a6e89b4747946622a977160503-0-16\" stroke-width=\"2px\" d=\"M3045,439.5 C3045,352.0 3180.0,352.0 3180.0,439.5\" fill=\"none\" stroke=\"currentColor\"/>\n",
              "    <text dy=\"1.25em\" style=\"font-size: 0.8em; letter-spacing: 1px\">\n",
              "        <textPath xlink:href=\"#arrow-0fc201a6e89b4747946622a977160503-0-16\" class=\"displacy-label\" startOffset=\"50%\" side=\"left\" fill=\"currentColor\" text-anchor=\"middle\">compound</textPath>\n",
              "    </text>\n",
              "    <path class=\"displacy-arrowhead\" d=\"M3045,441.5 L3037,429.5 3053,429.5\" fill=\"currentColor\"/>\n",
              "</g>\n",
              "\n",
              "<g class=\"displacy-arrow\">\n",
              "    <path class=\"displacy-arc\" id=\"arrow-0fc201a6e89b4747946622a977160503-0-17\" stroke-width=\"2px\" d=\"M245,439.5 C245,2.0 3200.0,2.0 3200.0,439.5\" fill=\"none\" stroke=\"currentColor\"/>\n",
              "    <text dy=\"1.25em\" style=\"font-size: 0.8em; letter-spacing: 1px\">\n",
              "        <textPath xlink:href=\"#arrow-0fc201a6e89b4747946622a977160503-0-17\" class=\"displacy-label\" startOffset=\"50%\" side=\"left\" fill=\"currentColor\" text-anchor=\"middle\">punct</textPath>\n",
              "    </text>\n",
              "    <path class=\"displacy-arrowhead\" d=\"M3200.0,441.5 L3208.0,429.5 3192.0,429.5\" fill=\"currentColor\"/>\n",
              "</g>\n",
              "\n",
              "<g class=\"displacy-arrow\">\n",
              "    <path class=\"displacy-arc\" id=\"arrow-0fc201a6e89b4747946622a977160503-0-18\" stroke-width=\"2px\" d=\"M3220,439.5 C3220,352.0 3355.0,352.0 3355.0,439.5\" fill=\"none\" stroke=\"currentColor\"/>\n",
              "    <text dy=\"1.25em\" style=\"font-size: 0.8em; letter-spacing: 1px\">\n",
              "        <textPath xlink:href=\"#arrow-0fc201a6e89b4747946622a977160503-0-18\" class=\"displacy-label\" startOffset=\"50%\" side=\"left\" fill=\"currentColor\" text-anchor=\"middle\">dep</textPath>\n",
              "    </text>\n",
              "    <path class=\"displacy-arrowhead\" d=\"M3355.0,441.5 L3363.0,429.5 3347.0,429.5\" fill=\"currentColor\"/>\n",
              "</g>\n",
              "</svg></span>"
            ]
          },
          "metadata": {}
        }
      ]
    },
    {
      "cell_type": "code",
      "source": [
        "doc.ents"
      ],
      "metadata": {
        "colab": {
          "base_uri": "https://localhost:8080/"
        },
        "id": "WDsuBU7ywzIE",
        "outputId": "35af19d1-529f-4c92-fcd6-3d922bc3828f"
      },
      "execution_count": 29,
      "outputs": [
        {
          "output_type": "execute_result",
          "data": {
            "text/plain": [
              "(The Tale of Peter Rabbit,\n",
              " Beatrix Potter,\n",
              " 1902,\n",
              " four,\n",
              " were--\n",
              " \n",
              "           Flopsy,\n",
              " Mopsy,\n",
              " Cotton,\n",
              " Peter,\n",
              " one morning,\n",
              " McGregor,\n",
              " McGregor,\n",
              " Rabbit,\n",
              " five,\n",
              " Flopsy,\n",
              " Mopsy,\n",
              " Cottontail,\n",
              " Peter,\n",
              " McGregor,\n",
              " First,\n",
              " French,\n",
              " McGregor,\n",
              " McGregor,\n",
              " Peter,\n",
              " Peter,\n",
              " one,\n",
              " four,\n",
              " Peter,\n",
              " McGregor,\n",
              " Peter,\n",
              " Peter,\n",
              " McGregor,\n",
              " Peter,\n",
              " McGregor,\n",
              " Peter,\n",
              " three,\n",
              " McGregor,\n",
              " Peter,\n",
              " Peter,\n",
              " Peter,\n",
              " Peter,\n",
              " McGregor,\n",
              " Peter,\n",
              " Benjamin Bunny,\n",
              " Peter,\n",
              " McGregor,\n",
              " Peter,\n",
              " Peter,\n",
              " McGregor,\n",
              " Peter,\n",
              " McGregor,\n",
              " Peter,\n",
              " second,\n",
              " Peter,\n",
              " Peter,\n",
              " Peter,\n",
              " One,\n",
              " Flopsy,\n",
              " Mopsy,\n",
              " Cotton,\n",
              " END)"
            ]
          },
          "metadata": {},
          "execution_count": 29
        }
      ]
    },
    {
      "cell_type": "code",
      "source": [
        "doc.ents[:2]"
      ],
      "metadata": {
        "colab": {
          "base_uri": "https://localhost:8080/"
        },
        "id": "MaWsVJ_Jw6jf",
        "outputId": "ca50015b-b80c-415c-afc5-a2b2005253e1"
      },
      "execution_count": 30,
      "outputs": [
        {
          "output_type": "execute_result",
          "data": {
            "text/plain": [
              "(The Tale of Peter Rabbit, Beatrix Potter)"
            ]
          },
          "metadata": {},
          "execution_count": 30
        }
      ]
    },
    {
      "cell_type": "code",
      "source": [
        "for ent in doc.ents[:2]:\n",
        "  print(f\"{ent.text:{25}} {ent.label_:{15}} {spacy.explain(ent.label_)}\")"
      ],
      "metadata": {
        "colab": {
          "base_uri": "https://localhost:8080/"
        },
        "id": "U7ceZCRAw_Ic",
        "outputId": "31ecee7b-b063-46b3-dce1-641e205203ed"
      },
      "execution_count": 35,
      "outputs": [
        {
          "output_type": "stream",
          "name": "stdout",
          "text": [
            "The Tale of Peter Rabbit  WORK_OF_ART     Titles of books, songs, etc.\n",
            "Beatrix Potter            PERSON          People, including fictional\n"
          ]
        }
      ]
    },
    {
      "cell_type": "code",
      "source": [
        "len(list(doc.sents))"
      ],
      "metadata": {
        "colab": {
          "base_uri": "https://localhost:8080/"
        },
        "id": "yBvB_dI4xZon",
        "outputId": "128fab4d-49ef-4234-a216-4f67b6f6c6d3"
      },
      "execution_count": 37,
      "outputs": [
        {
          "output_type": "execute_result",
          "data": {
            "text/plain": [
              "55"
            ]
          },
          "metadata": {},
          "execution_count": 37
        }
      ]
    },
    {
      "cell_type": "code",
      "source": [
        "list_of_sents = [nlp(sent.text) for sent in doc.sents]\n",
        "list_of_ners = [doc for doc in list_of_sents if doc.ents]\n",
        "list_of_ners"
      ],
      "metadata": {
        "colab": {
          "base_uri": "https://localhost:8080/"
        },
        "id": "IylyiHy4xvpl",
        "outputId": "2d190671-a59e-4298-d943-4b45c2397aae"
      },
      "execution_count": 40,
      "outputs": [
        {
          "output_type": "execute_result",
          "data": {
            "text/plain": [
              "[The Tale of Peter Rabbit, by Beatrix Potter (1902).\n",
              " ,\n",
              " Once upon a time there were four little Rabbits, and their names\n",
              " were--\n",
              " \n",
              "           Flopsy,\n",
              "        Mopsy,\n",
              "    Cotton-tail,\n",
              " and Peter.\n",
              " ,\n",
              " 'Now my dears,' said old Mrs. Rabbit one morning, 'you may go into\n",
              " the fields or down the lane, but don't go into Mr. McGregor's garden:\n",
              " your Father had an accident there; he was put in a pie by Mrs.\n",
              " McGregor.'\n",
              " \n",
              " 'Now run along, and don't get into mischief.,\n",
              " Then old Mrs. Rabbit took a basket and her umbrella, and went through\n",
              " the wood to the baker's.,\n",
              " She bought a loaf of brown bread and five\n",
              " currant buns.\n",
              " ,\n",
              " Flopsy, Mopsy, and Cottontail, who were good little bunnies, went\n",
              " down the lane to gather blackberries:\n",
              " \n",
              " But Peter, who was very naughty, ran straight away to Mr. McGregor's\n",
              " garden, and squeezed under the gate!\n",
              " ,\n",
              " First he ate some lettuces and some French beans; and then he ate\n",
              " some radishes;\n",
              " \n",
              " And then, feeling rather sick, he went to look for some parsley.\n",
              " ,\n",
              " But round the end of a cucumber frame, whom should he meet but Mr.\n",
              " McGregor!\n",
              " \n",
              " Mr. McGregor was on his hands and knees planting out young cabbages,\n",
              " but he jumped up and ran after Peter, waving a rake and calling out,\n",
              " 'Stop thief!'\n",
              " ,\n",
              " Peter was most dreadfully frightened; he rushed all over the garden,\n",
              " for he had forgotten the way back to the gate.\n",
              " ,\n",
              " He lost one of his shoes among the cabbages, and the other shoe\n",
              " amongst the potatoes.\n",
              " ,\n",
              " After losing them, he ran on four legs and went faster, so that I\n",
              " think he might have got away altogether if he had not unfortunately\n",
              " run into a gooseberry net, and got caught by the large buttons on his\n",
              " jacket.,\n",
              " Peter gave himself up for lost, and shed big tears; but his sobs were\n",
              " overheard by some friendly sparrows, who flew to him in great\n",
              " excitement, and implored him to exert himself.\n",
              " ,\n",
              " Mr. McGregor came up with a sieve, which he intended to pop upon the\n",
              " top of Peter; but Peter wriggled out just in time, leaving his jacket\n",
              " behind him.\n",
              " \n",
              " And rushed into the tool-shed, and jumped into a can.,\n",
              " Mr. McGregor was quite sure that Peter was somewhere in the\n",
              " tool-shed, perhaps hidden underneath a flower-pot.,\n",
              " Presently Peter sneezed--'Kertyschoo!',\n",
              " Mr. McGregor was after him in\n",
              " no time.\n",
              " ,\n",
              " And tried to put his foot upon Peter, who jumped out of a window,\n",
              " upsetting three plants.,\n",
              " The window was too small for Mr. McGregor, and\n",
              " he was tired of running after Peter.,\n",
              " Peter sat down to rest; he was out of breath and trembling with\n",
              " fright, and he had not the least idea which way to go.,\n",
              " Peter asked her the way to\n",
              " the gate, but she had such a large pea in her mouth that she could not\n",
              " answer.,\n",
              " Peter began to cry.\n",
              " ,\n",
              " Presently, he came to a pond where Mr.\n",
              " McGregor filled his water-cans.,\n",
              " Peter thought it best to go away\n",
              " without speaking to her; he had heard about cats from his cousin,\n",
              " little Benjamin Bunny.\n",
              " ,\n",
              " Peter scuttered underneath the bushes.,\n",
              " The first thing he saw was Mr. McGregor hoeing onions.,\n",
              " His back was\n",
              " turned towards Peter, and beyond him was the gate!\n",
              " ,\n",
              " Peter got down very quietly off the wheelbarrow; and started running\n",
              " as fast as he could go, along a straight walk behind some\n",
              " black-currant bushes.\n",
              " ,\n",
              " Mr. McGregor caught sight of him at the corner, but Peter did not\n",
              " care.,\n",
              " Mr. McGregor hung up the little jacket and the shoes for a scare-crow\n",
              " to frighten the blackbirds.\n",
              " ,\n",
              " Peter never stopped running or looked behind him till he got home to\n",
              " the big fir-tree.\n",
              " ,\n",
              " It was the\n",
              " second little jacket and pair of shoes that Peter had lost in a\n",
              " fortnight!\n",
              " ,\n",
              " I am sorry to say that Peter was not very well during the evening.\n",
              " ,\n",
              " His mother put him to bed, and made some camomile tea; and she gave a\n",
              " dose of it to Peter!\n",
              " ,\n",
              " 'One table-spoonful to be taken at bed-time.,\n",
              " But Flopsy, Mopsy, and Cotton-tail had bread and milk and\n",
              " blackberries for supper.\n",
              " ,\n",
              " THE END]"
            ]
          },
          "metadata": {},
          "execution_count": 40
        }
      ]
    },
    {
      "cell_type": "code",
      "source": [
        "len(list_of_ners)"
      ],
      "metadata": {
        "colab": {
          "base_uri": "https://localhost:8080/"
        },
        "id": "XnJnsU5Cy564",
        "outputId": "639b1336-e8f2-4d57-91af-ef202021c5a4"
      },
      "execution_count": 41,
      "outputs": [
        {
          "output_type": "execute_result",
          "data": {
            "text/plain": [
              "36"
            ]
          },
          "metadata": {},
          "execution_count": 41
        }
      ]
    },
    {
      "cell_type": "code",
      "source": [
        "displacy.render(list_of_sents[0],style = 'ent',jupyter = True)"
      ],
      "metadata": {
        "colab": {
          "base_uri": "https://localhost:8080/",
          "height": 87
        },
        "id": "_DQgY3ECy824",
        "outputId": "cfd21648-ad37-41a9-b14f-017a6bfe17d9"
      },
      "execution_count": 42,
      "outputs": [
        {
          "output_type": "display_data",
          "data": {
            "text/plain": [
              "<IPython.core.display.HTML object>"
            ],
            "text/html": [
              "<span class=\"tex2jax_ignore\"><div class=\"entities\" style=\"line-height: 2.5; direction: ltr\">\n",
              "<mark class=\"entity\" style=\"background: #f0d0ff; padding: 0.45em 0.6em; margin: 0 0.25em; line-height: 1; border-radius: 0.35em;\">\n",
              "    The Tale of Peter Rabbit\n",
              "    <span style=\"font-size: 0.8em; font-weight: bold; line-height: 1; border-radius: 0.35em; vertical-align: middle; margin-left: 0.5rem\">WORK_OF_ART</span>\n",
              "</mark>\n",
              ", by \n",
              "<mark class=\"entity\" style=\"background: #aa9cfc; padding: 0.45em 0.6em; margin: 0 0.25em; line-height: 1; border-radius: 0.35em;\">\n",
              "    Beatrix Potter\n",
              "    <span style=\"font-size: 0.8em; font-weight: bold; line-height: 1; border-radius: 0.35em; vertical-align: middle; margin-left: 0.5rem\">PERSON</span>\n",
              "</mark>\n",
              " (\n",
              "<mark class=\"entity\" style=\"background: #bfe1d9; padding: 0.45em 0.6em; margin: 0 0.25em; line-height: 1; border-radius: 0.35em;\">\n",
              "    1902\n",
              "    <span style=\"font-size: 0.8em; font-weight: bold; line-height: 1; border-radius: 0.35em; vertical-align: middle; margin-left: 0.5rem\">DATE</span>\n",
              "</mark>\n",
              ").<br><br></div></span>"
            ]
          },
          "metadata": {}
        }
      ]
    }
  ]
}