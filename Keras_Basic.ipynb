{
  "nbformat": 4,
  "nbformat_minor": 0,
  "metadata": {
    "colab": {
      "provenance": [],
      "authorship_tag": "ABX9TyN8TpYvVTdoMIRqyEGCp2Un",
      "include_colab_link": true
    },
    "kernelspec": {
      "name": "python3",
      "display_name": "Python 3"
    },
    "language_info": {
      "name": "python"
    }
  },
  "cells": [
    {
      "cell_type": "markdown",
      "metadata": {
        "id": "view-in-github",
        "colab_type": "text"
      },
      "source": [
        "<a href=\"https://colab.research.google.com/github/yeesem/Natural-Laguage-Processing/blob/main/Keras_Basic.ipynb\" target=\"_parent\"><img src=\"https://colab.research.google.com/assets/colab-badge.svg\" alt=\"Open In Colab\"/></a>"
      ]
    },
    {
      "cell_type": "code",
      "execution_count": 1,
      "metadata": {
        "id": "C7BKBqeXieb8"
      },
      "outputs": [],
      "source": [
        "import numpy as np"
      ]
    },
    {
      "cell_type": "code",
      "source": [
        "from sklearn.datasets import load_iris"
      ],
      "metadata": {
        "id": "veVfq5-6irXb"
      },
      "execution_count": 2,
      "outputs": []
    },
    {
      "cell_type": "code",
      "source": [
        "iris = load_iris()"
      ],
      "metadata": {
        "id": "EkM_08Rsit9t"
      },
      "execution_count": 3,
      "outputs": []
    },
    {
      "cell_type": "code",
      "source": [
        "type(iris)"
      ],
      "metadata": {
        "colab": {
          "base_uri": "https://localhost:8080/"
        },
        "id": "s2YPcj2jiwjh",
        "outputId": "bd29c463-3131-4f03-e37a-b4af43e0b0a1"
      },
      "execution_count": 4,
      "outputs": [
        {
          "output_type": "execute_result",
          "data": {
            "text/plain": [
              "sklearn.utils._bunch.Bunch"
            ]
          },
          "metadata": {},
          "execution_count": 4
        }
      ]
    },
    {
      "cell_type": "code",
      "source": [
        "#Print the description of the dataset\n",
        "print(iris.DESCR)"
      ],
      "metadata": {
        "colab": {
          "base_uri": "https://localhost:8080/"
        },
        "id": "_gBTDIznizra",
        "outputId": "d5526fa7-608a-4eb2-9f0d-975c608f1768"
      },
      "execution_count": 5,
      "outputs": [
        {
          "output_type": "stream",
          "name": "stdout",
          "text": [
            ".. _iris_dataset:\n",
            "\n",
            "Iris plants dataset\n",
            "--------------------\n",
            "\n",
            "**Data Set Characteristics:**\n",
            "\n",
            "    :Number of Instances: 150 (50 in each of three classes)\n",
            "    :Number of Attributes: 4 numeric, predictive attributes and the class\n",
            "    :Attribute Information:\n",
            "        - sepal length in cm\n",
            "        - sepal width in cm\n",
            "        - petal length in cm\n",
            "        - petal width in cm\n",
            "        - class:\n",
            "                - Iris-Setosa\n",
            "                - Iris-Versicolour\n",
            "                - Iris-Virginica\n",
            "                \n",
            "    :Summary Statistics:\n",
            "\n",
            "    ============== ==== ==== ======= ===== ====================\n",
            "                    Min  Max   Mean    SD   Class Correlation\n",
            "    ============== ==== ==== ======= ===== ====================\n",
            "    sepal length:   4.3  7.9   5.84   0.83    0.7826\n",
            "    sepal width:    2.0  4.4   3.05   0.43   -0.4194\n",
            "    petal length:   1.0  6.9   3.76   1.76    0.9490  (high!)\n",
            "    petal width:    0.1  2.5   1.20   0.76    0.9565  (high!)\n",
            "    ============== ==== ==== ======= ===== ====================\n",
            "\n",
            "    :Missing Attribute Values: None\n",
            "    :Class Distribution: 33.3% for each of 3 classes.\n",
            "    :Creator: R.A. Fisher\n",
            "    :Donor: Michael Marshall (MARSHALL%PLU@io.arc.nasa.gov)\n",
            "    :Date: July, 1988\n",
            "\n",
            "The famous Iris database, first used by Sir R.A. Fisher. The dataset is taken\n",
            "from Fisher's paper. Note that it's the same as in R, but not as in the UCI\n",
            "Machine Learning Repository, which has two wrong data points.\n",
            "\n",
            "This is perhaps the best known database to be found in the\n",
            "pattern recognition literature.  Fisher's paper is a classic in the field and\n",
            "is referenced frequently to this day.  (See Duda & Hart, for example.)  The\n",
            "data set contains 3 classes of 50 instances each, where each class refers to a\n",
            "type of iris plant.  One class is linearly separable from the other 2; the\n",
            "latter are NOT linearly separable from each other.\n",
            "\n",
            ".. topic:: References\n",
            "\n",
            "   - Fisher, R.A. \"The use of multiple measurements in taxonomic problems\"\n",
            "     Annual Eugenics, 7, Part II, 179-188 (1936); also in \"Contributions to\n",
            "     Mathematical Statistics\" (John Wiley, NY, 1950).\n",
            "   - Duda, R.O., & Hart, P.E. (1973) Pattern Classification and Scene Analysis.\n",
            "     (Q327.D83) John Wiley & Sons.  ISBN 0-471-22361-1.  See page 218.\n",
            "   - Dasarathy, B.V. (1980) \"Nosing Around the Neighborhood: A New System\n",
            "     Structure and Classification Rule for Recognition in Partially Exposed\n",
            "     Environments\".  IEEE Transactions on Pattern Analysis and Machine\n",
            "     Intelligence, Vol. PAMI-2, No. 1, 67-71.\n",
            "   - Gates, G.W. (1972) \"The Reduced Nearest Neighbor Rule\".  IEEE Transactions\n",
            "     on Information Theory, May 1972, 431-433.\n",
            "   - See also: 1988 MLC Proceedings, 54-64.  Cheeseman et al\"s AUTOCLASS II\n",
            "     conceptual clustering system finds 3 classes in the data.\n",
            "   - Many, many more ...\n"
          ]
        }
      ]
    },
    {
      "cell_type": "code",
      "source": [
        "X = iris.data"
      ],
      "metadata": {
        "id": "xz5eWsRsi7G_"
      },
      "execution_count": 6,
      "outputs": []
    },
    {
      "cell_type": "code",
      "source": [
        "y = iris.target"
      ],
      "metadata": {
        "id": "7NfjhEv0jXan"
      },
      "execution_count": 8,
      "outputs": []
    },
    {
      "cell_type": "code",
      "source": [
        "from keras.utils import to_categorical"
      ],
      "metadata": {
        "id": "__h3D2M_jXso"
      },
      "execution_count": 9,
      "outputs": []
    },
    {
      "cell_type": "code",
      "source": [
        "y = to_categorical(y)"
      ],
      "metadata": {
        "id": "N0LMxuGyj8aG"
      },
      "execution_count": 10,
      "outputs": []
    },
    {
      "cell_type": "code",
      "source": [
        "y.shape"
      ],
      "metadata": {
        "colab": {
          "base_uri": "https://localhost:8080/"
        },
        "id": "e-jkVmU4j_CG",
        "outputId": "7c7b4173-1c43-44b0-b3b4-7c7a1f5805df"
      },
      "execution_count": 11,
      "outputs": [
        {
          "output_type": "execute_result",
          "data": {
            "text/plain": [
              "(150, 3)"
            ]
          },
          "metadata": {},
          "execution_count": 11
        }
      ]
    },
    {
      "cell_type": "code",
      "source": [
        "#Class 1 -> [1,0,0]\n",
        "#Class 2 -> [0,1,0]\n",
        "#Class 3 -> [0,0,1]\n",
        "y"
      ],
      "metadata": {
        "colab": {
          "base_uri": "https://localhost:8080/"
        },
        "id": "jqus7HsukBLy",
        "outputId": "d7cefdd3-ff80-4b2d-a49e-30c4d4f75399"
      },
      "execution_count": 12,
      "outputs": [
        {
          "output_type": "execute_result",
          "data": {
            "text/plain": [
              "array([[1., 0., 0.],\n",
              "       [1., 0., 0.],\n",
              "       [1., 0., 0.],\n",
              "       [1., 0., 0.],\n",
              "       [1., 0., 0.],\n",
              "       [1., 0., 0.],\n",
              "       [1., 0., 0.],\n",
              "       [1., 0., 0.],\n",
              "       [1., 0., 0.],\n",
              "       [1., 0., 0.],\n",
              "       [1., 0., 0.],\n",
              "       [1., 0., 0.],\n",
              "       [1., 0., 0.],\n",
              "       [1., 0., 0.],\n",
              "       [1., 0., 0.],\n",
              "       [1., 0., 0.],\n",
              "       [1., 0., 0.],\n",
              "       [1., 0., 0.],\n",
              "       [1., 0., 0.],\n",
              "       [1., 0., 0.],\n",
              "       [1., 0., 0.],\n",
              "       [1., 0., 0.],\n",
              "       [1., 0., 0.],\n",
              "       [1., 0., 0.],\n",
              "       [1., 0., 0.],\n",
              "       [1., 0., 0.],\n",
              "       [1., 0., 0.],\n",
              "       [1., 0., 0.],\n",
              "       [1., 0., 0.],\n",
              "       [1., 0., 0.],\n",
              "       [1., 0., 0.],\n",
              "       [1., 0., 0.],\n",
              "       [1., 0., 0.],\n",
              "       [1., 0., 0.],\n",
              "       [1., 0., 0.],\n",
              "       [1., 0., 0.],\n",
              "       [1., 0., 0.],\n",
              "       [1., 0., 0.],\n",
              "       [1., 0., 0.],\n",
              "       [1., 0., 0.],\n",
              "       [1., 0., 0.],\n",
              "       [1., 0., 0.],\n",
              "       [1., 0., 0.],\n",
              "       [1., 0., 0.],\n",
              "       [1., 0., 0.],\n",
              "       [1., 0., 0.],\n",
              "       [1., 0., 0.],\n",
              "       [1., 0., 0.],\n",
              "       [1., 0., 0.],\n",
              "       [1., 0., 0.],\n",
              "       [0., 1., 0.],\n",
              "       [0., 1., 0.],\n",
              "       [0., 1., 0.],\n",
              "       [0., 1., 0.],\n",
              "       [0., 1., 0.],\n",
              "       [0., 1., 0.],\n",
              "       [0., 1., 0.],\n",
              "       [0., 1., 0.],\n",
              "       [0., 1., 0.],\n",
              "       [0., 1., 0.],\n",
              "       [0., 1., 0.],\n",
              "       [0., 1., 0.],\n",
              "       [0., 1., 0.],\n",
              "       [0., 1., 0.],\n",
              "       [0., 1., 0.],\n",
              "       [0., 1., 0.],\n",
              "       [0., 1., 0.],\n",
              "       [0., 1., 0.],\n",
              "       [0., 1., 0.],\n",
              "       [0., 1., 0.],\n",
              "       [0., 1., 0.],\n",
              "       [0., 1., 0.],\n",
              "       [0., 1., 0.],\n",
              "       [0., 1., 0.],\n",
              "       [0., 1., 0.],\n",
              "       [0., 1., 0.],\n",
              "       [0., 1., 0.],\n",
              "       [0., 1., 0.],\n",
              "       [0., 1., 0.],\n",
              "       [0., 1., 0.],\n",
              "       [0., 1., 0.],\n",
              "       [0., 1., 0.],\n",
              "       [0., 1., 0.],\n",
              "       [0., 1., 0.],\n",
              "       [0., 1., 0.],\n",
              "       [0., 1., 0.],\n",
              "       [0., 1., 0.],\n",
              "       [0., 1., 0.],\n",
              "       [0., 1., 0.],\n",
              "       [0., 1., 0.],\n",
              "       [0., 1., 0.],\n",
              "       [0., 1., 0.],\n",
              "       [0., 1., 0.],\n",
              "       [0., 1., 0.],\n",
              "       [0., 1., 0.],\n",
              "       [0., 1., 0.],\n",
              "       [0., 1., 0.],\n",
              "       [0., 1., 0.],\n",
              "       [0., 1., 0.],\n",
              "       [0., 1., 0.],\n",
              "       [0., 0., 1.],\n",
              "       [0., 0., 1.],\n",
              "       [0., 0., 1.],\n",
              "       [0., 0., 1.],\n",
              "       [0., 0., 1.],\n",
              "       [0., 0., 1.],\n",
              "       [0., 0., 1.],\n",
              "       [0., 0., 1.],\n",
              "       [0., 0., 1.],\n",
              "       [0., 0., 1.],\n",
              "       [0., 0., 1.],\n",
              "       [0., 0., 1.],\n",
              "       [0., 0., 1.],\n",
              "       [0., 0., 1.],\n",
              "       [0., 0., 1.],\n",
              "       [0., 0., 1.],\n",
              "       [0., 0., 1.],\n",
              "       [0., 0., 1.],\n",
              "       [0., 0., 1.],\n",
              "       [0., 0., 1.],\n",
              "       [0., 0., 1.],\n",
              "       [0., 0., 1.],\n",
              "       [0., 0., 1.],\n",
              "       [0., 0., 1.],\n",
              "       [0., 0., 1.],\n",
              "       [0., 0., 1.],\n",
              "       [0., 0., 1.],\n",
              "       [0., 0., 1.],\n",
              "       [0., 0., 1.],\n",
              "       [0., 0., 1.],\n",
              "       [0., 0., 1.],\n",
              "       [0., 0., 1.],\n",
              "       [0., 0., 1.],\n",
              "       [0., 0., 1.],\n",
              "       [0., 0., 1.],\n",
              "       [0., 0., 1.],\n",
              "       [0., 0., 1.],\n",
              "       [0., 0., 1.],\n",
              "       [0., 0., 1.],\n",
              "       [0., 0., 1.],\n",
              "       [0., 0., 1.],\n",
              "       [0., 0., 1.],\n",
              "       [0., 0., 1.],\n",
              "       [0., 0., 1.],\n",
              "       [0., 0., 1.],\n",
              "       [0., 0., 1.],\n",
              "       [0., 0., 1.],\n",
              "       [0., 0., 1.],\n",
              "       [0., 0., 1.],\n",
              "       [0., 0., 1.]], dtype=float32)"
            ]
          },
          "metadata": {},
          "execution_count": 12
        }
      ]
    },
    {
      "cell_type": "code",
      "source": [
        "from sklearn.model_selection import train_test_split"
      ],
      "metadata": {
        "id": "rhNlBfMjkBm0"
      },
      "execution_count": 14,
      "outputs": []
    },
    {
      "cell_type": "code",
      "source": [
        "XTrain,XTest,YTrain,YTest = train_test_split(X,y,test_size = 0.33,random_state = 42)"
      ],
      "metadata": {
        "id": "6aWZG3XokRGM"
      },
      "execution_count": 15,
      "outputs": []
    },
    {
      "cell_type": "code",
      "source": [
        "from sklearn.preprocessing import MinMaxScaler"
      ],
      "metadata": {
        "id": "0oQgNBeukfNV"
      },
      "execution_count": 18,
      "outputs": []
    },
    {
      "cell_type": "code",
      "source": [
        "scaler_object = MinMaxScaler()"
      ],
      "metadata": {
        "id": "sAOFmFNekzhL"
      },
      "execution_count": 19,
      "outputs": []
    },
    {
      "cell_type": "code",
      "source": [
        "scaler_object.fit(XTrain)"
      ],
      "metadata": {
        "colab": {
          "base_uri": "https://localhost:8080/",
          "height": 75
        },
        "id": "qpBzLzc2mmiR",
        "outputId": "40fe4504-93ac-487e-f6a8-0dc9d646c275"
      },
      "execution_count": 20,
      "outputs": [
        {
          "output_type": "execute_result",
          "data": {
            "text/plain": [
              "MinMaxScaler()"
            ],
            "text/html": [
              "<style>#sk-container-id-1 {color: black;background-color: white;}#sk-container-id-1 pre{padding: 0;}#sk-container-id-1 div.sk-toggleable {background-color: white;}#sk-container-id-1 label.sk-toggleable__label {cursor: pointer;display: block;width: 100%;margin-bottom: 0;padding: 0.3em;box-sizing: border-box;text-align: center;}#sk-container-id-1 label.sk-toggleable__label-arrow:before {content: \"▸\";float: left;margin-right: 0.25em;color: #696969;}#sk-container-id-1 label.sk-toggleable__label-arrow:hover:before {color: black;}#sk-container-id-1 div.sk-estimator:hover label.sk-toggleable__label-arrow:before {color: black;}#sk-container-id-1 div.sk-toggleable__content {max-height: 0;max-width: 0;overflow: hidden;text-align: left;background-color: #f0f8ff;}#sk-container-id-1 div.sk-toggleable__content pre {margin: 0.2em;color: black;border-radius: 0.25em;background-color: #f0f8ff;}#sk-container-id-1 input.sk-toggleable__control:checked~div.sk-toggleable__content {max-height: 200px;max-width: 100%;overflow: auto;}#sk-container-id-1 input.sk-toggleable__control:checked~label.sk-toggleable__label-arrow:before {content: \"▾\";}#sk-container-id-1 div.sk-estimator input.sk-toggleable__control:checked~label.sk-toggleable__label {background-color: #d4ebff;}#sk-container-id-1 div.sk-label input.sk-toggleable__control:checked~label.sk-toggleable__label {background-color: #d4ebff;}#sk-container-id-1 input.sk-hidden--visually {border: 0;clip: rect(1px 1px 1px 1px);clip: rect(1px, 1px, 1px, 1px);height: 1px;margin: -1px;overflow: hidden;padding: 0;position: absolute;width: 1px;}#sk-container-id-1 div.sk-estimator {font-family: monospace;background-color: #f0f8ff;border: 1px dotted black;border-radius: 0.25em;box-sizing: border-box;margin-bottom: 0.5em;}#sk-container-id-1 div.sk-estimator:hover {background-color: #d4ebff;}#sk-container-id-1 div.sk-parallel-item::after {content: \"\";width: 100%;border-bottom: 1px solid gray;flex-grow: 1;}#sk-container-id-1 div.sk-label:hover label.sk-toggleable__label {background-color: #d4ebff;}#sk-container-id-1 div.sk-serial::before {content: \"\";position: absolute;border-left: 1px solid gray;box-sizing: border-box;top: 0;bottom: 0;left: 50%;z-index: 0;}#sk-container-id-1 div.sk-serial {display: flex;flex-direction: column;align-items: center;background-color: white;padding-right: 0.2em;padding-left: 0.2em;position: relative;}#sk-container-id-1 div.sk-item {position: relative;z-index: 1;}#sk-container-id-1 div.sk-parallel {display: flex;align-items: stretch;justify-content: center;background-color: white;position: relative;}#sk-container-id-1 div.sk-item::before, #sk-container-id-1 div.sk-parallel-item::before {content: \"\";position: absolute;border-left: 1px solid gray;box-sizing: border-box;top: 0;bottom: 0;left: 50%;z-index: -1;}#sk-container-id-1 div.sk-parallel-item {display: flex;flex-direction: column;z-index: 1;position: relative;background-color: white;}#sk-container-id-1 div.sk-parallel-item:first-child::after {align-self: flex-end;width: 50%;}#sk-container-id-1 div.sk-parallel-item:last-child::after {align-self: flex-start;width: 50%;}#sk-container-id-1 div.sk-parallel-item:only-child::after {width: 0;}#sk-container-id-1 div.sk-dashed-wrapped {border: 1px dashed gray;margin: 0 0.4em 0.5em 0.4em;box-sizing: border-box;padding-bottom: 0.4em;background-color: white;}#sk-container-id-1 div.sk-label label {font-family: monospace;font-weight: bold;display: inline-block;line-height: 1.2em;}#sk-container-id-1 div.sk-label-container {text-align: center;}#sk-container-id-1 div.sk-container {/* jupyter's `normalize.less` sets `[hidden] { display: none; }` but bootstrap.min.css set `[hidden] { display: none !important; }` so we also need the `!important` here to be able to override the default hidden behavior on the sphinx rendered scikit-learn.org. See: https://github.com/scikit-learn/scikit-learn/issues/21755 */display: inline-block !important;position: relative;}#sk-container-id-1 div.sk-text-repr-fallback {display: none;}</style><div id=\"sk-container-id-1\" class=\"sk-top-container\"><div class=\"sk-text-repr-fallback\"><pre>MinMaxScaler()</pre><b>In a Jupyter environment, please rerun this cell to show the HTML representation or trust the notebook. <br />On GitHub, the HTML representation is unable to render, please try loading this page with nbviewer.org.</b></div><div class=\"sk-container\" hidden><div class=\"sk-item\"><div class=\"sk-estimator sk-toggleable\"><input class=\"sk-toggleable__control sk-hidden--visually\" id=\"sk-estimator-id-1\" type=\"checkbox\" checked><label for=\"sk-estimator-id-1\" class=\"sk-toggleable__label sk-toggleable__label-arrow\">MinMaxScaler</label><div class=\"sk-toggleable__content\"><pre>MinMaxScaler()</pre></div></div></div></div></div>"
            ]
          },
          "metadata": {},
          "execution_count": 20
        }
      ]
    },
    {
      "cell_type": "code",
      "source": [
        "scaled_XTrain = scaler_object.transform(XTrain)"
      ],
      "metadata": {
        "id": "TCcQW92KmqJV"
      },
      "execution_count": 21,
      "outputs": []
    },
    {
      "cell_type": "code",
      "source": [
        "scaled_XTest = scaler_object.transform(XTest)"
      ],
      "metadata": {
        "id": "FdpL-wZhmyut"
      },
      "execution_count": 22,
      "outputs": []
    },
    {
      "cell_type": "code",
      "source": [
        "#All the data is between 0 and 1\n",
        "scaled_XTrain"
      ],
      "metadata": {
        "colab": {
          "base_uri": "https://localhost:8080/"
        },
        "id": "byeOw2ArnOF2",
        "outputId": "cdd5a1f2-9618-49f0-fb7c-3f4911824520"
      },
      "execution_count": 23,
      "outputs": [
        {
          "output_type": "execute_result",
          "data": {
            "text/plain": [
              "array([[0.41176471, 0.40909091, 0.55357143, 0.5       ],\n",
              "       [0.97058824, 0.45454545, 0.98214286, 0.83333333],\n",
              "       [0.38235294, 0.45454545, 0.60714286, 0.58333333],\n",
              "       [0.23529412, 0.68181818, 0.05357143, 0.04166667],\n",
              "       [1.        , 0.36363636, 1.        , 0.79166667],\n",
              "       [0.44117647, 0.31818182, 0.53571429, 0.375     ],\n",
              "       [0.26470588, 0.63636364, 0.05357143, 0.04166667],\n",
              "       [0.20588235, 0.68181818, 0.03571429, 0.08333333],\n",
              "       [0.23529412, 0.81818182, 0.14285714, 0.125     ],\n",
              "       [0.20588235, 0.        , 0.42857143, 0.375     ],\n",
              "       [0.58823529, 0.31818182, 0.67857143, 0.70833333],\n",
              "       [0.14705882, 0.63636364, 0.14285714, 0.04166667],\n",
              "       [0.20588235, 0.45454545, 0.08928571, 0.04166667],\n",
              "       [0.23529412, 0.59090909, 0.10714286, 0.16666667],\n",
              "       [0.38235294, 0.31818182, 0.55357143, 0.5       ],\n",
              "       [0.23529412, 0.63636364, 0.07142857, 0.04166667],\n",
              "       [0.41176471, 0.45454545, 0.55357143, 0.45833333],\n",
              "       [1.        , 0.81818182, 1.        , 0.875     ],\n",
              "       [0.08823529, 0.54545455, 0.05357143, 0.04166667],\n",
              "       [0.55882353, 0.40909091, 0.57142857, 0.5       ],\n",
              "       [0.41176471, 0.22727273, 0.69642857, 0.79166667],\n",
              "       [0.35294118, 1.        , 0.05357143, 0.04166667],\n",
              "       [0.5       , 0.45454545, 0.66071429, 0.70833333],\n",
              "       [0.44117647, 0.31818182, 0.71428571, 0.75      ],\n",
              "       [0.5       , 0.09090909, 0.51785714, 0.375     ],\n",
              "       [0.32352941, 0.45454545, 0.60714286, 0.58333333],\n",
              "       [0.55882353, 0.63636364, 0.76785714, 0.91666667],\n",
              "       [0.35294118, 0.13636364, 0.51785714, 0.5       ],\n",
              "       [0.32352941, 0.86363636, 0.10714286, 0.125     ],\n",
              "       [0.20588235, 0.13636364, 0.39285714, 0.375     ],\n",
              "       [0.61764706, 0.31818182, 0.75      , 0.75      ],\n",
              "       [0.20588235, 0.59090909, 0.05357143, 0.04166667],\n",
              "       [0.20588235, 0.54545455, 0.01785714, 0.04166667],\n",
              "       [0.35294118, 0.18181818, 0.48214286, 0.41666667],\n",
              "       [0.70588235, 0.45454545, 0.69642857, 0.66666667],\n",
              "       [0.17647059, 0.5       , 0.07142857, 0.04166667],\n",
              "       [0.44117647, 0.36363636, 0.71428571, 0.95833333],\n",
              "       [0.20588235, 0.63636364, 0.07142857, 0.04166667],\n",
              "       [0.20588235, 0.68181818, 0.08928571, 0.20833333],\n",
              "       [0.47058824, 0.54545455, 0.66071429, 0.70833333],\n",
              "       [0.23529412, 0.22727273, 0.33928571, 0.41666667],\n",
              "       [0.76470588, 0.54545455, 0.82142857, 0.91666667],\n",
              "       [0.5       , 0.31818182, 0.71428571, 0.625     ],\n",
              "       [0.52941176, 0.27272727, 0.80357143, 0.54166667],\n",
              "       [1.        , 0.45454545, 0.89285714, 0.91666667],\n",
              "       [0.35294118, 0.22727273, 0.51785714, 0.5       ],\n",
              "       [0.02941176, 0.40909091, 0.05357143, 0.04166667],\n",
              "       [0.        , 0.45454545, 0.        , 0.        ],\n",
              "       [0.5       , 0.09090909, 0.69642857, 0.58333333],\n",
              "       [0.85294118, 0.54545455, 0.875     , 0.70833333],\n",
              "       [0.08823529, 0.5       , 0.07142857, 0.04166667],\n",
              "       [0.23529412, 0.68181818, 0.05357143, 0.08333333],\n",
              "       [0.02941176, 0.45454545, 0.03571429, 0.04166667],\n",
              "       [0.58823529, 0.22727273, 0.67857143, 0.58333333],\n",
              "       [0.58823529, 0.63636364, 0.80357143, 0.95833333],\n",
              "       [0.08823529, 0.63636364, 0.05357143, 0.08333333],\n",
              "       [0.73529412, 0.45454545, 0.78571429, 0.83333333],\n",
              "       [0.58823529, 0.59090909, 0.875     , 1.        ],\n",
              "       [0.11764706, 0.54545455, 0.03571429, 0.04166667],\n",
              "       [0.52941176, 0.40909091, 0.64285714, 0.54166667],\n",
              "       [0.64705882, 0.36363636, 0.625     , 0.58333333],\n",
              "       [0.55882353, 0.36363636, 0.66071429, 0.70833333],\n",
              "       [0.79411765, 0.54545455, 0.64285714, 0.54166667],\n",
              "       [0.61764706, 0.54545455, 0.75      , 0.91666667],\n",
              "       [0.23529412, 0.81818182, 0.08928571, 0.04166667],\n",
              "       [0.76470588, 0.5       , 0.76785714, 0.83333333],\n",
              "       [0.47058824, 0.45454545, 0.55357143, 0.58333333],\n",
              "       [0.64705882, 0.45454545, 0.73214286, 0.79166667],\n",
              "       [0.41176471, 0.27272727, 0.42857143, 0.375     ],\n",
              "       [0.26470588, 0.31818182, 0.5       , 0.54166667],\n",
              "       [0.52941176, 0.45454545, 0.625     , 0.54166667],\n",
              "       [0.05882353, 0.13636364, 0.03571429, 0.08333333],\n",
              "       [0.67647059, 0.40909091, 0.625     , 0.5       ],\n",
              "       [0.35294118, 0.27272727, 0.58928571, 0.45833333],\n",
              "       [0.29411765, 0.77272727, 0.07142857, 0.04166667],\n",
              "       [0.38235294, 0.45454545, 0.53571429, 0.5       ],\n",
              "       [0.88235294, 0.40909091, 0.92857143, 0.70833333],\n",
              "       [0.70588235, 0.59090909, 0.82142857, 0.83333333],\n",
              "       [0.23529412, 0.77272727, 0.07142857, 0.125     ],\n",
              "       [0.17647059, 0.18181818, 0.39285714, 0.375     ],\n",
              "       [0.70588235, 0.59090909, 0.82142857, 1.        ],\n",
              "       [0.85294118, 0.45454545, 0.83928571, 0.625     ],\n",
              "       [0.17647059, 0.72727273, 0.05357143, 0.        ],\n",
              "       [0.70588235, 0.5       , 0.80357143, 0.95833333],\n",
              "       [0.17647059, 0.45454545, 0.05357143, 0.04166667],\n",
              "       [0.76470588, 0.5       , 0.67857143, 0.58333333],\n",
              "       [0.91176471, 0.36363636, 0.89285714, 0.75      ],\n",
              "       [0.58823529, 0.40909091, 0.80357143, 0.70833333],\n",
              "       [0.41176471, 0.36363636, 0.53571429, 0.5       ],\n",
              "       [0.64705882, 0.45454545, 0.78571429, 0.70833333],\n",
              "       [0.58823529, 0.13636364, 0.58928571, 0.5       ],\n",
              "       [0.61764706, 0.40909091, 0.57142857, 0.5       ],\n",
              "       [0.38235294, 0.36363636, 0.67857143, 0.79166667],\n",
              "       [0.47058824, 0.45454545, 0.71428571, 0.70833333],\n",
              "       [0.32352941, 0.63636364, 0.10714286, 0.04166667],\n",
              "       [0.52941176, 0.36363636, 0.51785714, 0.5       ],\n",
              "       [0.17647059, 0.22727273, 0.60714286, 0.66666667],\n",
              "       [0.44117647, 0.90909091, 0.01785714, 0.04166667],\n",
              "       [0.44117647, 0.27272727, 0.51785714, 0.45833333],\n",
              "       [0.82352941, 0.45454545, 0.85714286, 0.83333333]])"
            ]
          },
          "metadata": {},
          "execution_count": 23
        }
      ]
    },
    {
      "cell_type": "code",
      "source": [
        "from keras.models import Sequential\n",
        "from keras.layers import Dense"
      ],
      "metadata": {
        "id": "swLGYiVDnRLm"
      },
      "execution_count": 24,
      "outputs": []
    },
    {
      "cell_type": "code",
      "source": [
        "model = Sequential()\n",
        "model.add(Dense(8,input_dim = 4,activation = 'relu'))\n",
        "model.add(Dense(8,input_dim = 4,activation = 'relu'))\n",
        "model.add(Dense(3,activation='softmax'))\n",
        "\n",
        "model.compile(loss='categorical_crossentropy',\n",
        "              optimizer = 'adam',\n",
        "              metrics = ['accuracy']\n",
        ")"
      ],
      "metadata": {
        "id": "q3Lmwj5Nnbdd"
      },
      "execution_count": 25,
      "outputs": []
    },
    {
      "cell_type": "code",
      "source": [
        "model.summary()"
      ],
      "metadata": {
        "colab": {
          "base_uri": "https://localhost:8080/"
        },
        "id": "h6ZNBvstoTko",
        "outputId": "57276b47-f3a2-45fb-a9f4-d56521bfd759"
      },
      "execution_count": 26,
      "outputs": [
        {
          "output_type": "stream",
          "name": "stdout",
          "text": [
            "Model: \"sequential\"\n",
            "_________________________________________________________________\n",
            " Layer (type)                Output Shape              Param #   \n",
            "=================================================================\n",
            " dense (Dense)               (None, 8)                 40        \n",
            "                                                                 \n",
            " dense_1 (Dense)             (None, 8)                 72        \n",
            "                                                                 \n",
            " dense_2 (Dense)             (None, 3)                 27        \n",
            "                                                                 \n",
            "=================================================================\n",
            "Total params: 139 (556.00 Byte)\n",
            "Trainable params: 139 (556.00 Byte)\n",
            "Non-trainable params: 0 (0.00 Byte)\n",
            "_________________________________________________________________\n"
          ]
        }
      ]
    },
    {
      "cell_type": "code",
      "source": [
        "model.fit(\n",
        "    scaled_XTrain,\n",
        "    YTrain,\n",
        "    epochs = 150,\n",
        "    verbose = 2\n",
        ")"
      ],
      "metadata": {
        "colab": {
          "base_uri": "https://localhost:8080/"
        },
        "id": "4pyLx4OKoV5C",
        "outputId": "e2ad414e-f102-48ef-9a65-b7ba7eaea584"
      },
      "execution_count": 27,
      "outputs": [
        {
          "output_type": "stream",
          "name": "stdout",
          "text": [
            "Epoch 1/150\n",
            "4/4 - 1s - loss: 1.1002 - accuracy: 0.2700 - 958ms/epoch - 240ms/step\n",
            "Epoch 2/150\n",
            "4/4 - 0s - loss: 1.0981 - accuracy: 0.3000 - 15ms/epoch - 4ms/step\n",
            "Epoch 3/150\n",
            "4/4 - 0s - loss: 1.0964 - accuracy: 0.3500 - 14ms/epoch - 3ms/step\n",
            "Epoch 4/150\n",
            "4/4 - 0s - loss: 1.0950 - accuracy: 0.3800 - 21ms/epoch - 5ms/step\n",
            "Epoch 5/150\n",
            "4/4 - 0s - loss: 1.0937 - accuracy: 0.3900 - 14ms/epoch - 4ms/step\n",
            "Epoch 6/150\n",
            "4/4 - 0s - loss: 1.0925 - accuracy: 0.4300 - 15ms/epoch - 4ms/step\n",
            "Epoch 7/150\n",
            "4/4 - 0s - loss: 1.0916 - accuracy: 0.4400 - 13ms/epoch - 3ms/step\n",
            "Epoch 8/150\n",
            "4/4 - 0s - loss: 1.0906 - accuracy: 0.5200 - 12ms/epoch - 3ms/step\n",
            "Epoch 9/150\n",
            "4/4 - 0s - loss: 1.0898 - accuracy: 0.5500 - 13ms/epoch - 3ms/step\n",
            "Epoch 10/150\n",
            "4/4 - 0s - loss: 1.0891 - accuracy: 0.5800 - 12ms/epoch - 3ms/step\n",
            "Epoch 11/150\n",
            "4/4 - 0s - loss: 1.0886 - accuracy: 0.5700 - 13ms/epoch - 3ms/step\n",
            "Epoch 12/150\n",
            "4/4 - 0s - loss: 1.0879 - accuracy: 0.5800 - 13ms/epoch - 3ms/step\n",
            "Epoch 13/150\n",
            "4/4 - 0s - loss: 1.0872 - accuracy: 0.5800 - 12ms/epoch - 3ms/step\n",
            "Epoch 14/150\n",
            "4/4 - 0s - loss: 1.0865 - accuracy: 0.5700 - 14ms/epoch - 4ms/step\n",
            "Epoch 15/150\n",
            "4/4 - 0s - loss: 1.0857 - accuracy: 0.5500 - 13ms/epoch - 3ms/step\n",
            "Epoch 16/150\n",
            "4/4 - 0s - loss: 1.0848 - accuracy: 0.5500 - 16ms/epoch - 4ms/step\n",
            "Epoch 17/150\n",
            "4/4 - 0s - loss: 1.0839 - accuracy: 0.5500 - 13ms/epoch - 3ms/step\n",
            "Epoch 18/150\n",
            "4/4 - 0s - loss: 1.0831 - accuracy: 0.5500 - 13ms/epoch - 3ms/step\n",
            "Epoch 19/150\n",
            "4/4 - 0s - loss: 1.0822 - accuracy: 0.5500 - 27ms/epoch - 7ms/step\n",
            "Epoch 20/150\n",
            "4/4 - 0s - loss: 1.0812 - accuracy: 0.5500 - 14ms/epoch - 4ms/step\n",
            "Epoch 21/150\n",
            "4/4 - 0s - loss: 1.0801 - accuracy: 0.5500 - 14ms/epoch - 4ms/step\n",
            "Epoch 22/150\n",
            "4/4 - 0s - loss: 1.0790 - accuracy: 0.5700 - 14ms/epoch - 3ms/step\n",
            "Epoch 23/150\n",
            "4/4 - 0s - loss: 1.0778 - accuracy: 0.5700 - 13ms/epoch - 3ms/step\n",
            "Epoch 24/150\n",
            "4/4 - 0s - loss: 1.0766 - accuracy: 0.5700 - 13ms/epoch - 3ms/step\n",
            "Epoch 25/150\n",
            "4/4 - 0s - loss: 1.0751 - accuracy: 0.5900 - 13ms/epoch - 3ms/step\n",
            "Epoch 26/150\n",
            "4/4 - 0s - loss: 1.0735 - accuracy: 0.5800 - 14ms/epoch - 3ms/step\n",
            "Epoch 27/150\n",
            "4/4 - 0s - loss: 1.0717 - accuracy: 0.5700 - 13ms/epoch - 3ms/step\n",
            "Epoch 28/150\n",
            "4/4 - 0s - loss: 1.0699 - accuracy: 0.5700 - 14ms/epoch - 3ms/step\n",
            "Epoch 29/150\n",
            "4/4 - 0s - loss: 1.0680 - accuracy: 0.5700 - 14ms/epoch - 3ms/step\n",
            "Epoch 30/150\n",
            "4/4 - 0s - loss: 1.0659 - accuracy: 0.5700 - 15ms/epoch - 4ms/step\n",
            "Epoch 31/150\n",
            "4/4 - 0s - loss: 1.0637 - accuracy: 0.5600 - 17ms/epoch - 4ms/step\n",
            "Epoch 32/150\n",
            "4/4 - 0s - loss: 1.0615 - accuracy: 0.5800 - 13ms/epoch - 3ms/step\n",
            "Epoch 33/150\n",
            "4/4 - 0s - loss: 1.0589 - accuracy: 0.5500 - 15ms/epoch - 4ms/step\n",
            "Epoch 34/150\n",
            "4/4 - 0s - loss: 1.0559 - accuracy: 0.5400 - 13ms/epoch - 3ms/step\n",
            "Epoch 35/150\n",
            "4/4 - 0s - loss: 1.0530 - accuracy: 0.5200 - 13ms/epoch - 3ms/step\n",
            "Epoch 36/150\n",
            "4/4 - 0s - loss: 1.0500 - accuracy: 0.5200 - 13ms/epoch - 3ms/step\n",
            "Epoch 37/150\n",
            "4/4 - 0s - loss: 1.0469 - accuracy: 0.5100 - 14ms/epoch - 3ms/step\n",
            "Epoch 38/150\n",
            "4/4 - 0s - loss: 1.0439 - accuracy: 0.4600 - 23ms/epoch - 6ms/step\n",
            "Epoch 39/150\n",
            "4/4 - 0s - loss: 1.0404 - accuracy: 0.4400 - 25ms/epoch - 6ms/step\n",
            "Epoch 40/150\n",
            "4/4 - 0s - loss: 1.0374 - accuracy: 0.4200 - 18ms/epoch - 5ms/step\n",
            "Epoch 41/150\n",
            "4/4 - 0s - loss: 1.0336 - accuracy: 0.4800 - 22ms/epoch - 6ms/step\n",
            "Epoch 42/150\n",
            "4/4 - 0s - loss: 1.0303 - accuracy: 0.6400 - 16ms/epoch - 4ms/step\n",
            "Epoch 43/150\n",
            "4/4 - 0s - loss: 1.0267 - accuracy: 0.6200 - 18ms/epoch - 5ms/step\n",
            "Epoch 44/150\n",
            "4/4 - 0s - loss: 1.0233 - accuracy: 0.6100 - 17ms/epoch - 4ms/step\n",
            "Epoch 45/150\n",
            "4/4 - 0s - loss: 1.0197 - accuracy: 0.6100 - 21ms/epoch - 5ms/step\n",
            "Epoch 46/150\n",
            "4/4 - 0s - loss: 1.0161 - accuracy: 0.6100 - 19ms/epoch - 5ms/step\n",
            "Epoch 47/150\n",
            "4/4 - 0s - loss: 1.0124 - accuracy: 0.6000 - 21ms/epoch - 5ms/step\n",
            "Epoch 48/150\n",
            "4/4 - 0s - loss: 1.0086 - accuracy: 0.6100 - 15ms/epoch - 4ms/step\n",
            "Epoch 49/150\n",
            "4/4 - 0s - loss: 1.0048 - accuracy: 0.6200 - 16ms/epoch - 4ms/step\n",
            "Epoch 50/150\n",
            "4/4 - 0s - loss: 1.0010 - accuracy: 0.6300 - 14ms/epoch - 4ms/step\n",
            "Epoch 51/150\n",
            "4/4 - 0s - loss: 0.9972 - accuracy: 0.6300 - 16ms/epoch - 4ms/step\n",
            "Epoch 52/150\n",
            "4/4 - 0s - loss: 0.9934 - accuracy: 0.6300 - 16ms/epoch - 4ms/step\n",
            "Epoch 53/150\n",
            "4/4 - 0s - loss: 0.9895 - accuracy: 0.6300 - 17ms/epoch - 4ms/step\n",
            "Epoch 54/150\n",
            "4/4 - 0s - loss: 0.9857 - accuracy: 0.6300 - 15ms/epoch - 4ms/step\n",
            "Epoch 55/150\n",
            "4/4 - 0s - loss: 0.9819 - accuracy: 0.6300 - 18ms/epoch - 5ms/step\n",
            "Epoch 56/150\n",
            "4/4 - 0s - loss: 0.9777 - accuracy: 0.6300 - 19ms/epoch - 5ms/step\n",
            "Epoch 57/150\n",
            "4/4 - 0s - loss: 0.9731 - accuracy: 0.6400 - 18ms/epoch - 4ms/step\n",
            "Epoch 58/150\n",
            "4/4 - 0s - loss: 0.9692 - accuracy: 0.6400 - 19ms/epoch - 5ms/step\n",
            "Epoch 59/150\n",
            "4/4 - 0s - loss: 0.9651 - accuracy: 0.6400 - 20ms/epoch - 5ms/step\n",
            "Epoch 60/150\n",
            "4/4 - 0s - loss: 0.9610 - accuracy: 0.6400 - 24ms/epoch - 6ms/step\n",
            "Epoch 61/150\n",
            "4/4 - 0s - loss: 0.9567 - accuracy: 0.6400 - 20ms/epoch - 5ms/step\n",
            "Epoch 62/150\n",
            "4/4 - 0s - loss: 0.9524 - accuracy: 0.6500 - 17ms/epoch - 4ms/step\n",
            "Epoch 63/150\n",
            "4/4 - 0s - loss: 0.9486 - accuracy: 0.6500 - 24ms/epoch - 6ms/step\n",
            "Epoch 64/150\n",
            "4/4 - 0s - loss: 0.9441 - accuracy: 0.6500 - 16ms/epoch - 4ms/step\n",
            "Epoch 65/150\n",
            "4/4 - 0s - loss: 0.9397 - accuracy: 0.6500 - 20ms/epoch - 5ms/step\n",
            "Epoch 66/150\n",
            "4/4 - 0s - loss: 0.9354 - accuracy: 0.6500 - 17ms/epoch - 4ms/step\n",
            "Epoch 67/150\n",
            "4/4 - 0s - loss: 0.9309 - accuracy: 0.6500 - 20ms/epoch - 5ms/step\n",
            "Epoch 68/150\n",
            "4/4 - 0s - loss: 0.9265 - accuracy: 0.6500 - 17ms/epoch - 4ms/step\n",
            "Epoch 69/150\n",
            "4/4 - 0s - loss: 0.9222 - accuracy: 0.6500 - 20ms/epoch - 5ms/step\n",
            "Epoch 70/150\n",
            "4/4 - 0s - loss: 0.9179 - accuracy: 0.6500 - 21ms/epoch - 5ms/step\n",
            "Epoch 71/150\n",
            "4/4 - 0s - loss: 0.9135 - accuracy: 0.6500 - 19ms/epoch - 5ms/step\n",
            "Epoch 72/150\n",
            "4/4 - 0s - loss: 0.9094 - accuracy: 0.6500 - 18ms/epoch - 4ms/step\n",
            "Epoch 73/150\n",
            "4/4 - 0s - loss: 0.9049 - accuracy: 0.6500 - 20ms/epoch - 5ms/step\n",
            "Epoch 74/150\n",
            "4/4 - 0s - loss: 0.9004 - accuracy: 0.6500 - 16ms/epoch - 4ms/step\n",
            "Epoch 75/150\n",
            "4/4 - 0s - loss: 0.8957 - accuracy: 0.6700 - 18ms/epoch - 4ms/step\n",
            "Epoch 76/150\n",
            "4/4 - 0s - loss: 0.8910 - accuracy: 0.6700 - 20ms/epoch - 5ms/step\n",
            "Epoch 77/150\n",
            "4/4 - 0s - loss: 0.8863 - accuracy: 0.6800 - 16ms/epoch - 4ms/step\n",
            "Epoch 78/150\n",
            "4/4 - 0s - loss: 0.8815 - accuracy: 0.6800 - 17ms/epoch - 4ms/step\n",
            "Epoch 79/150\n",
            "4/4 - 0s - loss: 0.8767 - accuracy: 0.6800 - 16ms/epoch - 4ms/step\n",
            "Epoch 80/150\n",
            "4/4 - 0s - loss: 0.8724 - accuracy: 0.6700 - 17ms/epoch - 4ms/step\n",
            "Epoch 81/150\n",
            "4/4 - 0s - loss: 0.8671 - accuracy: 0.6800 - 17ms/epoch - 4ms/step\n",
            "Epoch 82/150\n",
            "4/4 - 0s - loss: 0.8624 - accuracy: 0.6800 - 19ms/epoch - 5ms/step\n",
            "Epoch 83/150\n",
            "4/4 - 0s - loss: 0.8576 - accuracy: 0.6800 - 20ms/epoch - 5ms/step\n",
            "Epoch 84/150\n",
            "4/4 - 0s - loss: 0.8529 - accuracy: 0.6800 - 19ms/epoch - 5ms/step\n",
            "Epoch 85/150\n",
            "4/4 - 0s - loss: 0.8479 - accuracy: 0.6800 - 21ms/epoch - 5ms/step\n",
            "Epoch 86/150\n",
            "4/4 - 0s - loss: 0.8432 - accuracy: 0.6900 - 19ms/epoch - 5ms/step\n",
            "Epoch 87/150\n",
            "4/4 - 0s - loss: 0.8385 - accuracy: 0.6900 - 17ms/epoch - 4ms/step\n",
            "Epoch 88/150\n",
            "4/4 - 0s - loss: 0.8336 - accuracy: 0.6900 - 17ms/epoch - 4ms/step\n",
            "Epoch 89/150\n",
            "4/4 - 0s - loss: 0.8286 - accuracy: 0.6800 - 19ms/epoch - 5ms/step\n",
            "Epoch 90/150\n",
            "4/4 - 0s - loss: 0.8241 - accuracy: 0.6800 - 16ms/epoch - 4ms/step\n",
            "Epoch 91/150\n",
            "4/4 - 0s - loss: 0.8191 - accuracy: 0.6800 - 17ms/epoch - 4ms/step\n",
            "Epoch 92/150\n",
            "4/4 - 0s - loss: 0.8146 - accuracy: 0.6800 - 19ms/epoch - 5ms/step\n",
            "Epoch 93/150\n",
            "4/4 - 0s - loss: 0.8097 - accuracy: 0.6800 - 23ms/epoch - 6ms/step\n",
            "Epoch 94/150\n",
            "4/4 - 0s - loss: 0.8049 - accuracy: 0.6800 - 17ms/epoch - 4ms/step\n",
            "Epoch 95/150\n",
            "4/4 - 0s - loss: 0.8004 - accuracy: 0.6800 - 16ms/epoch - 4ms/step\n",
            "Epoch 96/150\n",
            "4/4 - 0s - loss: 0.7966 - accuracy: 0.6800 - 16ms/epoch - 4ms/step\n",
            "Epoch 97/150\n",
            "4/4 - 0s - loss: 0.7915 - accuracy: 0.6800 - 20ms/epoch - 5ms/step\n",
            "Epoch 98/150\n",
            "4/4 - 0s - loss: 0.7868 - accuracy: 0.6800 - 16ms/epoch - 4ms/step\n",
            "Epoch 99/150\n",
            "4/4 - 0s - loss: 0.7822 - accuracy: 0.6800 - 16ms/epoch - 4ms/step\n",
            "Epoch 100/150\n",
            "4/4 - 0s - loss: 0.7775 - accuracy: 0.6800 - 20ms/epoch - 5ms/step\n",
            "Epoch 101/150\n",
            "4/4 - 0s - loss: 0.7728 - accuracy: 0.6800 - 21ms/epoch - 5ms/step\n",
            "Epoch 102/150\n",
            "4/4 - 0s - loss: 0.7677 - accuracy: 0.6800 - 27ms/epoch - 7ms/step\n",
            "Epoch 103/150\n",
            "4/4 - 0s - loss: 0.7629 - accuracy: 0.6800 - 19ms/epoch - 5ms/step\n",
            "Epoch 104/150\n",
            "4/4 - 0s - loss: 0.7580 - accuracy: 0.6900 - 15ms/epoch - 4ms/step\n",
            "Epoch 105/150\n",
            "4/4 - 0s - loss: 0.7533 - accuracy: 0.6900 - 15ms/epoch - 4ms/step\n",
            "Epoch 106/150\n",
            "4/4 - 0s - loss: 0.7488 - accuracy: 0.6900 - 15ms/epoch - 4ms/step\n",
            "Epoch 107/150\n",
            "4/4 - 0s - loss: 0.7442 - accuracy: 0.7000 - 15ms/epoch - 4ms/step\n",
            "Epoch 108/150\n",
            "4/4 - 0s - loss: 0.7401 - accuracy: 0.6900 - 15ms/epoch - 4ms/step\n",
            "Epoch 109/150\n",
            "4/4 - 0s - loss: 0.7357 - accuracy: 0.6900 - 15ms/epoch - 4ms/step\n",
            "Epoch 110/150\n",
            "4/4 - 0s - loss: 0.7312 - accuracy: 0.7000 - 16ms/epoch - 4ms/step\n",
            "Epoch 111/150\n",
            "4/4 - 0s - loss: 0.7264 - accuracy: 0.7000 - 16ms/epoch - 4ms/step\n",
            "Epoch 112/150\n",
            "4/4 - 0s - loss: 0.7217 - accuracy: 0.7000 - 19ms/epoch - 5ms/step\n",
            "Epoch 113/150\n",
            "4/4 - 0s - loss: 0.7171 - accuracy: 0.7100 - 21ms/epoch - 5ms/step\n",
            "Epoch 114/150\n",
            "4/4 - 0s - loss: 0.7124 - accuracy: 0.7100 - 16ms/epoch - 4ms/step\n",
            "Epoch 115/150\n",
            "4/4 - 0s - loss: 0.7070 - accuracy: 0.7400 - 17ms/epoch - 4ms/step\n",
            "Epoch 116/150\n",
            "4/4 - 0s - loss: 0.7033 - accuracy: 0.7500 - 16ms/epoch - 4ms/step\n",
            "Epoch 117/150\n",
            "4/4 - 0s - loss: 0.6978 - accuracy: 0.7700 - 16ms/epoch - 4ms/step\n",
            "Epoch 118/150\n",
            "4/4 - 0s - loss: 0.6942 - accuracy: 0.8100 - 16ms/epoch - 4ms/step\n",
            "Epoch 119/150\n",
            "4/4 - 0s - loss: 0.6897 - accuracy: 0.8200 - 16ms/epoch - 4ms/step\n",
            "Epoch 120/150\n",
            "4/4 - 0s - loss: 0.6853 - accuracy: 0.8300 - 16ms/epoch - 4ms/step\n",
            "Epoch 121/150\n",
            "4/4 - 0s - loss: 0.6807 - accuracy: 0.8100 - 15ms/epoch - 4ms/step\n",
            "Epoch 122/150\n",
            "4/4 - 0s - loss: 0.6764 - accuracy: 0.7800 - 15ms/epoch - 4ms/step\n",
            "Epoch 123/150\n",
            "4/4 - 0s - loss: 0.6725 - accuracy: 0.7700 - 16ms/epoch - 4ms/step\n",
            "Epoch 124/150\n",
            "4/4 - 0s - loss: 0.6686 - accuracy: 0.7500 - 16ms/epoch - 4ms/step\n",
            "Epoch 125/150\n",
            "4/4 - 0s - loss: 0.6649 - accuracy: 0.7500 - 16ms/epoch - 4ms/step\n",
            "Epoch 126/150\n",
            "4/4 - 0s - loss: 0.6607 - accuracy: 0.7500 - 23ms/epoch - 6ms/step\n",
            "Epoch 127/150\n",
            "4/4 - 0s - loss: 0.6565 - accuracy: 0.7500 - 17ms/epoch - 4ms/step\n",
            "Epoch 128/150\n",
            "4/4 - 0s - loss: 0.6527 - accuracy: 0.7500 - 15ms/epoch - 4ms/step\n",
            "Epoch 129/150\n",
            "4/4 - 0s - loss: 0.6483 - accuracy: 0.7700 - 16ms/epoch - 4ms/step\n",
            "Epoch 130/150\n",
            "4/4 - 0s - loss: 0.6432 - accuracy: 0.8200 - 17ms/epoch - 4ms/step\n",
            "Epoch 131/150\n",
            "4/4 - 0s - loss: 0.6399 - accuracy: 0.8300 - 19ms/epoch - 5ms/step\n",
            "Epoch 132/150\n",
            "4/4 - 0s - loss: 0.6359 - accuracy: 0.8400 - 17ms/epoch - 4ms/step\n",
            "Epoch 133/150\n",
            "4/4 - 0s - loss: 0.6322 - accuracy: 0.8400 - 19ms/epoch - 5ms/step\n",
            "Epoch 134/150\n",
            "4/4 - 0s - loss: 0.6285 - accuracy: 0.8400 - 17ms/epoch - 4ms/step\n",
            "Epoch 135/150\n",
            "4/4 - 0s - loss: 0.6254 - accuracy: 0.8400 - 16ms/epoch - 4ms/step\n",
            "Epoch 136/150\n",
            "4/4 - 0s - loss: 0.6213 - accuracy: 0.8600 - 16ms/epoch - 4ms/step\n",
            "Epoch 137/150\n",
            "4/4 - 0s - loss: 0.6171 - accuracy: 0.8600 - 16ms/epoch - 4ms/step\n",
            "Epoch 138/150\n",
            "4/4 - 0s - loss: 0.6131 - accuracy: 0.8600 - 18ms/epoch - 4ms/step\n",
            "Epoch 139/150\n",
            "4/4 - 0s - loss: 0.6091 - accuracy: 0.8300 - 17ms/epoch - 4ms/step\n",
            "Epoch 140/150\n",
            "4/4 - 0s - loss: 0.6051 - accuracy: 0.8400 - 17ms/epoch - 4ms/step\n",
            "Epoch 141/150\n",
            "4/4 - 0s - loss: 0.6013 - accuracy: 0.8400 - 18ms/epoch - 4ms/step\n",
            "Epoch 142/150\n",
            "4/4 - 0s - loss: 0.5975 - accuracy: 0.8300 - 23ms/epoch - 6ms/step\n",
            "Epoch 143/150\n",
            "4/4 - 0s - loss: 0.5943 - accuracy: 0.8300 - 15ms/epoch - 4ms/step\n",
            "Epoch 144/150\n",
            "4/4 - 0s - loss: 0.5911 - accuracy: 0.8300 - 15ms/epoch - 4ms/step\n",
            "Epoch 145/150\n",
            "4/4 - 0s - loss: 0.5881 - accuracy: 0.8300 - 17ms/epoch - 4ms/step\n",
            "Epoch 146/150\n",
            "4/4 - 0s - loss: 0.5852 - accuracy: 0.8300 - 14ms/epoch - 4ms/step\n",
            "Epoch 147/150\n",
            "4/4 - 0s - loss: 0.5821 - accuracy: 0.8200 - 15ms/epoch - 4ms/step\n",
            "Epoch 148/150\n",
            "4/4 - 0s - loss: 0.5789 - accuracy: 0.8200 - 15ms/epoch - 4ms/step\n",
            "Epoch 149/150\n",
            "4/4 - 0s - loss: 0.5752 - accuracy: 0.8300 - 15ms/epoch - 4ms/step\n",
            "Epoch 150/150\n",
            "4/4 - 0s - loss: 0.5709 - accuracy: 0.8300 - 14ms/epoch - 3ms/step\n"
          ]
        },
        {
          "output_type": "execute_result",
          "data": {
            "text/plain": [
              "<keras.src.callbacks.History at 0x78a2a48d2530>"
            ]
          },
          "metadata": {},
          "execution_count": 27
        }
      ]
    }
  ]
}