{
  "nbformat": 4,
  "nbformat_minor": 0,
  "metadata": {
    "colab": {
      "provenance": [],
      "authorship_tag": "ABX9TyMjau+hr9QV54N3cSIH93mw",
      "include_colab_link": true
    },
    "kernelspec": {
      "name": "python3",
      "display_name": "Python 3"
    },
    "language_info": {
      "name": "python"
    }
  },
  "cells": [
    {
      "cell_type": "markdown",
      "metadata": {
        "id": "view-in-github",
        "colab_type": "text"
      },
      "source": [
        "<a href=\"https://colab.research.google.com/github/yeesem/Natural-Laguage-Processing/blob/main/Stemming_%26_Lemmatization.ipynb\" target=\"_parent\"><img src=\"https://colab.research.google.com/assets/colab-badge.svg\" alt=\"Open In Colab\"/></a>"
      ]
    },
    {
      "cell_type": "markdown",
      "source": [
        "# **Stemming**"
      ],
      "metadata": {
        "id": "GVOJ-WE_vTje"
      }
    },
    {
      "cell_type": "code",
      "execution_count": 1,
      "metadata": {
        "id": "laLPuC4ftIOc"
      },
      "outputs": [],
      "source": [
        "import nltk"
      ]
    },
    {
      "cell_type": "code",
      "source": [
        "from nltk.stem.porter import PorterStemmer"
      ],
      "metadata": {
        "id": "aFsQc91ZtLpD"
      },
      "execution_count": 2,
      "outputs": []
    },
    {
      "cell_type": "code",
      "source": [
        "p_stemmer = PorterStemmer()"
      ],
      "metadata": {
        "id": "DnNs897MtQQ6"
      },
      "execution_count": 3,
      "outputs": []
    },
    {
      "cell_type": "code",
      "source": [
        "words = ['run','runner','ran','runs','easily','fairly','fairness']"
      ],
      "metadata": {
        "id": "I0ICoorutUJY"
      },
      "execution_count": 10,
      "outputs": []
    },
    {
      "cell_type": "code",
      "source": [
        "#easily -> easili\n",
        "#fairly -> fairli\n",
        "for word in words:\n",
        "  print(word + \"------>\" + p_stemmer.stem(word))"
      ],
      "metadata": {
        "colab": {
          "base_uri": "https://localhost:8080/"
        },
        "id": "TON9A5cftZV3",
        "outputId": "01b71ecc-15d3-42e6-ccaa-66c978da81e7"
      },
      "execution_count": 11,
      "outputs": [
        {
          "output_type": "stream",
          "name": "stdout",
          "text": [
            "run------>run\n",
            "runner------>runner\n",
            "ran------>ran\n",
            "runs------>run\n",
            "easily------>easili\n",
            "fairly------>fairli\n",
            "fairness------>fair\n"
          ]
        }
      ]
    },
    {
      "cell_type": "code",
      "source": [
        "from nltk.stem.snowball import SnowballStemmer"
      ],
      "metadata": {
        "id": "QlbplRFotn-4"
      },
      "execution_count": 12,
      "outputs": []
    },
    {
      "cell_type": "code",
      "source": [
        "s_stemmer = SnowballStemmer(language = 'english')"
      ],
      "metadata": {
        "id": "-7APc78Rt4RM"
      },
      "execution_count": 13,
      "outputs": []
    },
    {
      "cell_type": "code",
      "source": [
        "#fairly -> fair\n",
        "for word in words:\n",
        "  print(word + \"------>\" + s_stemmer.stem(word))"
      ],
      "metadata": {
        "colab": {
          "base_uri": "https://localhost:8080/"
        },
        "id": "ARDXf-p9t9vb",
        "outputId": "1e4320a4-bfaa-4362-e6f2-aa51874d34c6"
      },
      "execution_count": 14,
      "outputs": [
        {
          "output_type": "stream",
          "name": "stdout",
          "text": [
            "run------>run\n",
            "runner------>runner\n",
            "ran------>ran\n",
            "runs------>run\n",
            "easily------>easili\n",
            "fairly------>fair\n",
            "fairness------>fair\n"
          ]
        }
      ]
    },
    {
      "cell_type": "code",
      "source": [
        "words = ['generous','generation','generously','generate']"
      ],
      "metadata": {
        "id": "HGfEAKvtuLiG"
      },
      "execution_count": 15,
      "outputs": []
    },
    {
      "cell_type": "code",
      "source": [
        "for word in words:\n",
        "  print(word + \"----->\" + s_stemmer.stem(word))"
      ],
      "metadata": {
        "colab": {
          "base_uri": "https://localhost:8080/"
        },
        "id": "ZINxvfBvuxuS",
        "outputId": "bb1e4743-22a4-4348-ffdc-c3900f171026"
      },
      "execution_count": 17,
      "outputs": [
        {
          "output_type": "stream",
          "name": "stdout",
          "text": [
            "generous----->generous\n",
            "generation----->generat\n",
            "generously----->generous\n",
            "generate----->generat\n"
          ]
        }
      ]
    },
    {
      "cell_type": "markdown",
      "source": [
        "# **Lemmatization**"
      ],
      "metadata": {
        "id": "5EaaruSEvalY"
      }
    },
    {
      "cell_type": "code",
      "source": [
        "import spacy"
      ],
      "metadata": {
        "id": "8Z0vPyxqvdQJ"
      },
      "execution_count": 18,
      "outputs": []
    },
    {
      "cell_type": "code",
      "source": [
        "nlp = spacy.load('en_core_web_sm')"
      ],
      "metadata": {
        "id": "KBzAtQ0RvwP6"
      },
      "execution_count": 20,
      "outputs": []
    },
    {
      "cell_type": "code",
      "source": [
        "doc1 = nlp(u\"I am a runner running in a race because I Love to run since I ran today.\")"
      ],
      "metadata": {
        "id": "K90JzqUHvy0n"
      },
      "execution_count": 21,
      "outputs": []
    },
    {
      "cell_type": "code",
      "source": [
        "#run,running,ran -> run\n",
        "for token in doc1:\n",
        "  print(f\"{token.text:{10}}{token.pos_:{10}}{token.lemma:{10}}{token.lemma_:>{10}}\")"
      ],
      "metadata": {
        "colab": {
          "base_uri": "https://localhost:8080/"
        },
        "id": "rxrdQGPHwSCe",
        "outputId": "9cf36b70-7d44-4f4d-ba91-05f42c163c9c"
      },
      "execution_count": 37,
      "outputs": [
        {
          "output_type": "stream",
          "name": "stdout",
          "text": [
            "I         PRON      4690420944186131903         I\n",
            "am        AUX       10382539506755952630        be\n",
            "a         DET       11901859001352538922         a\n",
            "runner    NOUN      12640964157389618806    runner\n",
            "running   VERB      12767647472892411841       run\n",
            "in        ADP       3002984154512732771        in\n",
            "a         DET       11901859001352538922         a\n",
            "race      NOUN      8048469955494714898      race\n",
            "because   SCONJ     16950148841647037698   because\n",
            "I         PRON      4690420944186131903         I\n",
            "Love      VERB      3702023516439754181      love\n",
            "to        PART      3791531372978436496        to\n",
            "run       VERB      12767647472892411841       run\n",
            "since     SCONJ     10066841407251338481     since\n",
            "I         PRON      4690420944186131903         I\n",
            "ran       VERB      12767647472892411841       run\n",
            "today     NOUN      11042482332948150395     today\n",
            ".         PUNCT     12646065887601541794         .\n"
          ]
        }
      ]
    },
    {
      "cell_type": "code",
      "source": [
        "def show_lemma(text):\n",
        "  for token in text:\n",
        "    print(f\"{token.text:{12}} {token.pos_:{6}} {token.lemma:<{22}} {token.lemma_}\")"
      ],
      "metadata": {
        "id": "TZCjD9KLwqDr"
      },
      "execution_count": 38,
      "outputs": []
    },
    {
      "cell_type": "code",
      "source": [
        "show_lemma(doc1)"
      ],
      "metadata": {
        "id": "g1YddrG8zaJq",
        "outputId": "a7703d11-5116-4ce0-9272-946abe57e61c",
        "colab": {
          "base_uri": "https://localhost:8080/"
        }
      },
      "execution_count": 39,
      "outputs": [
        {
          "output_type": "stream",
          "name": "stdout",
          "text": [
            "I            PRON   4690420944186131903    I\n",
            "am           AUX    10382539506755952630   be\n",
            "a            DET    11901859001352538922   a\n",
            "runner       NOUN   12640964157389618806   runner\n",
            "running      VERB   12767647472892411841   run\n",
            "in           ADP    3002984154512732771    in\n",
            "a            DET    11901859001352538922   a\n",
            "race         NOUN   8048469955494714898    race\n",
            "because      SCONJ  16950148841647037698   because\n",
            "I            PRON   4690420944186131903    I\n",
            "Love         VERB   3702023516439754181    love\n",
            "to           PART   3791531372978436496    to\n",
            "run          VERB   12767647472892411841   run\n",
            "since        SCONJ  10066841407251338481   since\n",
            "I            PRON   4690420944186131903    I\n",
            "ran          VERB   12767647472892411841   run\n",
            "today        NOUN   11042482332948150395   today\n",
            ".            PUNCT  12646065887601541794   .\n"
          ]
        }
      ]
    },
    {
      "cell_type": "code",
      "source": [
        "doc2 = nlp(u\"I saw ten mice today!\")"
      ],
      "metadata": {
        "id": "IX6-teINzdki"
      },
      "execution_count": 40,
      "outputs": []
    },
    {
      "cell_type": "code",
      "source": [
        "#Lemmatization is more informative than stemming method\n",
        "show_lemma(doc2)"
      ],
      "metadata": {
        "id": "shrsPvwkzme4",
        "outputId": "6a9ebe8c-5d4e-43a1-8dce-79a24a77bc06",
        "colab": {
          "base_uri": "https://localhost:8080/"
        }
      },
      "execution_count": 41,
      "outputs": [
        {
          "output_type": "stream",
          "name": "stdout",
          "text": [
            "I            PRON   4690420944186131903    I\n",
            "saw          VERB   11925638236994514241   see\n",
            "ten          NUM    7970704286052693043    ten\n",
            "mice         NOUN   1384165645700560590    mouse\n",
            "today        NOUN   11042482332948150395   today\n",
            "!            PUNCT  17494803046312582752   !\n"
          ]
        }
      ]
    }
  ]
}