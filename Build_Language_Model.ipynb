{
  "nbformat": 4,
  "nbformat_minor": 0,
  "metadata": {
    "colab": {
      "provenance": [],
      "authorship_tag": "ABX9TyOAEvmpafMYqVf2mRbM3R/Y"
    },
    "kernelspec": {
      "name": "python3",
      "display_name": "Python 3"
    },
    "language_info": {
      "name": "python"
    }
  },
  "cells": [
    {
      "cell_type": "code",
      "execution_count": 3,
      "metadata": {
        "colab": {
          "base_uri": "https://localhost:8080/"
        },
        "id": "Kr9C013VJ8tx",
        "outputId": "93dc102f-d07f-4dd5-f1d4-c1c43cf5c2fa"
      },
      "outputs": [
        {
          "output_type": "stream",
          "name": "stdout",
          "text": [
            "count of n-gram ('i', 'am', 'happy') : 2\n",
            "n-gram ('i', 'am', 'learning') missing\n",
            "n-gram ('i', 'am', 'learning') found\n"
          ]
        }
      ],
      "source": [
        "# Manipulate n_gram count dictionary\n",
        "\n",
        "n_gram_counts = {\n",
        "    ('i','am','happy') : 2,\n",
        "    ('am','happy','because') : 1\n",
        "}\n",
        "\n",
        "# Get count for an n-gram tuple\n",
        "print(f\"count of n-gram {('i', 'am', 'happy')} : {n_gram_counts[('i', 'am', 'happy')]}\")\n",
        "\n",
        "# Check if n-gram is present in the dictionary\n",
        "if ('i','am','learning') in n_gram_counts:\n",
        "  print(f\"n-gram {('i', 'am', 'learning')} found\")\n",
        "else:\n",
        "  print(f\"n-gram {('i', 'am', 'learning')} missing\")\n",
        "\n",
        "# Update the count in the word count dictionary\n",
        "n_gram_counts[('i', 'am', 'learning')] = 1\n",
        "if ('i', 'am', 'learning') in n_gram_counts:\n",
        "    print(f\"n-gram {('i', 'am', 'learning')} found\")\n",
        "else:\n",
        "    print(f\"n-gram {('i', 'am', 'learning')} missing\")"
      ]
    },
    {
      "cell_type": "code",
      "source": [
        "# Concatenate tuple for prefix and tuple with the last word to create the n_gram\n",
        "prefix = ('i', 'am', 'happy')\n",
        "word = 'because'\n",
        "\n",
        "# Note here the syntax for creating a tuple for a single word\n",
        "n_gram = prefix + (word,)\n",
        "print(n_gram)"
      ],
      "metadata": {
        "colab": {
          "base_uri": "https://localhost:8080/"
        },
        "id": "jDAfKyp4LQZR",
        "outputId": "b6daa6fc-4b86-47fa-cd08-d51aefdcac08"
      },
      "execution_count": 6,
      "outputs": [
        {
          "output_type": "stream",
          "name": "stdout",
          "text": [
            "('i', 'am', 'happy', 'because')\n"
          ]
        }
      ]
    },
    {
      "cell_type": "code",
      "source": [
        "import numpy as np\n",
        "import pandas as pd\n",
        "from collections import defaultdict\n",
        "\n",
        "def single_pass_trigram_count_matrix(corpus):\n",
        "\n",
        "  bigrams = []\n",
        "  vocabulary = []\n",
        "  count_matrix_dict = defaultdict(dict)\n",
        "\n",
        "  # Go through the corpus once with a sliding window\n",
        "  for i in range(len(corpus) - 3 + 1):\n",
        "    # Sliding window starts at position i and contains 3 words\n",
        "    trigram = tuple(corpus[i : i+3])\n",
        "\n",
        "    # \"if not bigram in bigrams\" is same as \"if bigram not in bigrams\"\n",
        "    bigram = trigram[0 : -1]\n",
        "    if not bigram in bigrams:\n",
        "      bigrams.append(bigram)\n",
        "\n",
        "    last_word = trigram[-1]\n",
        "    if not last_word in vocabulary:\n",
        "      vocabulary.append(last_word)\n",
        "\n",
        "    if (bigram,last_word) not in count_matrix_dict:\n",
        "      count_matrix_dict[bigram,last_word] = 0\n",
        "\n",
        "    count_matrix_dict[bigram,last_word] += 1\n",
        "\n",
        "  # Convert the count_matrix to np.array to fill in the blanks\n",
        "  count_matrix = np.zeros((len(bigrams),len(vocabulary)))\n",
        "\n",
        "  for trigram_key, trigram_count in count_matrix_dict.items():\n",
        "    count_matrix[bigrams.index(trigram_key[0]),\n",
        "                 vocabulary.index(trigram_key[1])] = trigram_count\n",
        "\n",
        "  # np.array to pandas dataframe conversion\n",
        "  count_matrix = pd.DataFrame(count_matrix,index=bigrams,columns = vocabulary)\n",
        "\n",
        "  return bigrams,vocabulary,count_matrix\n",
        "\n",
        "corpus = ['i', 'am', 'happy', 'because', 'i', 'am', 'learning', '.']\n",
        "\n",
        "bigrams,vocabulary,count_matrix = single_pass_trigram_count_matrix(corpus)\n",
        "\n",
        "print(count_matrix)"
      ],
      "metadata": {
        "colab": {
          "base_uri": "https://localhost:8080/"
        },
        "id": "KyJ985jLLke1",
        "outputId": "a1db83d6-f1d2-43c4-a9c2-0569591f2193"
      },
      "execution_count": 7,
      "outputs": [
        {
          "output_type": "stream",
          "name": "stdout",
          "text": [
            "                  happy  because    i   am  learning    .\n",
            "(i, am)             1.0      0.0  0.0  0.0       1.0  0.0\n",
            "(am, happy)         0.0      1.0  0.0  0.0       0.0  0.0\n",
            "(happy, because)    0.0      0.0  1.0  0.0       0.0  0.0\n",
            "(because, i)        0.0      0.0  0.0  1.0       0.0  0.0\n",
            "(am, learning)      0.0      0.0  0.0  0.0       0.0  1.0\n"
          ]
        }
      ]
    }
  ]
}