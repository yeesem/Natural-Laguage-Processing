{
  "nbformat": 4,
  "nbformat_minor": 0,
  "metadata": {
    "colab": {
      "provenance": [],
      "authorship_tag": "ABX9TyOHWH33TLVtskuBLFoXKuvO",
      "include_colab_link": true
    },
    "kernelspec": {
      "name": "python3",
      "display_name": "Python 3"
    },
    "language_info": {
      "name": "python"
    }
  },
  "cells": [
    {
      "cell_type": "markdown",
      "metadata": {
        "id": "view-in-github",
        "colab_type": "text"
      },
      "source": [
        "<a href=\"https://colab.research.google.com/github/yeesem/Natural-Laguage-Processing/blob/main/Stop_words.ipynb\" target=\"_parent\"><img src=\"https://colab.research.google.com/assets/colab-badge.svg\" alt=\"Open In Colab\"/></a>"
      ]
    },
    {
      "cell_type": "code",
      "execution_count": 1,
      "metadata": {
        "id": "xvo7wxlH6lrT"
      },
      "outputs": [],
      "source": [
        "import spacy"
      ]
    },
    {
      "cell_type": "code",
      "source": [
        "nlp = spacy.load('en_core_web_sm')"
      ],
      "metadata": {
        "id": "2GwDlb5h6pb3"
      },
      "execution_count": 2,
      "outputs": []
    },
    {
      "cell_type": "code",
      "source": [
        "#stop-words - Words that do not give much information\n",
        "print(nlp.Defaults.stop_words)"
      ],
      "metadata": {
        "colab": {
          "base_uri": "https://localhost:8080/"
        },
        "id": "jAJ3FT6m6tYS",
        "outputId": "daa6ad05-2b79-4933-95ec-f317cf266d76"
      },
      "execution_count": 3,
      "outputs": [
        {
          "output_type": "stream",
          "name": "stdout",
          "text": [
            "{'become', 'can', 'and', 'latter', 'whose', \"'ve\", 'i', 'same', 'to', 'about', 'top', 'have', 'for', 'seeming', 'towards', 'nothing', 'nobody', 'everyone', 'few', '’ll', '‘s', 'therein', 'becoming', 'latterly', 'already', 'several', 'herein', 'else', 'along', 'used', 'much', 'them', 'put', 'seems', 'which', 'could', 'bottom', 'did', 'anything', 'done', \"n't\", 'may', 'fifteen', 'this', 'itself', 'regarding', 'per', 'whereas', 'off', 'many', 'quite', 'give', 'cannot', 'does', 'whenever', 'name', 'than', 'two', 'thereby', 'five', 'nor', 'only', 'somehow', 'go', 'nowhere', 'because', 'might', 'themselves', 'none', 'just', 'due', 'again', 'once', 'anyway', 'would', 'be', 'above', 'eleven', 'n‘t', 'either', 'is', 'yourselves', 'twelve', 'make', 'ten', 'below', 'some', 'amongst', 'you', 'former', 'least', 'his', 'still', 'empty', 'twenty', 'an', 'so', \"'d\", 're', 'also', 'without', 'why', 'unless', 'forty', 'against', 'between', 'sixty', 'except', 'the', 'not', 'afterwards', 'been', 'almost', 'ourselves', 'their', 'besides', 'him', 'anywhere', 'into', 'had', 'must', 'ours', 'around', 'too', 'fifty', 'whither', 'whereafter', 'she', 'indeed', 'rather', 'four', 'your', 'thru', 'should', 'a', 'my', 'by', 'among', 'beyond', 'they', 'or', 'behind', 'whom', 'enough', 'three', 'under', 'something', 'n’t', 'less', 'becomes', 'its', 'who', 'see', 'will', 'everything', 'seem', 'were', 'it', 'both', 'most', 'he', 'yet', 'one', 'with', 'anyhow', 'part', 'keep', 'such', 'wherever', 'as', 'himself', 'of', 'others', 'hundred', 'sometime', 'amount', 'do', 'someone', 'very', 'through', '‘ve', 'back', '’re', 'any', 'every', 'namely', 'but', 'using', 'say', 'ever', 'thus', 'what', '’s', 'down', 'hence', 'everywhere', 'six', 'hereafter', 'show', '‘ll', 'during', 'until', 'whoever', 'over', 'last', 'often', 'perhaps', 'always', 'me', 'beforehand', 'no', 'while', 'thereafter', 'hereupon', 'move', 'although', 'after', 'became', 'somewhere', 'before', 'more', 'noone', 'up', 'mine', 'alone', 'now', 'full', 'nine', 'beside', 'anyone', 'another', 'first', 'these', 'wherein', 'throughout', 'am', 'whereby', 'if', 'take', 'made', 'yourself', 'sometimes', '‘d', 'even', 'her', 'moreover', 'call', 'please', 'whereupon', '’ve', '‘m', 'various', 'whatever', 'other', 'elsewhere', 'onto', 'nevertheless', 'those', 'in', 'our', 'whence', 'herself', 'third', \"'s\", 'when', 'where', 'however', 'since', 'thereupon', 'there', 'then', 'that', 'via', 'myself', \"'ll\", '’d', 'upon', 'from', 'across', 'on', 'otherwise', 'toward', 'was', 'thence', 'neither', 'never', 'well', 'though', 'own', 'we', '’m', 'meanwhile', 'mostly', 'side', 'eight', 'has', 'within', 'out', 'whether', 'front', 'doing', 'hereby', 'hers', 'are', 'serious', 'how', 'each', '‘re', 'therefore', 'us', 'really', 'here', 'further', 'get', 'seemed', 'being', \"'re\", 'at', 'ca', 'whole', \"'m\", 'together', 'formerly', 'all', 'yours', 'next'}\n"
          ]
        }
      ]
    },
    {
      "cell_type": "code",
      "source": [
        "len(nlp.Defaults.stop_words)"
      ],
      "metadata": {
        "colab": {
          "base_uri": "https://localhost:8080/"
        },
        "id": "teBHmDw36z7i",
        "outputId": "ffd52f3d-9441-48b7-9336-ade9658f3461"
      },
      "execution_count": 4,
      "outputs": [
        {
          "output_type": "execute_result",
          "data": {
            "text/plain": [
              "326"
            ]
          },
          "metadata": {},
          "execution_count": 4
        }
      ]
    },
    {
      "cell_type": "code",
      "source": [
        "nlp.vocab['is']"
      ],
      "metadata": {
        "colab": {
          "base_uri": "https://localhost:8080/"
        },
        "id": "BDA8-JAE7CWx",
        "outputId": "6ed86be6-c74c-42e0-bcff-5708552be3c6"
      },
      "execution_count": 5,
      "outputs": [
        {
          "output_type": "execute_result",
          "data": {
            "text/plain": [
              "<spacy.lexeme.Lexeme at 0x7a5de7b6c480>"
            ]
          },
          "metadata": {},
          "execution_count": 5
        }
      ]
    },
    {
      "cell_type": "code",
      "source": [
        "nlp.vocab['is'].is_stop"
      ],
      "metadata": {
        "colab": {
          "base_uri": "https://localhost:8080/"
        },
        "id": "s3G1S1xD7Ght",
        "outputId": "1ab19b4b-07a2-42e2-c9a6-bc1a3ed2203d"
      },
      "execution_count": 6,
      "outputs": [
        {
          "output_type": "execute_result",
          "data": {
            "text/plain": [
              "True"
            ]
          },
          "metadata": {},
          "execution_count": 6
        }
      ]
    },
    {
      "cell_type": "code",
      "source": [
        "nlp.vocab['mystery'].is_stop"
      ],
      "metadata": {
        "colab": {
          "base_uri": "https://localhost:8080/"
        },
        "id": "Z1gl1YNY7J8_",
        "outputId": "b7ea40e3-b434-47ca-86b5-238d99d61b34"
      },
      "execution_count": 7,
      "outputs": [
        {
          "output_type": "execute_result",
          "data": {
            "text/plain": [
              "False"
            ]
          },
          "metadata": {},
          "execution_count": 7
        }
      ]
    },
    {
      "cell_type": "code",
      "source": [
        "nlp.Defaults.stop_words.add('btw')"
      ],
      "metadata": {
        "id": "eT5R-Y7Y7O5Q"
      },
      "execution_count": 8,
      "outputs": []
    },
    {
      "cell_type": "code",
      "source": [
        "nlp.vocab['btw'].is_stop = True"
      ],
      "metadata": {
        "id": "Nfk-B7YA7bQU"
      },
      "execution_count": 9,
      "outputs": []
    },
    {
      "cell_type": "code",
      "source": [
        "len(nlp.Defaults.stop_words)"
      ],
      "metadata": {
        "colab": {
          "base_uri": "https://localhost:8080/"
        },
        "id": "KSq_itQW7fKp",
        "outputId": "e8b03bab-932b-4a8f-d4c2-7c6b28e5822c"
      },
      "execution_count": 10,
      "outputs": [
        {
          "output_type": "execute_result",
          "data": {
            "text/plain": [
              "327"
            ]
          },
          "metadata": {},
          "execution_count": 10
        }
      ]
    },
    {
      "cell_type": "code",
      "source": [
        "nlp.vocab['btw'].is_stop"
      ],
      "metadata": {
        "colab": {
          "base_uri": "https://localhost:8080/"
        },
        "id": "QSQMo0XY7jNP",
        "outputId": "26368bb7-d6a6-4c30-f025-c6f93cf9bf7a"
      },
      "execution_count": 11,
      "outputs": [
        {
          "output_type": "execute_result",
          "data": {
            "text/plain": [
              "True"
            ]
          },
          "metadata": {},
          "execution_count": 11
        }
      ]
    },
    {
      "cell_type": "code",
      "source": [
        "#Want to remove the stop word from the list\n",
        "nlp.Defaults.stop_words.remove('beyond')"
      ],
      "metadata": {
        "id": "Gq45FNng7nRs"
      },
      "execution_count": 12,
      "outputs": []
    },
    {
      "cell_type": "code",
      "source": [
        "nlp.vocab['beyond'].is_stop = False"
      ],
      "metadata": {
        "id": "QW1n90Vo7xzN"
      },
      "execution_count": 14,
      "outputs": []
    },
    {
      "cell_type": "code",
      "source": [
        "nlp.vocab['beyond'].is_stop"
      ],
      "metadata": {
        "colab": {
          "base_uri": "https://localhost:8080/"
        },
        "id": "z7C6zwgt71TP",
        "outputId": "2a1d0bcf-71d6-4850-8531-7c597fdc2ce7"
      },
      "execution_count": 15,
      "outputs": [
        {
          "output_type": "execute_result",
          "data": {
            "text/plain": [
              "False"
            ]
          },
          "metadata": {},
          "execution_count": 15
        }
      ]
    }
  ]
}