{
  "nbformat": 4,
  "nbformat_minor": 0,
  "metadata": {
    "colab": {
      "provenance": [],
      "authorship_tag": "ABX9TyP/ciSwqbDarrfpEOrNGWdL",
      "include_colab_link": true
    },
    "kernelspec": {
      "name": "python3",
      "display_name": "Python 3"
    },
    "language_info": {
      "name": "python"
    }
  },
  "cells": [
    {
      "cell_type": "markdown",
      "metadata": {
        "id": "view-in-github",
        "colab_type": "text"
      },
      "source": [
        "<a href=\"https://colab.research.google.com/github/yeesem/Natural-Laguage-Processing/blob/main/Text_Generation_with_Keras.ipynb\" target=\"_parent\"><img src=\"https://colab.research.google.com/assets/colab-badge.svg\" alt=\"Open In Colab\"/></a>"
      ]
    },
    {
      "cell_type": "code",
      "execution_count": 240,
      "metadata": {
        "id": "peXE31St4HNK"
      },
      "outputs": [],
      "source": [
        "#Read file function\n",
        "def read_file(filepath):\n",
        "  with open(filepath) as f:\n",
        "    str_text = f.read()\n",
        "\n",
        "  return str_text"
      ]
    },
    {
      "cell_type": "code",
      "source": [
        "read_file(\"/content/moby_dick_four_chapters.txt\")[:1000]"
      ],
      "metadata": {
        "colab": {
          "base_uri": "https://localhost:8080/",
          "height": 243
        },
        "id": "c3FKjSg_4dqR",
        "outputId": "af12b2d3-1295-442b-e4fa-148257574b7b"
      },
      "execution_count": 241,
      "outputs": [
        {
          "output_type": "execute_result",
          "data": {
            "text/plain": [
              "\"Call me Ishmael.  Some years ago--never mind how long\\nprecisely--having little or no money in my purse, and nothing\\nparticular to interest me on shore, I thought I would sail about a\\nlittle and see the watery part of the world.  It is a way I have of\\ndriving off the spleen and regulating the circulation.  Whenever I\\nfind myself growing grim about the mouth; whenever it is a damp,\\ndrizzly November in my soul; whenever I find myself involuntarily\\npausing before coffin warehouses, and bringing up the rear of every\\nfuneral I meet; and especially whenever my hypos get such an upper\\nhand of me, that it requires a strong moral principle to prevent me\\nfrom deliberately stepping into the street, and methodically knocking\\npeople's hats off--then, I account it high time to get to sea as soon\\nas I can.  This is my substitute for pistol and ball.  With a\\nphilosophical flourish Cato throws himself upon his sword; I quietly\\ntake to the ship.  There is nothing surprising in this.  If they but\\nknew it,\""
            ],
            "application/vnd.google.colaboratory.intrinsic+json": {
              "type": "string"
            }
          },
          "metadata": {},
          "execution_count": 241
        }
      ]
    },
    {
      "cell_type": "code",
      "source": [
        "import spacy"
      ],
      "metadata": {
        "id": "mmzTrvFO5AmG"
      },
      "execution_count": 242,
      "outputs": []
    },
    {
      "cell_type": "code",
      "source": [
        "nlp = spacy.load('en_core_web_sm',disable = ['parser','tagger','ner'])"
      ],
      "metadata": {
        "id": "oJ7I2Eg95d-t"
      },
      "execution_count": 243,
      "outputs": []
    },
    {
      "cell_type": "code",
      "source": [
        "nlp_max_length = 1198623"
      ],
      "metadata": {
        "id": "FukVWzMb5qTg"
      },
      "execution_count": 244,
      "outputs": []
    },
    {
      "cell_type": "code",
      "source": [
        "def separate_punc(doc_text):\n",
        "  return [token.text.lower() for token in nlp(doc_text) if token.text not in '\\n\\n \\n\\n\\n!\"-#$%&()--.*+,-/:;<=>?@[\\\\]^_`{|}~\\t\\n ']"
      ],
      "metadata": {
        "id": "3wJyfnU159qj"
      },
      "execution_count": 245,
      "outputs": []
    },
    {
      "cell_type": "code",
      "source": [
        "d = read_file('/content/moby_dick_four_chapters.txt')"
      ],
      "metadata": {
        "id": "f-CbJkRd6dNU"
      },
      "execution_count": 246,
      "outputs": []
    },
    {
      "cell_type": "code",
      "source": [
        "tokens = separate_punc(d)"
      ],
      "metadata": {
        "colab": {
          "base_uri": "https://localhost:8080/"
        },
        "id": "llvk5YEN7kwG",
        "outputId": "a3b24adc-2b53-4d95-9d1b-298985d641ee"
      },
      "execution_count": 247,
      "outputs": [
        {
          "output_type": "stream",
          "name": "stderr",
          "text": [
            "/usr/local/lib/python3.10/dist-packages/spacy/pipeline/lemmatizer.py:211: UserWarning: [W108] The rule-based lemmatizer did not find POS annotation for one or more tokens. Check that your pipeline includes components that assign token.pos, typically 'tagger'+'attribute_ruler' or 'morphologizer'.\n",
            "  warnings.warn(Warnings.W108)\n"
          ]
        }
      ]
    },
    {
      "cell_type": "code",
      "source": [
        "tokens[:10]"
      ],
      "metadata": {
        "colab": {
          "base_uri": "https://localhost:8080/"
        },
        "id": "lmOm_QrZDUVX",
        "outputId": "6dfd8e10-3d06-42cf-900e-e9ea5734830d"
      },
      "execution_count": 248,
      "outputs": [
        {
          "output_type": "execute_result",
          "data": {
            "text/plain": [
              "['call',\n",
              " 'me',\n",
              " 'ishmael',\n",
              " 'some',\n",
              " 'years',\n",
              " 'ago',\n",
              " 'never',\n",
              " 'mind',\n",
              " 'how',\n",
              " 'long']"
            ]
          },
          "metadata": {},
          "execution_count": 248
        }
      ]
    },
    {
      "cell_type": "code",
      "source": [
        "len(tokens)"
      ],
      "metadata": {
        "colab": {
          "base_uri": "https://localhost:8080/"
        },
        "id": "vQZL9wqeDViO",
        "outputId": "1db058d9-c3a0-41b5-9ea9-9024849e0abd"
      },
      "execution_count": 249,
      "outputs": [
        {
          "output_type": "execute_result",
          "data": {
            "text/plain": [
              "11338"
            ]
          },
          "metadata": {},
          "execution_count": 249
        }
      ]
    },
    {
      "cell_type": "code",
      "source": [
        "#25 words --predict--> #20 words\n",
        "train_len = 25 + 1\n",
        "\n",
        "text_sequences = []\n",
        "\n",
        "for i in range(train_len,len(tokens)):\n",
        "  seq = tokens[i-train_len:i]\n",
        "\n",
        "  text_sequences.append(seq)"
      ],
      "metadata": {
        "id": "pJK5Y5OmDaNo"
      },
      "execution_count": 250,
      "outputs": []
    },
    {
      "cell_type": "code",
      "source": [
        "type(text_sequences )"
      ],
      "metadata": {
        "colab": {
          "base_uri": "https://localhost:8080/"
        },
        "id": "HuToDMjUEWhR",
        "outputId": "02ee6ab0-a779-4abe-8232-3f9d1a4ecc8d"
      },
      "execution_count": 251,
      "outputs": [
        {
          "output_type": "execute_result",
          "data": {
            "text/plain": [
              "list"
            ]
          },
          "metadata": {},
          "execution_count": 251
        }
      ]
    },
    {
      "cell_type": "code",
      "source": [
        "text_sequences[0]"
      ],
      "metadata": {
        "colab": {
          "base_uri": "https://localhost:8080/"
        },
        "id": "_NbQPa3GD7zQ",
        "outputId": "26385590-9a34-4499-83c9-0fa9b11ffb4f"
      },
      "execution_count": 252,
      "outputs": [
        {
          "output_type": "execute_result",
          "data": {
            "text/plain": [
              "['call',\n",
              " 'me',\n",
              " 'ishmael',\n",
              " 'some',\n",
              " 'years',\n",
              " 'ago',\n",
              " 'never',\n",
              " 'mind',\n",
              " 'how',\n",
              " 'long',\n",
              " 'precisely',\n",
              " 'having',\n",
              " 'little',\n",
              " 'or',\n",
              " 'no',\n",
              " 'money',\n",
              " 'in',\n",
              " 'my',\n",
              " 'purse',\n",
              " 'and',\n",
              " 'nothing',\n",
              " 'particular',\n",
              " 'to',\n",
              " 'interest',\n",
              " 'me',\n",
              " 'on']"
            ]
          },
          "metadata": {},
          "execution_count": 252
        }
      ]
    },
    {
      "cell_type": "code",
      "source": [
        "text_sequences[1]"
      ],
      "metadata": {
        "colab": {
          "base_uri": "https://localhost:8080/"
        },
        "id": "dVLz02h9El8J",
        "outputId": "61766dc1-9ed9-48a1-d89f-08c1dec917f5"
      },
      "execution_count": 253,
      "outputs": [
        {
          "output_type": "execute_result",
          "data": {
            "text/plain": [
              "['me',\n",
              " 'ishmael',\n",
              " 'some',\n",
              " 'years',\n",
              " 'ago',\n",
              " 'never',\n",
              " 'mind',\n",
              " 'how',\n",
              " 'long',\n",
              " 'precisely',\n",
              " 'having',\n",
              " 'little',\n",
              " 'or',\n",
              " 'no',\n",
              " 'money',\n",
              " 'in',\n",
              " 'my',\n",
              " 'purse',\n",
              " 'and',\n",
              " 'nothing',\n",
              " 'particular',\n",
              " 'to',\n",
              " 'interest',\n",
              " 'me',\n",
              " 'on',\n",
              " 'shore']"
            ]
          },
          "metadata": {},
          "execution_count": 253
        }
      ]
    },
    {
      "cell_type": "code",
      "source": [
        "len(text_sequences[0])"
      ],
      "metadata": {
        "colab": {
          "base_uri": "https://localhost:8080/"
        },
        "id": "pVKTMGA7FP7H",
        "outputId": "5f88d90a-93d6-4448-b996-f2308a8a0025"
      },
      "execution_count": 254,
      "outputs": [
        {
          "output_type": "execute_result",
          "data": {
            "text/plain": [
              "26"
            ]
          },
          "metadata": {},
          "execution_count": 254
        }
      ]
    },
    {
      "cell_type": "code",
      "source": [
        "print(' '.join(text_sequences[0]))\n",
        "print('\\n')\n",
        "print(' '.join(text_sequences[1]))"
      ],
      "metadata": {
        "colab": {
          "base_uri": "https://localhost:8080/"
        },
        "id": "C4s9xaIzFT3J",
        "outputId": "434c9cfa-6ba0-4791-b4d3-c09c7701ef97"
      },
      "execution_count": 255,
      "outputs": [
        {
          "output_type": "stream",
          "name": "stdout",
          "text": [
            "call me ishmael some years ago never mind how long precisely having little or no money in my purse and nothing particular to interest me on\n",
            "\n",
            "\n",
            "me ishmael some years ago never mind how long precisely having little or no money in my purse and nothing particular to interest me on shore\n"
          ]
        }
      ]
    },
    {
      "cell_type": "code",
      "source": [
        "from keras.preprocessing.text import Tokenizer"
      ],
      "metadata": {
        "id": "8WHTg2QXFeeu"
      },
      "execution_count": 256,
      "outputs": []
    },
    {
      "cell_type": "code",
      "source": [
        "tokenizer = Tokenizer()\n",
        "tokenizer.fit_on_texts(text_sequences)\n",
        "sequences = tokenizer.texts_to_sequences(text_sequences)"
      ],
      "metadata": {
        "id": "WMc1iB3PF5aN"
      },
      "execution_count": 257,
      "outputs": []
    },
    {
      "cell_type": "code",
      "source": [
        "#Assign an id to each of word\n",
        "sequences[0]"
      ],
      "metadata": {
        "colab": {
          "base_uri": "https://localhost:8080/"
        },
        "id": "-VMeYpQWI2Mm",
        "outputId": "46997f99-06e4-4ac6-caea-8d13d7f52dad"
      },
      "execution_count": 258,
      "outputs": [
        {
          "output_type": "execute_result",
          "data": {
            "text/plain": [
              "[956,\n",
              " 14,\n",
              " 263,\n",
              " 51,\n",
              " 261,\n",
              " 408,\n",
              " 87,\n",
              " 219,\n",
              " 129,\n",
              " 111,\n",
              " 954,\n",
              " 260,\n",
              " 50,\n",
              " 43,\n",
              " 38,\n",
              " 314,\n",
              " 7,\n",
              " 23,\n",
              " 546,\n",
              " 3,\n",
              " 150,\n",
              " 259,\n",
              " 6,\n",
              " 2713,\n",
              " 14,\n",
              " 24]"
            ]
          },
          "metadata": {},
          "execution_count": 258
        }
      ]
    },
    {
      "cell_type": "code",
      "source": [
        "#ID 100 - 'who'\n",
        "tokenizer.index_word[100]"
      ],
      "metadata": {
        "colab": {
          "base_uri": "https://localhost:8080/",
          "height": 35
        },
        "id": "e1AYCNKMI8mu",
        "outputId": "13b2a03a-632b-4f79-abdf-25d5dbb412ff"
      },
      "execution_count": 259,
      "outputs": [
        {
          "output_type": "execute_result",
          "data": {
            "text/plain": [
              "'who'"
            ],
            "application/vnd.google.colaboratory.intrinsic+json": {
              "type": "string"
            }
          },
          "metadata": {},
          "execution_count": 259
        }
      ]
    },
    {
      "cell_type": "code",
      "source": [
        "for i in sequences[0]:\n",
        "  print(f\"{i:<4} : {tokenizer.index_word[i]}\")"
      ],
      "metadata": {
        "colab": {
          "base_uri": "https://localhost:8080/"
        },
        "id": "c1qB7a-1JSOq",
        "outputId": "837062be-54a0-4997-de71-b5061b535d03"
      },
      "execution_count": 260,
      "outputs": [
        {
          "output_type": "stream",
          "name": "stdout",
          "text": [
            "956  : call\n",
            "14   : me\n",
            "263  : ishmael\n",
            "51   : some\n",
            "261  : years\n",
            "408  : ago\n",
            "87   : never\n",
            "219  : mind\n",
            "129  : how\n",
            "111  : long\n",
            "954  : precisely\n",
            "260  : having\n",
            "50   : little\n",
            "43   : or\n",
            "38   : no\n",
            "314  : money\n",
            "7    : in\n",
            "23   : my\n",
            "546  : purse\n",
            "3    : and\n",
            "150  : nothing\n",
            "259  : particular\n",
            "6    : to\n",
            "2713 : interest\n",
            "14   : me\n",
            "24   : on\n"
          ]
        }
      ]
    },
    {
      "cell_type": "code",
      "source": [
        "type(tokenizer.word_counts)"
      ],
      "metadata": {
        "colab": {
          "base_uri": "https://localhost:8080/"
        },
        "id": "9IqD1JyFJd_V",
        "outputId": "50262017-9742-4497-ed91-d758a3b780cf"
      },
      "execution_count": 261,
      "outputs": [
        {
          "output_type": "execute_result",
          "data": {
            "text/plain": [
              "collections.OrderedDict"
            ]
          },
          "metadata": {},
          "execution_count": 261
        }
      ]
    },
    {
      "cell_type": "code",
      "source": [
        "#Show to word count for every single word\n",
        "tokenizer.word_counts"
      ],
      "metadata": {
        "colab": {
          "base_uri": "https://localhost:8080/"
        },
        "id": "6gsI24H2KZTP",
        "outputId": "dba9dd95-5697-41c5-cc7c-856e90b29daf"
      },
      "execution_count": 262,
      "outputs": [
        {
          "output_type": "execute_result",
          "data": {
            "text/plain": [
              "OrderedDict([('call', 27),\n",
              "             ('me', 2471),\n",
              "             ('ishmael', 133),\n",
              "             ('some', 758),\n",
              "             ('years', 135),\n",
              "             ('ago', 84),\n",
              "             ('never', 449),\n",
              "             ('mind', 164),\n",
              "             ('how', 321),\n",
              "             ('long', 374),\n",
              "             ('precisely', 37),\n",
              "             ('having', 142),\n",
              "             ('little', 767),\n",
              "             ('or', 950),\n",
              "             ('no', 1003),\n",
              "             ('money', 120),\n",
              "             ('in', 5647),\n",
              "             ('my', 1786),\n",
              "             ('purse', 71),\n",
              "             ('and', 9646),\n",
              "             ('nothing', 281),\n",
              "             ('particular', 152),\n",
              "             ('to', 6497),\n",
              "             ('interest', 24),\n",
              "             ('on', 1716),\n",
              "             ('shore', 26),\n",
              "             ('i', 7150),\n",
              "             ('thought', 676),\n",
              "             ('would', 702),\n",
              "             ('sail', 104),\n",
              "             ('about', 1014),\n",
              "             ('a', 10377),\n",
              "             ('see', 416),\n",
              "             ('the', 15540),\n",
              "             ('watery', 26),\n",
              "             ('part', 234),\n",
              "             ('of', 8287),\n",
              "             ('world', 234),\n",
              "             ('it', 4238),\n",
              "             ('is', 1950),\n",
              "             ('way', 390),\n",
              "             ('have', 806),\n",
              "             ('driving', 26),\n",
              "             ('off', 416),\n",
              "             ('spleen', 26),\n",
              "             ('regulating', 26),\n",
              "             ('circulation', 26),\n",
              "             ('whenever', 130),\n",
              "             ('find', 78),\n",
              "             ('myself', 416),\n",
              "             ('growing', 26),\n",
              "             ('grim', 26),\n",
              "             ('mouth', 130),\n",
              "             ('damp', 78),\n",
              "             ('drizzly', 26),\n",
              "             ('november', 26),\n",
              "             ('soul', 78),\n",
              "             ('involuntarily', 52),\n",
              "             ('pausing', 52),\n",
              "             ('before', 364),\n",
              "             ('coffin', 104),\n",
              "             ('warehouses', 52),\n",
              "             ('bringing', 26),\n",
              "             ('up', 1237),\n",
              "             ('rear', 26),\n",
              "             ('every', 182),\n",
              "             ('funeral', 26),\n",
              "             ('meet', 26),\n",
              "             ('especially', 104),\n",
              "             ('hypos', 26),\n",
              "             ('get', 364),\n",
              "             ('such', 572),\n",
              "             ('an', 806),\n",
              "             ('upper', 26),\n",
              "             ('hand', 312),\n",
              "             ('that', 3770),\n",
              "             ('requires', 52),\n",
              "             ('strong', 78),\n",
              "             ('moral', 26),\n",
              "             ('principle', 26),\n",
              "             ('prevent', 26),\n",
              "             ('from', 1508),\n",
              "             ('deliberately', 26),\n",
              "             ('stepping', 26),\n",
              "             ('into', 988),\n",
              "             ('street', 104),\n",
              "             ('methodically', 26),\n",
              "             ('knocking', 26),\n",
              "             ('people', 52),\n",
              "             (\"'s\", 1691),\n",
              "             ('hats', 26),\n",
              "             ('then', 832),\n",
              "             ('account', 78),\n",
              "             ('high', 130),\n",
              "             ('time', 520),\n",
              "             ('sea', 546),\n",
              "             ('as', 2366),\n",
              "             ('soon', 234),\n",
              "             ('can', 338),\n",
              "             ('this', 2158),\n",
              "             ('substitute', 26),\n",
              "             ('for', 1820),\n",
              "             ('pistol', 26),\n",
              "             ('ball', 26),\n",
              "             ('with', 2392),\n",
              "             ('philosophical', 26),\n",
              "             ('flourish', 26),\n",
              "             ('cato', 26),\n",
              "             ('throws', 26),\n",
              "             ('himself', 338),\n",
              "             ('upon', 780),\n",
              "             ('his', 3139),\n",
              "             ('sword', 78),\n",
              "             ('quietly', 78),\n",
              "             ('take', 260),\n",
              "             ('ship', 182),\n",
              "             ('there', 1456),\n",
              "             ('surprising', 26),\n",
              "             ('if', 728),\n",
              "             ('they', 728),\n",
              "             ('but', 2652),\n",
              "             ('knew', 130),\n",
              "             ('almost', 286),\n",
              "             ('all', 1872),\n",
              "             ('men', 130),\n",
              "             ('their', 390),\n",
              "             ('degree', 78),\n",
              "             ('other', 494),\n",
              "             ('cherish', 26),\n",
              "             ('very', 494),\n",
              "             ('nearly', 52),\n",
              "             ('same', 312),\n",
              "             ('feelings', 26),\n",
              "             ('towards', 260),\n",
              "             ('ocean', 52),\n",
              "             ('now', 1040),\n",
              "             ('your', 442),\n",
              "             ('insular', 26),\n",
              "             ('city', 104),\n",
              "             ('manhattoes', 26),\n",
              "             ('belted', 26),\n",
              "             ('round', 364),\n",
              "             ('by', 962),\n",
              "             ('wharves', 26),\n",
              "             ('indian', 52),\n",
              "             ('isles', 26),\n",
              "             ('coral', 26),\n",
              "             ('reefs', 26),\n",
              "             ('commerce', 26),\n",
              "             ('surrounds', 26),\n",
              "             ('her', 156),\n",
              "             ('surf', 26),\n",
              "             ('right', 156),\n",
              "             ('left', 78),\n",
              "             ('streets', 208),\n",
              "             ('you', 2158),\n",
              "             ('waterward', 52),\n",
              "             ('its', 156),\n",
              "             ('extreme', 26),\n",
              "             ('downtown', 26),\n",
              "             ('battery', 52),\n",
              "             ('where', 364),\n",
              "             ('noble', 52),\n",
              "             ('mole', 26),\n",
              "             ('washed', 52),\n",
              "             ('waves', 26),\n",
              "             ('cooled', 26),\n",
              "             ('breezes', 26),\n",
              "             ('which', 572),\n",
              "             ('few', 104),\n",
              "             ('hours', 130),\n",
              "             ('previous', 104),\n",
              "             ('were', 962),\n",
              "             ('out', 956),\n",
              "             ('sight', 104),\n",
              "             ('land', 208),\n",
              "             ('look', 156),\n",
              "             ('at', 2184),\n",
              "             ('crowds', 52),\n",
              "             ('water', 234),\n",
              "             ('gazers', 26),\n",
              "             ('circumambulate', 26),\n",
              "             ('dreamy', 26),\n",
              "             ('sabbath', 52),\n",
              "             ('afternoon', 52),\n",
              "             ('go', 494),\n",
              "             ('corlears', 26),\n",
              "             ('hook', 26),\n",
              "             ('coenties', 26),\n",
              "             ('slip', 26),\n",
              "             ('thence', 52),\n",
              "             ('whitehall', 26),\n",
              "             ('northward', 26),\n",
              "             ('what', 1118),\n",
              "             ('do', 702),\n",
              "             ('see?--posted', 26),\n",
              "             ('like', 732),\n",
              "             ('silent', 52),\n",
              "             ('sentinels', 26),\n",
              "             ('around', 78),\n",
              "             ('town', 156),\n",
              "             ('stand', 182),\n",
              "             ('thousands', 52),\n",
              "             ('mortal', 26),\n",
              "             ('fixed', 78),\n",
              "             ('reveries', 52),\n",
              "             ('leaning', 52),\n",
              "             ('against', 234),\n",
              "             ('spiles', 26),\n",
              "             ('seated', 52),\n",
              "             ('pier', 26),\n",
              "             ('heads', 338),\n",
              "             ('looking', 312),\n",
              "             ('over', 702),\n",
              "             ('bulwarks', 52),\n",
              "             ('ships', 78),\n",
              "             ('china', 26),\n",
              "             ('aloft', 52),\n",
              "             ('rigging', 26),\n",
              "             ('striving', 26),\n",
              "             ('still', 364),\n",
              "             ('better', 208),\n",
              "             ('seaward', 26),\n",
              "             ('peep', 26),\n",
              "             ('these', 494),\n",
              "             ('are', 416),\n",
              "             ('landsmen', 26),\n",
              "             ('week', 52),\n",
              "             ('days', 104),\n",
              "             ('pent', 26),\n",
              "             ('lath', 26),\n",
              "             ('plaster', 52),\n",
              "             ('tied', 26),\n",
              "             ('counters', 26),\n",
              "             ('nailed', 26),\n",
              "             ('benches', 26),\n",
              "             ('clinched', 26),\n",
              "             ('desks', 26),\n",
              "             ('green', 130),\n",
              "             ('fields', 26),\n",
              "             ('gone', 52),\n",
              "             ('here', 598),\n",
              "             ('come', 338),\n",
              "             ('more', 494),\n",
              "             ('pacing', 26),\n",
              "             ('straight', 104),\n",
              "             ('seemingly', 26),\n",
              "             ('bound', 52),\n",
              "             ('dive', 26),\n",
              "             ('strange', 182),\n",
              "             ('will', 260),\n",
              "             ('content', 52),\n",
              "             ('them', 442),\n",
              "             ('extremest', 26),\n",
              "             ('limit', 26),\n",
              "             ('loitering', 26),\n",
              "             ('under', 260),\n",
              "             ('shady', 26),\n",
              "             ('lee', 26),\n",
              "             ('yonder', 52),\n",
              "             ('not', 1534),\n",
              "             ('suffice', 26),\n",
              "             ('must', 442),\n",
              "             ('just', 390),\n",
              "             ('nigh', 104),\n",
              "             ('possibly', 26),\n",
              "             ('without', 182),\n",
              "             ('falling', 52),\n",
              "             ('miles', 78),\n",
              "             ('leagues', 26),\n",
              "             ('inlanders', 26),\n",
              "             ('lanes', 26),\n",
              "             ('alleys', 26),\n",
              "             ('avenues', 26),\n",
              "             ('north', 52),\n",
              "             ('east', 26),\n",
              "             ('south', 156),\n",
              "             ('west', 26),\n",
              "             ('yet', 416),\n",
              "             ('unite', 26),\n",
              "             ('tell', 442),\n",
              "             ('does', 156),\n",
              "             ('magnetic', 26),\n",
              "             ('virtue', 26),\n",
              "             ('needles', 26),\n",
              "             ('compasses', 26),\n",
              "             ('those', 234),\n",
              "             ('attract', 26),\n",
              "             ('thither', 26),\n",
              "             ('once', 208),\n",
              "             ('say', 286),\n",
              "             ('country', 78),\n",
              "             ('lakes', 26),\n",
              "             ('any', 364),\n",
              "             ('path', 26),\n",
              "             ('please', 52),\n",
              "             ('ten', 52),\n",
              "             ('one', 1300),\n",
              "             ('carries', 26),\n",
              "             ('down', 468),\n",
              "             ('dale', 26),\n",
              "             ('leaves', 52),\n",
              "             ('pool', 26),\n",
              "             ('stream', 78),\n",
              "             ('magic', 52),\n",
              "             ('let', 156),\n",
              "             ('most', 468),\n",
              "             ('absent', 26),\n",
              "             ('minded', 26),\n",
              "             ('be', 1716),\n",
              "             ('plunged', 52),\n",
              "             ('deepest', 26),\n",
              "             ('man', 572),\n",
              "             ('legs', 104),\n",
              "             ('set', 156),\n",
              "             ('feet', 182),\n",
              "             ('going', 260),\n",
              "             ('he', 3247),\n",
              "             ('infallibly', 26),\n",
              "             ('lead', 78),\n",
              "             ('region', 26),\n",
              "             ('should', 286),\n",
              "             ('ever', 338),\n",
              "             ('athirst', 26),\n",
              "             ('great', 376),\n",
              "             ('american', 78),\n",
              "             ('desert', 26),\n",
              "             ('try', 104),\n",
              "             ('experiment', 26),\n",
              "             ('caravan', 26),\n",
              "             ('happen', 26),\n",
              "             ('supplied', 26),\n",
              "             ('metaphysical', 52),\n",
              "             ('professor', 26),\n",
              "             ('yes', 104),\n",
              "             ('knows', 26),\n",
              "             ('meditation', 26),\n",
              "             ('wedded', 26),\n",
              "             ('artist', 78),\n",
              "             ('desires', 26),\n",
              "             ('paint', 26),\n",
              "             ('dreamiest', 26),\n",
              "             ('shadiest', 26),\n",
              "             ('quietest', 26),\n",
              "             ('enchanting', 26),\n",
              "             ('bit', 130),\n",
              "             ('romantic', 26),\n",
              "             ('landscape', 26),\n",
              "             ('valley', 26),\n",
              "             ('saco', 26),\n",
              "             ('chief', 52),\n",
              "             ('element', 26),\n",
              "             ('employs', 26),\n",
              "             ('trees', 26),\n",
              "             ('each', 78),\n",
              "             ('hollow', 26),\n",
              "             ('trunk', 52),\n",
              "             ('hermit', 26),\n",
              "             ('crucifix', 26),\n",
              "             ('within', 130),\n",
              "             ('sleeps', 26),\n",
              "             ('meadow', 52),\n",
              "             ('sleep', 416),\n",
              "             ('cattle', 26),\n",
              "             ('cottage', 26),\n",
              "             ('goes', 78),\n",
              "             ('sleepy', 26),\n",
              "             ('smoke', 52),\n",
              "             ('deep', 78),\n",
              "             ('distant', 78),\n",
              "             ('woodlands', 26),\n",
              "             ('winds', 78),\n",
              "             ('mazy', 26),\n",
              "             ('reaching', 52),\n",
              "             ('overlapping', 26),\n",
              "             ('spurs', 26),\n",
              "             ('mountains', 26),\n",
              "             ('bathed', 26),\n",
              "             ('hill', 52),\n",
              "             ('side', 286),\n",
              "             ('blue', 78),\n",
              "             ('though', 494),\n",
              "             ('picture', 130),\n",
              "             ('lies', 26),\n",
              "             ('thus', 52),\n",
              "             ('tranced', 26),\n",
              "             ('pine', 52),\n",
              "             ('tree', 26),\n",
              "             ('shakes', 26),\n",
              "             ('sighs', 52),\n",
              "             ('shepherd', 52),\n",
              "             ('head', 598),\n",
              "             ('vain', 26),\n",
              "             ('unless', 104),\n",
              "             ('eye', 26),\n",
              "             ('him', 1092),\n",
              "             ('visit', 26),\n",
              "             ('prairies', 26),\n",
              "             ('june', 52),\n",
              "             ('when', 650),\n",
              "             ('scores', 52),\n",
              "             ('wade', 26),\n",
              "             ('knee', 26),\n",
              "             ('among', 78),\n",
              "             ('tiger', 26),\n",
              "             ('lilies', 26),\n",
              "             ('charm', 26),\n",
              "             ('wanting?--water', 26),\n",
              "             ('drop', 26),\n",
              "             ('niagara', 26),\n",
              "             ('cataract', 26),\n",
              "             ('sand', 26),\n",
              "             ('travel', 26),\n",
              "             ('thousand', 52),\n",
              "             ('why', 286),\n",
              "             ('did', 572),\n",
              "             ('poor', 104),\n",
              "             ('poet', 26),\n",
              "             ('tennessee', 26),\n",
              "             ('suddenly', 78),\n",
              "             ('receiving', 26),\n",
              "             ('two', 338),\n",
              "             ('handfuls', 26),\n",
              "             ('silver', 26),\n",
              "             ('deliberate', 26),\n",
              "             ('whether', 182),\n",
              "             ('buy', 26),\n",
              "             ('coat', 104),\n",
              "             ('sadly', 52),\n",
              "             ('needed', 26),\n",
              "             ('invest', 26),\n",
              "             ('pedestrian', 26),\n",
              "             ('trip', 26),\n",
              "             ('rockaway', 26),\n",
              "             ('beach', 26),\n",
              "             ('robust', 52),\n",
              "             ('healthy', 52),\n",
              "             ('boy', 52),\n",
              "             ('crazy', 52),\n",
              "             ('first', 494),\n",
              "             ('voyage', 208),\n",
              "             ('passenger', 104),\n",
              "             ('yourself', 156),\n",
              "             ('feel', 78),\n",
              "             ('mystical', 26),\n",
              "             ('vibration', 26),\n",
              "             ('told', 130),\n",
              "             ('old', 754),\n",
              "             ('persians', 26),\n",
              "             ('hold', 52),\n",
              "             ('holy', 52),\n",
              "             ('greeks', 26),\n",
              "             ('give', 208),\n",
              "             ('separate', 26),\n",
              "             ('deity', 26),\n",
              "             ('own', 286),\n",
              "             ('brother', 52),\n",
              "             ('jove', 26),\n",
              "             ('surely', 26),\n",
              "             ('meaning', 78),\n",
              "             ('deeper', 26),\n",
              "             ('story', 130),\n",
              "             ('narcissus', 26),\n",
              "             ('who', 416),\n",
              "             ('because', 182),\n",
              "             ('could', 650),\n",
              "             ('grasp', 26),\n",
              "             ('tormenting', 26),\n",
              "             ('mild', 26),\n",
              "             ('image', 156),\n",
              "             ('saw', 156),\n",
              "             ('fountain', 26),\n",
              "             ('was', 2886),\n",
              "             ('drowned', 26),\n",
              "             ('we', 286),\n",
              "             ('ourselves', 52),\n",
              "             ('rivers', 26),\n",
              "             ('oceans', 26),\n",
              "             ('ungraspable', 26),\n",
              "             ('phantom', 78),\n",
              "             ('life', 78),\n",
              "             ('key', 26),\n",
              "             ('am', 156),\n",
              "             ('habit', 26),\n",
              "             ('begin', 52),\n",
              "             ('grow', 52),\n",
              "             ('hazy', 26),\n",
              "             ('eyes', 182),\n",
              "             ('conscious', 26),\n",
              "             ('lungs', 26),\n",
              "             ('mean', 130),\n",
              "             ('inferred', 52),\n",
              "             ('needs', 52),\n",
              "             ('rag', 26),\n",
              "             ('something', 312),\n",
              "             ('besides', 156),\n",
              "             ('passengers', 78),\n",
              "             ('sick', 26),\n",
              "             ('quarrelsome', 26),\n",
              "             (\"don't\", 52),\n",
              "             ('nights', 26),\n",
              "             ('enjoy', 26),\n",
              "             ('themselves', 52),\n",
              "             ('much', 442),\n",
              "             ('general', 26),\n",
              "             ('thing;--no', 26),\n",
              "             ('nor', 78),\n",
              "             ('salt', 26),\n",
              "             ('commodore', 52),\n",
              "             ('captain', 52),\n",
              "             ('cook', 52),\n",
              "             ('abandon', 26),\n",
              "             ('glory', 52),\n",
              "             ('distinction', 26),\n",
              "             ('offices', 26),\n",
              "             ('abominate', 26),\n",
              "             ('honourable', 26),\n",
              "             ('respectable', 26),\n",
              "             ('toils', 26),\n",
              "             ('trials', 26),\n",
              "             ('tribulations', 26),\n",
              "             ('kind', 78),\n",
              "             ('whatsoever', 52),\n",
              "             ('quite', 78),\n",
              "             ('care', 78),\n",
              "             ('taking', 104),\n",
              "             ('barques', 26),\n",
              "             ('brigs', 26),\n",
              "             ('schooners', 26),\n",
              "             ('cook,--though', 26),\n",
              "             ('confess', 52),\n",
              "             ('considerable', 26),\n",
              "             ('being', 390),\n",
              "             ('sort', 494),\n",
              "             ('officer', 52),\n",
              "             ('board', 78),\n",
              "             ('somehow', 78),\n",
              "             ('fancied', 26),\n",
              "             ('broiling', 26),\n",
              "             ('fowls;--though', 26),\n",
              "             ('broiled', 78),\n",
              "             ('judiciously', 26),\n",
              "             ('buttered', 26),\n",
              "             ('judgmatically', 26),\n",
              "             ('salted', 26),\n",
              "             ('peppered', 26),\n",
              "             ('speak', 130),\n",
              "             ('respectfully', 52),\n",
              "             ('reverentially', 26),\n",
              "             ('fowl', 26),\n",
              "             ('than', 390),\n",
              "             ('idolatrous', 26),\n",
              "             ('dotings', 26),\n",
              "             ('egyptians', 26),\n",
              "             ('ibis', 26),\n",
              "             ('roasted', 26),\n",
              "             ('river', 26),\n",
              "             ('horse', 52),\n",
              "             ('mummies', 26),\n",
              "             ('creatures', 26),\n",
              "             ('huge', 52),\n",
              "             ('bake', 26),\n",
              "             ('houses', 52),\n",
              "             ('pyramids', 26),\n",
              "             ('simple', 26),\n",
              "             ('sailor', 156),\n",
              "             ('mast', 78),\n",
              "             ('plumb', 26),\n",
              "             ('forecastle', 52),\n",
              "             ('royal', 26),\n",
              "             ('true', 104),\n",
              "             ('rather', 208),\n",
              "             ('order', 130),\n",
              "             ('make', 260),\n",
              "             ('jump', 52),\n",
              "             ('spar', 52),\n",
              "             ('grasshopper', 26),\n",
              "             ('may', 312),\n",
              "             ('thing', 104),\n",
              "             ('unpleasant', 26),\n",
              "             ('enough', 338),\n",
              "             ('touches', 26),\n",
              "             ('sense', 78),\n",
              "             ('honour', 26),\n",
              "             ('particularly', 52),\n",
              "             ('established', 26),\n",
              "             ('family', 26),\n",
              "             ('van', 26),\n",
              "             ('rensselaers', 26),\n",
              "             ('randolphs', 26),\n",
              "             ('hardicanutes', 26),\n",
              "             ('putting', 52),\n",
              "             ('tar', 52),\n",
              "             ('pot', 26),\n",
              "             ('been', 468),\n",
              "             ('lording', 26),\n",
              "             ('schoolmaster', 52),\n",
              "             ('making', 130),\n",
              "             ('tallest', 26),\n",
              "             ('boys', 52),\n",
              "             ('awe', 26),\n",
              "             ('transition', 52),\n",
              "             ('keen', 26),\n",
              "             ('assure', 26),\n",
              "             ('decoction', 26),\n",
              "             ('seneca', 26),\n",
              "             ('stoics', 26),\n",
              "             ('enable', 26),\n",
              "             ('grin', 52),\n",
              "             ('bear', 52),\n",
              "             ('even', 130),\n",
              "             ('wears', 26),\n",
              "             ('hunks', 52),\n",
              "             ('orders', 26),\n",
              "             ('broom', 26),\n",
              "             ('sweep', 52),\n",
              "             ('decks', 26),\n",
              "             ('indignity', 26),\n",
              "             ('amount', 26),\n",
              "             ('weighed', 52),\n",
              "             ('scales', 26),\n",
              "             ('new', 286),\n",
              "             ('testament', 26),\n",
              "             ('think', 182),\n",
              "             ('archangel', 26),\n",
              "             ('gabriel', 26),\n",
              "             ('thinks', 182),\n",
              "             ('anything', 52),\n",
              "             ('less', 52),\n",
              "             ('promptly', 26),\n",
              "             ('obey', 26),\n",
              "             ('instance', 26),\n",
              "             ('ai', 104),\n",
              "             (\"n't\", 624),\n",
              "             ('slave', 26),\n",
              "             ('well', 208),\n",
              "             ('however', 208),\n",
              "             ('captains', 26),\n",
              "             ('thump', 52),\n",
              "             ('punch', 26),\n",
              "             ('satisfaction', 26),\n",
              "             ('knowing', 78),\n",
              "             ('everybody', 26),\n",
              "             ('else', 208),\n",
              "             ('served', 26),\n",
              "             ('either', 78),\n",
              "             ('physical', 26),\n",
              "             ('point', 52),\n",
              "             ('view', 52),\n",
              "             ('so', 1066),\n",
              "             ('universal', 26),\n",
              "             ('passed', 78),\n",
              "             ('hands', 78),\n",
              "             ('rub', 26),\n",
              "             ('shoulder', 26),\n",
              "             ('blades', 26),\n",
              "             ('again', 286),\n",
              "             ('always', 104),\n",
              "             ('paying', 78),\n",
              "             ('trouble', 26),\n",
              "             ('whereas', 26),\n",
              "             ('pay', 78),\n",
              "             ('single', 52),\n",
              "             ('penny', 78),\n",
              "             ('heard', 208),\n",
              "             ('contrary', 26),\n",
              "             ('difference', 52),\n",
              "             ('between', 234),\n",
              "             ('paid', 26),\n",
              "             ('act', 52),\n",
              "             ('perhaps', 130),\n",
              "             ('uncomfortable', 52),\n",
              "             ('infliction', 26),\n",
              "             ('orchard', 26),\n",
              "             ('thieves', 26),\n",
              "             ('entailed', 26),\n",
              "             ('us', 104),\n",
              "             ('paid,--what', 26),\n",
              "             ('compare', 52),\n",
              "             ('urbane', 26),\n",
              "             ('activity', 26),\n",
              "             ('receives', 26),\n",
              "             ('really', 104),\n",
              "             ('marvellous', 104),\n",
              "             ('considering', 26),\n",
              "             ('earnestly', 26),\n",
              "             ('believe', 26),\n",
              "             ('root', 26),\n",
              "             ('earthly', 52),\n",
              "             ('ills', 26),\n",
              "             ('monied', 26),\n",
              "             ('enter', 52),\n",
              "             ('heaven', 104),\n",
              "             ('ah', 26),\n",
              "             ('cheerfully', 26),\n",
              "             ('consign', 26),\n",
              "             ('perdition', 26),\n",
              "             ('finally', 26),\n",
              "             ('wholesome', 26),\n",
              "             ('exercise', 26),\n",
              "             ('pure', 26),\n",
              "             ('air', 104),\n",
              "             ('fore', 26),\n",
              "             ('castle', 26),\n",
              "             ('deck', 52),\n",
              "             ('far', 104),\n",
              "             ('prevalent', 26),\n",
              "             ('astern', 26),\n",
              "             ('violate', 26),\n",
              "             ('pythagorean', 26),\n",
              "             ('maxim', 26),\n",
              "             ('quarter', 52),\n",
              "             ('gets', 26),\n",
              "             ('atmosphere', 26),\n",
              "             ('second', 104),\n",
              "             ('sailors', 78),\n",
              "             ('breathes', 26),\n",
              "             ('commonalty', 26),\n",
              "             ('leaders', 52),\n",
              "             ('many', 104),\n",
              "             ('things', 130),\n",
              "             ('suspect', 26),\n",
              "             ('wherefore', 26),\n",
              "             ('after', 234),\n",
              "             ('repeatedly', 26),\n",
              "             ('smelt', 52),\n",
              "             ('merchant', 26),\n",
              "             ('whaling', 234),\n",
              "             ('invisible', 26),\n",
              "             ('police', 26),\n",
              "             ('fates', 52),\n",
              "             ('has', 104),\n",
              "             ('constant', 26),\n",
              "             ('surveillance', 26),\n",
              "             ('secretly', 26),\n",
              "             ('dogs', 26),\n",
              "             ('influences', 26),\n",
              "             ('unaccountable', 104),\n",
              "             ('answer', 130),\n",
              "             ('doubtless', 52),\n",
              "             ('formed', 52),\n",
              "             ('grand', 104),\n",
              "             ('programme', 26),\n",
              "             ('providence', 26),\n",
              "             ('drawn', 26),\n",
              "             ('came', 286),\n",
              "             ('brief', 26),\n",
              "             ('interlude', 26),\n",
              "             ('solo', 26),\n",
              "             ('extensive', 26),\n",
              "             ('performances', 26),\n",
              "             ('bill', 26),\n",
              "             ('run', 52),\n",
              "             ('contested', 26),\n",
              "             ('election', 26),\n",
              "             ('presidency', 26),\n",
              "             ('united', 26),\n",
              "             ('states', 26),\n",
              "             ('bloody', 26),\n",
              "             ('battle', 26),\n",
              "             ('affghanistan', 26),\n",
              "             ('exactly', 78),\n",
              "             ('stage', 52),\n",
              "             ('managers', 26),\n",
              "             ('put', 208),\n",
              "             ('shabby', 52),\n",
              "             ('others', 52),\n",
              "             ('magnificent', 26),\n",
              "             ('parts', 130),\n",
              "             ('tragedies', 26),\n",
              "             ('short', 78),\n",
              "             ('easy', 78),\n",
              "             ('genteel', 26),\n",
              "             ('comedies', 26),\n",
              "             ('jolly', 104),\n",
              "             ('farces', 26),\n",
              "             ('recall', 26),\n",
              "             ('circumstances', 52),\n",
              "             ('springs', 26),\n",
              "             ('motives', 52),\n",
              "             ('cunningly', 26),\n",
              "             ('presented', 26),\n",
              "             ('various', 52),\n",
              "             ('disguises', 26),\n",
              "             ('induced', 26),\n",
              "             ('performing', 26),\n",
              "             ('cajoling', 26),\n",
              "             ('delusion', 26),\n",
              "             ('choice', 26),\n",
              "             ('resulting', 26),\n",
              "             ('unbiased', 26),\n",
              "             ('freewill', 26),\n",
              "             ('discriminating', 26),\n",
              "             ('judgment', 26),\n",
              "             ('overwhelming', 26),\n",
              "             ('idea', 182),\n",
              "             ('whale', 260),\n",
              "             ('portentous', 78),\n",
              "             ('mysterious', 52),\n",
              "             ('monster', 26),\n",
              "             ('roused', 26),\n",
              "             ('curiosity', 52),\n",
              "             ('wild', 130),\n",
              "             ('seas', 156),\n",
              "             ('rolled', 156),\n",
              "             ('island', 78),\n",
              "             ('bulk', 26),\n",
              "             ('undeliverable', 26),\n",
              "             ('nameless', 78),\n",
              "             ('perils', 26),\n",
              "             ('attending', 26),\n",
              "             ('marvels', 26),\n",
              "             ('patagonian', 26),\n",
              "             ('sights', 26),\n",
              "             ('sounds', 78),\n",
              "             ('helped', 26),\n",
              "             ('sway', 26),\n",
              "             ('wish', 26),\n",
              "             ('inducements', 26),\n",
              "             ('tormented', 52),\n",
              "             ('everlasting', 52),\n",
              "             ('itch', 26),\n",
              "             ('remote', 26),\n",
              "             ('love', 26),\n",
              "             ('forbidden', 26),\n",
              "             ('barbarous', 26),\n",
              "             ('coasts', 26),\n",
              "             ('ignoring', 26),\n",
              "             ('good', 442),\n",
              "             ('quick', 26),\n",
              "             ('perceive', 26),\n",
              "             ('horror', 26),\n",
              "             ('social', 26),\n",
              "             ('since', 78),\n",
              "             ('friendly', 26),\n",
              "             ('terms', 26),\n",
              "             ('inmates', 26),\n",
              "             ('place', 390),\n",
              "             ('lodges', 26),\n",
              "             ('reason', 130),\n",
              "             ('welcome', 26),\n",
              "             ('flood', 26),\n",
              "             ('gates', 26),\n",
              "             ('wonder', 52),\n",
              "             ('swung', 26),\n",
              "             ('open', 104),\n",
              "             ('conceits', 26),\n",
              "             ('swayed', 26),\n",
              "             ('purpose', 52),\n",
              "             ('floated', 52),\n",
              "             ('inmost', 26),\n",
              "             ('endless', 26),\n",
              "             ('processions', 26),\n",
              "             ('mid', 26),\n",
              "             ('hooded', 26),\n",
              "             ('snow', 78),\n",
              "             ('stuffed', 52),\n",
              "             ('shirt', 104),\n",
              "             ('carpet', 26),\n",
              "             ('bag', 182),\n",
              "             ('tucked', 26),\n",
              "             ('arm', 286),\n",
              "             ('started', 26),\n",
              "             ('cape', 104),\n",
              "             ('horn', 52),\n",
              "             ('pacific', 26),\n",
              "             ('quitting', 26),\n",
              "             ('manhatto', 26),\n",
              "             ('duly', 26),\n",
              "             ('arrived', 52),\n",
              "             ('bedford', 104),\n",
              "             ('saturday', 78),\n",
              "             ('night', 624),\n",
              "             ('december', 26),\n",
              "             ('disappointed', 26),\n",
              "             ('learning', 26),\n",
              "             ('packet', 26),\n",
              "             ('nantucket', 182),\n",
              "             ('had', 858),\n",
              "             ('already', 26),\n",
              "             ('sailed', 26),\n",
              "             ('offer', 52),\n",
              "             ('till', 156),\n",
              "             ('following', 52),\n",
              "             ('monday', 26),\n",
              "             ('young', 130),\n",
              "             ('candidates', 26),\n",
              "             ('pains', 26),\n",
              "             ('penalties', 26),\n",
              "             ('stop', 208),\n",
              "             ('embark', 52),\n",
              "             ('related', 26),\n",
              "             ('doing', 26),\n",
              "             ('made', 338),\n",
              "             ('craft', 130),\n",
              "             ('fine', 104),\n",
              "             ('boisterous', 26),\n",
              "             ('everything', 26),\n",
              "             ('connected', 26),\n",
              "             ('famous', 26),\n",
              "             ('amazingly', 26),\n",
              "             ('pleased', 52),\n",
              "             ('late', 182),\n",
              "             ('gradually', 26),\n",
              "             ('monopolising', 26),\n",
              "             ('business', 130),\n",
              "             ('matter', 78),\n",
              "             ('behind', 26),\n",
              "             ('original', 52),\n",
              "             ('tyre', 26),\n",
              "             ('carthage;--the', 26),\n",
              "             ('dead', 130),\n",
              "             ('stranded', 52),\n",
              "             ('aboriginal', 26),\n",
              "             ('whalemen', 26),\n",
              "             ('red', 78),\n",
              "             ('sally', 26),\n",
              "             ('canoes', 26),\n",
              "             ('chase', 26),\n",
              "             ('leviathan', 52),\n",
              "             ('too', 364),\n",
              "             ('adventurous', 26),\n",
              "             ('sloop', 26),\n",
              "             ('forth', 26),\n",
              "             ('partly', 78),\n",
              "             ('laden', 26),\n",
              "             ('imported', 26),\n",
              "             ('cobblestones', 26),\n",
              "             ('throw', 26),\n",
              "             ('whales', 52),\n",
              "             ('discover', 26),\n",
              "             ('risk', 26),\n",
              "             ('harpoon', 135),\n",
              "             ('bowsprit', 26),\n",
              "             ('day', 156),\n",
              "             ('another', 130),\n",
              "             ('ere', 78),\n",
              "             ('destined', 26),\n",
              "             ('port', 26),\n",
              "             ('became', 78),\n",
              "             ('concernment', 26),\n",
              "             ('eat', 26),\n",
              "             ('meanwhile', 78),\n",
              "             ('dubious', 26),\n",
              "             ('nay', 52),\n",
              "             ('dark', 208),\n",
              "             ('dismal', 52),\n",
              "             ('bitingly', 26),\n",
              "             ('cold', 182),\n",
              "             ('cheerless', 26),\n",
              "             ('anxious', 26),\n",
              "             ('grapnels', 26),\n",
              "             ('sounded', 26),\n",
              "             ('pocket', 78),\n",
              "             ('only', 364),\n",
              "             ('brought', 26),\n",
              "             ('pieces', 26),\n",
              "             ('silver,--so', 26),\n",
              "             ('wherever', 52),\n",
              "             ('said', 494),\n",
              "             ('stood', 260),\n",
              "             ('middle', 130),\n",
              "             ('dreary', 52),\n",
              "             ('shouldering', 26),\n",
              "             ('comparing', 26),\n",
              "             ('gloom', 26),\n",
              "             ('darkness', 78),\n",
              "             ('wisdom', 26),\n",
              "             ('conclude', 26),\n",
              "             ('lodge', 26),\n",
              "             ('dear', 26),\n",
              "             ('sure', 130),\n",
              "             ('inquire', 26),\n",
              "             ('price', 26),\n",
              "             ('halting', 26),\n",
              "             ('steps', 26),\n",
              "             ('paced', 26),\n",
              "             ('sign', 156),\n",
              "             ('crossed', 52),\n",
              "             ('harpoons\"--but', 26),\n",
              "             ('looked', 156),\n",
              "             ('expensive', 52),\n",
              "             ('further', 104),\n",
              "             ('bright', 52),\n",
              "             ('windows', 52),\n",
              "             ('fish', 78),\n",
              "             ('inn', 78),\n",
              "             ('fervent', 26),\n",
              "             ('rays', 26),\n",
              "             ('seemed', 416),\n",
              "             ('melted', 26),\n",
              "             ('packed', 52),\n",
              "             ('ice', 104),\n",
              "             ('house', 286),\n",
              "             ('everywhere', 26),\n",
              "             ('congealed', 26),\n",
              "             ('frost', 104),\n",
              "             ('lay', 234),\n",
              "             ('inches', 52),\n",
              "             ('thick', 52),\n",
              "             ...])"
            ]
          },
          "metadata": {},
          "execution_count": 262
        }
      ]
    },
    {
      "cell_type": "code",
      "source": [
        "# Get word counts\n",
        "word_counts = tokenizer.word_counts\n",
        "\n",
        "# Sort word counts in descending order\n",
        "sorted_word_counts = sorted(word_counts.items(), key=lambda x: -x[1])\n",
        "\n",
        "# Print sorted word counts\n",
        "for word, count in sorted_word_counts[:10]:\n",
        "    print(f\"{word:<15}: {count}\")"
      ],
      "metadata": {
        "colab": {
          "base_uri": "https://localhost:8080/"
        },
        "id": "EH-5UR76KqcJ",
        "outputId": "94890f02-8ff4-404a-a780-bce4915f91e1"
      },
      "execution_count": 263,
      "outputs": [
        {
          "output_type": "stream",
          "name": "stdout",
          "text": [
            "the            : 15540\n",
            "a              : 10377\n",
            "and            : 9646\n",
            "of             : 8287\n",
            "i              : 7150\n",
            "to             : 6497\n",
            "in             : 5647\n",
            "it             : 4238\n",
            "that           : 3770\n",
            "he             : 3247\n"
          ]
        }
      ]
    },
    {
      "cell_type": "code",
      "source": [
        "vocabulary_size = len(tokenizer.word_counts)"
      ],
      "metadata": {
        "id": "-cbhZ7FNLXrj"
      },
      "execution_count": 264,
      "outputs": []
    },
    {
      "cell_type": "code",
      "source": [
        "vocabulary_size"
      ],
      "metadata": {
        "colab": {
          "base_uri": "https://localhost:8080/"
        },
        "id": "s0A75FZiLcna",
        "outputId": "38b2ed46-8f7b-4b26-b3f6-56afdf3faf9e"
      },
      "execution_count": 265,
      "outputs": [
        {
          "output_type": "execute_result",
          "data": {
            "text/plain": [
              "2718"
            ]
          },
          "metadata": {},
          "execution_count": 265
        }
      ]
    },
    {
      "cell_type": "code",
      "source": [
        "type(sequences)"
      ],
      "metadata": {
        "colab": {
          "base_uri": "https://localhost:8080/"
        },
        "id": "_A3k5YToLnm2",
        "outputId": "4be6684f-9e8f-4b29-dafb-1b81d5b93c0e"
      },
      "execution_count": 266,
      "outputs": [
        {
          "output_type": "execute_result",
          "data": {
            "text/plain": [
              "list"
            ]
          },
          "metadata": {},
          "execution_count": 266
        }
      ]
    },
    {
      "cell_type": "code",
      "source": [
        "import numpy as np\n",
        "sequences = np.array(sequences)"
      ],
      "metadata": {
        "id": "RhVuHG0JLvQ0"
      },
      "execution_count": 267,
      "outputs": []
    },
    {
      "cell_type": "code",
      "source": [
        "print(sequences)"
      ],
      "metadata": {
        "colab": {
          "base_uri": "https://localhost:8080/"
        },
        "id": "_VeEfI3TLxZi",
        "outputId": "1c8ef416-e68b-4815-ae29-d6f967a6beae"
      },
      "execution_count": 268,
      "outputs": [
        {
          "output_type": "stream",
          "name": "stdout",
          "text": [
            "[[ 956   14  263 ... 2713   14   24]\n",
            " [  14  263   51 ...   14   24  957]\n",
            " [ 263   51  261 ...   24  957    5]\n",
            " ...\n",
            " [ 952   12  166 ...  262   53    2]\n",
            " [  12  166 2712 ...   53    2 2718]\n",
            " [ 166 2712    3 ...    2 2718   26]]\n"
          ]
        }
      ]
    },
    {
      "cell_type": "code",
      "source": [
        "from keras.utils import to_categorical"
      ],
      "metadata": {
        "id": "Iz2bQcbrL1qX"
      },
      "execution_count": 269,
      "outputs": []
    },
    {
      "cell_type": "code",
      "source": [
        "#Take every row excep every last column\n",
        "X = sequences[:,:-1]"
      ],
      "metadata": {
        "id": "-sx_c-KR39Tq"
      },
      "execution_count": 270,
      "outputs": []
    },
    {
      "cell_type": "code",
      "source": [
        "y = sequences[:,-1]"
      ],
      "metadata": {
        "id": "Lq33M8fK4I_b"
      },
      "execution_count": 271,
      "outputs": []
    },
    {
      "cell_type": "code",
      "source": [
        "y = to_categorical(y,num_classes = vocabulary_size + 1)"
      ],
      "metadata": {
        "id": "SW8TeyyG4WPe"
      },
      "execution_count": 272,
      "outputs": []
    },
    {
      "cell_type": "code",
      "source": [
        "y"
      ],
      "metadata": {
        "colab": {
          "base_uri": "https://localhost:8080/"
        },
        "id": "Yx_ZVyQv4v5r",
        "outputId": "3c701a4b-91ad-4bd3-fd6d-6b9169cb7e1f"
      },
      "execution_count": 273,
      "outputs": [
        {
          "output_type": "execute_result",
          "data": {
            "text/plain": [
              "array([[0., 0., 0., ..., 0., 0., 0.],\n",
              "       [0., 0., 0., ..., 0., 0., 0.],\n",
              "       [0., 0., 0., ..., 0., 0., 0.],\n",
              "       ...,\n",
              "       [0., 0., 1., ..., 0., 0., 0.],\n",
              "       [0., 0., 0., ..., 0., 0., 1.],\n",
              "       [0., 0., 0., ..., 0., 0., 0.]], dtype=float32)"
            ]
          },
          "metadata": {},
          "execution_count": 273
        }
      ]
    },
    {
      "cell_type": "code",
      "source": [
        "y.shape"
      ],
      "metadata": {
        "colab": {
          "base_uri": "https://localhost:8080/"
        },
        "id": "9cx9CnQp4yP-",
        "outputId": "7b67e95e-4c9f-4a4c-98e2-01a50b12b364"
      },
      "execution_count": 274,
      "outputs": [
        {
          "output_type": "execute_result",
          "data": {
            "text/plain": [
              "(11312, 2719)"
            ]
          },
          "metadata": {},
          "execution_count": 274
        }
      ]
    },
    {
      "cell_type": "code",
      "source": [
        "X.shape"
      ],
      "metadata": {
        "colab": {
          "base_uri": "https://localhost:8080/"
        },
        "id": "3XIWY9pz41GI",
        "outputId": "bce77e07-4a9c-4faa-dc71-17dfe3462997"
      },
      "execution_count": 275,
      "outputs": [
        {
          "output_type": "execute_result",
          "data": {
            "text/plain": [
              "(11312, 25)"
            ]
          },
          "metadata": {},
          "execution_count": 275
        }
      ]
    },
    {
      "cell_type": "code",
      "source": [
        "vocabulary_size"
      ],
      "metadata": {
        "colab": {
          "base_uri": "https://localhost:8080/"
        },
        "id": "YPuVvUly6dCW",
        "outputId": "2c56707a-49af-4dbe-9385-e0f6a764c5fb"
      },
      "execution_count": 276,
      "outputs": [
        {
          "output_type": "execute_result",
          "data": {
            "text/plain": [
              "2718"
            ]
          },
          "metadata": {},
          "execution_count": 276
        }
      ]
    },
    {
      "cell_type": "code",
      "source": [
        "from keras.models import Sequential\n",
        "from keras.layers import Dense,LSTM,Embedding"
      ],
      "metadata": {
        "id": "I3bY2-yq5o69"
      },
      "execution_count": 277,
      "outputs": []
    },
    {
      "cell_type": "code",
      "source": [
        "def create_model(vocabulary_size,seq_len):\n",
        "\n",
        "  model = Sequential()\n",
        "  #First layer in the model\n",
        "  #Embedding - Turn positive integers.indexes into dense vectors of fixed size\n",
        "  model.add(Embedding(vocabulary_size,seq_len,input_length = seq_len))\n",
        "  #Better take the multiply of sequence length -> num of neurons\n",
        "  model.add(LSTM(seq_len*6,return_sequences = True))\n",
        "  model.add(LSTM(seq_len*2))\n",
        "  model.add(Dense(50,activation = 'relu'))\n",
        "\n",
        "  model.add(Dense(vocabulary_size,activation='softmax'))\n",
        "\n",
        "  model.compile(loss = 'categorical_crossentropy',optimizer = 'adam',metrics = ['accuracy'])\n",
        "\n",
        "  model.summary()\n",
        "\n",
        "  return model"
      ],
      "metadata": {
        "id": "E_H5yZn16E6G"
      },
      "execution_count": 278,
      "outputs": []
    },
    {
      "cell_type": "code",
      "source": [
        "model = create_model(vocabulary_size+1,seq_len)"
      ],
      "metadata": {
        "colab": {
          "base_uri": "https://localhost:8080/"
        },
        "id": "5op_8Aik9Erq",
        "outputId": "8e76fba0-cdb3-4792-b8ee-fe52b4540809"
      },
      "execution_count": 279,
      "outputs": [
        {
          "output_type": "stream",
          "name": "stdout",
          "text": [
            "Model: \"sequential_2\"\n",
            "_________________________________________________________________\n",
            " Layer (type)                Output Shape              Param #   \n",
            "=================================================================\n",
            " embedding_2 (Embedding)     (None, 25, 25)            67975     \n",
            "                                                                 \n",
            " lstm_4 (LSTM)               (None, 25, 150)           105600    \n",
            "                                                                 \n",
            " lstm_5 (LSTM)               (None, 50)                40200     \n",
            "                                                                 \n",
            " dense_4 (Dense)             (None, 50)                2550      \n",
            "                                                                 \n",
            " dense_5 (Dense)             (None, 2719)              138669    \n",
            "                                                                 \n",
            "=================================================================\n",
            "Total params: 354994 (1.35 MB)\n",
            "Trainable params: 354994 (1.35 MB)\n",
            "Non-trainable params: 0 (0.00 Byte)\n",
            "_________________________________________________________________\n"
          ]
        }
      ]
    },
    {
      "cell_type": "code",
      "source": [
        "import tensorflow as tf\n",
        "tf.keras.utils.plot_model(model)"
      ],
      "metadata": {
        "colab": {
          "base_uri": "https://localhost:8080/",
          "height": 564
        },
        "id": "lLeTo-Y_9FIs",
        "outputId": "52a3061a-5d7e-4cdd-8564-ca5ebb573f92"
      },
      "execution_count": 280,
      "outputs": [
        {
          "output_type": "execute_result",
          "data": {
            "image/png": "[encoded data removed]",
            "text/plain": [
              "<IPython.core.display.Image object>"
            ]
          },
          "metadata": {},
          "execution_count": 280
        }
      ]
    },
    {
      "cell_type": "code",
      "source": [
        "from pickle import dump,load"
      ],
      "metadata": {
        "id": "gmBeTh4c9izm"
      },
      "execution_count": 281,
      "outputs": []
    },
    {
      "cell_type": "code",
      "source": [
        "#batch_size - how many sequences that we want to pass one time\n",
        "model.fit(X,y,batch_size=128,epochs=150,verbose = 1)"
      ],
      "metadata": {
        "colab": {
          "base_uri": "https://localhost:8080/"
        },
        "id": "chSN6S9I9qh_",
        "outputId": "cb889165-a50a-4c22-a0c7-d43eba264bd8"
      },
      "execution_count": 282,
      "outputs": [
        {
          "output_type": "stream",
          "name": "stdout",
          "text": [
            "Epoch 1/150\n",
            "89/89 [==============================] - 19s 157ms/step - loss: 6.9273 - accuracy: 0.0518\n",
            "Epoch 2/150\n",
            "89/89 [==============================] - 13s 149ms/step - loss: 6.3735 - accuracy: 0.0529\n",
            "Epoch 3/150\n",
            "89/89 [==============================] - 13s 147ms/step - loss: 6.3493 - accuracy: 0.0529\n",
            "Epoch 4/150\n",
            "89/89 [==============================] - 13s 150ms/step - loss: 6.3418 - accuracy: 0.0529\n",
            "Epoch 5/150\n",
            "89/89 [==============================] - 14s 152ms/step - loss: 6.3383 - accuracy: 0.0529\n",
            "Epoch 6/150\n",
            "89/89 [==============================] - 13s 148ms/step - loss: 6.3361 - accuracy: 0.0529\n",
            "Epoch 7/150\n",
            "89/89 [==============================] - 14s 158ms/step - loss: 6.3338 - accuracy: 0.0529\n",
            "Epoch 8/150\n",
            "89/89 [==============================] - 14s 152ms/step - loss: 6.3321 - accuracy: 0.0529\n",
            "Epoch 9/150\n",
            "89/89 [==============================] - 15s 170ms/step - loss: 6.3311 - accuracy: 0.0529\n",
            "Epoch 10/150\n",
            "89/89 [==============================] - 17s 190ms/step - loss: 6.3303 - accuracy: 0.0529\n",
            "Epoch 11/150\n",
            "89/89 [==============================] - 16s 175ms/step - loss: 6.3314 - accuracy: 0.0529\n",
            "Epoch 12/150\n",
            "89/89 [==============================] - 20s 222ms/step - loss: 6.3260 - accuracy: 0.0529\n",
            "Epoch 13/150\n",
            "89/89 [==============================] - 16s 177ms/step - loss: 6.2409 - accuracy: 0.0529\n",
            "Epoch 14/150\n",
            "89/89 [==============================] - 15s 171ms/step - loss: 6.1230 - accuracy: 0.0532\n",
            "Epoch 15/150\n",
            "89/89 [==============================] - 15s 169ms/step - loss: 5.9992 - accuracy: 0.0545\n",
            "Epoch 16/150\n",
            "89/89 [==============================] - 14s 162ms/step - loss: 5.8915 - accuracy: 0.0622\n",
            "Epoch 17/150\n",
            "89/89 [==============================] - 16s 175ms/step - loss: 5.7744 - accuracy: 0.0675\n",
            "Epoch 18/150\n",
            "89/89 [==============================] - 16s 177ms/step - loss: 5.6848 - accuracy: 0.0672\n",
            "Epoch 19/150\n",
            "89/89 [==============================] - 14s 158ms/step - loss: 5.6106 - accuracy: 0.0725\n",
            "Epoch 20/150\n",
            "89/89 [==============================] - 14s 155ms/step - loss: 5.5333 - accuracy: 0.0726\n",
            "Epoch 21/150\n",
            "89/89 [==============================] - 14s 153ms/step - loss: 5.4635 - accuracy: 0.0766\n",
            "Epoch 22/150\n",
            "89/89 [==============================] - 14s 152ms/step - loss: 5.4003 - accuracy: 0.0804\n",
            "Epoch 23/150\n",
            "89/89 [==============================] - 13s 150ms/step - loss: 5.3408 - accuracy: 0.0826\n",
            "Epoch 24/150\n",
            "89/89 [==============================] - 14s 154ms/step - loss: 5.2775 - accuracy: 0.0887\n",
            "Epoch 25/150\n",
            "89/89 [==============================] - 14s 158ms/step - loss: 5.2223 - accuracy: 0.0896\n",
            "Epoch 26/150\n",
            "89/89 [==============================] - 14s 153ms/step - loss: 5.1731 - accuracy: 0.0939\n",
            "Epoch 27/150\n",
            "89/89 [==============================] - 14s 152ms/step - loss: 5.1370 - accuracy: 0.1000\n",
            "Epoch 28/150\n",
            "89/89 [==============================] - 14s 153ms/step - loss: 5.0881 - accuracy: 0.1017\n",
            "Epoch 29/150\n",
            "89/89 [==============================] - 14s 154ms/step - loss: 5.0449 - accuracy: 0.1063\n",
            "Epoch 30/150\n",
            "89/89 [==============================] - 13s 151ms/step - loss: 5.0105 - accuracy: 0.1049\n",
            "Epoch 31/150\n",
            "89/89 [==============================] - 13s 151ms/step - loss: 4.9743 - accuracy: 0.1132\n",
            "Epoch 32/150\n",
            "89/89 [==============================] - 13s 150ms/step - loss: 4.9426 - accuracy: 0.1155\n",
            "Epoch 33/150\n",
            "89/89 [==============================] - 13s 151ms/step - loss: 4.9133 - accuracy: 0.1164\n",
            "Epoch 34/150\n",
            "89/89 [==============================] - 14s 153ms/step - loss: 4.8878 - accuracy: 0.1204\n",
            "Epoch 35/150\n",
            "89/89 [==============================] - 14s 153ms/step - loss: 4.8539 - accuracy: 0.1215\n",
            "Epoch 36/150\n",
            "89/89 [==============================] - 14s 152ms/step - loss: 4.8219 - accuracy: 0.1252\n",
            "Epoch 37/150\n",
            "89/89 [==============================] - 13s 151ms/step - loss: 4.7897 - accuracy: 0.1250\n",
            "Epoch 38/150\n",
            "89/89 [==============================] - 13s 152ms/step - loss: 4.7594 - accuracy: 0.1278\n",
            "Epoch 39/150\n",
            "89/89 [==============================] - 13s 152ms/step - loss: 4.7239 - accuracy: 0.1301\n",
            "Epoch 40/150\n",
            "89/89 [==============================] - 13s 152ms/step - loss: 4.6898 - accuracy: 0.1337\n",
            "Epoch 41/150\n",
            "89/89 [==============================] - 14s 153ms/step - loss: 4.6488 - accuracy: 0.1351\n",
            "Epoch 42/150\n",
            "89/89 [==============================] - 14s 152ms/step - loss: 4.6131 - accuracy: 0.1354\n",
            "Epoch 43/150\n",
            "89/89 [==============================] - 14s 153ms/step - loss: 4.5749 - accuracy: 0.1379\n",
            "Epoch 44/150\n",
            "89/89 [==============================] - 16s 183ms/step - loss: 4.5381 - accuracy: 0.1388\n",
            "Epoch 45/150\n",
            "89/89 [==============================] - 13s 152ms/step - loss: 4.4996 - accuracy: 0.1424\n",
            "Epoch 46/150\n",
            "89/89 [==============================] - 14s 152ms/step - loss: 4.4679 - accuracy: 0.1447\n",
            "Epoch 47/150\n",
            "89/89 [==============================] - 14s 153ms/step - loss: 4.4248 - accuracy: 0.1470\n",
            "Epoch 48/150\n",
            "89/89 [==============================] - 14s 157ms/step - loss: 4.3889 - accuracy: 0.1490\n",
            "Epoch 49/150\n",
            "89/89 [==============================] - 14s 158ms/step - loss: 4.3555 - accuracy: 0.1495\n",
            "Epoch 50/150\n",
            "89/89 [==============================] - 14s 156ms/step - loss: 4.3142 - accuracy: 0.1528\n",
            "Epoch 51/150\n",
            "89/89 [==============================] - 14s 157ms/step - loss: 4.2826 - accuracy: 0.1564\n",
            "Epoch 52/150\n",
            "89/89 [==============================] - 14s 157ms/step - loss: 4.2506 - accuracy: 0.1582\n",
            "Epoch 53/150\n",
            "89/89 [==============================] - 14s 162ms/step - loss: 4.2118 - accuracy: 0.1591\n",
            "Epoch 54/150\n",
            "89/89 [==============================] - 14s 158ms/step - loss: 4.1788 - accuracy: 0.1598\n",
            "Epoch 55/150\n",
            "89/89 [==============================] - 14s 158ms/step - loss: 4.1477 - accuracy: 0.1658\n",
            "Epoch 56/150\n",
            "89/89 [==============================] - 14s 156ms/step - loss: 4.1096 - accuracy: 0.1693\n",
            "Epoch 57/150\n",
            "89/89 [==============================] - 14s 154ms/step - loss: 4.0778 - accuracy: 0.1720\n",
            "Epoch 58/150\n",
            "89/89 [==============================] - 14s 154ms/step - loss: 4.0451 - accuracy: 0.1751\n",
            "Epoch 59/150\n",
            "89/89 [==============================] - 14s 156ms/step - loss: 4.0161 - accuracy: 0.1771\n",
            "Epoch 60/150\n",
            "89/89 [==============================] - 14s 154ms/step - loss: 3.9782 - accuracy: 0.1810\n",
            "Epoch 61/150\n",
            "89/89 [==============================] - 14s 154ms/step - loss: 3.9532 - accuracy: 0.1843\n",
            "Epoch 62/150\n",
            "89/89 [==============================] - 14s 153ms/step - loss: 3.9243 - accuracy: 0.1871\n",
            "Epoch 63/150\n",
            "89/89 [==============================] - 14s 154ms/step - loss: 3.8942 - accuracy: 0.1900\n",
            "Epoch 64/150\n",
            "89/89 [==============================] - 14s 154ms/step - loss: 3.8615 - accuracy: 0.1900\n",
            "Epoch 65/150\n",
            "89/89 [==============================] - 14s 155ms/step - loss: 3.8361 - accuracy: 0.1964\n",
            "Epoch 66/150\n",
            "89/89 [==============================] - 14s 154ms/step - loss: 3.8038 - accuracy: 0.1998\n",
            "Epoch 67/150\n",
            "89/89 [==============================] - 14s 154ms/step - loss: 3.7771 - accuracy: 0.1995\n",
            "Epoch 68/150\n",
            "89/89 [==============================] - 14s 154ms/step - loss: 3.7501 - accuracy: 0.2055\n",
            "Epoch 69/150\n",
            "89/89 [==============================] - 14s 156ms/step - loss: 3.7211 - accuracy: 0.2059\n",
            "Epoch 70/150\n",
            "89/89 [==============================] - 14s 155ms/step - loss: 3.6915 - accuracy: 0.2139\n",
            "Epoch 71/150\n",
            "89/89 [==============================] - 14s 158ms/step - loss: 3.6628 - accuracy: 0.2122\n",
            "Epoch 72/150\n",
            "89/89 [==============================] - 14s 156ms/step - loss: 3.6347 - accuracy: 0.2204\n",
            "Epoch 73/150\n",
            "89/89 [==============================] - 14s 155ms/step - loss: 3.6030 - accuracy: 0.2262\n",
            "Epoch 74/150\n",
            "89/89 [==============================] - 14s 155ms/step - loss: 3.5737 - accuracy: 0.2288\n",
            "Epoch 75/150\n",
            "89/89 [==============================] - 14s 156ms/step - loss: 3.5459 - accuracy: 0.2304\n",
            "Epoch 76/150\n",
            "89/89 [==============================] - 14s 154ms/step - loss: 3.5191 - accuracy: 0.2350\n",
            "Epoch 77/150\n",
            "89/89 [==============================] - 16s 181ms/step - loss: 3.4934 - accuracy: 0.2381\n",
            "Epoch 78/150\n",
            "89/89 [==============================] - 14s 155ms/step - loss: 3.4711 - accuracy: 0.2390\n",
            "Epoch 79/150\n",
            "89/89 [==============================] - 14s 154ms/step - loss: 3.4381 - accuracy: 0.2450\n",
            "Epoch 80/150\n",
            "89/89 [==============================] - 14s 155ms/step - loss: 3.4195 - accuracy: 0.2452\n",
            "Epoch 81/150\n",
            "89/89 [==============================] - 14s 154ms/step - loss: 3.3896 - accuracy: 0.2507\n",
            "Epoch 82/150\n",
            "89/89 [==============================] - 14s 153ms/step - loss: 3.3623 - accuracy: 0.2592\n",
            "Epoch 83/150\n",
            "89/89 [==============================] - 14s 153ms/step - loss: 3.3320 - accuracy: 0.2643\n",
            "Epoch 84/150\n",
            "89/89 [==============================] - 14s 152ms/step - loss: 3.3054 - accuracy: 0.2666\n",
            "Epoch 85/150\n",
            "89/89 [==============================] - 14s 153ms/step - loss: 3.2845 - accuracy: 0.2685\n",
            "Epoch 86/150\n",
            "89/89 [==============================] - 14s 153ms/step - loss: 3.2613 - accuracy: 0.2711\n",
            "Epoch 87/150\n",
            "89/89 [==============================] - 14s 153ms/step - loss: 3.2335 - accuracy: 0.2753\n",
            "Epoch 88/150\n",
            "89/89 [==============================] - 14s 155ms/step - loss: 3.2071 - accuracy: 0.2802\n",
            "Epoch 89/150\n",
            "89/89 [==============================] - 13s 149ms/step - loss: 3.1855 - accuracy: 0.2854\n",
            "Epoch 90/150\n",
            "89/89 [==============================] - 13s 149ms/step - loss: 3.1624 - accuracy: 0.2867\n",
            "Epoch 91/150\n",
            "89/89 [==============================] - 13s 147ms/step - loss: 3.1382 - accuracy: 0.2922\n",
            "Epoch 92/150\n",
            "89/89 [==============================] - 13s 147ms/step - loss: 3.1190 - accuracy: 0.2915\n",
            "Epoch 93/150\n",
            "89/89 [==============================] - 13s 148ms/step - loss: 3.0854 - accuracy: 0.3014\n",
            "Epoch 94/150\n",
            "89/89 [==============================] - 13s 149ms/step - loss: 3.0587 - accuracy: 0.3075\n",
            "Epoch 95/150\n",
            "89/89 [==============================] - 13s 150ms/step - loss: 3.0329 - accuracy: 0.3092\n",
            "Epoch 96/150\n",
            "89/89 [==============================] - 14s 153ms/step - loss: 3.0139 - accuracy: 0.3087\n",
            "Epoch 97/150\n",
            "89/89 [==============================] - 13s 151ms/step - loss: 2.9915 - accuracy: 0.3149\n",
            "Epoch 98/150\n",
            "89/89 [==============================] - 13s 151ms/step - loss: 2.9664 - accuracy: 0.3178\n",
            "Epoch 99/150\n",
            "89/89 [==============================] - 14s 152ms/step - loss: 2.9471 - accuracy: 0.3207\n",
            "Epoch 100/150\n",
            "89/89 [==============================] - 13s 152ms/step - loss: 2.9196 - accuracy: 0.3255\n",
            "Epoch 101/150\n",
            "89/89 [==============================] - 13s 150ms/step - loss: 2.9031 - accuracy: 0.3323\n",
            "Epoch 102/150\n",
            "89/89 [==============================] - 14s 152ms/step - loss: 2.8838 - accuracy: 0.3341\n",
            "Epoch 103/150\n",
            "89/89 [==============================] - 14s 152ms/step - loss: 2.8647 - accuracy: 0.3356\n",
            "Epoch 104/150\n",
            "89/89 [==============================] - 14s 154ms/step - loss: 2.8363 - accuracy: 0.3433\n",
            "Epoch 105/150\n",
            "89/89 [==============================] - 14s 152ms/step - loss: 2.8064 - accuracy: 0.3471\n",
            "Epoch 106/150\n",
            "89/89 [==============================] - 14s 152ms/step - loss: 2.7904 - accuracy: 0.3543\n",
            "Epoch 107/150\n",
            "89/89 [==============================] - 13s 152ms/step - loss: 2.7813 - accuracy: 0.3502\n",
            "Epoch 108/150\n",
            "89/89 [==============================] - 14s 152ms/step - loss: 2.7607 - accuracy: 0.3564\n",
            "Epoch 109/150\n",
            "89/89 [==============================] - 14s 154ms/step - loss: 2.7334 - accuracy: 0.3623\n",
            "Epoch 110/150\n",
            "89/89 [==============================] - 15s 175ms/step - loss: 2.7113 - accuracy: 0.3639\n",
            "Epoch 111/150\n",
            "89/89 [==============================] - 14s 154ms/step - loss: 2.6917 - accuracy: 0.3702\n",
            "Epoch 112/150\n",
            "89/89 [==============================] - 14s 154ms/step - loss: 2.6743 - accuracy: 0.3742\n",
            "Epoch 113/150\n",
            "89/89 [==============================] - 14s 153ms/step - loss: 2.6592 - accuracy: 0.3720\n",
            "Epoch 114/150\n",
            "89/89 [==============================] - 14s 160ms/step - loss: 2.6332 - accuracy: 0.3802\n",
            "Epoch 115/150\n",
            "89/89 [==============================] - 14s 157ms/step - loss: 2.6491 - accuracy: 0.3773\n",
            "Epoch 116/150\n",
            "89/89 [==============================] - 14s 154ms/step - loss: 2.6031 - accuracy: 0.3868\n",
            "Epoch 117/150\n",
            "89/89 [==============================] - 14s 153ms/step - loss: 2.5749 - accuracy: 0.3944\n",
            "Epoch 118/150\n",
            "89/89 [==============================] - 14s 153ms/step - loss: 2.5546 - accuracy: 0.3967\n",
            "Epoch 119/150\n",
            "89/89 [==============================] - 14s 152ms/step - loss: 2.5356 - accuracy: 0.4013\n",
            "Epoch 120/150\n",
            "89/89 [==============================] - 14s 153ms/step - loss: 2.5205 - accuracy: 0.4073\n",
            "Epoch 121/150\n",
            "89/89 [==============================] - 14s 153ms/step - loss: 2.5060 - accuracy: 0.4105\n",
            "Epoch 122/150\n",
            "89/89 [==============================] - 14s 154ms/step - loss: 2.4859 - accuracy: 0.4066\n",
            "Epoch 123/150\n",
            "89/89 [==============================] - 14s 153ms/step - loss: 2.4706 - accuracy: 0.4112\n",
            "Epoch 124/150\n",
            "89/89 [==============================] - 14s 153ms/step - loss: 2.4511 - accuracy: 0.4196\n",
            "Epoch 125/150\n",
            "89/89 [==============================] - 14s 152ms/step - loss: 2.4321 - accuracy: 0.4226\n",
            "Epoch 126/150\n",
            "89/89 [==============================] - 13s 149ms/step - loss: 2.4176 - accuracy: 0.4249\n",
            "Epoch 127/150\n",
            "89/89 [==============================] - 13s 149ms/step - loss: 2.3982 - accuracy: 0.4321\n",
            "Epoch 128/150\n",
            "89/89 [==============================] - 14s 151ms/step - loss: 2.3846 - accuracy: 0.4293\n",
            "Epoch 129/150\n",
            "89/89 [==============================] - 13s 149ms/step - loss: 2.3778 - accuracy: 0.4291\n",
            "Epoch 130/150\n",
            "89/89 [==============================] - 14s 151ms/step - loss: 2.3513 - accuracy: 0.4425\n",
            "Epoch 131/150\n",
            "89/89 [==============================] - 13s 149ms/step - loss: 2.3425 - accuracy: 0.4417\n",
            "Epoch 132/150\n",
            "89/89 [==============================] - 13s 147ms/step - loss: 2.3239 - accuracy: 0.4464\n",
            "Epoch 133/150\n",
            "89/89 [==============================] - 13s 150ms/step - loss: 2.3114 - accuracy: 0.4478\n",
            "Epoch 134/150\n",
            "89/89 [==============================] - 14s 152ms/step - loss: 2.2949 - accuracy: 0.4470\n",
            "Epoch 135/150\n",
            "89/89 [==============================] - 13s 152ms/step - loss: 2.2725 - accuracy: 0.4583\n",
            "Epoch 136/150\n",
            "89/89 [==============================] - 13s 151ms/step - loss: 2.2560 - accuracy: 0.4573\n",
            "Epoch 137/150\n",
            "89/89 [==============================] - 13s 151ms/step - loss: 2.2337 - accuracy: 0.4648\n",
            "Epoch 138/150\n",
            "89/89 [==============================] - 13s 152ms/step - loss: 2.2146 - accuracy: 0.4702\n",
            "Epoch 139/150\n",
            "89/89 [==============================] - 14s 152ms/step - loss: 2.2216 - accuracy: 0.4654\n",
            "Epoch 140/150\n",
            "89/89 [==============================] - 14s 154ms/step - loss: 2.2022 - accuracy: 0.4705\n",
            "Epoch 141/150\n",
            "89/89 [==============================] - 14s 155ms/step - loss: 2.1849 - accuracy: 0.4779\n",
            "Epoch 142/150\n",
            "89/89 [==============================] - 14s 153ms/step - loss: 2.1635 - accuracy: 0.4797\n",
            "Epoch 143/150\n",
            "89/89 [==============================] - 16s 179ms/step - loss: 2.1512 - accuracy: 0.4830\n",
            "Epoch 144/150\n",
            "89/89 [==============================] - 14s 153ms/step - loss: 2.1373 - accuracy: 0.4902\n",
            "Epoch 145/150\n",
            "89/89 [==============================] - 14s 154ms/step - loss: 2.1247 - accuracy: 0.4868\n",
            "Epoch 146/150\n",
            "89/89 [==============================] - 14s 153ms/step - loss: 2.1037 - accuracy: 0.4924\n",
            "Epoch 147/150\n",
            "89/89 [==============================] - 14s 154ms/step - loss: 2.1061 - accuracy: 0.4913\n",
            "Epoch 148/150\n",
            "89/89 [==============================] - 14s 156ms/step - loss: 2.0900 - accuracy: 0.4942\n",
            "Epoch 149/150\n",
            "89/89 [==============================] - 14s 156ms/step - loss: 2.0591 - accuracy: 0.5060\n",
            "Epoch 150/150\n",
            "89/89 [==============================] - 14s 155ms/step - loss: 2.0512 - accuracy: 0.5063\n"
          ]
        },
        {
          "output_type": "execute_result",
          "data": {
            "text/plain": [
              "<keras.src.callbacks.History at 0x7fd071c052d0>"
            ]
          },
          "metadata": {},
          "execution_count": 282
        }
      ]
    },
    {
      "cell_type": "code",
      "source": [
        "model.save('text_generator_model')"
      ],
      "metadata": {
        "id": "5s99zVyj_Nma"
      },
      "execution_count": 283,
      "outputs": []
    },
    {
      "cell_type": "code",
      "source": [
        "dump(tokenizer,open('my_simpletokenizer','wb'))"
      ],
      "metadata": {
        "id": "jIIjf1i89_E9"
      },
      "execution_count": 284,
      "outputs": []
    },
    {
      "cell_type": "code",
      "source": [
        "from keras.preprocessing.sequence import pad_sequences"
      ],
      "metadata": {
        "id": "iFhRfQvJDpfX"
      },
      "execution_count": 285,
      "outputs": []
    },
    {
      "cell_type": "code",
      "source": [
        "def generate_text(model,tokenizer,seq_len,seed_text,num_gen_word):\n",
        "\n",
        "  output_text = []\n",
        "\n",
        "  input_text = seed_text\n",
        "\n",
        "  for i in range(num_gen_word):\n",
        "\n",
        "    #Convert the data into sequence of number\n",
        "    encoded_text = tokenizer.texts_to_sequences([input_text])\n",
        "\n",
        "    #pad_sequences - make sure the input always 25 words\n",
        "    #input text < 25 - make longer\n",
        "    #input text > 25 - make shorter\n",
        "    pad_encoded = pad_sequences(encoded_text,maxlen=seq_len,truncating = 'pre')\n",
        "\n",
        "    #Will get the probability of every single word\n",
        "    #Get the index of highest probability\n",
        "    pred_word_ind = np.argmax(model.predict(pad_encoded),axis = 1)\n",
        "\n",
        "    pred_word = tokenizer.index_word[pred_word_ind[0]]\n",
        "\n",
        "    input_text += \" \" + pred_word\n",
        "\n",
        "    output_text.append(pred_word)\n",
        "\n",
        "  return ' '.join(output_text)"
      ],
      "metadata": {
        "id": "1fWzmYg3CuAq"
      },
      "execution_count": 286,
      "outputs": []
    },
    {
      "cell_type": "code",
      "source": [
        "import random\n",
        "random.seed(101)\n",
        "random_pick = random.randint(0,len(text_sequences))"
      ],
      "metadata": {
        "id": "5ifrpiZRGZF-"
      },
      "execution_count": 288,
      "outputs": []
    },
    {
      "cell_type": "code",
      "source": [
        "random_seed_text = text_sequences[random_pick]"
      ],
      "metadata": {
        "id": "7M8jSlswGghH"
      },
      "execution_count": 289,
      "outputs": []
    },
    {
      "cell_type": "code",
      "source": [
        "print(random_pick)\n",
        "print(random_seed_text)"
      ],
      "metadata": {
        "colab": {
          "base_uri": "https://localhost:8080/"
        },
        "id": "95OSdUJFGm_p",
        "outputId": "f221c8df-6aec-4382-8043-7fe320b138c8"
      },
      "execution_count": 290,
      "outputs": [
        {
          "output_type": "stream",
          "name": "stdout",
          "text": [
            "9521\n",
            "['thought', 'i', 'to', 'myself', 'the', 'man', \"'s\", 'a', 'human', 'being', 'just', 'as', 'i', 'am', 'he', 'has', 'just', 'as', 'much', 'reason', 'to', 'fear', 'me', 'as', 'i', 'have']\n"
          ]
        }
      ]
    },
    {
      "cell_type": "code",
      "source": [
        "seed_text = \" \".join(random_seed_text)"
      ],
      "metadata": {
        "id": "ozxGzPjkGxvq"
      },
      "execution_count": 291,
      "outputs": []
    },
    {
      "cell_type": "code",
      "source": [
        "seed_text"
      ],
      "metadata": {
        "colab": {
          "base_uri": "https://localhost:8080/",
          "height": 52
        },
        "id": "ATo03PAmG0uC",
        "outputId": "1489886c-ceab-4019-d06d-c1d8acbfbd35"
      },
      "execution_count": 292,
      "outputs": [
        {
          "output_type": "execute_result",
          "data": {
            "text/plain": [
              "\"thought i to myself the man 's a human being just as i am he has just as much reason to fear me as i have\""
            ],
            "application/vnd.google.colaboratory.intrinsic+json": {
              "type": "string"
            }
          },
          "metadata": {},
          "execution_count": 292
        }
      ]
    },
    {
      "cell_type": "code",
      "source": [
        "generate_text(model,tokenizer,seq_len,seed_text=seed_text,num_gen_word = 25)"
      ],
      "metadata": {
        "colab": {
          "base_uri": "https://localhost:8080/",
          "height": 486
        },
        "id": "LkBJ8E5hG2Bx",
        "outputId": "b45d3355-8987-4bd7-ec83-e0cc9922fb0a"
      },
      "execution_count": 293,
      "outputs": [
        {
          "output_type": "stream",
          "name": "stdout",
          "text": [
            "1/1 [==============================] - 1s 1s/step\n",
            "1/1 [==============================] - 0s 31ms/step\n",
            "1/1 [==============================] - 0s 28ms/step\n",
            "1/1 [==============================] - 0s 30ms/step\n",
            "1/1 [==============================] - 0s 28ms/step\n",
            "1/1 [==============================] - 0s 31ms/step\n",
            "1/1 [==============================] - 0s 28ms/step\n",
            "1/1 [==============================] - 0s 32ms/step\n",
            "1/1 [==============================] - 0s 28ms/step\n",
            "1/1 [==============================] - 0s 32ms/step\n",
            "1/1 [==============================] - 0s 30ms/step\n",
            "1/1 [==============================] - 0s 27ms/step\n",
            "1/1 [==============================] - 0s 29ms/step\n",
            "1/1 [==============================] - 0s 27ms/step\n",
            "1/1 [==============================] - 0s 29ms/step\n",
            "1/1 [==============================] - 0s 28ms/step\n",
            "1/1 [==============================] - 0s 27ms/step\n",
            "1/1 [==============================] - 0s 28ms/step\n",
            "1/1 [==============================] - 0s 28ms/step\n",
            "1/1 [==============================] - 0s 32ms/step\n",
            "1/1 [==============================] - 0s 33ms/step\n",
            "1/1 [==============================] - 0s 29ms/step\n",
            "1/1 [==============================] - 0s 28ms/step\n",
            "1/1 [==============================] - 0s 28ms/step\n",
            "1/1 [==============================] - 0s 27ms/step\n"
          ]
        },
        {
          "output_type": "execute_result",
          "data": {
            "text/plain": [
              "'not green alive to the entrance of the equator yea monkey looking because the counterpane iron money occurred in the night that the conclusion i'"
            ],
            "application/vnd.google.colaboratory.intrinsic+json": {
              "type": "string"
            }
          },
          "metadata": {},
          "execution_count": 293
        }
      ]
    },
    {
      "cell_type": "code",
      "source": [
        "from keras.models import load_model"
      ],
      "metadata": {
        "id": "hO9al8tVKvqk"
      },
      "execution_count": 294,
      "outputs": []
    },
    {
      "cell_type": "code",
      "source": [
        "model = load_model(\"text_generator_model\")"
      ],
      "metadata": {
        "id": "1KwNr_8uM9zB"
      },
      "execution_count": 295,
      "outputs": []
    },
    {
      "cell_type": "code",
      "source": [
        "seed_text = \"Hi my name is John, I am currently finding a work. Do you have any work recommendation that related to Computer Science. See you there\""
      ],
      "metadata": {
        "id": "s3c9bkgqMB0k"
      },
      "execution_count": 296,
      "outputs": []
    },
    {
      "cell_type": "code",
      "source": [
        "generate_text(model,tokenizer,seq_len,seed_text=seed_text,num_gen_word = 25)"
      ],
      "metadata": {
        "colab": {
          "base_uri": "https://localhost:8080/",
          "height": 486
        },
        "id": "az3S7POIOGTC",
        "outputId": "ff83f8e2-1bd1-4da2-d7c3-efcacf6357a9"
      },
      "execution_count": 297,
      "outputs": [
        {
          "output_type": "stream",
          "name": "stdout",
          "text": [
            "1/1 [==============================] - 1s 913ms/step\n",
            "1/1 [==============================] - 0s 34ms/step\n",
            "1/1 [==============================] - 0s 33ms/step\n",
            "1/1 [==============================] - 0s 35ms/step\n",
            "1/1 [==============================] - 0s 42ms/step\n",
            "1/1 [==============================] - 0s 31ms/step\n",
            "1/1 [==============================] - 0s 36ms/step\n",
            "1/1 [==============================] - 0s 34ms/step\n",
            "1/1 [==============================] - 0s 31ms/step\n",
            "1/1 [==============================] - 0s 34ms/step\n",
            "1/1 [==============================] - 0s 32ms/step\n",
            "1/1 [==============================] - 0s 35ms/step\n",
            "1/1 [==============================] - 0s 34ms/step\n",
            "1/1 [==============================] - 0s 32ms/step\n",
            "1/1 [==============================] - 0s 32ms/step\n",
            "1/1 [==============================] - 0s 30ms/step\n",
            "1/1 [==============================] - 0s 28ms/step\n",
            "1/1 [==============================] - 0s 32ms/step\n",
            "1/1 [==============================] - 0s 29ms/step\n",
            "1/1 [==============================] - 0s 32ms/step\n",
            "1/1 [==============================] - 0s 51ms/step\n",
            "1/1 [==============================] - 0s 61ms/step\n",
            "1/1 [==============================] - 0s 60ms/step\n",
            "1/1 [==============================] - 0s 46ms/step\n",
            "1/1 [==============================] - 0s 57ms/step\n"
          ]
        },
        {
          "output_type": "execute_result",
          "data": {
            "text/plain": [
              "\"puffing out of the wild conceits that swayed me to the empty ashes climes of mine that mean sartain and that 's the sort of\""
            ],
            "application/vnd.google.colaboratory.intrinsic+json": {
              "type": "string"
            }
          },
          "metadata": {},
          "execution_count": 297
        }
      ]
    }
  ]
}