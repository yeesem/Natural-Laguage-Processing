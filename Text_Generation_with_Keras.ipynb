{
  "nbformat": 4,
  "nbformat_minor": 0,
  "metadata": {
    "colab": {
      "provenance": [],
      "authorship_tag": "ABX9TyNEHdWY7fvzIdTJNcwKdq/h",
      "include_colab_link": true
    },
    "kernelspec": {
      "name": "python3",
      "display_name": "Python 3"
    },
    "language_info": {
      "name": "python"
    }
  },
  "cells": [
    {
      "cell_type": "markdown",
      "metadata": {
        "id": "view-in-github",
        "colab_type": "text"
      },
      "source": [
        "<a href=\"https://colab.research.google.com/github/yeesem/Natural-Laguage-Processing/blob/main/Text_Generation_with_Keras.ipynb\" target=\"_parent\"><img src=\"https://colab.research.google.com/assets/colab-badge.svg\" alt=\"Open In Colab\"/></a>"
      ]
    },
    {
      "cell_type": "code",
      "execution_count": 74,
      "metadata": {
        "id": "peXE31St4HNK"
      },
      "outputs": [],
      "source": [
        "#Read file function\n",
        "def read_file(filepath):\n",
        "  with open(filepath) as f:\n",
        "    str_text = f.read()\n",
        "\n",
        "  return str_text"
      ]
    },
    {
      "cell_type": "code",
      "source": [
        "read_file(\"/content/moby_dick_four_chapters.txt\")[:1000]"
      ],
      "metadata": {
        "colab": {
          "base_uri": "https://localhost:8080/",
          "height": 243
        },
        "id": "c3FKjSg_4dqR",
        "outputId": "5324fbb8-101f-480b-a6e5-b627b5797c8b"
      },
      "execution_count": 130,
      "outputs": [
        {
          "output_type": "execute_result",
          "data": {
            "text/plain": [
              "\"Call me Ishmael.  Some years ago--never mind how long\\nprecisely--having little or no money in my purse, and nothing\\nparticular to interest me on shore, I thought I would sail about a\\nlittle and see the watery part of the world.  It is a way I have of\\ndriving off the spleen and regulating the circulation.  Whenever I\\nfind myself growing grim about the mouth; whenever it is a damp,\\ndrizzly November in my soul; whenever I find myself involuntarily\\npausing before coffin warehouses, and bringing up the rear of every\\nfuneral I meet; and especially whenever my hypos get such an upper\\nhand of me, that it requires a strong moral principle to prevent me\\nfrom deliberately stepping into the street, and methodically knocking\\npeople's hats off--then, I account it high time to get to sea as soon\\nas I can.  This is my substitute for pistol and ball.  With a\\nphilosophical flourish Cato throws himself upon his sword; I quietly\\ntake to the ship.  There is nothing surprising in this.  If they but\\nknew it,\""
            ],
            "application/vnd.google.colaboratory.intrinsic+json": {
              "type": "string"
            }
          },
          "metadata": {},
          "execution_count": 130
        }
      ]
    },
    {
      "cell_type": "code",
      "source": [
        "import spacy"
      ],
      "metadata": {
        "id": "mmzTrvFO5AmG"
      },
      "execution_count": 76,
      "outputs": []
    },
    {
      "cell_type": "code",
      "source": [
        "nlp = spacy.load('en_core_web_sm',disable = ['parser','tagger','ner'])"
      ],
      "metadata": {
        "id": "oJ7I2Eg95d-t"
      },
      "execution_count": 77,
      "outputs": []
    },
    {
      "cell_type": "code",
      "source": [
        "nlp_max_length = 1198623"
      ],
      "metadata": {
        "id": "FukVWzMb5qTg"
      },
      "execution_count": 78,
      "outputs": []
    },
    {
      "cell_type": "code",
      "source": [
        "def separate_punc(doc_text):\n",
        "  return [token.text.lower() for token in nlp(doc_text) if token.text not in '\\n\\n \\n\\n\\n!\"-#$%&()--.*+,-/:;<=>?@[\\\\]^_`{|}~\\t\\n ']"
      ],
      "metadata": {
        "id": "3wJyfnU159qj"
      },
      "execution_count": 79,
      "outputs": []
    },
    {
      "cell_type": "code",
      "source": [
        "d = read_file('/content/moby_dick_four_chapters.txt')"
      ],
      "metadata": {
        "id": "f-CbJkRd6dNU"
      },
      "execution_count": 80,
      "outputs": []
    },
    {
      "cell_type": "code",
      "source": [
        "tokens = separate_punc(d)"
      ],
      "metadata": {
        "colab": {
          "base_uri": "https://localhost:8080/"
        },
        "id": "llvk5YEN7kwG",
        "outputId": "ff831d48-2dde-4b2c-b9c7-72a62de08802"
      },
      "execution_count": 81,
      "outputs": [
        {
          "output_type": "stream",
          "name": "stderr",
          "text": [
            "/usr/local/lib/python3.10/dist-packages/spacy/pipeline/lemmatizer.py:211: UserWarning: [W108] The rule-based lemmatizer did not find POS annotation for one or more tokens. Check that your pipeline includes components that assign token.pos, typically 'tagger'+'attribute_ruler' or 'morphologizer'.\n",
            "  warnings.warn(Warnings.W108)\n"
          ]
        }
      ]
    },
    {
      "cell_type": "code",
      "source": [
        "tokens[:10]"
      ],
      "metadata": {
        "colab": {
          "base_uri": "https://localhost:8080/"
        },
        "id": "lmOm_QrZDUVX",
        "outputId": "4e127e6c-e8a6-41d0-d001-7fcf7a762f49"
      },
      "execution_count": 150,
      "outputs": [
        {
          "output_type": "execute_result",
          "data": {
            "text/plain": [
              "['call',\n",
              " 'me',\n",
              " 'ishmael',\n",
              " 'some',\n",
              " 'years',\n",
              " 'ago',\n",
              " 'never',\n",
              " 'mind',\n",
              " 'how',\n",
              " 'long']"
            ]
          },
          "metadata": {},
          "execution_count": 150
        }
      ]
    },
    {
      "cell_type": "code",
      "source": [
        "len(tokens)"
      ],
      "metadata": {
        "colab": {
          "base_uri": "https://localhost:8080/"
        },
        "id": "vQZL9wqeDViO",
        "outputId": "8ce5c48e-46c6-44ad-b82e-1e1c3baf50e2"
      },
      "execution_count": 83,
      "outputs": [
        {
          "output_type": "execute_result",
          "data": {
            "text/plain": [
              "11338"
            ]
          },
          "metadata": {},
          "execution_count": 83
        }
      ]
    },
    {
      "cell_type": "code",
      "source": [
        "#25 words --predict--> #20 words\n",
        "train_len = 25 + 1\n",
        "\n",
        "text_sequences = []\n",
        "\n",
        "for i in range(train_len,len(tokens)):\n",
        "  seq = tokens[i-train_len:i]\n",
        "\n",
        "  text_sequences.append(seq)"
      ],
      "metadata": {
        "id": "pJK5Y5OmDaNo"
      },
      "execution_count": 84,
      "outputs": []
    },
    {
      "cell_type": "code",
      "source": [
        "type(text_sequences )"
      ],
      "metadata": {
        "colab": {
          "base_uri": "https://localhost:8080/"
        },
        "id": "HuToDMjUEWhR",
        "outputId": "d83b00ce-e797-4b59-de9a-f3bafb84796f"
      },
      "execution_count": 85,
      "outputs": [
        {
          "output_type": "execute_result",
          "data": {
            "text/plain": [
              "list"
            ]
          },
          "metadata": {},
          "execution_count": 85
        }
      ]
    },
    {
      "cell_type": "code",
      "source": [
        "text_sequences[0]"
      ],
      "metadata": {
        "colab": {
          "base_uri": "https://localhost:8080/"
        },
        "id": "_NbQPa3GD7zQ",
        "outputId": "cfb36a41-5466-4ee8-8980-79dd5c3cf758"
      },
      "execution_count": 86,
      "outputs": [
        {
          "output_type": "execute_result",
          "data": {
            "text/plain": [
              "['call',\n",
              " 'me',\n",
              " 'ishmael',\n",
              " 'some',\n",
              " 'years',\n",
              " 'ago',\n",
              " 'never',\n",
              " 'mind',\n",
              " 'how',\n",
              " 'long',\n",
              " 'precisely',\n",
              " 'having',\n",
              " 'little',\n",
              " 'or',\n",
              " 'no',\n",
              " 'money',\n",
              " 'in',\n",
              " 'my',\n",
              " 'purse',\n",
              " 'and',\n",
              " 'nothing',\n",
              " 'particular',\n",
              " 'to',\n",
              " 'interest',\n",
              " 'me',\n",
              " 'on']"
            ]
          },
          "metadata": {},
          "execution_count": 86
        }
      ]
    },
    {
      "cell_type": "code",
      "source": [
        "text_sequences[1]"
      ],
      "metadata": {
        "colab": {
          "base_uri": "https://localhost:8080/"
        },
        "id": "dVLz02h9El8J",
        "outputId": "7d125d8d-9d29-4857-a021-72f0b5ee7d7e"
      },
      "execution_count": 87,
      "outputs": [
        {
          "output_type": "execute_result",
          "data": {
            "text/plain": [
              "['me',\n",
              " 'ishmael',\n",
              " 'some',\n",
              " 'years',\n",
              " 'ago',\n",
              " 'never',\n",
              " 'mind',\n",
              " 'how',\n",
              " 'long',\n",
              " 'precisely',\n",
              " 'having',\n",
              " 'little',\n",
              " 'or',\n",
              " 'no',\n",
              " 'money',\n",
              " 'in',\n",
              " 'my',\n",
              " 'purse',\n",
              " 'and',\n",
              " 'nothing',\n",
              " 'particular',\n",
              " 'to',\n",
              " 'interest',\n",
              " 'me',\n",
              " 'on',\n",
              " 'shore']"
            ]
          },
          "metadata": {},
          "execution_count": 87
        }
      ]
    },
    {
      "cell_type": "code",
      "source": [
        "len(text_sequences[0])"
      ],
      "metadata": {
        "colab": {
          "base_uri": "https://localhost:8080/"
        },
        "id": "pVKTMGA7FP7H",
        "outputId": "9aa76ecd-6d7a-4e55-eeaf-9dc762759a87"
      },
      "execution_count": 88,
      "outputs": [
        {
          "output_type": "execute_result",
          "data": {
            "text/plain": [
              "26"
            ]
          },
          "metadata": {},
          "execution_count": 88
        }
      ]
    },
    {
      "cell_type": "code",
      "source": [
        "print(' '.join(text_sequences[0]))\n",
        "print('\\n')\n",
        "print(' '.join(text_sequences[1]))"
      ],
      "metadata": {
        "colab": {
          "base_uri": "https://localhost:8080/"
        },
        "id": "C4s9xaIzFT3J",
        "outputId": "c2959398-6a4b-4de7-a981-02cf5201c9c9"
      },
      "execution_count": 89,
      "outputs": [
        {
          "output_type": "stream",
          "name": "stdout",
          "text": [
            "call me ishmael some years ago never mind how long precisely having little or no money in my purse and nothing particular to interest me on\n",
            "\n",
            "\n",
            "me ishmael some years ago never mind how long precisely having little or no money in my purse and nothing particular to interest me on shore\n"
          ]
        }
      ]
    },
    {
      "cell_type": "code",
      "source": [
        "from keras.preprocessing.text import Tokenizer"
      ],
      "metadata": {
        "id": "8WHTg2QXFeeu"
      },
      "execution_count": 90,
      "outputs": []
    },
    {
      "cell_type": "code",
      "source": [
        "tokenizer = Tokenizer()\n",
        "tokenizer.fit_on_texts(text_sequences)\n",
        "sequences = tokenizer.texts_to_sequences(text_sequences)"
      ],
      "metadata": {
        "id": "WMc1iB3PF5aN"
      },
      "execution_count": 93,
      "outputs": []
    },
    {
      "cell_type": "code",
      "source": [
        "#Assign an id to each of word\n",
        "sequences[0]"
      ],
      "metadata": {
        "colab": {
          "base_uri": "https://localhost:8080/"
        },
        "id": "-VMeYpQWI2Mm",
        "outputId": "5298b803-3a85-4629-d72f-452cdab3c868"
      },
      "execution_count": 94,
      "outputs": [
        {
          "output_type": "execute_result",
          "data": {
            "text/plain": [
              "[956,\n",
              " 14,\n",
              " 263,\n",
              " 51,\n",
              " 261,\n",
              " 408,\n",
              " 87,\n",
              " 219,\n",
              " 129,\n",
              " 111,\n",
              " 954,\n",
              " 260,\n",
              " 50,\n",
              " 43,\n",
              " 38,\n",
              " 314,\n",
              " 7,\n",
              " 23,\n",
              " 546,\n",
              " 3,\n",
              " 150,\n",
              " 259,\n",
              " 6,\n",
              " 2713,\n",
              " 14,\n",
              " 24]"
            ]
          },
          "metadata": {},
          "execution_count": 94
        }
      ]
    },
    {
      "cell_type": "code",
      "source": [
        "#ID 100 - 'who'\n",
        "tokenizer.index_word[100]"
      ],
      "metadata": {
        "colab": {
          "base_uri": "https://localhost:8080/",
          "height": 35
        },
        "id": "e1AYCNKMI8mu",
        "outputId": "07899dcb-c519-4151-d1e0-407ac6b93e39"
      },
      "execution_count": 137,
      "outputs": [
        {
          "output_type": "execute_result",
          "data": {
            "text/plain": [
              "'who'"
            ],
            "application/vnd.google.colaboratory.intrinsic+json": {
              "type": "string"
            }
          },
          "metadata": {},
          "execution_count": 137
        }
      ]
    },
    {
      "cell_type": "code",
      "source": [
        "for i in sequences[0]:\n",
        "  print(f\"{i:<4} : {tokenizer.index_word[i]}\")"
      ],
      "metadata": {
        "colab": {
          "base_uri": "https://localhost:8080/"
        },
        "id": "c1qB7a-1JSOq",
        "outputId": "4e3bc9b8-c786-46ac-b597-97483aac000e"
      },
      "execution_count": 103,
      "outputs": [
        {
          "output_type": "stream",
          "name": "stdout",
          "text": [
            "956  : call\n",
            "14   : me\n",
            "263  : ishmael\n",
            "51   : some\n",
            "261  : years\n",
            "408  : ago\n",
            "87   : never\n",
            "219  : mind\n",
            "129  : how\n",
            "111  : long\n",
            "954  : precisely\n",
            "260  : having\n",
            "50   : little\n",
            "43   : or\n",
            "38   : no\n",
            "314  : money\n",
            "7    : in\n",
            "23   : my\n",
            "546  : purse\n",
            "3    : and\n",
            "150  : nothing\n",
            "259  : particular\n",
            "6    : to\n",
            "2713 : interest\n",
            "14   : me\n",
            "24   : on\n"
          ]
        }
      ]
    },
    {
      "cell_type": "code",
      "source": [
        "type(tokenizer.word_counts)"
      ],
      "metadata": {
        "colab": {
          "base_uri": "https://localhost:8080/"
        },
        "id": "9IqD1JyFJd_V",
        "outputId": "56577afa-0c68-4093-8976-b72e95943516"
      },
      "execution_count": 108,
      "outputs": [
        {
          "output_type": "execute_result",
          "data": {
            "text/plain": [
              "collections.OrderedDict"
            ]
          },
          "metadata": {},
          "execution_count": 108
        }
      ]
    },
    {
      "cell_type": "code",
      "source": [
        "#Show to word count for every single word\n",
        "tokenizer.word_counts"
      ],
      "metadata": {
        "id": "6gsI24H2KZTP"
      },
      "execution_count": null,
      "outputs": []
    },
    {
      "cell_type": "code",
      "source": [
        "# Get word counts\n",
        "word_counts = tokenizer.word_counts\n",
        "\n",
        "# Sort word counts in descending order\n",
        "sorted_word_counts = sorted(word_counts.items(), key=lambda x: -x[1])\n",
        "\n",
        "# Print sorted word counts\n",
        "for word, count in sorted_word_counts[:10]:\n",
        "    print(f\"{word:<15}: {count}\")"
      ],
      "metadata": {
        "colab": {
          "base_uri": "https://localhost:8080/"
        },
        "id": "EH-5UR76KqcJ",
        "outputId": "28bdc8a3-24c6-4d3d-901a-f805f92aba29"
      },
      "execution_count": 121,
      "outputs": [
        {
          "output_type": "stream",
          "name": "stdout",
          "text": [
            "the            : 15540\n",
            "a              : 10377\n",
            "and            : 9646\n",
            "of             : 8287\n",
            "i              : 7150\n",
            "to             : 6497\n",
            "in             : 5647\n",
            "it             : 4238\n",
            "that           : 3770\n",
            "he             : 3247\n"
          ]
        }
      ]
    },
    {
      "cell_type": "code",
      "source": [
        "vocabulary_size = len(tokenizer.word_counts)"
      ],
      "metadata": {
        "id": "-cbhZ7FNLXrj"
      },
      "execution_count": 114,
      "outputs": []
    },
    {
      "cell_type": "code",
      "source": [
        "vocabulary_size"
      ],
      "metadata": {
        "colab": {
          "base_uri": "https://localhost:8080/"
        },
        "id": "s0A75FZiLcna",
        "outputId": "73bfb5df-3685-4a9b-ba56-49012db56f29"
      },
      "execution_count": 115,
      "outputs": [
        {
          "output_type": "execute_result",
          "data": {
            "text/plain": [
              "2718"
            ]
          },
          "metadata": {},
          "execution_count": 115
        }
      ]
    },
    {
      "cell_type": "code",
      "source": [
        "type(sequences)"
      ],
      "metadata": {
        "colab": {
          "base_uri": "https://localhost:8080/"
        },
        "id": "_A3k5YToLnm2",
        "outputId": "8c34461c-9fdc-4b40-bb30-01cb2a9b45fb"
      },
      "execution_count": 117,
      "outputs": [
        {
          "output_type": "execute_result",
          "data": {
            "text/plain": [
              "list"
            ]
          },
          "metadata": {},
          "execution_count": 117
        }
      ]
    },
    {
      "cell_type": "code",
      "source": [
        "import numpy as np\n",
        "sequences = np.array(sequences)"
      ],
      "metadata": {
        "id": "RhVuHG0JLvQ0"
      },
      "execution_count": 119,
      "outputs": []
    },
    {
      "cell_type": "code",
      "source": [
        "print(sequences)"
      ],
      "metadata": {
        "colab": {
          "base_uri": "https://localhost:8080/"
        },
        "id": "_VeEfI3TLxZi",
        "outputId": "71e2e329-6bbf-4657-96ac-fd8bda534385"
      },
      "execution_count": 120,
      "outputs": [
        {
          "output_type": "stream",
          "name": "stdout",
          "text": [
            "[[ 956   14  263 ... 2713   14   24]\n",
            " [  14  263   51 ...   14   24  957]\n",
            " [ 263   51  261 ...   24  957    5]\n",
            " ...\n",
            " [ 952   12  166 ...  262   53    2]\n",
            " [  12  166 2712 ...   53    2 2718]\n",
            " [ 166 2712    3 ...    2 2718   26]]\n"
          ]
        }
      ]
    },
    {
      "cell_type": "code",
      "source": [
        "from keras.utils import to_categorical"
      ],
      "metadata": {
        "id": "Iz2bQcbrL1qX"
      },
      "execution_count": 139,
      "outputs": []
    },
    {
      "cell_type": "code",
      "source": [
        "#Take every row excep every last column\n",
        "X = sequences[:,:-1]"
      ],
      "metadata": {
        "id": "-sx_c-KR39Tq"
      },
      "execution_count": 143,
      "outputs": []
    },
    {
      "cell_type": "code",
      "source": [
        "y = sequences[:,-1]"
      ],
      "metadata": {
        "id": "Lq33M8fK4I_b"
      },
      "execution_count": 144,
      "outputs": []
    },
    {
      "cell_type": "code",
      "source": [
        "y = to_categorical(y,num_classes = vocabulary_size + 1)"
      ],
      "metadata": {
        "id": "SW8TeyyG4WPe"
      },
      "execution_count": 145,
      "outputs": []
    },
    {
      "cell_type": "code",
      "source": [
        "y"
      ],
      "metadata": {
        "colab": {
          "base_uri": "https://localhost:8080/"
        },
        "id": "Yx_ZVyQv4v5r",
        "outputId": "ca52a31c-59c7-444b-c3e0-6fc1cb704e4a"
      },
      "execution_count": 146,
      "outputs": [
        {
          "output_type": "execute_result",
          "data": {
            "text/plain": [
              "array([[0., 0., 0., ..., 0., 0., 0.],\n",
              "       [0., 0., 0., ..., 0., 0., 0.],\n",
              "       [0., 0., 0., ..., 0., 0., 0.],\n",
              "       ...,\n",
              "       [0., 0., 1., ..., 0., 0., 0.],\n",
              "       [0., 0., 0., ..., 0., 0., 1.],\n",
              "       [0., 0., 0., ..., 0., 0., 0.]], dtype=float32)"
            ]
          },
          "metadata": {},
          "execution_count": 146
        }
      ]
    },
    {
      "cell_type": "code",
      "source": [
        "y.shape"
      ],
      "metadata": {
        "colab": {
          "base_uri": "https://localhost:8080/"
        },
        "id": "9cx9CnQp4yP-",
        "outputId": "5d1a22b1-b737-4526-db7a-e00c3f22375c"
      },
      "execution_count": 147,
      "outputs": [
        {
          "output_type": "execute_result",
          "data": {
            "text/plain": [
              "(11312, 2719)"
            ]
          },
          "metadata": {},
          "execution_count": 147
        }
      ]
    },
    {
      "cell_type": "code",
      "source": [
        "X.shape"
      ],
      "metadata": {
        "colab": {
          "base_uri": "https://localhost:8080/"
        },
        "id": "3XIWY9pz41GI",
        "outputId": "faabf555-a2f6-4907-a600-7acce7f5eb0a"
      },
      "execution_count": 153,
      "outputs": [
        {
          "output_type": "execute_result",
          "data": {
            "text/plain": [
              "(11312, 25)"
            ]
          },
          "metadata": {},
          "execution_count": 153
        }
      ]
    },
    {
      "cell_type": "code",
      "source": [
        "vocabulary_size"
      ],
      "metadata": {
        "colab": {
          "base_uri": "https://localhost:8080/"
        },
        "id": "YPuVvUly6dCW",
        "outputId": "1b2faf53-b4a3-4ee0-af6c-410a8405d356"
      },
      "execution_count": 156,
      "outputs": [
        {
          "output_type": "execute_result",
          "data": {
            "text/plain": [
              "2718"
            ]
          },
          "metadata": {},
          "execution_count": 156
        }
      ]
    },
    {
      "cell_type": "code",
      "source": [
        "from keras.models import Sequential\n",
        "from keras.layers import Dense,LSTM,Embedding"
      ],
      "metadata": {
        "id": "I3bY2-yq5o69"
      },
      "execution_count": 154,
      "outputs": []
    },
    {
      "cell_type": "code",
      "source": [
        "def create_model(vocabulary_size,seq_len):\n",
        "\n",
        "  model = Sequential()\n",
        "  #First layer in the model\n",
        "  #Embedding - Turn positive integers.indexes into dense vectors of fixed size\n",
        "  model.add(Embedding(vocabulary_size,seq_len,input_length = seq_len))\n",
        "  #Better take the multiply of sequence length -> num of neurons\n",
        "  model.add(LSTM(seq_len*6,return_sequences = True))\n",
        "  model.add(LSTM(seq_len*2))\n",
        "  model.add(Dense(50,activation = 'relu'))\n",
        "\n",
        "  model.add(Dense(vocabulary_size,activation='softmax'))\n",
        "\n",
        "  model.compile(loss = 'categorical_crossentropy',optimizer = 'adam',metrics = ['accuracy'])\n",
        "\n",
        "  model.summary()\n",
        "\n",
        "  return model"
      ],
      "metadata": {
        "id": "E_H5yZn16E6G"
      },
      "execution_count": 165,
      "outputs": []
    },
    {
      "cell_type": "code",
      "source": [
        "model = create_model(vocabulary_size+1,seq_len)"
      ],
      "metadata": {
        "colab": {
          "base_uri": "https://localhost:8080/"
        },
        "id": "5op_8Aik9Erq",
        "outputId": "71703192-8c87-4cc4-e1b5-065f9729f79f"
      },
      "execution_count": 166,
      "outputs": [
        {
          "output_type": "stream",
          "name": "stdout",
          "text": [
            "Model: \"sequential_1\"\n",
            "_________________________________________________________________\n",
            " Layer (type)                Output Shape              Param #   \n",
            "=================================================================\n",
            " embedding_1 (Embedding)     (None, 25, 25)            67975     \n",
            "                                                                 \n",
            " lstm_2 (LSTM)               (None, 25, 150)           105600    \n",
            "                                                                 \n",
            " lstm_3 (LSTM)               (None, 50)                40200     \n",
            "                                                                 \n",
            " dense_2 (Dense)             (None, 50)                2550      \n",
            "                                                                 \n",
            " dense_3 (Dense)             (None, 2719)              138669    \n",
            "                                                                 \n",
            "=================================================================\n",
            "Total params: 354994 (1.35 MB)\n",
            "Trainable params: 354994 (1.35 MB)\n",
            "Non-trainable params: 0 (0.00 Byte)\n",
            "_________________________________________________________________\n"
          ]
        }
      ]
    },
    {
      "cell_type": "code",
      "source": [
        "import tensorflow as tf\n",
        "tf.keras.utils.plot_model(model)"
      ],
      "metadata": {
        "colab": {
          "base_uri": "https://localhost:8080/",
          "height": 564
        },
        "id": "lLeTo-Y_9FIs",
        "outputId": "9cf731c1-fa4f-42f8-b83f-83cf5f34b54e"
      },
      "execution_count": 167,
      "outputs": [
        {
          "output_type": "execute_result",
          "data": {
            "image/png": "[encoded data removed]",
            "text/plain": [
              "<IPython.core.display.Image object>"
            ]
          },
          "metadata": {},
          "execution_count": 167
        }
      ]
    },
    {
      "cell_type": "code",
      "source": [
        "from pickle import dump,load"
      ],
      "metadata": {
        "id": "gmBeTh4c9izm"
      },
      "execution_count": 163,
      "outputs": []
    },
    {
      "cell_type": "code",
      "source": [
        "#batch_size - how many sequences that we want to pass one time\n",
        "model.fit(X,y,batch_size=128,epochs=50,verbose = 1)"
      ],
      "metadata": {
        "colab": {
          "base_uri": "https://localhost:8080/"
        },
        "id": "chSN6S9I9qh_",
        "outputId": "9d268bc5-3508-4b76-8cd9-c6d1a0586de7"
      },
      "execution_count": 168,
      "outputs": [
        {
          "output_type": "stream",
          "name": "stdout",
          "text": [
            "Epoch 1/50\n",
            "89/89 [==============================] - 18s 148ms/step - loss: 6.9697 - accuracy: 0.0345\n",
            "Epoch 2/50\n",
            "89/89 [==============================] - 16s 177ms/step - loss: 6.3711 - accuracy: 0.0529\n",
            "Epoch 3/50\n",
            "89/89 [==============================] - 19s 207ms/step - loss: 6.3466 - accuracy: 0.0529\n",
            "Epoch 4/50\n",
            "89/89 [==============================] - 14s 152ms/step - loss: 6.3377 - accuracy: 0.0529\n",
            "Epoch 5/50\n",
            "89/89 [==============================] - 14s 152ms/step - loss: 6.3348 - accuracy: 0.0529\n",
            "Epoch 6/50\n",
            "89/89 [==============================] - 14s 155ms/step - loss: 6.3320 - accuracy: 0.0529\n",
            "Epoch 7/50\n",
            "89/89 [==============================] - 17s 189ms/step - loss: 6.3315 - accuracy: 0.0529\n",
            "Epoch 8/50\n",
            "89/89 [==============================] - 15s 167ms/step - loss: 6.3321 - accuracy: 0.0529\n",
            "Epoch 9/50\n",
            "89/89 [==============================] - 14s 157ms/step - loss: 6.3289 - accuracy: 0.0529\n",
            "Epoch 10/50\n",
            "89/89 [==============================] - 17s 196ms/step - loss: 6.3289 - accuracy: 0.0529\n",
            "Epoch 11/50\n",
            "89/89 [==============================] - 21s 240ms/step - loss: 6.3278 - accuracy: 0.0529\n",
            "Epoch 12/50\n",
            "89/89 [==============================] - 15s 164ms/step - loss: 6.3256 - accuracy: 0.0529\n",
            "Epoch 13/50\n",
            "89/89 [==============================] - 14s 159ms/step - loss: 6.3254 - accuracy: 0.0529\n",
            "Epoch 14/50\n",
            "89/89 [==============================] - 16s 175ms/step - loss: 6.2639 - accuracy: 0.0529\n",
            "Epoch 15/50\n",
            "89/89 [==============================] - 14s 157ms/step - loss: 6.1182 - accuracy: 0.0530\n",
            "Epoch 16/50\n",
            "89/89 [==============================] - 20s 226ms/step - loss: 5.9921 - accuracy: 0.0546\n",
            "Epoch 17/50\n",
            "89/89 [==============================] - 17s 194ms/step - loss: 5.8995 - accuracy: 0.0606\n",
            "Epoch 18/50\n",
            "89/89 [==============================] - 19s 215ms/step - loss: 5.8325 - accuracy: 0.0661\n",
            "Epoch 19/50\n",
            "89/89 [==============================] - 19s 211ms/step - loss: 5.7743 - accuracy: 0.0682\n",
            "Epoch 20/50\n",
            "89/89 [==============================] - 14s 156ms/step - loss: 5.8157 - accuracy: 0.0667\n",
            "Epoch 21/50\n",
            "89/89 [==============================] - 14s 155ms/step - loss: 5.6848 - accuracy: 0.0703\n",
            "Epoch 22/50\n",
            "89/89 [==============================] - 14s 153ms/step - loss: 5.6636 - accuracy: 0.0736\n",
            "Epoch 23/50\n",
            "89/89 [==============================] - 14s 154ms/step - loss: 5.6034 - accuracy: 0.0767\n",
            "Epoch 24/50\n",
            "89/89 [==============================] - 14s 154ms/step - loss: 5.5310 - accuracy: 0.0794\n",
            "Epoch 25/50\n",
            "89/89 [==============================] - 14s 156ms/step - loss: 5.4690 - accuracy: 0.0814\n",
            "Epoch 26/50\n",
            "89/89 [==============================] - 14s 155ms/step - loss: 5.4126 - accuracy: 0.0826\n",
            "Epoch 27/50\n",
            "89/89 [==============================] - 14s 156ms/step - loss: 5.3546 - accuracy: 0.0827\n",
            "Epoch 28/50\n",
            "89/89 [==============================] - 14s 160ms/step - loss: 5.2953 - accuracy: 0.0845\n",
            "Epoch 29/50\n",
            "89/89 [==============================] - 14s 157ms/step - loss: 5.2382 - accuracy: 0.0896\n",
            "Epoch 30/50\n",
            "89/89 [==============================] - 14s 156ms/step - loss: 5.2147 - accuracy: 0.0902\n",
            "Epoch 31/50\n",
            "89/89 [==============================] - 14s 156ms/step - loss: 5.1823 - accuracy: 0.0902\n",
            "Epoch 32/50\n",
            "89/89 [==============================] - 14s 156ms/step - loss: 5.1328 - accuracy: 0.0915\n",
            "Epoch 33/50\n",
            "89/89 [==============================] - 14s 155ms/step - loss: 5.0839 - accuracy: 0.0934\n",
            "Epoch 34/50\n",
            "89/89 [==============================] - 14s 155ms/step - loss: 5.0434 - accuracy: 0.0941\n",
            "Epoch 35/50\n",
            "89/89 [==============================] - 14s 157ms/step - loss: 5.0010 - accuracy: 0.0968\n",
            "Epoch 36/50\n",
            "89/89 [==============================] - 14s 156ms/step - loss: 4.9578 - accuracy: 0.0965\n",
            "Epoch 37/50\n",
            "89/89 [==============================] - 14s 156ms/step - loss: 4.9197 - accuracy: 0.0964\n",
            "Epoch 38/50\n",
            "89/89 [==============================] - 14s 156ms/step - loss: 4.8741 - accuracy: 0.0992\n",
            "Epoch 39/50\n",
            "89/89 [==============================] - 14s 155ms/step - loss: 4.8354 - accuracy: 0.1005\n",
            "Epoch 40/50\n",
            "89/89 [==============================] - 14s 154ms/step - loss: 4.8009 - accuracy: 0.1016\n",
            "Epoch 41/50\n",
            "89/89 [==============================] - 14s 154ms/step - loss: 4.7646 - accuracy: 0.1042\n",
            "Epoch 42/50\n",
            "89/89 [==============================] - 15s 166ms/step - loss: 4.7320 - accuracy: 0.1034\n",
            "Epoch 43/50\n",
            "89/89 [==============================] - 14s 160ms/step - loss: 4.6977 - accuracy: 0.1055\n",
            "Epoch 44/50\n",
            "89/89 [==============================] - 14s 153ms/step - loss: 4.6645 - accuracy: 0.1076\n",
            "Epoch 45/50\n",
            "89/89 [==============================] - 14s 151ms/step - loss: 4.6337 - accuracy: 0.1084\n",
            "Epoch 46/50\n",
            "89/89 [==============================] - 14s 157ms/step - loss: 4.5968 - accuracy: 0.1105\n",
            "Epoch 47/50\n",
            "89/89 [==============================] - 14s 154ms/step - loss: 4.5656 - accuracy: 0.1145\n",
            "Epoch 48/50\n",
            "89/89 [==============================] - 14s 154ms/step - loss: 4.5439 - accuracy: 0.1141\n",
            "Epoch 49/50\n",
            "89/89 [==============================] - 14s 154ms/step - loss: 4.5152 - accuracy: 0.1130\n",
            "Epoch 50/50\n",
            "89/89 [==============================] - 14s 152ms/step - loss: 4.4710 - accuracy: 0.1187\n"
          ]
        },
        {
          "output_type": "execute_result",
          "data": {
            "text/plain": [
              "<keras.src.callbacks.History at 0x7fd0719f1de0>"
            ]
          },
          "metadata": {},
          "execution_count": 168
        }
      ]
    },
    {
      "cell_type": "code",
      "source": [
        "model.save('text_generator_model')"
      ],
      "metadata": {
        "id": "5s99zVyj_Nma"
      },
      "execution_count": 169,
      "outputs": []
    },
    {
      "cell_type": "code",
      "source": [
        "dump(tokenizer,open('my_simpletokenizer','wb'))"
      ],
      "metadata": {
        "id": "jIIjf1i89_E9"
      },
      "execution_count": 170,
      "outputs": []
    },
    {
      "cell_type": "code",
      "source": [
        "from keras.preprocessing.sequence import pad_sequences"
      ],
      "metadata": {
        "id": "iFhRfQvJDpfX"
      },
      "execution_count": 171,
      "outputs": []
    },
    {
      "cell_type": "code",
      "source": [
        "def generate_text(model,tokenizer,seq_len,seed_text,num_gen_word):\n",
        "\n",
        "  output_text = []\n",
        "\n",
        "  input_text = seed_text\n",
        "\n",
        "  for i in range(num_gen_word):\n",
        "\n",
        "    #Convert the data into sequence of number\n",
        "    encoded_text = tokenizer.texts_to_sequences([input_text])\n",
        "\n",
        "    #pad_sequences - make sure the input always 25 words\n",
        "    #input text < 25 - make longer\n",
        "    #input text > 25 - make shorter\n",
        "    pad_encoded = pad_sequences(encoded_text,maxlen=seq_len,truncating = 'pre')\n",
        "\n",
        "    #Will get the probability of every single word\n",
        "    #Get the index of highest probability\n",
        "    pred_word_ind = np.argmax(model.predict(pad_encoded),axis = 1)\n",
        "\n",
        "    pred_word = tokenizer.index_word[pred_word_ind[0]]\n",
        "\n",
        "    input_text += \" \" + pred_word\n",
        "\n",
        "    output_text.append(pred_word)\n",
        "\n",
        "  return ' '.join(output_text)"
      ],
      "metadata": {
        "id": "1fWzmYg3CuAq"
      },
      "execution_count": 215,
      "outputs": []
    },
    {
      "cell_type": "code",
      "source": [
        "text_sequences[0]"
      ],
      "metadata": {
        "colab": {
          "base_uri": "https://localhost:8080/"
        },
        "id": "VJIJJu3VGRAg",
        "outputId": "14539789-c174-489a-f421-fa8f2538b183"
      },
      "execution_count": 173,
      "outputs": [
        {
          "output_type": "execute_result",
          "data": {
            "text/plain": [
              "['call',\n",
              " 'me',\n",
              " 'ishmael',\n",
              " 'some',\n",
              " 'years',\n",
              " 'ago',\n",
              " 'never',\n",
              " 'mind',\n",
              " 'how',\n",
              " 'long',\n",
              " 'precisely',\n",
              " 'having',\n",
              " 'little',\n",
              " 'or',\n",
              " 'no',\n",
              " 'money',\n",
              " 'in',\n",
              " 'my',\n",
              " 'purse',\n",
              " 'and',\n",
              " 'nothing',\n",
              " 'particular',\n",
              " 'to',\n",
              " 'interest',\n",
              " 'me',\n",
              " 'on']"
            ]
          },
          "metadata": {},
          "execution_count": 173
        }
      ]
    },
    {
      "cell_type": "code",
      "source": [
        "import random\n",
        "random.seed(101)\n",
        "random_pick = random.randint(0,len(text_sequences))"
      ],
      "metadata": {
        "id": "5ifrpiZRGZF-"
      },
      "execution_count": 219,
      "outputs": []
    },
    {
      "cell_type": "code",
      "source": [
        "random_seed_text = text_sequences[random_pick]"
      ],
      "metadata": {
        "id": "7M8jSlswGghH"
      },
      "execution_count": 220,
      "outputs": []
    },
    {
      "cell_type": "code",
      "source": [
        "print(random_pick)\n",
        "print(random_seed_text)"
      ],
      "metadata": {
        "colab": {
          "base_uri": "https://localhost:8080/"
        },
        "id": "95OSdUJFGm_p",
        "outputId": "878eeeec-1b65-4347-a5b5-8ad4bc9a3894"
      },
      "execution_count": 176,
      "outputs": [
        {
          "output_type": "stream",
          "name": "stdout",
          "text": [
            "9521\n",
            "['thought', 'i', 'to', 'myself', 'the', 'man', \"'s\", 'a', 'human', 'being', 'just', 'as', 'i', 'am', 'he', 'has', 'just', 'as', 'much', 'reason', 'to', 'fear', 'me', 'as', 'i', 'have']\n"
          ]
        }
      ]
    },
    {
      "cell_type": "code",
      "source": [
        "seed_text = \" \".join(random_seed_text)"
      ],
      "metadata": {
        "id": "ozxGzPjkGxvq"
      },
      "execution_count": 221,
      "outputs": []
    },
    {
      "cell_type": "code",
      "source": [
        "seed_text"
      ],
      "metadata": {
        "colab": {
          "base_uri": "https://localhost:8080/",
          "height": 52
        },
        "id": "ATo03PAmG0uC",
        "outputId": "15e4da3d-e63f-464f-9dfb-a9247a9d1b05"
      },
      "execution_count": 178,
      "outputs": [
        {
          "output_type": "execute_result",
          "data": {
            "text/plain": [
              "\"thought i to myself the man 's a human being just as i am he has just as much reason to fear me as i have\""
            ],
            "application/vnd.google.colaboratory.intrinsic+json": {
              "type": "string"
            }
          },
          "metadata": {},
          "execution_count": 178
        }
      ]
    },
    {
      "cell_type": "code",
      "source": [
        "generate_text(model,tokenizer,seq_len,seed_text=seed_text,num_gen_word = 25)"
      ],
      "metadata": {
        "colab": {
          "base_uri": "https://localhost:8080/",
          "height": 469
        },
        "id": "LkBJ8E5hG2Bx",
        "outputId": "577aa8a0-c3c3-48f7-878a-1a87b0137750"
      },
      "execution_count": 218,
      "outputs": [
        {
          "output_type": "stream",
          "name": "stdout",
          "text": [
            "1/1 [==============================] - 1s 985ms/step\n",
            "1/1 [==============================] - 0s 31ms/step\n",
            "1/1 [==============================] - 0s 32ms/step\n",
            "1/1 [==============================] - 0s 28ms/step\n",
            "1/1 [==============================] - 0s 46ms/step\n",
            "1/1 [==============================] - 0s 46ms/step\n",
            "1/1 [==============================] - 0s 32ms/step\n",
            "1/1 [==============================] - 0s 32ms/step\n",
            "1/1 [==============================] - 0s 30ms/step\n",
            "1/1 [==============================] - 0s 27ms/step\n",
            "1/1 [==============================] - 0s 33ms/step\n",
            "1/1 [==============================] - 0s 30ms/step\n",
            "1/1 [==============================] - 0s 32ms/step\n",
            "1/1 [==============================] - 0s 32ms/step\n",
            "1/1 [==============================] - 0s 33ms/step\n",
            "1/1 [==============================] - 0s 36ms/step\n",
            "1/1 [==============================] - 0s 34ms/step\n",
            "1/1 [==============================] - 0s 34ms/step\n",
            "1/1 [==============================] - 0s 32ms/step\n",
            "1/1 [==============================] - 0s 35ms/step\n",
            "1/1 [==============================] - 0s 36ms/step\n",
            "1/1 [==============================] - 0s 35ms/step\n",
            "1/1 [==============================] - 0s 35ms/step\n",
            "1/1 [==============================] - 0s 35ms/step\n",
            "1/1 [==============================] - 0s 35ms/step\n"
          ]
        },
        {
          "output_type": "execute_result",
          "data": {
            "text/plain": [
              "'to be be be be be be be be be be be be be be be be be be be be be be be be'"
            ],
            "application/vnd.google.colaboratory.intrinsic+json": {
              "type": "string"
            }
          },
          "metadata": {},
          "execution_count": 218
        }
      ]
    },
    {
      "cell_type": "code",
      "source": [
        "from keras.models import load_model"
      ],
      "metadata": {
        "id": "hO9al8tVKvqk"
      },
      "execution_count": 206,
      "outputs": []
    },
    {
      "cell_type": "code",
      "source": [
        "model = load_model(\"text_generator_model\")"
      ],
      "metadata": {
        "id": "1KwNr_8uM9zB"
      },
      "execution_count": 229,
      "outputs": []
    },
    {
      "cell_type": "code",
      "source": [
        "seed_text = \"Hi my name is John, I am currently finding a work. Do you have any work recommendation that related to Computer Science. See you there\""
      ],
      "metadata": {
        "id": "s3c9bkgqMB0k"
      },
      "execution_count": 230,
      "outputs": []
    },
    {
      "cell_type": "code",
      "source": [
        "generate_text(model,tokenizer,seq_len,seed_text=seed_text,num_gen_word = 25)"
      ],
      "metadata": {
        "colab": {
          "base_uri": "https://localhost:8080/",
          "height": 469
        },
        "id": "az3S7POIOGTC",
        "outputId": "ad7d7e09-2882-43d4-d059-942f306dbd8e"
      },
      "execution_count": 231,
      "outputs": [
        {
          "output_type": "stream",
          "name": "stdout",
          "text": [
            "1/1 [==============================] - 1s 964ms/step\n",
            "1/1 [==============================] - 0s 32ms/step\n",
            "1/1 [==============================] - 0s 32ms/step\n",
            "1/1 [==============================] - 0s 37ms/step\n",
            "1/1 [==============================] - 0s 31ms/step\n",
            "1/1 [==============================] - 0s 29ms/step\n",
            "1/1 [==============================] - 0s 30ms/step\n",
            "1/1 [==============================] - 0s 34ms/step\n",
            "1/1 [==============================] - 0s 29ms/step\n",
            "1/1 [==============================] - 0s 36ms/step\n",
            "1/1 [==============================] - 0s 28ms/step\n",
            "1/1 [==============================] - 0s 30ms/step\n",
            "1/1 [==============================] - 0s 27ms/step\n",
            "1/1 [==============================] - 0s 29ms/step\n",
            "1/1 [==============================] - 0s 37ms/step\n",
            "1/1 [==============================] - 0s 27ms/step\n",
            "1/1 [==============================] - 0s 31ms/step\n",
            "1/1 [==============================] - 0s 33ms/step\n",
            "1/1 [==============================] - 0s 35ms/step\n",
            "1/1 [==============================] - 0s 26ms/step\n",
            "1/1 [==============================] - 0s 28ms/step\n",
            "1/1 [==============================] - 0s 27ms/step\n",
            "1/1 [==============================] - 0s 30ms/step\n",
            "1/1 [==============================] - 0s 27ms/step\n",
            "1/1 [==============================] - 0s 27ms/step\n"
          ]
        },
        {
          "output_type": "execute_result",
          "data": {
            "text/plain": [
              "'to be be be be be be be be be be be be be be be be be be be be be be be be'"
            ],
            "application/vnd.google.colaboratory.intrinsic+json": {
              "type": "string"
            }
          },
          "metadata": {},
          "execution_count": 231
        }
      ]
    }
  ]
}